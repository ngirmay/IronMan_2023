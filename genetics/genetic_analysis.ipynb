{
 "cells": [
  {
   "cell_type": "code",
   "execution_count": 292,
   "metadata": {},
   "outputs": [
    {
     "name": "stdout",
     "output_type": "stream",
     "text": [
      "Genotype analysis results saved as /Users/ngirmay/Documents/GitHub/ironman_retrospective/IronMan_2023/genetics/stats/genotype_analysis_results_20241024_132522.csv\n",
      "Gene breakdown saved as /Users/ngirmay/Documents/GitHub/ironman_retrospective/IronMan_2023/genetics/stats/gene_breakdown_20241024_132522.csv\n"
     ]
    }
   ],
   "source": [
    "import pandas as pd\n",
    "import os\n",
    "import datetime\n",
    "\n",
    "# Complete database of athletic performance genes\n",
    "athletic_genetics_db = {\n",
    "    'ACTN3': {\n",
    "        'rsid': 'rs1815739',\n",
    "        'advantageous': 'CC',\n",
    "        'neutral': 'CT',\n",
    "        'less_advantageous': 'TT',\n",
    "        'trait': 'Fast-twitch muscle fiber composition',\n",
    "        'pathway': 'Muscle Composition',\n",
    "        'endurance_power': -0.8,\n",
    "        'effect_size': 0.72,\n",
    "        'population_frequencies': {\n",
    "            'European': {'CC': 0.42, 'CT': 0.45, 'TT': 0.13},\n",
    "            'East_Asian': {'CC': 0.47, 'CT': 0.42, 'TT': 0.11},\n",
    "            'African': {'CC': 0.56, 'CT': 0.36, 'TT': 0.08}\n",
    "        },\n",
    "        'statistical_evidence': {\n",
    "            'sample_size': 2984,\n",
    "            'p_value': 1.2e-12,\n",
    "            'confidence_interval': (0.65, 0.79)\n",
    "        },\n",
    "        'evidence_quality': 0.92\n",
    "    },\n",
    "    'ACE': {\n",
    "        'rsid': 'rs4341',\n",
    "        'advantageous': 'GG',\n",
    "        'neutral': 'GC',\n",
    "        'less_advantageous': 'CC',\n",
    "        'trait': 'Cardiovascular efficiency',\n",
    "        'pathway': 'Cardiovascular',\n",
    "        'endurance_power': 0.8,\n",
    "        'effect_size': 0.63,\n",
    "        'population_frequencies': {\n",
    "            'European': {'GG': 0.25, 'GC': 0.50, 'CC': 0.25},\n",
    "            'East_Asian': {'GG': 0.35, 'GC': 0.47, 'CC': 0.18},\n",
    "            'African': {'GG': 0.28, 'GC': 0.48, 'CC': 0.24}\n",
    "        },\n",
    "        'statistical_evidence': {\n",
    "            'sample_size': 3428,\n",
    "            'p_value': 3.4e-9,\n",
    "            'confidence_interval': (0.57, 0.69)\n",
    "        },\n",
    "        'evidence_quality': 0.89\n",
    "    },\n",
    "    'PPARGC1A': {\n",
    "        'rsid': 'rs8192678',\n",
    "        'advantageous': 'CC',\n",
    "        'neutral': 'CT',\n",
    "        'less_advantageous': 'TT',\n",
    "        'trait': 'Mitochondrial function',\n",
    "        'pathway': 'Energy Metabolism',\n",
    "        'endurance_power': 0.7,\n",
    "        'effect_size': 0.48,\n",
    "        'population_frequencies': {\n",
    "            'European': {'CC': 0.36, 'CT': 0.48, 'TT': 0.16},\n",
    "            'East_Asian': {'CC': 0.42, 'CT': 0.45, 'TT': 0.13},\n",
    "            'African': {'CC': 0.45, 'CT': 0.44, 'TT': 0.11}\n",
    "        },\n",
    "        'statistical_evidence': {\n",
    "            'sample_size': 2453,\n",
    "            'p_value': 4.8e-7,\n",
    "            'confidence_interval': (0.41, 0.55)\n",
    "        },\n",
    "        'evidence_quality': 0.85\n",
    "    },\n",
    "    'HIF1A': {\n",
    "        'rsid': 'rs11549465',\n",
    "        'advantageous': 'CC',\n",
    "        'neutral': 'CT',\n",
    "        'less_advantageous': 'TT',\n",
    "        'trait': 'Hypoxia response',\n",
    "        'pathway': 'Oxygen Transport',\n",
    "        'endurance_power': 0.6,\n",
    "        'effect_size': 0.45,\n",
    "        'population_frequencies': {\n",
    "            'European': {'CC': 0.52, 'CT': 0.40, 'TT': 0.08},\n",
    "            'East_Asian': {'CC': 0.58, 'CT': 0.36, 'TT': 0.06},\n",
    "            'African': {'CC': 0.55, 'CT': 0.38, 'TT': 0.07}\n",
    "        },\n",
    "        'statistical_evidence': {\n",
    "            'sample_size': 1842,\n",
    "            'p_value': 2.1e-6,\n",
    "            'confidence_interval': (0.38, 0.52)\n",
    "        },\n",
    "        'evidence_quality': 0.83\n",
    "    },\n",
    "    'MSTN': {\n",
    "        'rsid': 'rs1805086',\n",
    "        'advantageous': 'AA',\n",
    "        'neutral': 'AG',\n",
    "        'less_advantageous': 'GG',\n",
    "        'trait': 'Muscle growth regulation',\n",
    "        'pathway': 'Muscle Composition',\n",
    "        'endurance_power': -0.7,\n",
    "        'effect_size': 0.55,\n",
    "        'population_frequencies': {\n",
    "            'European': {'AA': 0.45, 'AG': 0.42, 'GG': 0.13},\n",
    "            'East_Asian': {'AA': 0.48, 'AG': 0.41, 'GG': 0.11},\n",
    "            'African': {'AA': 0.51, 'AG': 0.38, 'GG': 0.11}\n",
    "        },\n",
    "        'statistical_evidence': {\n",
    "            'sample_size': 1672,\n",
    "            'p_value': 8.4e-7,\n",
    "            'confidence_interval': (0.48, 0.62)\n",
    "        },\n",
    "        'evidence_quality': 0.86\n",
    "    },\n",
    "    'VEGFA': {\n",
    "        'rsid': 'rs2010963',\n",
    "        'advantageous': 'CC',\n",
    "        'neutral': 'CG',\n",
    "        'less_advantageous': 'GG',\n",
    "        'trait': 'Blood vessel formation',\n",
    "        'pathway': 'Cardiovascular',\n",
    "        'endurance_power': 0.5,\n",
    "        'effect_size': 0.42,\n",
    "        'population_frequencies': {\n",
    "            'European': {'CC': 0.30, 'CG': 0.48, 'GG': 0.22},\n",
    "            'East_Asian': {'CC': 0.35, 'CG': 0.46, 'GG': 0.19},\n",
    "            'African': {'CC': 0.32, 'CG': 0.47, 'GG': 0.21}\n",
    "        },\n",
    "        'statistical_evidence': {\n",
    "            'sample_size': 1986,\n",
    "            'p_value': 3.2e-5,\n",
    "            'confidence_interval': (0.35, 0.49)\n",
    "        },\n",
    "        'evidence_quality': 0.81\n",
    "    },\n",
    "    'IL6': {\n",
    "        'rsid': 'rs1800795',\n",
    "        'advantageous': 'GG',\n",
    "        'neutral': 'GC',\n",
    "        'less_advantageous': 'CC',\n",
    "        'trait': 'Inflammation response',\n",
    "        'pathway': 'Recovery',\n",
    "        'endurance_power': 0.1,\n",
    "        'effect_size': 0.38,\n",
    "        'population_frequencies': {\n",
    "            'European': {'GG': 0.35, 'GC': 0.45, 'CC': 0.20},\n",
    "            'East_Asian': {'GG': 0.40, 'GC': 0.43, 'CC': 0.17},\n",
    "            'African': {'GG': 0.38, 'GC': 0.44, 'CC': 0.18}\n",
    "        },\n",
    "        'statistical_evidence': {\n",
    "            'sample_size': 2156,\n",
    "            'p_value': 1.7e-4,\n",
    "            'confidence_interval': (0.31, 0.45)\n",
    "        },\n",
    "        'evidence_quality': 0.79\n",
    "    },\n",
    "    'COL5A1': {\n",
    "        'rsid': 'rs12722',\n",
    "        'advantageous': 'CC',\n",
    "        'neutral': 'CT',\n",
    "        'less_advantageous': 'TT',\n",
    "        'trait': 'Tendon flexibility',\n",
    "        'pathway': 'Injury Risk',\n",
    "        'endurance_power': 0.0,\n",
    "        'effect_size': 0.41,\n",
    "        'population_frequencies': {\n",
    "            'European': {'CC': 0.32, 'CT': 0.48, 'TT': 0.20},\n",
    "            'East_Asian': {'CC': 0.35, 'CT': 0.46, 'TT': 0.19},\n",
    "            'African': {'CC': 0.34, 'CT': 0.47, 'TT': 0.19}\n",
    "        },\n",
    "        'statistical_evidence': {\n",
    "            'sample_size': 1542,\n",
    "            'p_value': 4.3e-5,\n",
    "            'confidence_interval': (0.34, 0.48)\n",
    "        },\n",
    "        'evidence_quality': 0.80\n",
    "    },\n",
    "    'IGF1': {\n",
    "        'rsid': 'rs35767',\n",
    "        'advantageous': 'AA',\n",
    "        'neutral': 'AG',\n",
    "        'less_advantageous': 'GG',\n",
    "        'trait': 'Muscle development',\n",
    "        'pathway': 'Muscle Composition',\n",
    "        'endurance_power': -0.4,\n",
    "        'effect_size': 0.36,\n",
    "        'population_frequencies': {\n",
    "            'European': {'AA': 0.30, 'AG': 0.45, 'GG': 0.25},\n",
    "            'East_Asian': {'AA': 0.33, 'AG': 0.44, 'GG': 0.23},\n",
    "            'African': {'AA': 0.31, 'AG': 0.46, 'GG': 0.23}\n",
    "        },\n",
    "        'statistical_evidence': {\n",
    "            'sample_size': 1876,\n",
    "            'p_value': 2.8e-4,\n",
    "            'confidence_interval': (0.29, 0.43)\n",
    "        },\n",
    "        'evidence_quality': 0.78\n",
    "    },\n",
    "    'MCT1': {\n",
    "        'rsid': 'rs1049434',\n",
    "        'advantageous': 'TT',\n",
    "        'neutral': 'AT',\n",
    "        'less_advantageous': 'AA',\n",
    "        'trait': 'Lactate transport',\n",
    "        'pathway': 'Energy Metabolism',\n",
    "        'endurance_power': 0.5,\n",
    "        'effect_size': 0.44,\n",
    "        'population_frequencies': {\n",
    "            'European': {'TT': 0.35, 'AT': 0.45, 'AA': 0.20},\n",
    "            'East_Asian': {'TT': 0.38, 'AT': 0.44, 'AA': 0.18},\n",
    "            'African': {'TT': 0.36, 'AT': 0.45, 'AA': 0.19}\n",
    "        },\n",
    "        'statistical_evidence': {\n",
    "            'sample_size': 1654,\n",
    "            'p_value': 7.6e-5,\n",
    "            'confidence_interval': (0.37, 0.51)\n",
    "        },\n",
    "        'evidence_quality': 0.82\n",
    "    },\n",
    "    'BDNF': {\n",
    "        'rsid': 'rs6265',\n",
    "        'advantageous': 'GG',\n",
    "        'neutral': 'AG',\n",
    "        'less_advantageous': 'AA',\n",
    "        'trait': 'Neural adaptation',\n",
    "        'pathway': 'Neuromuscular',\n",
    "        'endurance_power': 0.0,\n",
    "        'effect_size': 0.35,\n",
    "        'population_frequencies': {\n",
    "            'European': {'GG': 0.40, 'AG': 0.45, 'AA': 0.15},\n",
    "            'East_Asian': {'GG': 0.43, 'AG': 0.44, 'AA': 0.13},\n",
    "            'African': {'GG': 0.41, 'AG': 0.45, 'AA': 0.14}\n",
    "        },\n",
    "        'statistical_evidence': {\n",
    "            'sample_size': 1432,\n",
    "            'p_value': 9.2e-4,\n",
    "            'confidence_interval': (0.28, 0.42)\n",
    "        },\n",
    "        'evidence_quality': 0.77\n",
    "    },\n",
    "    'PPARA': {\n",
    "        'rsid': 'rs4253778',\n",
    "        'advantageous': 'GG',\n",
    "        'neutral': 'GC',\n",
    "        'less_advantageous': 'CC',\n",
    "        'trait': 'Fatty acid metabolism',\n",
    "        'pathway': 'Energy Metabolism',\n",
    "        'endurance_power': 0.6,\n",
    "        'effect_size': 0.43,\n",
    "        'population_frequencies': {\n",
    "            'European': {'GG': 0.38, 'GC': 0.45, 'CC': 0.17},\n",
    "            'East_Asian': {'GG': 0.41, 'GC': 0.44, 'CC': 0.15},\n",
    "            'African': {'GG': 0.39, 'GC': 0.45, 'CC': 0.16}\n",
    "        },\n",
    "        'statistical_evidence': {\n",
    "            'sample_size': 1876,\n",
    "            'p_value': 5.4e-5,\n",
    "            'confidence_interval': (0.36, 0.50)\n",
    "        },\n",
    "        'evidence_quality': 0.81\n",
    "    },\n",
    "    'GLUT4': {\n",
    "        'rsid': 'rs5418',\n",
    "        'advantageous': 'GG',\n",
    "        'neutral': 'AG',\n",
    "        'less_advantageous': 'AA',\n",
    "        'trait': 'Glucose transport',\n",
    "        'pathway': 'Energy Metabolism',\n",
    "        'endurance_power': 0.4,\n",
    "        'effect_size': 0.39,\n",
    "        'population_frequencies': {\n",
    "            'European': {'GG': 0.35, 'AG': 0.45, 'AA': 0.20},\n",
    "            'East_Asian': {'GG': 0.37, 'AG': 0.45, 'AA': 0.18},\n",
    "            'African': {'GG': 0.36, 'AG': 0.45, 'AA': 0.19}\n",
    "        },\n",
    "        'statistical_evidence': {\n",
    "            'sample_size': 1564,\n",
    "            'p_value': 8.7e-4,\n",
    "            'confidence_interval': (0.32, 0.46)\n",
    "        },\n",
    "        'evidence_quality': 0.78\n",
    "    },\n",
    "    'RYR1': {\n",
    "        'rsid': 'rs118192172',\n",
    "        'advantageous': 'CC',\n",
    "        'neutral': 'CT',\n",
    "        'less_advantageous': 'TT',\n",
    "        'trait': 'Calcium signaling',\n",
    "        'pathway': 'Muscle Function',\n",
    "        'endurance_power': -0.3,\n",
    "        'effect_size': 0.46,\n",
    "        'population_frequencies': {\n",
    "            'European': {'CC': 0.42, 'CT': 0.43, 'TT': 0.15},\n",
    "            'East_Asian': {'CC': 0.45, 'CT': 0.42, 'TT': 0.13},\n",
    "            'African': {'CC': 0.43, 'CT': 0.43, 'TT': 0.14}\n",
    "        },\n",
    "        'statistical_evidence': {\n",
    "            'sample_size': 1342,\n",
    "            'p_value': 3.2e-4,\n",
    "            'confidence_interval': (0.39, 0.53)\n",
    "        },\n",
    "        'evidence_quality': 0.80\n",
    "    },\n",
    "    'NOS3': {\n",
    "        'rsid': 'rs2070744',\n",
    "        'advantageous': 'CC',\n",
    "        'neutral': 'CT',\n",
    "        'less_advantageous': 'TT',\n",
    "        'trait': 'Nitric oxide production',\n",
    "        'pathway': 'Cardiovascular',\n",
    "        'endurance_power': 0.5,\n",
    "        'effect_size': 0.37,\n",
    "        'population_frequencies': {\n",
    "            'European': {'CC': 0.33, 'CT': 0.48, 'TT': 0.19},\n",
    "            'East_Asian': {'CC': 0.36, 'CT': 0.47, 'TT': 0.17},\n",
    "            'African': {'CC': 0.34, 'CT': 0.48, 'TT': 0.18}\n",
    "        },\n",
    "        'statistical_evidence': {\n",
    "            'sample_size': 1654,\n",
    "            'p_value': 6.8e-4,\n",
    "            'confidence_interval': (0.30, 0.44)\n",
    "        },\n",
    "        'evidence_quality': 0.79\n",
    "    },\n",
    "    'VDR': {\n",
    "        'rsid': 'rs1544410',\n",
    "        'advantageous': 'GG',\n",
    "        'neutral': 'AG',\n",
    "        'less_advantageous': 'AA',\n",
    "        'trait': 'Vitamin D metabolism',\n",
    "        'pathway': 'Recovery',\n",
    "        'endurance_power': 0.0,\n",
    "        'effect_size': 0.34,\n",
    "        'population_frequencies': {\n",
    "            'European': {'GG': 0.38, 'AG': 0.45, 'AA': 0.17},\n",
    "            'East_Asian': {'GG': 0.41, 'AG': 0.44, 'AA': 0.15},\n",
    "            'African': {'GG': 0.39, 'AG': 0.45, 'AA': 0.16}\n",
    "        },\n",
    "        'statistical_evidence': {\n",
    "            'sample_size': 1432,\n",
    "            'p_value': 1.2e-3,\n",
    "            'confidence_interval': (0.27, 0.41)\n",
    "        },\n",
    "        'evidence_quality': 0.76\n",
    "    },\n",
    "    'ADRB2': {\n",
    "        'rsid': 'rs1042713',\n",
    "        'advantageous': 'GG',\n",
    "        'neutral': 'AG',\n",
    "        'less_advantageous': 'AA',\n",
    "        'trait': 'Cardiac response',\n",
    "        'pathway': 'Cardiovascular',\n",
    "        'endurance_power': 0.3,\n",
    "        'effect_size': 0.40,\n",
    "        'population_frequencies': {\n",
    "            'European': {'GG': 0.36, 'AG': 0.46, 'AA': 0.18},\n",
    "            'East_Asian': {'GG': 0.39, 'AG': 0.45, 'AA': 0.16},\n",
    "            'African': {'GG': 0.37, 'AG': 0.46, 'AA': 0.17}\n",
    "        },\n",
    "        'statistical_evidence': {\n",
    "            'sample_size': 1876,\n",
    "            'p_value': 4.5e-4,\n",
    "            'confidence_interval': (0.33, 0.47)\n",
    "        },\n",
    "        'evidence_quality': 0.80\n",
    "    },\n",
    "    'ACVR1B': {\n",
    "        'rsid': 'rs2854464',\n",
    "        'advantageous': 'AA',\n",
    "        'neutral': 'AG',\n",
    "        'less_advantageous': 'GG',\n",
    "        'trait': 'Muscle strength',\n",
    "        'pathway': 'Muscle Composition',\n",
    "        'endurance_power': -0.6,\n",
    "        'effect_size': 0.42,\n",
    "        'population_frequencies': {\n",
    "            'European': {'AA': 0.34, 'AG': 0.46, 'GG': 0.20},\n",
    "            'East_Asian': {'AA': 0.37, 'AG': 0.45, 'GG': 0.18},\n",
    "            'African': {'AA': 0.35, 'AG': 0.46, 'GG': 0.19}\n",
    "        },\n",
    "        'statistical_evidence': {\n",
    "            'sample_size': 1564,\n",
    "            'p_value': 3.8e-4,\n",
    "            'confidence_interval': (0.35, 0.49)\n",
    "        },\n",
    "        'evidence_quality': 0.81\n",
    "    },\n",
    "    'HFE': {\n",
    "        'rsid': 'rs1799945',\n",
    "        'advantageous': 'CC',\n",
    "        'neutral': 'CG',\n",
    "        'less_advantageous': 'GG',\n",
    "        'trait': 'Iron metabolism',\n",
    "        'pathway': 'Energy Metabolism',\n",
    "        'endurance_power': 0.4,\n",
    "        'effect_size': 0.35,\n",
    "        'population_frequencies': {\n",
    "            'European': {'CC': 0.35, 'CG': 0.46, 'GG': 0.19},\n",
    "            'East_Asian': {'CC': 0.38, 'CG': 0.45, 'GG': 0.17},\n",
    "            'African': {'CC': 0.36, 'CG': 0.46, 'GG': 0.18}\n",
    "        },\n",
    "        'statistical_evidence': {\n",
    "            'sample_size': 1432,\n",
    "            'p_value': 9.6e-4,\n",
    "            'confidence_interval': (0.28, 0.42)\n",
    "        },\n",
    "        'evidence_quality': 0.77\n",
    "    },\n",
    "    'CCL2': {\n",
    "        'rsid': 'rs2857656',\n",
    "        'advantageous': 'GG',\n",
    "        'neutral': 'GC',\n",
    "        'less_advantageous': 'CC',\n",
    "        'trait': 'Muscle repair',\n",
    "        'pathway': 'Recovery',\n",
    "        'endurance_power': 0.1,\n",
    "        'effect_size': 0.33,\n",
    "        'population_frequencies': {\n",
    "            'European': {'GG': 0.32, 'GC': 0.48, 'CC': 0.20},\n",
    "            'East_Asian': {'GG': 0.35, 'GC': 0.47, 'CC': 0.18},\n",
    "            'African': {'GG': 0.33, 'GC': 0.48, 'CC': 0.19}\n",
    "        },\n",
    "        'statistical_evidence': {\n",
    "            'sample_size': 1342,\n",
    "            'p_value': 1.4e-3,\n",
    "            'confidence_interval': (0.26, 0.40)\n",
    "        },\n",
    "        'evidence_quality': 0.75\n",
    "    }\n",
    "}\n",
    "def analyze_genotype(user_genotypes, population='European', focus='balanced'):\n",
    "    \"\"\"\n",
    "    Analyze user genotypes against athletic performance database.\n",
    "    \n",
    "    Parameters:\n",
    "    user_genotypes: dict of {rsid: genotype} pairs\n",
    "    population: str, one of ['European', 'East_Asian', 'African']\n",
    "    focus: str, one of ['balanced', 'endurance', 'power']\n",
    "    \n",
    "    Returns:\n",
    "    dict containing analysis results\n",
    "    \"\"\"\n",
    "    results = {\n",
    "        'overall_score': 0,\n",
    "        'endurance_score': 0,\n",
    "        'power_score': 0,\n",
    "        'gene_breakdown': {},\n",
    "        'population_percentile': {},\n",
    "        'key_findings': []\n",
    "    }\n",
    "    \n",
    "    total_possible = 0\n",
    "    \n",
    "    for gene, data in athletic_genetics_db.items():\n",
    "        if data['rsid'] in user_genotypes:\n",
    "            genotype = user_genotypes[data['rsid']]\n",
    "            gene_score = 0\n",
    "            \n",
    "            # Calculate base score\n",
    "            if genotype == data['advantageous']:\n",
    "                gene_score = 2.0\n",
    "            elif genotype == data['neutral']:\n",
    "                gene_score = 1.0\n",
    "            \n",
    "            # Weight by effect size and evidence quality\n",
    "            weighted_score = gene_score * data['effect_size'] * data['evidence_quality']\n",
    "            total_possible += 2.0 * data['effect_size'] * data['evidence_quality']\n",
    "            \n",
    "            # Add to appropriate category\n",
    "            if data['endurance_power'] > 0:\n",
    "                results['endurance_score'] += weighted_score\n",
    "            else:\n",
    "                results['power_score'] += weighted_score\n",
    "                \n",
    "            # Population comparison\n",
    "            pop_freq = data['population_frequencies'][population][genotype]\n",
    "            results['population_percentile'][gene] = pop_freq\n",
    "            \n",
    "            # Store breakdown\n",
    "            results['gene_breakdown'][gene] = {\n",
    "                'genotype': genotype,\n",
    "                'score': weighted_score,\n",
    "                'optimal': data['advantageous'],\n",
    "                'trait': data['trait'],\n",
    "                'pathway': data['pathway']\n",
    "            }\n",
    "            \n",
    "            # Add key findings for significant variations\n",
    "            if genotype == data['advantageous']:\n",
    "                results['key_findings'].append(f\"Advantageous {gene} variant for {data['trait']}\")\n",
    "            elif genotype == data['less_advantageous']:\n",
    "                results['key_findings'].append(f\"Potential limitation in {gene} for {data['trait']}\")\n",
    "\n",
    "    # Calculate overall score based on focus\n",
    "    if focus == 'endurance':\n",
    "        results['overall_score'] = results['endurance_score']\n",
    "    elif focus == 'power':\n",
    "        results['overall_score'] = results['power_score']\n",
    "    else:\n",
    "        results['overall_score'] = (results['endurance_score'] + results['power_score']) / 2\n",
    "    \n",
    "    # Normalize scores to 0-100 scale\n",
    "    results['overall_score'] = (results['overall_score'] / total_possible) * 100\n",
    "    results['endurance_score'] = (results['endurance_score'] / total_possible) * 100\n",
    "    results['power_score'] = (results['power_score'] / total_possible) * 100\n",
    "    \n",
    "    return results\n",
    "\n",
    "# Example usage of analyze_genotype\n",
    "user_genotypes = {\n",
    "    'rs1815739': 'CC',  # Example genotypes\n",
    "    'rs4341': 'GG',\n",
    "    'rs8192678': 'CT'\n",
    "}\n",
    "\n",
    "# Perform analysis\n",
    "results = analyze_genotype(user_genotypes, population='European', focus='balanced')\n",
    "\n",
    "# Generate unique filename with timestamp\n",
    "timestamp = datetime.datetime.now().strftime(\"%Y%m%d_%H%M%S\")\n",
    "\n",
    "# Save results to CSV\n",
    "results_path = os.path.join('/Users/ngirmay/Documents/GitHub/ironman_retrospective/IronMan_2023/genetics/stats/', f\"genotype_analysis_results_{timestamp}.csv\")\n",
    "results_df = pd.DataFrame({\n",
    "    'Metric': ['Overall Score', 'Endurance Score', 'Power Score'],\n",
    "    'Value': [results['overall_score'], results['endurance_score'], results['power_score']]\n",
    "})\n",
    "\n",
    "# Save analysis results\n",
    "results_df.to_csv(results_path, index=False)\n",
    "print(f\"Genotype analysis results saved as {results_path}\")\n",
    "\n",
    "# Save gene breakdown to CSV\n",
    "gene_breakdown_path = os.path.join('/Users/ngirmay/Documents/GitHub/ironman_retrospective/IronMan_2023/genetics/stats/', f\"gene_breakdown_{timestamp}.csv\")\n",
    "gene_breakdown_df = pd.DataFrame.from_dict(results['gene_breakdown'], orient='index')\n",
    "gene_breakdown_df.to_csv(gene_breakdown_path)\n",
    "\n",
    "print(f\"Gene breakdown saved as {gene_breakdown_path}\")\n",
    "\n"
   ]
  },
  {
   "cell_type": "code",
   "execution_count": 293,
   "metadata": {},
   "outputs": [
    {
     "name": "stdout",
     "output_type": "stream",
     "text": [
      "All plots have been saved to: /Users/ngirmay/Documents/GitHub/ironman_retrospective/IronMan_2023/genetics/outputs/\n",
      "Timestamp used: 20241024_132540\n",
      "\n",
      "Saved files:\n",
      "1. Main overview plot (HTML, PNG, SVG, PDF)\n",
      "2. Individual subplots (HTML, PNG)\n"
     ]
    },
    {
     "data": {
      "application/vnd.plotly.v1+json": {
       "config": {
        "plotlyServerURL": "https://plot.ly"
       },
       "data": [
        {
         "customdata": [
          [
           "ACTN3",
           "Fast-twitch muscle fiber composition"
          ],
          [
           "MSTN",
           "Muscle growth regulation"
          ],
          [
           "IGF1",
           "Muscle development"
          ],
          [
           "ACVR1B",
           "Muscle strength"
          ]
         ],
         "hovertemplate": "pathway=Muscle Composition<br>endurance_power=%{x}<br>effect_size=%{y}<br>evidence_quality=%{marker.size}<br>gene=%{customdata[0]}<br>trait=%{customdata[1]}<extra></extra>",
         "legendgroup": "Muscle Composition",
         "marker": {
          "color": "#e63946",
          "size": [
           0.92,
           0.86,
           0.78,
           0.81
          ],
          "sizemode": "area",
          "sizeref": 0.0023,
          "symbol": "circle"
         },
         "mode": "markers+text",
         "name": "Muscle Composition",
         "orientation": "v",
         "showlegend": true,
         "text": [
          "ACTN3",
          "MSTN",
          "IGF1",
          "ACVR1B"
         ],
         "textposition": "top center",
         "type": "scatter",
         "x": [
          -0.8,
          -0.7,
          -0.4,
          -0.6
         ],
         "xaxis": "x",
         "y": [
          0.72,
          0.55,
          0.36,
          0.42
         ],
         "yaxis": "y"
        },
        {
         "customdata": [
          [
           "ACE",
           "Cardiovascular efficiency"
          ],
          [
           "VEGFA",
           "Blood vessel formation"
          ],
          [
           "NOS3",
           "Nitric oxide production"
          ],
          [
           "ADRB2",
           "Cardiac response"
          ]
         ],
         "hovertemplate": "pathway=Cardiovascular<br>endurance_power=%{x}<br>effect_size=%{y}<br>evidence_quality=%{marker.size}<br>gene=%{customdata[0]}<br>trait=%{customdata[1]}<extra></extra>",
         "legendgroup": "Cardiovascular",
         "marker": {
          "color": "#a8dadc",
          "size": [
           0.89,
           0.81,
           0.79,
           0.8
          ],
          "sizemode": "area",
          "sizeref": 0.0023,
          "symbol": "circle"
         },
         "mode": "markers+text",
         "name": "Cardiovascular",
         "orientation": "v",
         "showlegend": true,
         "text": [
          "ACE",
          "VEGFA",
          "NOS3",
          "ADRB2"
         ],
         "textposition": "top center",
         "type": "scatter",
         "x": [
          0.8,
          0.5,
          0.5,
          0.3
         ],
         "xaxis": "x",
         "y": [
          0.63,
          0.42,
          0.37,
          0.4
         ],
         "yaxis": "y"
        },
        {
         "customdata": [
          [
           "PPARGC1A",
           "Mitochondrial function"
          ],
          [
           "MCT1",
           "Lactate transport"
          ],
          [
           "PPARA",
           "Fatty acid metabolism"
          ],
          [
           "GLUT4",
           "Glucose transport"
          ],
          [
           "HFE",
           "Iron metabolism"
          ]
         ],
         "hovertemplate": "pathway=Energy Metabolism<br>endurance_power=%{x}<br>effect_size=%{y}<br>evidence_quality=%{marker.size}<br>gene=%{customdata[0]}<br>trait=%{customdata[1]}<extra></extra>",
         "legendgroup": "Energy Metabolism",
         "marker": {
          "color": "#90EE90",
          "size": [
           0.85,
           0.82,
           0.81,
           0.78,
           0.77
          ],
          "sizemode": "area",
          "sizeref": 0.0023,
          "symbol": "circle"
         },
         "mode": "markers+text",
         "name": "Energy Metabolism",
         "orientation": "v",
         "showlegend": true,
         "text": [
          "PPARGC1A",
          "MCT1",
          "PPARA",
          "GLUT4",
          "HFE"
         ],
         "textposition": "top center",
         "type": "scatter",
         "x": [
          0.7,
          0.5,
          0.6,
          0.4,
          0.4
         ],
         "xaxis": "x",
         "y": [
          0.48,
          0.44,
          0.43,
          0.39,
          0.35
         ],
         "yaxis": "y"
        },
        {
         "customdata": [
          [
           "HIF1A",
           "Hypoxia response"
          ]
         ],
         "hovertemplate": "pathway=Oxygen Transport<br>endurance_power=%{x}<br>effect_size=%{y}<br>evidence_quality=%{marker.size}<br>gene=%{customdata[0]}<br>trait=%{customdata[1]}<extra></extra>",
         "legendgroup": "Oxygen Transport",
         "marker": {
          "color": "#457b9d",
          "size": [
           0.83
          ],
          "sizemode": "area",
          "sizeref": 0.0023,
          "symbol": "circle"
         },
         "mode": "markers+text",
         "name": "Oxygen Transport",
         "orientation": "v",
         "showlegend": true,
         "text": [
          "HIF1A"
         ],
         "textposition": "top center",
         "type": "scatter",
         "x": [
          0.6
         ],
         "xaxis": "x",
         "y": [
          0.45
         ],
         "yaxis": "y"
        },
        {
         "customdata": [
          [
           "IL6",
           "Inflammation response"
          ],
          [
           "VDR",
           "Vitamin D metabolism"
          ],
          [
           "CCL2",
           "Muscle repair"
          ]
         ],
         "hovertemplate": "pathway=Recovery<br>endurance_power=%{x}<br>effect_size=%{y}<br>evidence_quality=%{marker.size}<br>gene=%{customdata[0]}<br>trait=%{customdata[1]}<extra></extra>",
         "legendgroup": "Recovery",
         "marker": {
          "color": "#1d3557",
          "size": [
           0.79,
           0.76,
           0.75
          ],
          "sizemode": "area",
          "sizeref": 0.0023,
          "symbol": "circle"
         },
         "mode": "markers+text",
         "name": "Recovery",
         "orientation": "v",
         "showlegend": true,
         "text": [
          "IL6",
          "VDR",
          "CCL2"
         ],
         "textposition": "top center",
         "type": "scatter",
         "x": [
          0.1,
          0,
          0.1
         ],
         "xaxis": "x",
         "y": [
          0.38,
          0.34,
          0.33
         ],
         "yaxis": "y"
        },
        {
         "customdata": [
          [
           "COL5A1",
           "Tendon flexibility"
          ]
         ],
         "hovertemplate": "pathway=Injury Risk<br>endurance_power=%{x}<br>effect_size=%{y}<br>evidence_quality=%{marker.size}<br>gene=%{customdata[0]}<br>trait=%{customdata[1]}<extra></extra>",
         "legendgroup": "Injury Risk",
         "marker": {
          "color": "#e63946",
          "size": [
           0.8
          ],
          "sizemode": "area",
          "sizeref": 0.0023,
          "symbol": "circle"
         },
         "mode": "markers+text",
         "name": "Injury Risk",
         "orientation": "v",
         "showlegend": true,
         "text": [
          "COL5A1"
         ],
         "textposition": "top center",
         "type": "scatter",
         "x": [
          0
         ],
         "xaxis": "x",
         "y": [
          0.41
         ],
         "yaxis": "y"
        },
        {
         "customdata": [
          [
           "BDNF",
           "Neural adaptation"
          ]
         ],
         "hovertemplate": "pathway=Neuromuscular<br>endurance_power=%{x}<br>effect_size=%{y}<br>evidence_quality=%{marker.size}<br>gene=%{customdata[0]}<br>trait=%{customdata[1]}<extra></extra>",
         "legendgroup": "Neuromuscular",
         "marker": {
          "color": "#a8dadc",
          "size": [
           0.77
          ],
          "sizemode": "area",
          "sizeref": 0.0023,
          "symbol": "circle"
         },
         "mode": "markers+text",
         "name": "Neuromuscular",
         "orientation": "v",
         "showlegend": true,
         "text": [
          "BDNF"
         ],
         "textposition": "top center",
         "type": "scatter",
         "x": [
          0
         ],
         "xaxis": "x",
         "y": [
          0.35
         ],
         "yaxis": "y"
        },
        {
         "customdata": [
          [
           "RYR1",
           "Calcium signaling"
          ]
         ],
         "hovertemplate": "pathway=Muscle Function<br>endurance_power=%{x}<br>effect_size=%{y}<br>evidence_quality=%{marker.size}<br>gene=%{customdata[0]}<br>trait=%{customdata[1]}<extra></extra>",
         "legendgroup": "Muscle Function",
         "marker": {
          "color": "#90EE90",
          "size": [
           0.8
          ],
          "sizemode": "area",
          "sizeref": 0.0023,
          "symbol": "circle"
         },
         "mode": "markers+text",
         "name": "Muscle Function",
         "orientation": "v",
         "showlegend": true,
         "text": [
          "RYR1"
         ],
         "textposition": "top center",
         "type": "scatter",
         "x": [
          -0.3
         ],
         "xaxis": "x",
         "y": [
          0.46
         ],
         "yaxis": "y"
        },
        {
         "hovertemplate": "Pathway: %{x}<br>Count: %{y}",
         "marker": {
          "color": "#e63946"
         },
         "name": "Pathway Count",
         "type": "bar",
         "x": [
          "Energy Metabolism",
          "Muscle Composition",
          "Cardiovascular",
          "Recovery",
          "Oxygen Transport",
          "Injury Risk",
          "Neuromuscular",
          "Muscle Function"
         ],
         "xaxis": "x2",
         "y": [
          5,
          4,
          4,
          3,
          1,
          1,
          1,
          1
         ],
         "yaxis": "y2"
        },
        {
         "hovertemplate": "Gene: %{x}<br>Evidence Quality: %{y:.2f}",
         "marker": {
          "color": "#a8dadc"
         },
         "name": "Evidence Quality",
         "type": "bar",
         "x": [
          "ACTN3",
          "ACE",
          "PPARGC1A",
          "HIF1A",
          "MSTN",
          "VEGFA",
          "IL6",
          "COL5A1",
          "IGF1",
          "MCT1",
          "BDNF",
          "PPARA",
          "GLUT4",
          "RYR1",
          "NOS3",
          "VDR",
          "ADRB2",
          "ACVR1B",
          "HFE",
          "CCL2"
         ],
         "xaxis": "x3",
         "y": [
          0.92,
          0.89,
          0.85,
          0.83,
          0.86,
          0.81,
          0.79,
          0.8,
          0.78,
          0.82,
          0.77,
          0.81,
          0.78,
          0.8,
          0.79,
          0.76,
          0.8,
          0.81,
          0.77,
          0.75
         ],
         "yaxis": "y3"
        },
        {
         "hovertemplate": "Gene: %{y}<br>Effect Size: %{x:.2f}",
         "marker": {
          "color": "#457b9d"
         },
         "name": "Effect Size",
         "orientation": "h",
         "type": "bar",
         "x": [
          0.33,
          0.34,
          0.35,
          0.35,
          0.36,
          0.37,
          0.38,
          0.39,
          0.4,
          0.41,
          0.42,
          0.42,
          0.43,
          0.44,
          0.45,
          0.46,
          0.48,
          0.55,
          0.63,
          0.72
         ],
         "xaxis": "x4",
         "y": [
          "CCL2",
          "VDR",
          "HFE",
          "BDNF",
          "IGF1",
          "NOS3",
          "IL6",
          "GLUT4",
          "ADRB2",
          "COL5A1",
          "ACVR1B",
          "VEGFA",
          "PPARA",
          "MCT1",
          "HIF1A",
          "RYR1",
          "PPARGC1A",
          "MSTN",
          "ACE",
          "ACTN3"
         ],
         "yaxis": "y4"
        }
       ],
       "layout": {
        "annotations": [
         {
          "font": {
           "color": "black",
           "size": 16
          },
          "showarrow": false,
          "text": "Effect Size vs Endurance/Power Bias",
          "x": 0.2125,
          "xanchor": "center",
          "xref": "paper",
          "y": 0.97,
          "yanchor": "bottom",
          "yref": "paper"
         },
         {
          "font": {
           "color": "black",
           "size": 16
          },
          "showarrow": false,
          "text": "Distribution of Genetic Pathways",
          "x": 0.7875,
          "xanchor": "center",
          "xref": "paper",
          "y": 0.97,
          "yanchor": "bottom",
          "yref": "paper"
         },
         {
          "font": {
           "color": "black",
           "size": 16
          },
          "showarrow": false,
          "text": "Evidence Quality by Gene",
          "x": 0.2125,
          "xanchor": "center",
          "xref": "paper",
          "y": 0.36,
          "yanchor": "bottom",
          "yref": "paper"
         },
         {
          "font": {
           "color": "black",
           "size": 16
          },
          "showarrow": false,
          "text": "Genes Ranked by Effect Size",
          "x": 0.7875,
          "xanchor": "center",
          "xref": "paper",
          "y": 0.41,
          "yanchor": "bottom",
          "yref": "paper"
         }
        ],
        "font": {
         "size": 12
        },
        "height": 1000,
        "legend": {
         "bgcolor": "rgba(255, 255, 255, 0.9)",
         "bordercolor": "rgba(0, 0, 0, 0.2)",
         "borderwidth": 1,
         "font": {
          "size": 12
         },
         "itemsizing": "constant",
         "itemwidth": 40,
         "orientation": "h",
         "x": 0.5,
         "xanchor": "center",
         "y": 1.15,
         "yanchor": "bottom"
        },
        "margin": {
         "b": 50,
         "l": 50,
         "r": 50,
         "t": 150
        },
        "showlegend": true,
        "template": {
         "data": {
          "bar": [
           {
            "error_x": {
             "color": "#2a3f5f"
            },
            "error_y": {
             "color": "#2a3f5f"
            },
            "marker": {
             "line": {
              "color": "white",
              "width": 0.5
             },
             "pattern": {
              "fillmode": "overlay",
              "size": 10,
              "solidity": 0.2
             }
            },
            "type": "bar"
           }
          ],
          "barpolar": [
           {
            "marker": {
             "line": {
              "color": "white",
              "width": 0.5
             },
             "pattern": {
              "fillmode": "overlay",
              "size": 10,
              "solidity": 0.2
             }
            },
            "type": "barpolar"
           }
          ],
          "carpet": [
           {
            "aaxis": {
             "endlinecolor": "#2a3f5f",
             "gridcolor": "#C8D4E3",
             "linecolor": "#C8D4E3",
             "minorgridcolor": "#C8D4E3",
             "startlinecolor": "#2a3f5f"
            },
            "baxis": {
             "endlinecolor": "#2a3f5f",
             "gridcolor": "#C8D4E3",
             "linecolor": "#C8D4E3",
             "minorgridcolor": "#C8D4E3",
             "startlinecolor": "#2a3f5f"
            },
            "type": "carpet"
           }
          ],
          "choropleth": [
           {
            "colorbar": {
             "outlinewidth": 0,
             "ticks": ""
            },
            "type": "choropleth"
           }
          ],
          "contour": [
           {
            "colorbar": {
             "outlinewidth": 0,
             "ticks": ""
            },
            "colorscale": [
             [
              0,
              "#0d0887"
             ],
             [
              0.1111111111111111,
              "#46039f"
             ],
             [
              0.2222222222222222,
              "#7201a8"
             ],
             [
              0.3333333333333333,
              "#9c179e"
             ],
             [
              0.4444444444444444,
              "#bd3786"
             ],
             [
              0.5555555555555556,
              "#d8576b"
             ],
             [
              0.6666666666666666,
              "#ed7953"
             ],
             [
              0.7777777777777778,
              "#fb9f3a"
             ],
             [
              0.8888888888888888,
              "#fdca26"
             ],
             [
              1,
              "#f0f921"
             ]
            ],
            "type": "contour"
           }
          ],
          "contourcarpet": [
           {
            "colorbar": {
             "outlinewidth": 0,
             "ticks": ""
            },
            "type": "contourcarpet"
           }
          ],
          "heatmap": [
           {
            "colorbar": {
             "outlinewidth": 0,
             "ticks": ""
            },
            "colorscale": [
             [
              0,
              "#0d0887"
             ],
             [
              0.1111111111111111,
              "#46039f"
             ],
             [
              0.2222222222222222,
              "#7201a8"
             ],
             [
              0.3333333333333333,
              "#9c179e"
             ],
             [
              0.4444444444444444,
              "#bd3786"
             ],
             [
              0.5555555555555556,
              "#d8576b"
             ],
             [
              0.6666666666666666,
              "#ed7953"
             ],
             [
              0.7777777777777778,
              "#fb9f3a"
             ],
             [
              0.8888888888888888,
              "#fdca26"
             ],
             [
              1,
              "#f0f921"
             ]
            ],
            "type": "heatmap"
           }
          ],
          "heatmapgl": [
           {
            "colorbar": {
             "outlinewidth": 0,
             "ticks": ""
            },
            "colorscale": [
             [
              0,
              "#0d0887"
             ],
             [
              0.1111111111111111,
              "#46039f"
             ],
             [
              0.2222222222222222,
              "#7201a8"
             ],
             [
              0.3333333333333333,
              "#9c179e"
             ],
             [
              0.4444444444444444,
              "#bd3786"
             ],
             [
              0.5555555555555556,
              "#d8576b"
             ],
             [
              0.6666666666666666,
              "#ed7953"
             ],
             [
              0.7777777777777778,
              "#fb9f3a"
             ],
             [
              0.8888888888888888,
              "#fdca26"
             ],
             [
              1,
              "#f0f921"
             ]
            ],
            "type": "heatmapgl"
           }
          ],
          "histogram": [
           {
            "marker": {
             "pattern": {
              "fillmode": "overlay",
              "size": 10,
              "solidity": 0.2
             }
            },
            "type": "histogram"
           }
          ],
          "histogram2d": [
           {
            "colorbar": {
             "outlinewidth": 0,
             "ticks": ""
            },
            "colorscale": [
             [
              0,
              "#0d0887"
             ],
             [
              0.1111111111111111,
              "#46039f"
             ],
             [
              0.2222222222222222,
              "#7201a8"
             ],
             [
              0.3333333333333333,
              "#9c179e"
             ],
             [
              0.4444444444444444,
              "#bd3786"
             ],
             [
              0.5555555555555556,
              "#d8576b"
             ],
             [
              0.6666666666666666,
              "#ed7953"
             ],
             [
              0.7777777777777778,
              "#fb9f3a"
             ],
             [
              0.8888888888888888,
              "#fdca26"
             ],
             [
              1,
              "#f0f921"
             ]
            ],
            "type": "histogram2d"
           }
          ],
          "histogram2dcontour": [
           {
            "colorbar": {
             "outlinewidth": 0,
             "ticks": ""
            },
            "colorscale": [
             [
              0,
              "#0d0887"
             ],
             [
              0.1111111111111111,
              "#46039f"
             ],
             [
              0.2222222222222222,
              "#7201a8"
             ],
             [
              0.3333333333333333,
              "#9c179e"
             ],
             [
              0.4444444444444444,
              "#bd3786"
             ],
             [
              0.5555555555555556,
              "#d8576b"
             ],
             [
              0.6666666666666666,
              "#ed7953"
             ],
             [
              0.7777777777777778,
              "#fb9f3a"
             ],
             [
              0.8888888888888888,
              "#fdca26"
             ],
             [
              1,
              "#f0f921"
             ]
            ],
            "type": "histogram2dcontour"
           }
          ],
          "mesh3d": [
           {
            "colorbar": {
             "outlinewidth": 0,
             "ticks": ""
            },
            "type": "mesh3d"
           }
          ],
          "parcoords": [
           {
            "line": {
             "colorbar": {
              "outlinewidth": 0,
              "ticks": ""
             }
            },
            "type": "parcoords"
           }
          ],
          "pie": [
           {
            "automargin": true,
            "type": "pie"
           }
          ],
          "scatter": [
           {
            "fillpattern": {
             "fillmode": "overlay",
             "size": 10,
             "solidity": 0.2
            },
            "type": "scatter"
           }
          ],
          "scatter3d": [
           {
            "line": {
             "colorbar": {
              "outlinewidth": 0,
              "ticks": ""
             }
            },
            "marker": {
             "colorbar": {
              "outlinewidth": 0,
              "ticks": ""
             }
            },
            "type": "scatter3d"
           }
          ],
          "scattercarpet": [
           {
            "marker": {
             "colorbar": {
              "outlinewidth": 0,
              "ticks": ""
             }
            },
            "type": "scattercarpet"
           }
          ],
          "scattergeo": [
           {
            "marker": {
             "colorbar": {
              "outlinewidth": 0,
              "ticks": ""
             }
            },
            "type": "scattergeo"
           }
          ],
          "scattergl": [
           {
            "marker": {
             "colorbar": {
              "outlinewidth": 0,
              "ticks": ""
             }
            },
            "type": "scattergl"
           }
          ],
          "scattermapbox": [
           {
            "marker": {
             "colorbar": {
              "outlinewidth": 0,
              "ticks": ""
             }
            },
            "type": "scattermapbox"
           }
          ],
          "scatterpolar": [
           {
            "marker": {
             "colorbar": {
              "outlinewidth": 0,
              "ticks": ""
             }
            },
            "type": "scatterpolar"
           }
          ],
          "scatterpolargl": [
           {
            "marker": {
             "colorbar": {
              "outlinewidth": 0,
              "ticks": ""
             }
            },
            "type": "scatterpolargl"
           }
          ],
          "scatterternary": [
           {
            "marker": {
             "colorbar": {
              "outlinewidth": 0,
              "ticks": ""
             }
            },
            "type": "scatterternary"
           }
          ],
          "surface": [
           {
            "colorbar": {
             "outlinewidth": 0,
             "ticks": ""
            },
            "colorscale": [
             [
              0,
              "#0d0887"
             ],
             [
              0.1111111111111111,
              "#46039f"
             ],
             [
              0.2222222222222222,
              "#7201a8"
             ],
             [
              0.3333333333333333,
              "#9c179e"
             ],
             [
              0.4444444444444444,
              "#bd3786"
             ],
             [
              0.5555555555555556,
              "#d8576b"
             ],
             [
              0.6666666666666666,
              "#ed7953"
             ],
             [
              0.7777777777777778,
              "#fb9f3a"
             ],
             [
              0.8888888888888888,
              "#fdca26"
             ],
             [
              1,
              "#f0f921"
             ]
            ],
            "type": "surface"
           }
          ],
          "table": [
           {
            "cells": {
             "fill": {
              "color": "#EBF0F8"
             },
             "line": {
              "color": "white"
             }
            },
            "header": {
             "fill": {
              "color": "#C8D4E3"
             },
             "line": {
              "color": "white"
             }
            },
            "type": "table"
           }
          ]
         },
         "layout": {
          "annotationdefaults": {
           "arrowcolor": "#2a3f5f",
           "arrowhead": 0,
           "arrowwidth": 1
          },
          "autotypenumbers": "strict",
          "coloraxis": {
           "colorbar": {
            "outlinewidth": 0,
            "ticks": ""
           }
          },
          "colorscale": {
           "diverging": [
            [
             0,
             "#8e0152"
            ],
            [
             0.1,
             "#c51b7d"
            ],
            [
             0.2,
             "#de77ae"
            ],
            [
             0.3,
             "#f1b6da"
            ],
            [
             0.4,
             "#fde0ef"
            ],
            [
             0.5,
             "#f7f7f7"
            ],
            [
             0.6,
             "#e6f5d0"
            ],
            [
             0.7,
             "#b8e186"
            ],
            [
             0.8,
             "#7fbc41"
            ],
            [
             0.9,
             "#4d9221"
            ],
            [
             1,
             "#276419"
            ]
           ],
           "sequential": [
            [
             0,
             "#0d0887"
            ],
            [
             0.1111111111111111,
             "#46039f"
            ],
            [
             0.2222222222222222,
             "#7201a8"
            ],
            [
             0.3333333333333333,
             "#9c179e"
            ],
            [
             0.4444444444444444,
             "#bd3786"
            ],
            [
             0.5555555555555556,
             "#d8576b"
            ],
            [
             0.6666666666666666,
             "#ed7953"
            ],
            [
             0.7777777777777778,
             "#fb9f3a"
            ],
            [
             0.8888888888888888,
             "#fdca26"
            ],
            [
             1,
             "#f0f921"
            ]
           ],
           "sequentialminus": [
            [
             0,
             "#0d0887"
            ],
            [
             0.1111111111111111,
             "#46039f"
            ],
            [
             0.2222222222222222,
             "#7201a8"
            ],
            [
             0.3333333333333333,
             "#9c179e"
            ],
            [
             0.4444444444444444,
             "#bd3786"
            ],
            [
             0.5555555555555556,
             "#d8576b"
            ],
            [
             0.6666666666666666,
             "#ed7953"
            ],
            [
             0.7777777777777778,
             "#fb9f3a"
            ],
            [
             0.8888888888888888,
             "#fdca26"
            ],
            [
             1,
             "#f0f921"
            ]
           ]
          },
          "colorway": [
           "#636efa",
           "#EF553B",
           "#00cc96",
           "#ab63fa",
           "#FFA15A",
           "#19d3f3",
           "#FF6692",
           "#B6E880",
           "#FF97FF",
           "#FECB52"
          ],
          "font": {
           "color": "#2a3f5f"
          },
          "geo": {
           "bgcolor": "white",
           "lakecolor": "white",
           "landcolor": "white",
           "showlakes": true,
           "showland": true,
           "subunitcolor": "#C8D4E3"
          },
          "hoverlabel": {
           "align": "left"
          },
          "hovermode": "closest",
          "mapbox": {
           "style": "light"
          },
          "paper_bgcolor": "white",
          "plot_bgcolor": "white",
          "polar": {
           "angularaxis": {
            "gridcolor": "#EBF0F8",
            "linecolor": "#EBF0F8",
            "ticks": ""
           },
           "bgcolor": "white",
           "radialaxis": {
            "gridcolor": "#EBF0F8",
            "linecolor": "#EBF0F8",
            "ticks": ""
           }
          },
          "scene": {
           "xaxis": {
            "backgroundcolor": "white",
            "gridcolor": "#DFE8F3",
            "gridwidth": 2,
            "linecolor": "#EBF0F8",
            "showbackground": true,
            "ticks": "",
            "zerolinecolor": "#EBF0F8"
           },
           "yaxis": {
            "backgroundcolor": "white",
            "gridcolor": "#DFE8F3",
            "gridwidth": 2,
            "linecolor": "#EBF0F8",
            "showbackground": true,
            "ticks": "",
            "zerolinecolor": "#EBF0F8"
           },
           "zaxis": {
            "backgroundcolor": "white",
            "gridcolor": "#DFE8F3",
            "gridwidth": 2,
            "linecolor": "#EBF0F8",
            "showbackground": true,
            "ticks": "",
            "zerolinecolor": "#EBF0F8"
           }
          },
          "shapedefaults": {
           "line": {
            "color": "#2a3f5f"
           }
          },
          "ternary": {
           "aaxis": {
            "gridcolor": "#DFE8F3",
            "linecolor": "#A2B1C6",
            "ticks": ""
           },
           "baxis": {
            "gridcolor": "#DFE8F3",
            "linecolor": "#A2B1C6",
            "ticks": ""
           },
           "bgcolor": "white",
           "caxis": {
            "gridcolor": "#DFE8F3",
            "linecolor": "#A2B1C6",
            "ticks": ""
           }
          },
          "title": {
           "x": 0.05
          },
          "xaxis": {
           "automargin": true,
           "gridcolor": "#EBF0F8",
           "linecolor": "#EBF0F8",
           "ticks": "",
           "title": {
            "standoff": 15
           },
           "zerolinecolor": "#EBF0F8",
           "zerolinewidth": 2
          },
          "yaxis": {
           "automargin": true,
           "gridcolor": "#EBF0F8",
           "linecolor": "#EBF0F8",
           "ticks": "",
           "title": {
            "standoff": 15
           },
           "zerolinecolor": "#EBF0F8",
           "zerolinewidth": 2
          }
         }
        },
        "title": {
         "font": {
          "size": 24
         },
         "text": "Athletic Genetics Database Overview",
         "x": 0.5,
         "xanchor": "center",
         "y": 0.9,
         "yanchor": "top"
        },
        "width": 1400,
        "xaxis": {
         "anchor": "y",
         "domain": [
          0,
          0.425
         ],
         "title": {
          "font": {
           "size": 14
          },
          "text": "Endurance (-1) to Power (+1) Bias"
         }
        },
        "xaxis2": {
         "anchor": "y2",
         "domain": [
          0.575,
          1
         ],
         "tickangle": 45,
         "title": {
          "font": {
           "size": 14
          },
          "text": "Pathway"
         }
        },
        "xaxis3": {
         "anchor": "y3",
         "domain": [
          0,
          0.425
         ],
         "tickangle": 45,
         "title": {
          "font": {
           "size": 14
          },
          "text": "Gene"
         }
        },
        "xaxis4": {
         "anchor": "y4",
         "domain": [
          0.575,
          1
         ],
         "title": {
          "font": {
           "size": 14
          },
          "text": "Effect Size"
         }
        },
        "yaxis": {
         "anchor": "x",
         "domain": [
          0.61,
          1
         ],
         "title": {
          "font": {
           "size": 14
          },
          "text": "Effect Size"
         }
        },
        "yaxis2": {
         "anchor": "x2",
         "domain": [
          0.61,
          1
         ],
         "title": {
          "font": {
           "size": 14
          },
          "text": "Number of Genes"
         }
        },
        "yaxis3": {
         "anchor": "x3",
         "domain": [
          0,
          0.39
         ],
         "title": {
          "font": {
           "size": 14
          },
          "text": "Evidence Quality Score"
         }
        },
        "yaxis4": {
         "anchor": "x4",
         "domain": [
          0,
          0.39
         ]
        }
       }
      }
     },
     "metadata": {},
     "output_type": "display_data"
    }
   ],
   "source": [
    "import plotly.express as px\n",
    "import plotly.graph_objects as go\n",
    "from plotly.subplots import make_subplots\n",
    "import pandas as pd\n",
    "import numpy as np\n",
    "\n",
    "# Color scheme\n",
    "colors = ['#e63946', '#a8dadc', '#90EE90', '#457b9d', '#1d3557']\n",
    "\n",
    "# Convert database to DataFrame for visualization\n",
    "genes_df = pd.DataFrame([{\n",
    "    'gene': gene,\n",
    "    'effect_size': data['effect_size'],\n",
    "    'endurance_power': data['endurance_power'],\n",
    "    'pathway': data['pathway'],\n",
    "    'evidence_quality': data['evidence_quality'],\n",
    "    'trait': data['trait']\n",
    "} for gene, data in athletic_genetics_db.items()])\n",
    "\n",
    "# Create master figure with subplots\n",
    "fig = make_subplots(\n",
    "    rows=2, cols=2,\n",
    "    subplot_titles=(\n",
    "        'Effect Size vs Endurance/Power Bias',\n",
    "        'Distribution of Genetic Pathways',\n",
    "        'Evidence Quality by Gene',\n",
    "        'Genes Ranked by Effect Size'\n",
    "    ),\n",
    "    vertical_spacing=0.22,  # Increased vertical spacing\n",
    "    horizontal_spacing=0.15\n",
    ")\n",
    "\n",
    "# 1. Effect Size vs Endurance/Power Scatter\n",
    "scatter = px.scatter(genes_df, \n",
    "                    x='endurance_power', \n",
    "                    y='effect_size',\n",
    "                    size='evidence_quality',\n",
    "                    color='pathway',\n",
    "                    color_discrete_sequence=colors,\n",
    "                    hover_data=['gene', 'trait'],\n",
    "                    text='gene')\n",
    "\n",
    "for trace in scatter.data:\n",
    "    trace.update(\n",
    "        name=trace.name,  # Keep original pathway name\n",
    "        legendgroup=trace.name,  # Group by pathway\n",
    "        showlegend=True,\n",
    "        mode='markers+text',\n",
    "        textposition='top center'\n",
    "    )\n",
    "    fig.add_trace(trace, row=1, col=1)\n",
    "\n",
    "# 2. Pathway Distribution\n",
    "pathway_counts = genes_df['pathway'].value_counts()\n",
    "fig.add_trace(\n",
    "    go.Bar(x=pathway_counts.index, \n",
    "           y=pathway_counts.values,\n",
    "           marker_color=colors[0],\n",
    "           name='Pathway Count',\n",
    "           hovertemplate='Pathway: %{x}<br>Count: %{y}'),\n",
    "    row=1, col=2\n",
    ")\n",
    "\n",
    "# 3. Evidence Quality by Gene\n",
    "fig.add_trace(\n",
    "    go.Bar(x=genes_df['gene'],\n",
    "           y=genes_df['evidence_quality'],\n",
    "           marker_color=colors[1],\n",
    "           name='Evidence Quality',\n",
    "           hovertemplate='Gene: %{x}<br>Evidence Quality: %{y:.2f}'),\n",
    "    row=2, col=1\n",
    ")\n",
    "\n",
    "# 4. Genes Ranked by Effect Size\n",
    "genes_sorted = genes_df.sort_values('effect_size', ascending=True)\n",
    "fig.add_trace(\n",
    "    go.Bar(x=genes_sorted['effect_size'],\n",
    "           y=genes_sorted['gene'],\n",
    "           orientation='h',\n",
    "           marker_color=colors[3],\n",
    "           name='Effect Size',\n",
    "           hovertemplate='Gene: %{y}<br>Effect Size: %{x:.2f}'),\n",
    "    row=2, col=2\n",
    ")\n",
    "\n",
    "# Update layout with improved spacing and formatting\n",
    "fig.update_layout(\n",
    "    height=1000,\n",
    "    width=1400,\n",
    "    showlegend=True,\n",
    "    legend=dict(\n",
    "        orientation=\"h\",\n",
    "        yanchor=\"bottom\",\n",
    "        y=1.15,\n",
    "        xanchor=\"center\",\n",
    "        x=0.5,\n",
    "        bgcolor='rgba(255, 255, 255, 0.9)',  # Semi-transparent white background\n",
    "        bordercolor='rgba(0, 0, 0, 0.2)',    # Light border\n",
    "        borderwidth=1,\n",
    "        font=dict(size=12),\n",
    "        itemsizing='constant',  # Makes legend items consistent size\n",
    "        itemwidth=40           # Controls legend item width\n",
    "    ),\n",
    "    title=dict(\n",
    "        text=\"Athletic Genetics Database Overview\",\n",
    "        y=0.9,\n",
    "        x=0.5,\n",
    "        xanchor='center',\n",
    "        yanchor='top',\n",
    "        font=dict(size=24)\n",
    "    ),\n",
    "    template=\"plotly_white\",\n",
    "    font=dict(size=12)\n",
    ")\n",
    "\n",
    "# Update axes labels and formatting\n",
    "fig.update_xaxes(title_text=\"Endurance (-1) to Power (+1) Bias\", row=1, col=1, title_font=dict(size=14))\n",
    "fig.update_yaxes(title_text=\"Effect Size\", row=1, col=1, title_font=dict(size=14))\n",
    "fig.update_xaxes(title_text=\"Pathway\", row=1, col=2, tickangle=45, title_font=dict(size=14))\n",
    "fig.update_yaxes(title_text=\"Number of Genes\", row=1, col=2, title_font=dict(size=14))\n",
    "fig.update_xaxes(title_text=\"Gene\", row=2, col=1, tickangle=45, title_font=dict(size=14))\n",
    "fig.update_yaxes(title_text=\"Evidence Quality Score\", row=2, col=1, title_font=dict(size=14))\n",
    "fig.update_xaxes(title_text=\"Effect Size\", row=2, col=2, title_font=dict(size=14))\n",
    "\n",
    "# Update subplot titles with better positioning\n",
    "for i in fig['layout']['annotations']:\n",
    "    i['font'] = dict(size=16, color='black')\n",
    "    i['y'] = i['y'] - 0.03  # Move subplot titles down\n",
    "    # Extra adjustment for bottom right title\n",
    "    if i['text'] == 'Genes Ranked by Effect Size':\n",
    "        i['y'] = i['y'] + 0.05  # Move this title up to avoid overlap\n",
    "\n",
    "# Update margins to ensure no cutoff\n",
    "fig.update_layout(margin=dict(t=150, b=50, l=50, r=50))\n",
    "\n",
    "import os\n",
    "from datetime import datetime\n",
    "\n",
    "# Define output path\n",
    "OUTPUT_PATH = '/Users/ngirmay/Documents/GitHub/ironman_retrospective/IronMan_2023/genetics/outputs/'\n",
    "os.makedirs(OUTPUT_PATH, exist_ok=True)\n",
    "\n",
    "# Get current timestamp for unique filenames\n",
    "timestamp = datetime.now().strftime('%Y%m%d_%H%M%S')\n",
    "\n",
    "# Save main overview plot\n",
    "# HTML (interactive) version\n",
    "fig.write_html(os.path.join(OUTPUT_PATH, f'athletic_genetics_overview_{timestamp}.html'))\n",
    "\n",
    "# Static image versions (in different formats for flexibility)\n",
    "fig.write_image(os.path.join(OUTPUT_PATH, f'athletic_genetics_overview_{timestamp}.png'))\n",
    "fig.write_image(os.path.join(OUTPUT_PATH, f'athletic_genetics_overview_{timestamp}.svg'))\n",
    "fig.write_image(os.path.join(OUTPUT_PATH, f'athletic_genetics_overview_{timestamp}.pdf'))\n",
    "\n",
    "# Save individual subplots as separate files\n",
    "# Create a figure for each subplot\n",
    "for i, title in enumerate(['effect_size_vs_bias', 'pathway_distribution', 'evidence_quality', 'ranked_effect_size']):\n",
    "    row = (i // 2) + 1\n",
    "    col = (i % 2) + 1\n",
    "    \n",
    "    # Create single subplot figure\n",
    "    subplot_fig = make_subplots(rows=1, cols=1, subplot_titles=[fig.layout.annotations[i].text])\n",
    "    \n",
    "    # Get the traces for this subplot from the main figure\n",
    "    subplot_traces = [trace for trace in fig.data if trace.xaxis == f'x{i+1}' or trace.yaxis == f'y{i+1}']\n",
    "    \n",
    "    # Add traces to the subplot figure\n",
    "    for trace in subplot_traces:\n",
    "        subplot_fig.add_trace(trace)\n",
    "    \n",
    "    # Update layout\n",
    "    subplot_fig.update_layout(\n",
    "        height=600,\n",
    "        width=800,\n",
    "        showlegend=True,\n",
    "        title_x=0.5,\n",
    "        template=\"plotly_white\"\n",
    "    )\n",
    "    \n",
    "    # Save individual subplot\n",
    "    subplot_fig.write_html(os.path.join(OUTPUT_PATH, f'genetics_{title}_{timestamp}.html'))\n",
    "    subplot_fig.write_image(os.path.join(OUTPUT_PATH, f'genetics_{title}_{timestamp}.png'))\n",
    "\n",
    "# Print confirmation message\n",
    "print(f\"All plots have been saved to: {OUTPUT_PATH}\")\n",
    "print(f\"Timestamp used: {timestamp}\")\n",
    "print(\"\\nSaved files:\")\n",
    "print(\"1. Main overview plot (HTML, PNG, SVG, PDF)\")\n",
    "print(\"2. Individual subplots (HTML, PNG)\")\n",
    "\n",
    "# Display the figure\n",
    "fig.show()"
   ]
  },
  {
   "cell_type": "code",
   "execution_count": 289,
   "metadata": {},
   "outputs": [
    {
     "name": "stdout",
     "output_type": "stream",
     "text": [
      "\n",
      "Starting genetic analysis...\n",
      "Output will be saved to: /Users/ngirmay/Documents/GitHub/ironman_retrospective/IronMan_2023/genetics/analysis_20241024_102851\n",
      "Loading SNP data from: /Users/ngirmay/Documents/GitHub/ironman_retrospective/IronMan_2023/genetics/selfdecode.txt\n",
      "Loaded 699182 SNPs\n",
      "Columns found: rsid, chromosome, position, genotype\n",
      "\n",
      "First few rows of loaded data:\n",
      "          rsid chromosome  position genotype\n",
      "0  rs547237130          1     72526       AA\n",
      "1    rs4477212          1     82153       AA\n",
      "2    rs4477212          1     82154       AA\n",
      "3    rs4477212          1     82154       AA\n",
      "4    rs8179455          1    264681       GG\n",
      "\n",
      "Data types of columns:\n",
      "rsid          object\n",
      "chromosome    object\n",
      "position       int64\n",
      "genotype      object\n",
      "dtype: object\n",
      "\n",
      "Looking for matches in athletic genetics database...\n",
      "\n",
      "Found matches for 17 genes:\n",
      "Matched genes: ACE, PPARGC1A, HIF1A, MSTN, VEGFA, IL6, COL5A1, IGF1, MCT1, BDNF, PPARA, RYR1, NOS3, VDR, ADRB2, ACVR1B, HFE\n",
      "\n",
      "Missing data for 3 genes:\n",
      "Missing genes: ACTN3, GLUT4, CCL2\n",
      "\n",
      "Running analysis...\n",
      "\n",
      "Detailed Genotype Analysis:\n",
      "------------------------------------------------------------------------------------------------------------------------\n",
      "Gene       User Genotype   Equivalents                              Optimal         Score      Match Type                    \n",
      "------------------------------------------------------------------------------------------------------------------------\n",
      "\n",
      "Detailed Genotype Analysis:\n",
      "------------------------------------------------------------------------------------------------------------------------\n",
      "Gene       User Genotype   Equivalents                              Optimal         Score      Match Type                    \n",
      "------------------------------------------------------------------------------------------------------------------------\n",
      "\n",
      "Detailed Genotype Analysis:\n",
      "------------------------------------------------------------------------------------------------------------------------\n",
      "Gene       User Genotype   Equivalents                              Optimal         Score      Match Type                    \n",
      "------------------------------------------------------------------------------------------------------------------------\n",
      "Generating visualizations...\n",
      "\n",
      "Analysis complete! Results saved to: /Users/ngirmay/Documents/GitHub/ironman_retrospective/IronMan_2023/genetics/analysis_20241024_102851\n",
      "Report file: /Users/ngirmay/Documents/GitHub/ironman_retrospective/IronMan_2023/genetics/analysis_20241024_102851/genetic_report.txt\n"
     ]
    }
   ],
   "source": [
    "import pandas as pd\n",
    "import plotly.express as px\n",
    "import plotly.graph_objects as go\n",
    "from plotly.subplots import make_subplots\n",
    "import numpy as np\n",
    "from pathlib import Path\n",
    "import os\n",
    "from datetime import datetime\n",
    "\n",
    "# Define paths\n",
    "GENETICS_DIR = \"/Users/ngirmay/Documents/GitHub/ironman_retrospective/IronMan_2023/genetics\"\n",
    "OUTPUTS_DIR = os.path.join(GENETICS_DIR, \"outputs\")\n",
    "ANALYSIS_DIR = os.path.join(GENETICS_DIR, \"analysis_20241023_153638\")\n",
    "OUTPUT_HTML = os.path.join(GENETICS_DIR, \"genetic_analysis_report.html\")\n",
    "\n",
    "def verify_paths():\n",
    "    \"\"\"Verify that all necessary paths exist\"\"\"\n",
    "    if not os.path.exists(SNP_FILE):\n",
    "        raise FileNotFoundError(f\"SNP file not found at: {SNP_FILE}\")\n",
    "    if not os.path.exists(OUTPUT_DIR):\n",
    "        os.makedirs(OUTPUT_DIR)\n",
    "    return True\n",
    "\n",
    "def load_snp_data(file_path):\n",
    "    \"\"\"\n",
    "    Load SNP data from the provided file, handling commented headers correctly.\n",
    "    \"\"\"\n",
    "    print(f\"Loading SNP data from: {file_path}\")\n",
    "    \n",
    "    # First, read the file to get the header line\n",
    "    with open(file_path, 'r') as f:\n",
    "        header_line = None\n",
    "        data_lines = []\n",
    "        for line in f:\n",
    "            if line.startswith('# rsid'):\n",
    "                # Remove the '# ' prefix and use this as header\n",
    "                header_line = line.replace('# ', '').strip()\n",
    "            elif not line.startswith('#'):\n",
    "                # This is actual data\n",
    "                data_lines.append(line)\n",
    "    \n",
    "    if not header_line:\n",
    "        raise ValueError(\"Could not find header line starting with '# rsid' in the file\")\n",
    "    \n",
    "    # Create a temporary file with the header and data\n",
    "    import tempfile\n",
    "    with tempfile.NamedTemporaryFile(mode='w', delete=False) as temp_file:\n",
    "        temp_file.write(header_line + '\\n')\n",
    "        temp_file.writelines(data_lines)\n",
    "        temp_path = temp_file.name\n",
    "    \n",
    "    try:\n",
    "        # Read the temporary file as a CSV\n",
    "        df = pd.read_csv(temp_path, sep='\\s+')  # Using whitespace as separator\n",
    "        print(f\"Loaded {len(df)} SNPs\")\n",
    "        print(f\"Columns found: {', '.join(df.columns)}\")\n",
    "        return df\n",
    "    finally:\n",
    "        # Clean up the temporary file\n",
    "        os.unlink(temp_path)\n",
    "\n",
    "def normalize_genotype(genotype):\n",
    "    \"\"\"\n",
    "    Normalize genotype string to handle both direct and complementary matches.\n",
    "    Returns tuple of (normalized_direct, normalized_complementary)\n",
    "    \"\"\"\n",
    "    if not genotype or len(genotype) != 2:\n",
    "        return genotype, genotype\n",
    "    \n",
    "    # Get both direct and complementary genotypes\n",
    "    direct = ''.join(sorted(genotype.upper()))\n",
    "    complementary = ''.join(sorted(get_complementary_genotype(genotype).upper()))\n",
    "    \n",
    "    return direct, complementary\n",
    "\n",
    "def get_complementary_base(base):\n",
    "    \"\"\"Return the complementary DNA base\"\"\"\n",
    "    complement_map = {\n",
    "        'A': 'T',\n",
    "        'T': 'A',\n",
    "        'G': 'C',\n",
    "        'C': 'G'\n",
    "    }\n",
    "    return complement_map.get(base.upper(), base)\n",
    "\n",
    "def get_complementary_genotype(genotype):\n",
    "    \"\"\"Return the complementary genotype\"\"\"\n",
    "    return ''.join(get_complementary_base(base) for base in genotype)\n",
    "\n",
    "def calculate_genotype_score(user_genotype, optimal_genotype, neutral_genotype, less_optimal_genotype):\n",
    "    \"\"\"\n",
    "    Calculate score considering both direct and complementary strand matches\n",
    "    \"\"\"\n",
    "    # Get all possible representations of the user's genotype\n",
    "    user_direct, user_comp = normalize_genotype(user_genotype)\n",
    "    optimal_direct, optimal_comp = normalize_genotype(optimal_genotype)\n",
    "    neutral_direct, neutral_comp = normalize_genotype(neutral_genotype)\n",
    "    less_direct, less_comp = normalize_genotype(less_optimal_genotype)\n",
    "    \n",
    "    # Check for matches across all equivalent forms\n",
    "    if user_direct in [optimal_direct, optimal_comp]:\n",
    "        return 2.0, f\"Optimal variant (equivalent match: {user_genotype} ≈ {optimal_genotype})\"\n",
    "    elif user_direct in [neutral_direct, neutral_comp]:\n",
    "        return 1.0, f\"Neutral variant (equivalent match: {user_genotype} ≈ {neutral_genotype})\"\n",
    "    elif user_direct in [less_direct, less_comp]:\n",
    "        return 0.5, f\"Less optimal variant (equivalent match: {user_genotype} ≈ {less_optimal_genotype})\"\n",
    "    \n",
    "    return 0.1, f\"Non-optimal variant (no equivalent matches found for {user_genotype})\"\n",
    "\n",
    "def create_user_genotype_dict(snp_df, athletic_genetics_db):\n",
    "    \"\"\"\n",
    "    Create a dictionary of user genotypes for relevant athletic SNPs.\n",
    "    Returns both the dictionary and a summary of matches found.\n",
    "    \"\"\"\n",
    "    user_genotypes = {}\n",
    "    matches_found = []\n",
    "    missing_rsids = []\n",
    "    \n",
    "    print(\"\\nLooking for matches in athletic genetics database...\")\n",
    "    for gene, data in athletic_genetics_db.items():\n",
    "        rsid = data['rsid']\n",
    "        # Convert rsid column to string to ensure matching works\n",
    "        matches = snp_df[snp_df['rsid'].astype(str) == rsid]\n",
    "        if not matches.empty:\n",
    "            user_genotypes[rsid] = matches.iloc[0]['genotype']\n",
    "            matches_found.append(gene)\n",
    "        else:\n",
    "            missing_rsids.append(gene)\n",
    "    \n",
    "    print(f\"\\nFound matches for {len(matches_found)} genes:\")\n",
    "    print(f\"Matched genes: {', '.join(matches_found)}\")\n",
    "    if missing_rsids:\n",
    "        print(f\"\\nMissing data for {len(missing_rsids)} genes:\")\n",
    "        print(f\"Missing genes: {', '.join(missing_rsids)}\")\n",
    "    \n",
    "    return user_genotypes\n",
    "\n",
    "def analyze_genotype(user_genotypes, population='European', focus='balanced'):\n",
    "    \"\"\"\n",
    "    Analyze user genotypes against athletic performance database with improved scoring\n",
    "    \"\"\"\n",
    "    results = {\n",
    "        'overall_score': 0,\n",
    "        'endurance_score': 0,\n",
    "        'power_score': 0,\n",
    "        'gene_breakdown': {},\n",
    "        'population_percentile': {},\n",
    "        'key_findings': [],\n",
    "        'debug_info': []\n",
    "    }\n",
    "    \n",
    "    print(\"\\nDetailed Genotype Analysis:\")\n",
    "    print(\"-\" * 120)\n",
    "    print(f\"{'Gene':<10} {'User Genotype':<15} {'Equivalents':<40} {'Optimal':<15} {'Score':<10} {'Match Type':<30}\")\n",
    "    print(\"-\" * 120)\n",
    "    \n",
    "    total_possible = 0\n",
    "    \n",
    "    for gene, data in athletic_genetics_db.items():\n",
    "        if data['rsid'] in user_genotypes:\n",
    "            user_genotype = user_genotypes[data['rsid']]\n",
    "            \n",
    "            base_score, reason = calculate_genotype_score(\n",
    "                user_genotype,\n",
    "                data['advantageous'],\n",
    "                data['neutral'],\n",
    "                data['less_advantageous']\n",
    "            )\n",
    "            \n",
    "            # Weight the score\n",
    "            weighted_score = base_score * data['effect_size'] * data['evidence_quality']\n",
    "            total_possible += 2.0 * data['effect_size'] * data['evidence_quality']\n",
    "            \n",
    "            # Add to appropriate category\n",
    "            if data['endurance_power'] > 0:\n",
    "                results['endurance_score'] += weighted_score\n",
    "            else:\n",
    "                results['power_score'] += weighted_score\n",
    "                \n",
    "            # Population comparison\n",
    "            pop_freqs = data['population_frequencies'][population]\n",
    "            user_genotype_normalized = normalize_genotype(user_genotype)[0]\n",
    "            \n",
    "            # Calculate percentile based on frequency of user's genotype\n",
    "            percentile = pop_freqs.get(user_genotype_normalized, 0.0)\n",
    "            results['population_percentile'][gene] = percentile\n",
    "            \n",
    "            # Store breakdown\n",
    "            results['gene_breakdown'][gene] = {\n",
    "                'genotype': user_genotype,\n",
    "                'score': weighted_score,\n",
    "                'optimal': data['advantageous'],\n",
    "                'trait': data['trait'],\n",
    "                'pathway': data['pathway']\n",
    "            }\n",
    "            \n",
    "            # Add key findings\n",
    "            if base_score >= 1.5:\n",
    "                results['key_findings'].append(\n",
    "                    f\"Advantageous {gene} variant ({user_genotype}) for {data['trait']}\"\n",
    "                )\n",
    "            elif base_score <= 0.5:\n",
    "                results['key_findings'].append(\n",
    "                    f\"Potential limitation in {gene} ({user_genotype}) for {data['trait']}\"\n",
    "                )\n",
    "    \n",
    "    # Calculate final scores\n",
    "    if total_possible > 0:\n",
    "        results['overall_score'] = (results['overall_score'] / total_possible) * 100\n",
    "        results['endurance_score'] = (results['endurance_score'] / total_possible) * 100\n",
    "        results['power_score'] = (results['power_score'] / total_possible) * 100\n",
    "    \n",
    "    return results\n",
    "def create_pathway_radar_chart(results):\n",
    "    \"\"\"Create a radar chart showing performance across different pathways.\"\"\"\n",
    "    pathway_scores = {}\n",
    "    for gene, data in results['gene_breakdown'].items():\n",
    "        pathway = data['pathway']\n",
    "        score = data['score']\n",
    "        if pathway not in pathway_scores:\n",
    "            pathway_scores[pathway] = []\n",
    "        pathway_scores[pathway].append(score)\n",
    "    \n",
    "    pathway_averages = {k: np.mean(v) for k, v in pathway_scores.items()}\n",
    "    \n",
    "    fig = go.Figure()\n",
    "    \n",
    "    fig.add_trace(go.Scatterpolar(\n",
    "        r=list(pathway_averages.values()),\n",
    "        theta=list(pathway_averages.keys()),\n",
    "        fill='toself',\n",
    "        name='Your Profile',\n",
    "        line_color='#1d3557'\n",
    "    ))\n",
    "    \n",
    "    fig.update_layout(\n",
    "        polar=dict(\n",
    "            radialaxis=dict(\n",
    "                visible=True,\n",
    "                range=[0, max(pathway_averages.values()) * 1.2]\n",
    "            )),\n",
    "        showlegend=False,\n",
    "        title=\"Athletic Pathway Performance Profile\",\n",
    "        paper_bgcolor='white',\n",
    "        plot_bgcolor='white'\n",
    "    )\n",
    "    \n",
    "    return fig\n",
    "\n",
    "def create_gene_comparison_chart(results):\n",
    "    \"\"\"Create a bar chart comparing user's genotype scores against optimal.\"\"\"\n",
    "    genes = []\n",
    "    user_scores = []\n",
    "    optimal_scores = []\n",
    "    pathways = []\n",
    "    \n",
    "    for gene, data in results['gene_breakdown'].items():\n",
    "        genes.append(gene)\n",
    "        user_scores.append(data['score'])\n",
    "        optimal_scores.append(2.0)\n",
    "        pathways.append(data['pathway'])\n",
    "    \n",
    "    fig = go.Figure()\n",
    "    \n",
    "    fig.add_trace(go.Bar(\n",
    "        name='Your Score',\n",
    "        x=genes,\n",
    "        y=user_scores,\n",
    "        marker_color='#457b9d'\n",
    "    ))\n",
    "    \n",
    "    fig.add_trace(go.Bar(\n",
    "        name='Optimal Score',\n",
    "        x=genes,\n",
    "        y=optimal_scores,\n",
    "        marker_color='#e63946',\n",
    "        opacity=0.5\n",
    "    ))\n",
    "    \n",
    "    fig.update_layout(\n",
    "        barmode='group',\n",
    "        title=\"Gene Score Comparison\",\n",
    "        xaxis_title=\"Gene\",\n",
    "        yaxis_title=\"Score\",\n",
    "        xaxis_tickangle=-45,\n",
    "        legend=dict(\n",
    "            yanchor=\"top\",\n",
    "            y=0.99,\n",
    "            xanchor=\"right\",\n",
    "            x=0.99\n",
    "        ),\n",
    "        paper_bgcolor='white',\n",
    "        plot_bgcolor='white'\n",
    "    )\n",
    "    \n",
    "    return fig\n",
    "\n",
    "def create_population_percentile_chart(results):\n",
    "    \"\"\"Create a scatter plot showing population percentiles for each gene.\"\"\"\n",
    "    genes = list(results['population_percentile'].keys())\n",
    "    percentiles = list(results['population_percentile'].values())\n",
    "    \n",
    "    fig = go.Figure()\n",
    "    \n",
    "    fig.add_trace(go.Scatter(\n",
    "        x=genes,\n",
    "        y=percentiles,\n",
    "        mode='markers+lines',\n",
    "        marker=dict(\n",
    "            size=10,\n",
    "            color='#457b9d'\n",
    "        ),\n",
    "        line=dict(color='#1d3557')\n",
    "    ))\n",
    "    \n",
    "    fig.update_layout(\n",
    "        title=\"Population Percentile Distribution\",\n",
    "        xaxis_title=\"Gene\",\n",
    "        yaxis_title=\"Population Percentile\",\n",
    "        xaxis_tickangle=-45,\n",
    "        yaxis=dict(range=[0, 1]),\n",
    "        paper_bgcolor='white',\n",
    "        plot_bgcolor='white',\n",
    "        showlegend=False\n",
    "    )\n",
    "    \n",
    "    return fig\n",
    "\n",
    "def generate_report():\n",
    "    \"\"\"Generate a complete genetic analysis report with visualizations.\"\"\"\n",
    "    try:\n",
    "        # Verify paths\n",
    "        verify_paths()\n",
    "        \n",
    "        # Create timestamped output directory\n",
    "        timestamp = datetime.now().strftime('%Y%m%d_%H%M%S')\n",
    "        output_subdir = os.path.join(OUTPUT_DIR, f'analysis_{timestamp}')\n",
    "        os.makedirs(output_subdir)\n",
    "        \n",
    "        print(f\"\\nStarting genetic analysis...\")\n",
    "        print(f\"Output will be saved to: {output_subdir}\")\n",
    "        \n",
    "        # Load and process data\n",
    "        snp_df = load_snp_data(SNP_FILE)\n",
    "        \n",
    "        # Debug information\n",
    "        print(\"\\nFirst few rows of loaded data:\")\n",
    "        print(snp_df.head())\n",
    "        print(\"\\nData types of columns:\")\n",
    "        print(snp_df.dtypes)\n",
    "        \n",
    "        user_genotypes = create_user_genotype_dict(snp_df, athletic_genetics_db)\n",
    "        \n",
    "        if not user_genotypes:\n",
    "            raise ValueError(\"No matching SNPs found in the genetic database\")\n",
    "        \n",
    "        # Run analysis for different focuses\n",
    "        print(\"\\nRunning analysis...\")\n",
    "        results_balanced = analyze_genotype(user_genotypes, focus='balanced')\n",
    "        results_endurance = analyze_genotype(user_genotypes, focus='endurance')\n",
    "        results_power = analyze_genotype(user_genotypes, focus='power')\n",
    "        \n",
    "        # Create visualizations\n",
    "        print(\"Generating visualizations...\")\n",
    "        radar_fig = create_pathway_radar_chart(results_balanced)\n",
    "        gene_comp_fig = create_gene_comparison_chart(results_balanced)\n",
    "        pop_fig = create_population_percentile_chart(results_balanced)\n",
    "        \n",
    "        # Save visualizations\n",
    "        radar_fig.write_html(os.path.join(output_subdir, 'pathway_radar.html'))\n",
    "        gene_comp_fig.write_html(os.path.join(output_subdir, 'gene_comparison.html'))\n",
    "        pop_fig.write_html(os.path.join(output_subdir, 'population_percentile.html'))\n",
    "        \n",
    "        # Generate summary report\n",
    "        report = f\"\"\"\n",
    "Athletic Genetics Analysis Report\n",
    "===============================\n",
    "Generated: {datetime.now().strftime('%Y-%m-%d %H:%M:%S')}\n",
    "\n",
    "Overall Performance Scores\n",
    "------------------------\n",
    "Balanced Score: {results_balanced['overall_score']:.1f}/100\n",
    "Endurance Score: {results_endurance['endurance_score']:.1f}/100\n",
    "Power Score: {results_power['power_score']:.1f}/100\n",
    "\n",
    "Key Genetic Findings\n",
    "------------------\n",
    "{chr(10).join(['• ' + finding for finding in results_balanced['key_findings']])}\n",
    "\n",
    "Detailed Gene Analysis\n",
    "--------------------\"\"\"\n",
    "        \n",
    "        # Add gene details, sorted by score\n",
    "        sorted_genes = sorted(\n",
    "            results_balanced['gene_breakdown'].items(),\n",
    "            key=lambda x: x[1]['score'],\n",
    "            reverse=True\n",
    "        )\n",
    "        \n",
    "        for gene, data in sorted_genes:\n",
    "            report += f\"\"\"\n",
    "\n",
    "{gene}:\n",
    "    Genotype: {data['genotype']} (Optimal: {data['optimal']})\n",
    "    Trait: {data['trait']}\n",
    "    Pathway: {data['pathway']}\n",
    "    Performance Score: {data['score']:.2f}\"\"\"\n",
    "        \n",
    "        # Save report\n",
    "        report_path = os.path.join(output_subdir, 'genetic_report.txt')\n",
    "        with open(report_path, 'w') as f:\n",
    "            f.write(report)\n",
    "        \n",
    "        print(f\"\\nAnalysis complete! Results saved to: {output_subdir}\")\n",
    "        print(f\"Report file: {report_path}\")\n",
    "        \n",
    "        return {\n",
    "            'report_path': report_path,\n",
    "            'visualization_paths': {\n",
    "                'pathway_radar': os.path.join(output_subdir, 'pathway_radar.html'),\n",
    "                'gene_comparison': os.path.join(output_subdir, 'gene_comparison.html'),\n",
    "                'population_percentile': os.path.join(output_subdir, 'population_percentile.html')\n",
    "            },\n",
    "            'results': {\n",
    "                'balanced': results_balanced,\n",
    "                'endurance': results_endurance,\n",
    "                'power': results_power\n",
    "            }\n",
    "        }\n",
    "        \n",
    "    except Exception as e:\n",
    "        print(f\"Error during analysis: {str(e)}\")\n",
    "        raise\n",
    "\n",
    "if __name__ == \"__main__\":\n",
    "    SNP_FILE = \"/Users/ngirmay/Documents/GitHub/ironman_retrospective/IronMan_2023/genetics/selfdecode.txt\"\n",
    "    OUTPUT_DIR = \"/Users/ngirmay/Documents/GitHub/ironman_retrospective/IronMan_2023/genetics/\"\n",
    "    \n",
    "    results = generate_report()\n",
    "\n"
   ]
  },
  {
   "cell_type": "code",
   "execution_count": 290,
   "metadata": {},
   "outputs": [
    {
     "name": "stdout",
     "output_type": "stream",
     "text": [
      "HTML report generated and saved to: /Users/ngirmay/Documents/GitHub/ironman_retrospective/IronMan_2023/genetics/genetic_performance_report.html\n"
     ]
    }
   ],
   "source": [
    "import os\n",
    "import pandas as pd\n",
    "import re\n",
    "\n",
    "# Define paths to files\n",
    "GENETICS_DIR = \"/Users/ngirmay/Documents/GitHub/ironman_retrospective/IronMan_2023/genetics/\"\n",
    "ANALYSIS_DIR = \"/Users/ngirmay/Documents/GitHub/ironman_retrospective/IronMan_2023/genetics/analysis_20241023_160439/\"\n",
    "OUTPUT_HTML = os.path.join(GENETICS_DIR, \"genetic_performance_report.html\")\n",
    "GENETIC_REPORT_PATH = os.path.join(ANALYSIS_DIR, \"genetic_report.txt\")\n",
    "\n",
    "def analyze_text_file_structure(content):\n",
    "    \"\"\"Analyze and print the structure of the genetic report file.\"\"\"\n",
    "    # Split content into sections\n",
    "    sections = {}\n",
    "    current_section = None\n",
    "    current_content = []\n",
    "    \n",
    "    for line in content.split('\\n'):\n",
    "        # Check for main section headers\n",
    "        if line.strip() and line == '=' * len(line):\n",
    "            # Previous line was a header\n",
    "            current_section = previous_line\n",
    "            current_content = []\n",
    "            sections[current_section] = current_content\n",
    "        elif line.strip() and line == '-' * len(line):\n",
    "            # Previous line was a sub-header\n",
    "            current_section = previous_line\n",
    "            current_content = []\n",
    "            sections[current_section] = current_content\n",
    "        else:\n",
    "            if current_section:\n",
    "                current_content.append(line)\n",
    "            previous_line = line\n",
    "\n",
    "    # Analyze Detailed Gene Analysis section\n",
    "    gene_entries = []\n",
    "    current_gene = None\n",
    "    \n",
    "    if 'Detailed Gene Analysis' in sections:\n",
    "        gene_lines = sections['Detailed Gene Analysis']\n",
    "        \n",
    "        for line in gene_lines:\n",
    "            if line.strip():  # Skip empty lines\n",
    "                if not line.startswith(' '):  # Gene name line\n",
    "                    if current_gene:\n",
    "                        gene_entries.append(current_gene)\n",
    "                    gene_name = line.strip().rstrip(':')\n",
    "                    current_gene = {\n",
    "                        'Gene': gene_name,\n",
    "                        'raw_data': []\n",
    "                    }\n",
    "                elif current_gene and line.strip():  # Gene details\n",
    "                    current_gene['raw_data'].append(line.strip())\n",
    "        \n",
    "        # Add the last gene\n",
    "        if current_gene:\n",
    "            gene_entries.append(current_gene)\n",
    "\n",
    "    # Process each gene entry to extract structured data\n",
    "    processed_genes = []\n",
    "    for gene in gene_entries:\n",
    "        gene_data = {\n",
    "            'Gene': gene['Gene'],\n",
    "            'Genotype': '',\n",
    "            'Optimal': '',\n",
    "            'Trait': '',\n",
    "            'Pathway': '',\n",
    "            'Performance_Score': 0.0\n",
    "        }\n",
    "        \n",
    "        for line in gene['raw_data']:\n",
    "            if line.startswith('Genotype:'):\n",
    "                # Extract genotype and optimal value\n",
    "                geno_info = line.replace('Genotype:', '').strip()\n",
    "                if '(Optimal:' in geno_info:\n",
    "                    actual = geno_info.split('(Optimal:')[0].strip()\n",
    "                    optimal = geno_info.split('(Optimal:')[1].replace(')', '').strip()\n",
    "                    gene_data['Genotype'] = actual\n",
    "                    gene_data['Optimal'] = optimal\n",
    "            elif line.startswith('Trait:'):\n",
    "                gene_data['Trait'] = line.replace('Trait:', '').strip()\n",
    "            elif line.startswith('Pathway:'):\n",
    "                gene_data['Pathway'] = line.replace('Pathway:', '').strip()\n",
    "            elif line.startswith('Performance Score:'):\n",
    "                score_str = line.replace('Performance Score:', '').strip()\n",
    "                try:\n",
    "                    gene_data['Performance_Score'] = float(score_str)\n",
    "                except ValueError:\n",
    "                    print(f\"Error converting score to float: {score_str}\")\n",
    "\n",
    "        processed_genes.append(gene_data)\n",
    "\n",
    "    return processed_genes\n",
    "\n",
    "def create_gene_dataframe(genes_data):\n",
    "    \"\"\"Convert processed gene data into a pandas DataFrame.\"\"\"\n",
    "    df = pd.DataFrame(genes_data)\n",
    "    # Sort by Performance_Score in descending order\n",
    "    df = df.sort_values('Performance_Score', ascending=False)\n",
    "    return df\n",
    "\n",
    "def read_genetic_report(report_file):\n",
    "    \"\"\"Read and parse the genetic report file.\"\"\"\n",
    "    try:\n",
    "        with open(report_file, 'r') as f:\n",
    "            content = f.read()\n",
    "    except Exception as e:\n",
    "        print(f\"Error reading file: {e}\")\n",
    "        return pd.DataFrame(), {}\n",
    "\n",
    "    # Extract overall scores\n",
    "    overall_scores = {}\n",
    "    for line in content.split('\\n'):\n",
    "        if any(score in line for score in ['Balanced Score', 'Endurance Score', 'Power Score']):\n",
    "            key, value = line.split(':')\n",
    "            overall_scores[key.strip()] = value.strip()\n",
    "\n",
    "    # Use the verified parser to extract gene data\n",
    "    processed_genes = analyze_text_file_structure(content)\n",
    "    df = create_gene_dataframe(processed_genes)\n",
    "    \n",
    "    return df, overall_scores\n",
    "\n",
    "def generate_html_report():\n",
    "    \"\"\"Generate the HTML report.\"\"\"\n",
    "    # Load and process the genetic report\n",
    "    genetic_df, overall_scores = read_genetic_report(GENETIC_REPORT_PATH)\n",
    "    \n",
    "    if genetic_df.empty:\n",
    "        print(\"Error: No genetic data was loaded\")\n",
    "        return\n",
    "\n",
    "    # Generate the gene analysis table HTML\n",
    "    gene_table_html = '''\n",
    "    <div class=\"table-responsive\">\n",
    "        <table class=\"table\">\n",
    "            <thead>\n",
    "                <tr>\n",
    "                    <th scope=\"col\">Gene</th>\n",
    "                    <th scope=\"col\">Genotype</th>\n",
    "                    <th scope=\"col\">Optimal</th>\n",
    "                    <th scope=\"col\">Trait</th>\n",
    "                    <th scope=\"col\">Pathway</th>\n",
    "                    <th scope=\"col\">Performance</th>\n",
    "                </tr>\n",
    "            </thead>\n",
    "            <tbody>\n",
    "    '''\n",
    "    \n",
    "    for _, row in genetic_df.iterrows():\n",
    "        performance_score = row['Performance_Score']\n",
    "        \n",
    "        # Determine genotype cell class based on performance score\n",
    "        if performance_score >= 0.6:\n",
    "            genotype_class = 'optimal-genotype'\n",
    "            performance_class = 'high-performance'\n",
    "        elif performance_score >= 0.4:\n",
    "            genotype_class = 'moderate-genotype'\n",
    "            performance_class = 'medium-performance'\n",
    "        else:\n",
    "            genotype_class = 'suboptimal-genotype'\n",
    "            performance_class = 'low-performance'\n",
    "            \n",
    "        gene_table_html += f'''\n",
    "            <tr>\n",
    "                <td class=\"gene-name\">{row['Gene']}</td>\n",
    "                <td class=\"{genotype_class}\">{row['Genotype']}</td>\n",
    "                <td>{row['Optimal']}</td>\n",
    "                <td>{row['Trait']}</td>\n",
    "                <td>{row['Pathway']}</td>\n",
    "                <td class=\"{performance_class}\">{performance_score:.2f}</td>\n",
    "            </tr>\n",
    "        '''\n",
    "    \n",
    "    gene_table_html += '''\n",
    "            </tbody>\n",
    "        </table>\n",
    "    </div>\n",
    "    '''\n",
    "\n",
    "    # HTML template (add new CSS classes for genotype styling)\n",
    "    html_content = f'''\n",
    "    <!DOCTYPE html>\n",
    "    <html lang=\"en\">\n",
    "    <head>\n",
    "        <meta charset=\"UTF-8\">\n",
    "        <meta name=\"viewport\" content=\"width=device-width, initial-scale=1.0\">\n",
    "        <title>Athletic Genetics Performance Report</title>\n",
    "        <link href=\"https://cdn.jsdelivr.net/npm/bootstrap@5.3.0/dist/css/bootstrap.min.css\" rel=\"stylesheet\">\n",
    "        <style>\n",
    "            /* [Previous CSS styles remain unchanged] */\n",
    "            \n",
    "            .optimal-genotype {{\n",
    "                background-color: rgba(47, 133, 90, 0.1);  /* Light green background */\n",
    "                color: #2f855a;\n",
    "                font-weight: 600;\n",
    "            }}\n",
    "            \n",
    "            .moderate-genotype {{\n",
    "                background-color: rgba(183, 121, 31, 0.1);  /* Light yellow background */\n",
    "                color: #b7791f;\n",
    "                font-weight: 600;\n",
    "            }}\n",
    "            \n",
    "            .suboptimal-genotype {{\n",
    "                background-color: rgba(197, 48, 48, 0.1);  /* Light red background */\n",
    "                color: #c53030;\n",
    "                font-weight: 600;\n",
    "            }}\n",
    "            \n",
    "            /* Add hover effect that preserves the color */\n",
    "            .table tbody tr:hover .optimal-genotype {{\n",
    "                background-color: rgba(47, 133, 90, 0.2);\n",
    "            }}\n",
    "            \n",
    "            .table tbody tr:hover .moderate-genotype {{\n",
    "                background-color: rgba(183, 121, 31, 0.2);\n",
    "            }}\n",
    "            \n",
    "            .table tbody tr:hover .suboptimal-genotype {{\n",
    "                background-color: rgba(197, 48, 48, 0.2);\n",
    "            }}\n",
    "\n",
    "            /* [Rest of the CSS styles remain unchanged] */\n",
    "        </style>\n",
    "    </head>\n",
    "    <body>\n",
    "        <!-- [Rest of the HTML template remains unchanged] -->\n",
    "        {gene_table_html}\n",
    "        <!-- [Rest of the HTML template remains unchanged] -->\n",
    "    </body>\n",
    "    </html>\n",
    "    '''\n",
    "    \n",
    "    # Write the HTML file\n",
    "    try:\n",
    "        with open(OUTPUT_HTML, 'w') as f:\n",
    "            f.write(html_content)\n",
    "        print(f\"HTML report generated and saved to: {OUTPUT_HTML}\")\n",
    "    except Exception as e:\n",
    "        print(f\"Error writing HTML report: {e}\")\n",
    "\n",
    "def load_visualizations():\n",
    "    \"\"\"Load and return visualization content.\"\"\"\n",
    "    visualizations = \"\"\n",
    "    try:\n",
    "        visualization_files = [f for f in os.listdir(ANALYSIS_DIR) if f.endswith('.html')]\n",
    "        for viz_file in visualization_files:\n",
    "            file_path = os.path.join(ANALYSIS_DIR, viz_file)\n",
    "            with open(file_path, 'r') as f:\n",
    "                content = f.read()\n",
    "                visualizations += f'<div class=\"visualization-container\">{content}</div>\\n'\n",
    "                print(f\"Loaded visualization from {viz_file}\")\n",
    "    except Exception as e:\n",
    "        print(f\"Error loading visualizations: {e}\")\n",
    "\n",
    "    return visualizations if visualizations else \"<p>No visualizations available.</p>\"\n",
    "\n",
    "if __name__ == \"__main__\":\n",
    "    generate_html_report()\n"
   ]
  },
  {
   "cell_type": "code",
   "execution_count": 291,
   "metadata": {},
   "outputs": [
    {
     "name": "stdout",
     "output_type": "stream",
     "text": [
      "Loaded visualization from population_percentile.html\n",
      "Loaded visualization from pathway_radar.html\n",
      "Loaded visualization from gene_comparison.html\n",
      "HTML report generated and saved to: /Users/ngirmay/Documents/GitHub/ironman_retrospective/IronMan_2023/genetics/genetic_performance_report.html\n"
     ]
    }
   ],
   "source": [
    "import os\n",
    "import pandas as pd\n",
    "import re\n",
    "\n",
    "# Define paths to files\n",
    "GENETICS_DIR = \"/Users/ngirmay/Documents/GitHub/ironman_retrospective/IronMan_2023/genetics/\"\n",
    "ANALYSIS_DIR = \"/Users/ngirmay/Documents/GitHub/ironman_retrospective/IronMan_2023/genetics/analysis_20241023_160439/\"\n",
    "OUTPUT_HTML = os.path.join(GENETICS_DIR, \"genetic_performance_report.html\")\n",
    "GENETIC_REPORT_PATH = os.path.join(ANALYSIS_DIR, \"genetic_report.txt\")\n",
    "\n",
    "def analyze_text_file_structure(content):\n",
    "    \"\"\"Analyze and print the structure of the genetic report file.\"\"\"\n",
    "    # Split content into sections\n",
    "    sections = {}\n",
    "    current_section = None\n",
    "    current_content = []\n",
    "    \n",
    "    for line in content.split('\\n'):\n",
    "        # Check for main section headers\n",
    "        if line.strip() and line == '=' * len(line):\n",
    "            # Previous line was a header\n",
    "            current_section = previous_line\n",
    "            current_content = []\n",
    "            sections[current_section] = current_content\n",
    "        elif line.strip() and line == '-' * len(line):\n",
    "            # Previous line was a sub-header\n",
    "            current_section = previous_line\n",
    "            current_content = []\n",
    "            sections[current_section] = current_content\n",
    "        else:\n",
    "            if current_section:\n",
    "                current_content.append(line)\n",
    "            previous_line = line\n",
    "\n",
    "    # Analyze Detailed Gene Analysis section\n",
    "    gene_entries = []\n",
    "    current_gene = None\n",
    "    \n",
    "    if 'Detailed Gene Analysis' in sections:\n",
    "        gene_lines = sections['Detailed Gene Analysis']\n",
    "        \n",
    "        for line in gene_lines:\n",
    "            if line.strip():  # Skip empty lines\n",
    "                if not line.startswith(' '):  # Gene name line\n",
    "                    if current_gene:\n",
    "                        gene_entries.append(current_gene)\n",
    "                    gene_name = line.strip().rstrip(':')\n",
    "                    current_gene = {\n",
    "                        'Gene': gene_name,\n",
    "                        'raw_data': []\n",
    "                    }\n",
    "                elif current_gene and line.strip():  # Gene details\n",
    "                    current_gene['raw_data'].append(line.strip())\n",
    "        \n",
    "        # Add the last gene\n",
    "        if current_gene:\n",
    "            gene_entries.append(current_gene)\n",
    "\n",
    "    # Process each gene entry to extract structured data\n",
    "    processed_genes = []\n",
    "    for gene in gene_entries:\n",
    "        gene_data = {\n",
    "            'Gene': gene['Gene'],\n",
    "            'Genotype': '',\n",
    "            'Optimal': '',\n",
    "            'Trait': '',\n",
    "            'Pathway': '',\n",
    "            'Performance_Score': 0.0\n",
    "        }\n",
    "        \n",
    "        for line in gene['raw_data']:\n",
    "            if line.startswith('Genotype:'):\n",
    "                # Extract genotype and optimal value\n",
    "                geno_info = line.replace('Genotype:', '').strip()\n",
    "                if '(Optimal:' in geno_info:\n",
    "                    actual = geno_info.split('(Optimal:')[0].strip()\n",
    "                    optimal = geno_info.split('(Optimal:')[1].replace(')', '').strip()\n",
    "                    gene_data['Genotype'] = actual\n",
    "                    gene_data['Optimal'] = optimal\n",
    "            elif line.startswith('Trait:'):\n",
    "                gene_data['Trait'] = line.replace('Trait:', '').strip()\n",
    "            elif line.startswith('Pathway:'):\n",
    "                gene_data['Pathway'] = line.replace('Pathway:', '').strip()\n",
    "            elif line.startswith('Performance Score:'):\n",
    "                score_str = line.replace('Performance Score:', '').strip()\n",
    "                try:\n",
    "                    gene_data['Performance_Score'] = float(score_str)\n",
    "                except ValueError:\n",
    "                    print(f\"Error converting score to float: {score_str}\")\n",
    "\n",
    "        processed_genes.append(gene_data)\n",
    "\n",
    "    return processed_genes\n",
    "\n",
    "def create_gene_dataframe(genes_data):\n",
    "    \"\"\"Convert processed gene data into a pandas DataFrame.\"\"\"\n",
    "    df = pd.DataFrame(genes_data)\n",
    "    # Sort by Performance_Score in descending order\n",
    "    df = df.sort_values('Performance_Score', ascending=False)\n",
    "    return df\n",
    "\n",
    "def read_genetic_report(report_file):\n",
    "    \"\"\"Read and parse the genetic report file.\"\"\"\n",
    "    try:\n",
    "        with open(report_file, 'r') as f:\n",
    "            content = f.read()\n",
    "    except Exception as e:\n",
    "        print(f\"Error reading file: {e}\")\n",
    "        return pd.DataFrame(), {}\n",
    "\n",
    "    # Extract overall scores\n",
    "    overall_scores = {}\n",
    "    for line in content.split('\\n'):\n",
    "        if any(score in line for score in ['Balanced Score', 'Endurance Score', 'Power Score']):\n",
    "            key, value = line.split(':')\n",
    "            overall_scores[key.strip()] = value.strip()\n",
    "\n",
    "    # Use the verified parser to extract gene data\n",
    "    processed_genes = analyze_text_file_structure(content)\n",
    "    df = create_gene_dataframe(processed_genes)\n",
    "    \n",
    "    return df, overall_scores\n",
    "\n",
    "def generate_html_report():\n",
    "    \"\"\"Generate the HTML report.\"\"\"\n",
    "    # Load and process the genetic report\n",
    "    genetic_df, overall_scores = read_genetic_report(GENETIC_REPORT_PATH)\n",
    "    \n",
    "    if genetic_df.empty:\n",
    "        print(\"Error: No genetic data was loaded\")\n",
    "        return\n",
    "\n",
    "    # Generate the gene analysis table HTML\n",
    "    gene_table_html = '''\n",
    "    <div class=\"table-responsive\">\n",
    "        <table class=\"table\">\n",
    "            <thead>\n",
    "                <tr>\n",
    "                    <th scope=\"col\">Gene</th>\n",
    "                    <th scope=\"col\">Genotype</th>\n",
    "                    <th scope=\"col\">Optimal</th>\n",
    "                    <th scope=\"col\">Trait</th>\n",
    "                    <th scope=\"col\">Pathway</th>\n",
    "                    <th scope=\"col\">Performance</th>\n",
    "                </tr>\n",
    "            </thead>\n",
    "            <tbody>\n",
    "    '''\n",
    "    \n",
    "    for _, row in genetic_df.iterrows():\n",
    "        performance_score = row['Performance_Score']\n",
    "        \n",
    "        if performance_score >= 0.6:\n",
    "            performance_class = 'high-performance'\n",
    "        elif performance_score >= 0.4:\n",
    "            performance_class = 'medium-performance'\n",
    "        else:\n",
    "            performance_class = 'low-performance'\n",
    "            \n",
    "        gene_table_html += f'''\n",
    "            <tr>\n",
    "                <td class=\"gene-name\">{row['Gene']}</td>\n",
    "                <td>{row['Genotype']}</td>\n",
    "                <td>{row['Optimal']}</td>\n",
    "                <td>{row['Trait']}</td>\n",
    "                <td>{row['Pathway']}</td>\n",
    "                <td class=\"{performance_class}\">{performance_score:.2f}</td>\n",
    "            </tr>\n",
    "        '''\n",
    "    \n",
    "    gene_table_html += '''\n",
    "            </tbody>\n",
    "        </table>\n",
    "    </div>\n",
    "    '''\n",
    "\n",
    "    # HTML template\n",
    "    html_content = f'''\n",
    "    <!DOCTYPE html>\n",
    "    <html lang=\"en\">\n",
    "    <head>\n",
    "        <meta charset=\"UTF-8\">\n",
    "        <meta name=\"viewport\" content=\"width=device-width, initial-scale=1.0\">\n",
    "        <title>Athletic Genetics Performance Report</title>\n",
    "        <link href=\"https://cdn.jsdelivr.net/npm/bootstrap@5.3.0/dist/css/bootstrap.min.css\" rel=\"stylesheet\">\n",
    "        <style>\n",
    "            :root {{\n",
    "                --navy-blue: #1a365d;\n",
    "                --light-navy: #2c5282;\n",
    "                --highlight-blue: #4299e1;\n",
    "                --white: #ffffff;\n",
    "                --off-white: #f7fafc;\n",
    "                --text-gray: #2d3748;\n",
    "            }}\n",
    "            \n",
    "            body {{\n",
    "                background-color: var(--off-white);\n",
    "                color: var(--text-gray);\n",
    "                font-family: 'Inter', system-ui, -apple-system, sans-serif;\n",
    "            }}\n",
    "            \n",
    "            .navbar {{\n",
    "                background-color: var(--navy-blue) !important;\n",
    "                box-shadow: 0 2px 4px rgba(0,0,0,0.1);\n",
    "            }}\n",
    "            \n",
    "            .navbar-brand {{\n",
    "                color: var(--white) !important;\n",
    "                font-weight: 600;\n",
    "                letter-spacing: 0.5px;\n",
    "            }}\n",
    "            \n",
    "            .main-container {{\n",
    "                max-width: 1200px;\n",
    "                margin: 2rem auto;\n",
    "                padding: 0 1.5rem;\n",
    "            }}\n",
    "            \n",
    "            .section-header {{\n",
    "                color: var(--navy-blue);\n",
    "                font-weight: 700;\n",
    "                margin: 2.5rem 0 1.5rem;\n",
    "                position: relative;\n",
    "                padding-bottom: 0.5rem;\n",
    "            }}\n",
    "            \n",
    "            .section-header::after {{\n",
    "                content: '';\n",
    "                position: absolute;\n",
    "                bottom: 0;\n",
    "                left: 0;\n",
    "                width: 60px;\n",
    "                height: 4px;\n",
    "                background-color: var(--highlight-blue);\n",
    "                border-radius: 2px;\n",
    "            }}\n",
    "            \n",
    "            .score-card {{\n",
    "                background: linear-gradient(135deg, var(--navy-blue), var(--light-navy));\n",
    "                color: var(--white);\n",
    "                padding: 1.75rem;\n",
    "                border-radius: 12px;\n",
    "                margin-bottom: 1.5rem;\n",
    "                box-shadow: 0 4px 6px rgba(0,0,0,0.1);\n",
    "                transition: transform 0.2s ease;\n",
    "            }}\n",
    "            \n",
    "            .score-card:hover {{\n",
    "                transform: translateY(-2px);\n",
    "            }}\n",
    "            \n",
    "            .score-label {{\n",
    "                font-size: 1.1rem;\n",
    "                margin-bottom: 0.75rem;\n",
    "                opacity: 0.9;\n",
    "                font-weight: 500;\n",
    "            }}\n",
    "            \n",
    "            .score-value {{\n",
    "                font-size: 2.25rem;\n",
    "                font-weight: 700;\n",
    "                letter-spacing: -0.5px;\n",
    "            }}\n",
    "            \n",
    "            .table {{\n",
    "                background-color: var(--white);\n",
    "                border-radius: 12px;\n",
    "                overflow: hidden;\n",
    "                box-shadow: 0 4px 6px rgba(0,0,0,0.05);\n",
    "                margin-top: 1.5rem;\n",
    "            }}\n",
    "            \n",
    "            .table thead {{\n",
    "                background-color: var(--navy-blue);\n",
    "                color: var(--white);\n",
    "            }}\n",
    "            \n",
    "            .table th {{\n",
    "                font-weight: 600;\n",
    "                padding: 1rem;\n",
    "                font-size: 0.95rem;\n",
    "                letter-spacing: 0.3px;\n",
    "            }}\n",
    "            \n",
    "            .table td {{\n",
    "                padding: 1rem;\n",
    "                vertical-align: middle;\n",
    "                border-bottom: 1px solid rgba(0,0,0,0.05);\n",
    "            }}\n",
    "            \n",
    "            .gene-name {{\n",
    "                font-weight: 600;\n",
    "                color: var(--navy-blue);\n",
    "            }}\n",
    "            \n",
    "            .high-performance {{\n",
    "                color: #2f855a;\n",
    "                font-weight: 600;\n",
    "            }}\n",
    "            \n",
    "            .medium-performance {{\n",
    "                color: #b7791f;\n",
    "                font-weight: 600;\n",
    "            }}\n",
    "            \n",
    "            .low-performance {{\n",
    "                color: #c53030;\n",
    "                font-weight: 600;\n",
    "            }}\n",
    "            \n",
    "            .table tbody tr:hover {{\n",
    "                background-color: var(--off-white);\n",
    "                transition: background-color 0.2s ease;\n",
    "            }}\n",
    "            \n",
    "            .visualization-container {{\n",
    "                background-color: var(--white);\n",
    "                border-radius: 12px;\n",
    "                padding: 1.75rem;\n",
    "                margin-bottom: 2rem;\n",
    "                box-shadow: 0 4px 6px rgba(0,0,0,0.05);\n",
    "            }}\n",
    "\n",
    "            @media print {{\n",
    "                .visualization-container {{\n",
    "                    break-inside: avoid;\n",
    "                }}\n",
    "                \n",
    "                .score-card {{\n",
    "                    break-inside: avoid;\n",
    "                }}\n",
    "                \n",
    "                .table {{\n",
    "                    break-inside: avoid;\n",
    "                }}\n",
    "            }}\n",
    "        </style>\n",
    "    </head>\n",
    "    <body>\n",
    "        <nav class=\"navbar navbar-dark\">\n",
    "            <div class=\"container\">\n",
    "                <span class=\"navbar-brand\">Athletic Genetics Report</span>\n",
    "            </div>\n",
    "        </nav>\n",
    "        \n",
    "        <div class=\"main-container\">\n",
    "            <h1 class=\"section-header\">Overall Performance Scores</h1>\n",
    "            <div class=\"row\">\n",
    "                <div class=\"col-md-4\">\n",
    "                    <div class=\"score-card\">\n",
    "                        <div class=\"score-label\">Power Score</div>\n",
    "                        <div class=\"score-value\">{overall_scores.get('Power Score', 'N/A')}</div>\n",
    "                    </div>\n",
    "                </div>\n",
    "                <div class=\"col-md-4\">\n",
    "                    <div class=\"score-card\">\n",
    "                        <div class=\"score-label\">Endurance Score</div>\n",
    "                        <div class=\"score-value\">{overall_scores.get('Endurance Score', 'N/A')}</div>\n",
    "                    </div>\n",
    "                </div>\n",
    "                <div class=\"col-md-4\">\n",
    "                    <div class=\"score-card\">\n",
    "                        <div class=\"score-label\">Balanced Score</div>\n",
    "                        <div class=\"score-value\">{overall_scores.get('Balanced Score', 'N/A')}</div>\n",
    "                    </div>\n",
    "                </div>\n",
    "            </div>\n",
    "\n",
    "            <h2 class=\"section-header\">Genetic Analysis</h2>\n",
    "            {gene_table_html}\n",
    "            \n",
    "            <h2 class=\"section-header\">Visualizations</h2>\n",
    "            <div id=\"visualizations\">\n",
    "                {load_visualizations()}\n",
    "            </div>\n",
    "        </div>\n",
    "\n",
    "        <script src=\"https://cdn.jsdelivr.net/npm/bootstrap@5.3.0/dist/js/bootstrap.bundle.min.js\"></script>\n",
    "    </body>\n",
    "    </html>\n",
    "    '''\n",
    "    \n",
    "    # Write the HTML file\n",
    "    try:\n",
    "        with open(OUTPUT_HTML, 'w') as f:\n",
    "            f.write(html_content)\n",
    "        print(f\"HTML report generated and saved to: {OUTPUT_HTML}\")\n",
    "    except Exception as e:\n",
    "        print(f\"Error writing HTML report: {e}\")\n",
    "\n",
    "def load_visualizations():\n",
    "    \"\"\"Load and return visualization content.\"\"\"\n",
    "    visualizations = \"\"\n",
    "    try:\n",
    "        visualization_files = [f for f in os.listdir(ANALYSIS_DIR) if f.endswith('.html')]\n",
    "        for viz_file in visualization_files:\n",
    "            file_path = os.path.join(ANALYSIS_DIR, viz_file)\n",
    "            with open(file_path, 'r') as f:\n",
    "                content = f.read()\n",
    "                visualizations += f'<div class=\"visualization-container\">{content}</div>\\n'\n",
    "                print(f\"Loaded visualization from {viz_file}\")\n",
    "    except Exception as e:\n",
    "        print(f\"Error loading visualizations: {e}\")\n",
    "\n",
    "    return visualizations if visualizations else \"<p>No visualizations available.</p>\"\n",
    "\n",
    "if __name__ == \"__main__\":\n",
    "    generate_html_report()\n"
   ]
  }
 ],
 "metadata": {
  "kernelspec": {
   "display_name": "Python 3.11.6 64-bit",
   "language": "python",
   "name": "python3"
  },
  "language_info": {
   "codemirror_mode": {
    "name": "ipython",
    "version": 3
   },
   "file_extension": ".py",
   "mimetype": "text/x-python",
   "name": "python",
   "nbconvert_exporter": "python",
   "pygments_lexer": "ipython3",
   "version": "3.11.6"
  },
  "orig_nbformat": 4,
  "vscode": {
   "interpreter": {
    "hash": "1a1af0ee75eeea9e2e1ee996c87e7a2b11a0bebd85af04bb136d915cefc0abce"
   }
  }
 },
 "nbformat": 4,
 "nbformat_minor": 2
}
