{
 "cells": [
  {
   "cell_type": "markdown",
   "metadata": {},
   "source": []
  },
  {
   "cell_type": "code",
   "execution_count": 2,
   "metadata": {},
   "outputs": [
    {
     "ename": "FileNotFoundError",
     "evalue": "[Errno 2] No such file or directory: '/Users/ngirmay/Documents/GitHub/ironman_retrospective/IronMan_2023/wahoo/wahoo_data.csv'",
     "output_type": "error",
     "traceback": [
      "\u001b[0;31m---------------------------------------------------------------------------\u001b[0m",
      "\u001b[0;31mFileNotFoundError\u001b[0m                         Traceback (most recent call last)",
      "Cell \u001b[0;32mIn[2], line 10\u001b[0m\n\u001b[1;32m      7\u001b[0m apple_health_cycling_path \u001b[38;5;241m=\u001b[39m \u001b[38;5;124m'\u001b[39m\u001b[38;5;124m/Users/ngirmay/Documents/GitHub/ironman_retrospective/IronMan_2023/apple_health/health_data_exported/HKWorkoutActivityTypeCycling_2024-04-99_18-31-36_SimpleHealthExportCSV.csv\u001b[39m\u001b[38;5;124m'\u001b[39m\n\u001b[1;32m      9\u001b[0m \u001b[38;5;66;03m# Read the Wahoo data\u001b[39;00m\n\u001b[0;32m---> 10\u001b[0m wahoo_data \u001b[38;5;241m=\u001b[39m \u001b[43mpd\u001b[49m\u001b[38;5;241;43m.\u001b[39;49m\u001b[43mread_csv\u001b[49m\u001b[43m(\u001b[49m\u001b[43mwahoo_data_path\u001b[49m\u001b[43m)\u001b[49m\n\u001b[1;32m     12\u001b[0m \u001b[38;5;66;03m# Read the Apple Health data, skipping the first metadata row\u001b[39;00m\n\u001b[1;32m     13\u001b[0m apple_health_data \u001b[38;5;241m=\u001b[39m pd\u001b[38;5;241m.\u001b[39mread_csv(apple_health_cycling_path, skiprows\u001b[38;5;241m=\u001b[39m\u001b[38;5;241m1\u001b[39m)\n",
      "File \u001b[0;32m/usr/local/lib/python3.11/site-packages/pandas/io/parsers/readers.py:1026\u001b[0m, in \u001b[0;36mread_csv\u001b[0;34m(filepath_or_buffer, sep, delimiter, header, names, index_col, usecols, dtype, engine, converters, true_values, false_values, skipinitialspace, skiprows, skipfooter, nrows, na_values, keep_default_na, na_filter, verbose, skip_blank_lines, parse_dates, infer_datetime_format, keep_date_col, date_parser, date_format, dayfirst, cache_dates, iterator, chunksize, compression, thousands, decimal, lineterminator, quotechar, quoting, doublequote, escapechar, comment, encoding, encoding_errors, dialect, on_bad_lines, delim_whitespace, low_memory, memory_map, float_precision, storage_options, dtype_backend)\u001b[0m\n\u001b[1;32m   1013\u001b[0m kwds_defaults \u001b[39m=\u001b[39m _refine_defaults_read(\n\u001b[1;32m   1014\u001b[0m     dialect,\n\u001b[1;32m   1015\u001b[0m     delimiter,\n\u001b[0;32m   (...)\u001b[0m\n\u001b[1;32m   1022\u001b[0m     dtype_backend\u001b[39m=\u001b[39mdtype_backend,\n\u001b[1;32m   1023\u001b[0m )\n\u001b[1;32m   1024\u001b[0m kwds\u001b[39m.\u001b[39mupdate(kwds_defaults)\n\u001b[0;32m-> 1026\u001b[0m \u001b[39mreturn\u001b[39;00m _read(filepath_or_buffer, kwds)\n",
      "File \u001b[0;32m/usr/local/lib/python3.11/site-packages/pandas/io/parsers/readers.py:620\u001b[0m, in \u001b[0;36m_read\u001b[0;34m(filepath_or_buffer, kwds)\u001b[0m\n\u001b[1;32m    617\u001b[0m _validate_names(kwds\u001b[39m.\u001b[39mget(\u001b[39m\"\u001b[39m\u001b[39mnames\u001b[39m\u001b[39m\"\u001b[39m, \u001b[39mNone\u001b[39;00m))\n\u001b[1;32m    619\u001b[0m \u001b[39m# Create the parser.\u001b[39;00m\n\u001b[0;32m--> 620\u001b[0m parser \u001b[39m=\u001b[39m TextFileReader(filepath_or_buffer, \u001b[39m*\u001b[39;49m\u001b[39m*\u001b[39;49mkwds)\n\u001b[1;32m    622\u001b[0m \u001b[39mif\u001b[39;00m chunksize \u001b[39mor\u001b[39;00m iterator:\n\u001b[1;32m    623\u001b[0m     \u001b[39mreturn\u001b[39;00m parser\n",
      "File \u001b[0;32m/usr/local/lib/python3.11/site-packages/pandas/io/parsers/readers.py:1620\u001b[0m, in \u001b[0;36mTextFileReader.__init__\u001b[0;34m(self, f, engine, **kwds)\u001b[0m\n\u001b[1;32m   1617\u001b[0m     \u001b[39mself\u001b[39m\u001b[39m.\u001b[39moptions[\u001b[39m\"\u001b[39m\u001b[39mhas_index_names\u001b[39m\u001b[39m\"\u001b[39m] \u001b[39m=\u001b[39m kwds[\u001b[39m\"\u001b[39m\u001b[39mhas_index_names\u001b[39m\u001b[39m\"\u001b[39m]\n\u001b[1;32m   1619\u001b[0m \u001b[39mself\u001b[39m\u001b[39m.\u001b[39mhandles: IOHandles \u001b[39m|\u001b[39m \u001b[39mNone\u001b[39;00m \u001b[39m=\u001b[39m \u001b[39mNone\u001b[39;00m\n\u001b[0;32m-> 1620\u001b[0m \u001b[39mself\u001b[39m\u001b[39m.\u001b[39m_engine \u001b[39m=\u001b[39m \u001b[39mself\u001b[39;49m\u001b[39m.\u001b[39;49m_make_engine(f, \u001b[39mself\u001b[39;49m\u001b[39m.\u001b[39;49mengine)\n",
      "File \u001b[0;32m/usr/local/lib/python3.11/site-packages/pandas/io/parsers/readers.py:1880\u001b[0m, in \u001b[0;36mTextFileReader._make_engine\u001b[0;34m(self, f, engine)\u001b[0m\n\u001b[1;32m   1878\u001b[0m     \u001b[39mif\u001b[39;00m \u001b[39m\"\u001b[39m\u001b[39mb\u001b[39m\u001b[39m\"\u001b[39m \u001b[39mnot\u001b[39;00m \u001b[39min\u001b[39;00m mode:\n\u001b[1;32m   1879\u001b[0m         mode \u001b[39m+\u001b[39m\u001b[39m=\u001b[39m \u001b[39m\"\u001b[39m\u001b[39mb\u001b[39m\u001b[39m\"\u001b[39m\n\u001b[0;32m-> 1880\u001b[0m \u001b[39mself\u001b[39m\u001b[39m.\u001b[39mhandles \u001b[39m=\u001b[39m get_handle(\n\u001b[1;32m   1881\u001b[0m     f,\n\u001b[1;32m   1882\u001b[0m     mode,\n\u001b[1;32m   1883\u001b[0m     encoding\u001b[39m=\u001b[39;49m\u001b[39mself\u001b[39;49m\u001b[39m.\u001b[39;49moptions\u001b[39m.\u001b[39;49mget(\u001b[39m\"\u001b[39;49m\u001b[39mencoding\u001b[39;49m\u001b[39m\"\u001b[39;49m, \u001b[39mNone\u001b[39;49;00m),\n\u001b[1;32m   1884\u001b[0m     compression\u001b[39m=\u001b[39;49m\u001b[39mself\u001b[39;49m\u001b[39m.\u001b[39;49moptions\u001b[39m.\u001b[39;49mget(\u001b[39m\"\u001b[39;49m\u001b[39mcompression\u001b[39;49m\u001b[39m\"\u001b[39;49m, \u001b[39mNone\u001b[39;49;00m),\n\u001b[1;32m   1885\u001b[0m     memory_map\u001b[39m=\u001b[39;49m\u001b[39mself\u001b[39;49m\u001b[39m.\u001b[39;49moptions\u001b[39m.\u001b[39;49mget(\u001b[39m\"\u001b[39;49m\u001b[39mmemory_map\u001b[39;49m\u001b[39m\"\u001b[39;49m, \u001b[39mFalse\u001b[39;49;00m),\n\u001b[1;32m   1886\u001b[0m     is_text\u001b[39m=\u001b[39;49mis_text,\n\u001b[1;32m   1887\u001b[0m     errors\u001b[39m=\u001b[39;49m\u001b[39mself\u001b[39;49m\u001b[39m.\u001b[39;49moptions\u001b[39m.\u001b[39;49mget(\u001b[39m\"\u001b[39;49m\u001b[39mencoding_errors\u001b[39;49m\u001b[39m\"\u001b[39;49m, \u001b[39m\"\u001b[39;49m\u001b[39mstrict\u001b[39;49m\u001b[39m\"\u001b[39;49m),\n\u001b[1;32m   1888\u001b[0m     storage_options\u001b[39m=\u001b[39;49m\u001b[39mself\u001b[39;49m\u001b[39m.\u001b[39;49moptions\u001b[39m.\u001b[39;49mget(\u001b[39m\"\u001b[39;49m\u001b[39mstorage_options\u001b[39;49m\u001b[39m\"\u001b[39;49m, \u001b[39mNone\u001b[39;49;00m),\n\u001b[1;32m   1889\u001b[0m )\n\u001b[1;32m   1890\u001b[0m \u001b[39massert\u001b[39;00m \u001b[39mself\u001b[39m\u001b[39m.\u001b[39mhandles \u001b[39mis\u001b[39;00m \u001b[39mnot\u001b[39;00m \u001b[39mNone\u001b[39;00m\n\u001b[1;32m   1891\u001b[0m f \u001b[39m=\u001b[39m \u001b[39mself\u001b[39m\u001b[39m.\u001b[39mhandles\u001b[39m.\u001b[39mhandle\n",
      "File \u001b[0;32m/usr/local/lib/python3.11/site-packages/pandas/io/common.py:873\u001b[0m, in \u001b[0;36mget_handle\u001b[0;34m(path_or_buf, mode, encoding, compression, memory_map, is_text, errors, storage_options)\u001b[0m\n\u001b[1;32m    868\u001b[0m \u001b[39melif\u001b[39;00m \u001b[39misinstance\u001b[39m(handle, \u001b[39mstr\u001b[39m):\n\u001b[1;32m    869\u001b[0m     \u001b[39m# Check whether the filename is to be opened in binary mode.\u001b[39;00m\n\u001b[1;32m    870\u001b[0m     \u001b[39m# Binary mode does not support 'encoding' and 'newline'.\u001b[39;00m\n\u001b[1;32m    871\u001b[0m     \u001b[39mif\u001b[39;00m ioargs\u001b[39m.\u001b[39mencoding \u001b[39mand\u001b[39;00m \u001b[39m\"\u001b[39m\u001b[39mb\u001b[39m\u001b[39m\"\u001b[39m \u001b[39mnot\u001b[39;00m \u001b[39min\u001b[39;00m ioargs\u001b[39m.\u001b[39mmode:\n\u001b[1;32m    872\u001b[0m         \u001b[39m# Encoding\u001b[39;00m\n\u001b[0;32m--> 873\u001b[0m         handle \u001b[39m=\u001b[39m \u001b[39mopen\u001b[39;49m(\n\u001b[1;32m    874\u001b[0m             handle,\n\u001b[1;32m    875\u001b[0m             ioargs\u001b[39m.\u001b[39;49mmode,\n\u001b[1;32m    876\u001b[0m             encoding\u001b[39m=\u001b[39;49mioargs\u001b[39m.\u001b[39;49mencoding,\n\u001b[1;32m    877\u001b[0m             errors\u001b[39m=\u001b[39;49merrors,\n\u001b[1;32m    878\u001b[0m             newline\u001b[39m=\u001b[39;49m\u001b[39m\"\u001b[39;49m\u001b[39m\"\u001b[39;49m,\n\u001b[1;32m    879\u001b[0m         )\n\u001b[1;32m    880\u001b[0m     \u001b[39melse\u001b[39;00m:\n\u001b[1;32m    881\u001b[0m         \u001b[39m# Binary mode\u001b[39;00m\n\u001b[1;32m    882\u001b[0m         handle \u001b[39m=\u001b[39m \u001b[39mopen\u001b[39m(handle, ioargs\u001b[39m.\u001b[39mmode)\n",
      "\u001b[0;31mFileNotFoundError\u001b[0m: [Errno 2] No such file or directory: '/Users/ngirmay/Documents/GitHub/ironman_retrospective/IronMan_2023/wahoo/wahoo_data.csv'"
     ]
    }
   ],
   "source": [
    "import pandas as pd\n",
    "import plotly.express as px\n",
    "import plotly.graph_objects as go\n",
    "\n",
    "# Define the file paths\n",
    "wahoo_data_path = '/Users/ngirmay/Documents/GitHub/ironman_retrospective/IronMan_2023/wahoo/wahoo_data.csv'\n",
    "apple_health_cycling_path = '/Users/ngirmay/Documents/GitHub/ironman_retrospective/IronMan_2023/apple_health/health_data_exported/HKWorkoutActivityTypeCycling_2024-04-99_18-31-36_SimpleHealthExportCSV.csv'\n",
    "\n",
    "# Read the Wahoo data\n",
    "wahoo_data = pd.read_csv(wahoo_data_path)\n",
    "\n",
    "# Read the Apple Health data, skipping the first metadata row\n",
    "apple_health_data = pd.read_csv(apple_health_cycling_path, skiprows=1)\n",
    "\n",
    "# Convert the 'Date' column to datetime in Wahoo data and find unique workouts\n",
    "wahoo_data['Date'] = pd.to_datetime(wahoo_data['Date'])\n",
    "wahoo_workouts = wahoo_data['Date'].dt.date.nunique()\n",
    "\n",
    "# Process the Apple Health data (using the correct 'startDate' column)\n",
    "apple_health_data['startDate'] = pd.to_datetime(apple_health_data['startDate'])\n",
    "apple_health_workouts = apple_health_data['startDate'].dt.date.nunique()\n",
    "\n",
    "# Prepare the data for visualization\n",
    "workout_data = pd.DataFrame({\n",
    "    'Source': ['Wahoo', 'Apple Health'],\n",
    "    'Workout Count': [wahoo_workouts, apple_health_workouts]\n",
    "})\n",
    "\n",
    "# Create a bar chart using Plotly Express\n",
    "fig = px.bar(workout_data, x='Source', y='Workout Count', \n",
    "             title='Number of Cycling Workouts by Source',\n",
    "             text='Workout Count', color='Source')\n",
    "\n",
    "# Show the visualization\n",
    "fig.show()\n"
   ]
  },
  {
   "cell_type": "code",
   "execution_count": 3,
   "metadata": {},
   "outputs": [
    {
     "ename": "FileNotFoundError",
     "evalue": "[Errno 2] No such file or directory: '/Users/ngirmay/Documents/GitHub/ironman_retrospective/IronMan_2023/wahoo/wahoo_data.csv'",
     "output_type": "error",
     "traceback": [
      "\u001b[0;31m---------------------------------------------------------------------------\u001b[0m",
      "\u001b[0;31mFileNotFoundError\u001b[0m                         Traceback (most recent call last)",
      "Cell \u001b[0;32mIn[3], line 15\u001b[0m\n\u001b[1;32m     11\u001b[0m color_mapping \u001b[38;5;241m=\u001b[39m {\u001b[38;5;124m'\u001b[39m\u001b[38;5;124mZone 1 (50\u001b[39m\u001b[38;5;132;01m%-60%\u001b[39;00m\u001b[38;5;124m)\u001b[39m\u001b[38;5;124m'\u001b[39m: \u001b[38;5;124m'\u001b[39m\u001b[38;5;124m#e63946\u001b[39m\u001b[38;5;124m'\u001b[39m, \u001b[38;5;124m'\u001b[39m\u001b[38;5;124mZone 2 (60\u001b[39m\u001b[38;5;132;01m%-70%\u001b[39;00m\u001b[38;5;124m)\u001b[39m\u001b[38;5;124m'\u001b[39m: \u001b[38;5;124m'\u001b[39m\u001b[38;5;124m#a8dadc\u001b[39m\u001b[38;5;124m'\u001b[39m, \n\u001b[1;32m     12\u001b[0m                  \u001b[38;5;124m'\u001b[39m\u001b[38;5;124mZone 3 (70\u001b[39m\u001b[38;5;132;01m%-80%\u001b[39;00m\u001b[38;5;124m)\u001b[39m\u001b[38;5;124m'\u001b[39m: \u001b[38;5;124m'\u001b[39m\u001b[38;5;124m#90EE90\u001b[39m\u001b[38;5;124m'\u001b[39m, \u001b[38;5;124m'\u001b[39m\u001b[38;5;124mZone 4 (80\u001b[39m\u001b[38;5;132;01m%-90%\u001b[39;00m\u001b[38;5;124m)\u001b[39m\u001b[38;5;124m'\u001b[39m: \u001b[38;5;124m'\u001b[39m\u001b[38;5;124m#457b9d\u001b[39m\u001b[38;5;124m'\u001b[39m, \u001b[38;5;124m'\u001b[39m\u001b[38;5;124mZone 5 (90\u001b[39m\u001b[38;5;132;01m%-100%\u001b[39;00m\u001b[38;5;124m)\u001b[39m\u001b[38;5;124m'\u001b[39m: \u001b[38;5;124m'\u001b[39m\u001b[38;5;124m#1d3557\u001b[39m\u001b[38;5;124m'\u001b[39m}\n\u001b[1;32m     14\u001b[0m \u001b[38;5;66;03m# Read the data\u001b[39;00m\n\u001b[0;32m---> 15\u001b[0m wahoo_data \u001b[38;5;241m=\u001b[39m \u001b[43mpd\u001b[49m\u001b[38;5;241;43m.\u001b[39;49m\u001b[43mread_csv\u001b[49m\u001b[43m(\u001b[49m\u001b[43mwahoo_data_path\u001b[49m\u001b[43m)\u001b[49m\n\u001b[1;32m     16\u001b[0m apple_health_data \u001b[38;5;241m=\u001b[39m pd\u001b[38;5;241m.\u001b[39mread_csv(apple_health_cycling_path, skiprows\u001b[38;5;241m=\u001b[39m\u001b[38;5;241m1\u001b[39m)\n\u001b[1;32m     18\u001b[0m \u001b[38;5;66;03m# Convert necessary columns to datetime\u001b[39;00m\n",
      "File \u001b[0;32m/usr/local/lib/python3.11/site-packages/pandas/io/parsers/readers.py:1026\u001b[0m, in \u001b[0;36mread_csv\u001b[0;34m(filepath_or_buffer, sep, delimiter, header, names, index_col, usecols, dtype, engine, converters, true_values, false_values, skipinitialspace, skiprows, skipfooter, nrows, na_values, keep_default_na, na_filter, verbose, skip_blank_lines, parse_dates, infer_datetime_format, keep_date_col, date_parser, date_format, dayfirst, cache_dates, iterator, chunksize, compression, thousands, decimal, lineterminator, quotechar, quoting, doublequote, escapechar, comment, encoding, encoding_errors, dialect, on_bad_lines, delim_whitespace, low_memory, memory_map, float_precision, storage_options, dtype_backend)\u001b[0m\n\u001b[1;32m   1013\u001b[0m kwds_defaults \u001b[39m=\u001b[39m _refine_defaults_read(\n\u001b[1;32m   1014\u001b[0m     dialect,\n\u001b[1;32m   1015\u001b[0m     delimiter,\n\u001b[0;32m   (...)\u001b[0m\n\u001b[1;32m   1022\u001b[0m     dtype_backend\u001b[39m=\u001b[39mdtype_backend,\n\u001b[1;32m   1023\u001b[0m )\n\u001b[1;32m   1024\u001b[0m kwds\u001b[39m.\u001b[39mupdate(kwds_defaults)\n\u001b[0;32m-> 1026\u001b[0m \u001b[39mreturn\u001b[39;00m _read(filepath_or_buffer, kwds)\n",
      "File \u001b[0;32m/usr/local/lib/python3.11/site-packages/pandas/io/parsers/readers.py:620\u001b[0m, in \u001b[0;36m_read\u001b[0;34m(filepath_or_buffer, kwds)\u001b[0m\n\u001b[1;32m    617\u001b[0m _validate_names(kwds\u001b[39m.\u001b[39mget(\u001b[39m\"\u001b[39m\u001b[39mnames\u001b[39m\u001b[39m\"\u001b[39m, \u001b[39mNone\u001b[39;00m))\n\u001b[1;32m    619\u001b[0m \u001b[39m# Create the parser.\u001b[39;00m\n\u001b[0;32m--> 620\u001b[0m parser \u001b[39m=\u001b[39m TextFileReader(filepath_or_buffer, \u001b[39m*\u001b[39;49m\u001b[39m*\u001b[39;49mkwds)\n\u001b[1;32m    622\u001b[0m \u001b[39mif\u001b[39;00m chunksize \u001b[39mor\u001b[39;00m iterator:\n\u001b[1;32m    623\u001b[0m     \u001b[39mreturn\u001b[39;00m parser\n",
      "File \u001b[0;32m/usr/local/lib/python3.11/site-packages/pandas/io/parsers/readers.py:1620\u001b[0m, in \u001b[0;36mTextFileReader.__init__\u001b[0;34m(self, f, engine, **kwds)\u001b[0m\n\u001b[1;32m   1617\u001b[0m     \u001b[39mself\u001b[39m\u001b[39m.\u001b[39moptions[\u001b[39m\"\u001b[39m\u001b[39mhas_index_names\u001b[39m\u001b[39m\"\u001b[39m] \u001b[39m=\u001b[39m kwds[\u001b[39m\"\u001b[39m\u001b[39mhas_index_names\u001b[39m\u001b[39m\"\u001b[39m]\n\u001b[1;32m   1619\u001b[0m \u001b[39mself\u001b[39m\u001b[39m.\u001b[39mhandles: IOHandles \u001b[39m|\u001b[39m \u001b[39mNone\u001b[39;00m \u001b[39m=\u001b[39m \u001b[39mNone\u001b[39;00m\n\u001b[0;32m-> 1620\u001b[0m \u001b[39mself\u001b[39m\u001b[39m.\u001b[39m_engine \u001b[39m=\u001b[39m \u001b[39mself\u001b[39;49m\u001b[39m.\u001b[39;49m_make_engine(f, \u001b[39mself\u001b[39;49m\u001b[39m.\u001b[39;49mengine)\n",
      "File \u001b[0;32m/usr/local/lib/python3.11/site-packages/pandas/io/parsers/readers.py:1880\u001b[0m, in \u001b[0;36mTextFileReader._make_engine\u001b[0;34m(self, f, engine)\u001b[0m\n\u001b[1;32m   1878\u001b[0m     \u001b[39mif\u001b[39;00m \u001b[39m\"\u001b[39m\u001b[39mb\u001b[39m\u001b[39m\"\u001b[39m \u001b[39mnot\u001b[39;00m \u001b[39min\u001b[39;00m mode:\n\u001b[1;32m   1879\u001b[0m         mode \u001b[39m+\u001b[39m\u001b[39m=\u001b[39m \u001b[39m\"\u001b[39m\u001b[39mb\u001b[39m\u001b[39m\"\u001b[39m\n\u001b[0;32m-> 1880\u001b[0m \u001b[39mself\u001b[39m\u001b[39m.\u001b[39mhandles \u001b[39m=\u001b[39m get_handle(\n\u001b[1;32m   1881\u001b[0m     f,\n\u001b[1;32m   1882\u001b[0m     mode,\n\u001b[1;32m   1883\u001b[0m     encoding\u001b[39m=\u001b[39;49m\u001b[39mself\u001b[39;49m\u001b[39m.\u001b[39;49moptions\u001b[39m.\u001b[39;49mget(\u001b[39m\"\u001b[39;49m\u001b[39mencoding\u001b[39;49m\u001b[39m\"\u001b[39;49m, \u001b[39mNone\u001b[39;49;00m),\n\u001b[1;32m   1884\u001b[0m     compression\u001b[39m=\u001b[39;49m\u001b[39mself\u001b[39;49m\u001b[39m.\u001b[39;49moptions\u001b[39m.\u001b[39;49mget(\u001b[39m\"\u001b[39;49m\u001b[39mcompression\u001b[39;49m\u001b[39m\"\u001b[39;49m, \u001b[39mNone\u001b[39;49;00m),\n\u001b[1;32m   1885\u001b[0m     memory_map\u001b[39m=\u001b[39;49m\u001b[39mself\u001b[39;49m\u001b[39m.\u001b[39;49moptions\u001b[39m.\u001b[39;49mget(\u001b[39m\"\u001b[39;49m\u001b[39mmemory_map\u001b[39;49m\u001b[39m\"\u001b[39;49m, \u001b[39mFalse\u001b[39;49;00m),\n\u001b[1;32m   1886\u001b[0m     is_text\u001b[39m=\u001b[39;49mis_text,\n\u001b[1;32m   1887\u001b[0m     errors\u001b[39m=\u001b[39;49m\u001b[39mself\u001b[39;49m\u001b[39m.\u001b[39;49moptions\u001b[39m.\u001b[39;49mget(\u001b[39m\"\u001b[39;49m\u001b[39mencoding_errors\u001b[39;49m\u001b[39m\"\u001b[39;49m, \u001b[39m\"\u001b[39;49m\u001b[39mstrict\u001b[39;49m\u001b[39m\"\u001b[39;49m),\n\u001b[1;32m   1888\u001b[0m     storage_options\u001b[39m=\u001b[39;49m\u001b[39mself\u001b[39;49m\u001b[39m.\u001b[39;49moptions\u001b[39m.\u001b[39;49mget(\u001b[39m\"\u001b[39;49m\u001b[39mstorage_options\u001b[39;49m\u001b[39m\"\u001b[39;49m, \u001b[39mNone\u001b[39;49;00m),\n\u001b[1;32m   1889\u001b[0m )\n\u001b[1;32m   1890\u001b[0m \u001b[39massert\u001b[39;00m \u001b[39mself\u001b[39m\u001b[39m.\u001b[39mhandles \u001b[39mis\u001b[39;00m \u001b[39mnot\u001b[39;00m \u001b[39mNone\u001b[39;00m\n\u001b[1;32m   1891\u001b[0m f \u001b[39m=\u001b[39m \u001b[39mself\u001b[39m\u001b[39m.\u001b[39mhandles\u001b[39m.\u001b[39mhandle\n",
      "File \u001b[0;32m/usr/local/lib/python3.11/site-packages/pandas/io/common.py:873\u001b[0m, in \u001b[0;36mget_handle\u001b[0;34m(path_or_buf, mode, encoding, compression, memory_map, is_text, errors, storage_options)\u001b[0m\n\u001b[1;32m    868\u001b[0m \u001b[39melif\u001b[39;00m \u001b[39misinstance\u001b[39m(handle, \u001b[39mstr\u001b[39m):\n\u001b[1;32m    869\u001b[0m     \u001b[39m# Check whether the filename is to be opened in binary mode.\u001b[39;00m\n\u001b[1;32m    870\u001b[0m     \u001b[39m# Binary mode does not support 'encoding' and 'newline'.\u001b[39;00m\n\u001b[1;32m    871\u001b[0m     \u001b[39mif\u001b[39;00m ioargs\u001b[39m.\u001b[39mencoding \u001b[39mand\u001b[39;00m \u001b[39m\"\u001b[39m\u001b[39mb\u001b[39m\u001b[39m\"\u001b[39m \u001b[39mnot\u001b[39;00m \u001b[39min\u001b[39;00m ioargs\u001b[39m.\u001b[39mmode:\n\u001b[1;32m    872\u001b[0m         \u001b[39m# Encoding\u001b[39;00m\n\u001b[0;32m--> 873\u001b[0m         handle \u001b[39m=\u001b[39m \u001b[39mopen\u001b[39;49m(\n\u001b[1;32m    874\u001b[0m             handle,\n\u001b[1;32m    875\u001b[0m             ioargs\u001b[39m.\u001b[39;49mmode,\n\u001b[1;32m    876\u001b[0m             encoding\u001b[39m=\u001b[39;49mioargs\u001b[39m.\u001b[39;49mencoding,\n\u001b[1;32m    877\u001b[0m             errors\u001b[39m=\u001b[39;49merrors,\n\u001b[1;32m    878\u001b[0m             newline\u001b[39m=\u001b[39;49m\u001b[39m\"\u001b[39;49m\u001b[39m\"\u001b[39;49m,\n\u001b[1;32m    879\u001b[0m         )\n\u001b[1;32m    880\u001b[0m     \u001b[39melse\u001b[39;00m:\n\u001b[1;32m    881\u001b[0m         \u001b[39m# Binary mode\u001b[39;00m\n\u001b[1;32m    882\u001b[0m         handle \u001b[39m=\u001b[39m \u001b[39mopen\u001b[39m(handle, ioargs\u001b[39m.\u001b[39mmode)\n",
      "\u001b[0;31mFileNotFoundError\u001b[0m: [Errno 2] No such file or directory: '/Users/ngirmay/Documents/GitHub/ironman_retrospective/IronMan_2023/wahoo/wahoo_data.csv'"
     ]
    }
   ],
   "source": [
    "import pandas as pd\n",
    "import plotly.express as px\n",
    "import plotly.graph_objects as go\n",
    "from IPython.display import display, HTML\n",
    "\n",
    "# Define the file paths\n",
    "wahoo_data_path = '/Users/ngirmay/Documents/GitHub/ironman_retrospective/IronMan_2023/wahoo/wahoo_data.csv'\n",
    "apple_health_cycling_path = '/Users/ngirmay/Documents/GitHub/ironman_retrospective/IronMan_2023/apple_health/health_data_exported/HKWorkoutActivityTypeCycling_2024-04-99_18-31-36_SimpleHealthExportCSV.csv'\n",
    "\n",
    "# Correct color mapping and explicitly assign to each zone\n",
    "color_mapping = {'Zone 1 (50%-60%)': '#e63946', 'Zone 2 (60%-70%)': '#a8dadc', \n",
    "                 'Zone 3 (70%-80%)': '#90EE90', 'Zone 4 (80%-90%)': '#457b9d', 'Zone 5 (90%-100%)': '#1d3557'}\n",
    "\n",
    "# Read the data\n",
    "wahoo_data = pd.read_csv(wahoo_data_path)\n",
    "apple_health_data = pd.read_csv(apple_health_cycling_path, skiprows=1)\n",
    "\n",
    "# Convert necessary columns to datetime\n",
    "wahoo_data['Date'] = pd.to_datetime(wahoo_data['Date'])\n",
    "apple_health_data['startDate'] = pd.to_datetime(apple_health_data['startDate'])\n",
    "\n",
    "# --- Clean the Apple Health data ---\n",
    "# Convert 'totalEnergyBurned' to numeric, coercing errors to NaN\n",
    "apple_health_data['totalEnergyBurned'] = pd.to_numeric(apple_health_data['totalEnergyBurned'], errors='coerce')\n",
    "\n",
    "# --- Summary Statistics ---\n",
    "\n",
    "# Wahoo Summary\n",
    "wahoo_summary = {\n",
    "    \"Total Workouts\": wahoo_data['Date'].nunique(),\n",
    "    \"Total Duration (hours)\": wahoo_data['Duration'].apply(lambda x: pd.to_timedelta(x).total_seconds() / 3600).sum(),\n",
    "    \"Average Power (W)\": wahoo_data['Avg Power'].mean(),\n",
    "    \"Average Cadence (RPM)\": wahoo_data['Avg Cadence'].mean(),\n",
    "    \"Average Speed (km/h)\": wahoo_data['Avg Speed'].mean(),\n",
    "}\n",
    "\n",
    "# Apple Health Summary\n",
    "apple_health_summary = {\n",
    "    \"Total Workouts\": apple_health_data['startDate'].dt.date.nunique(),\n",
    "    \"Total Calories Burned (kcal)\": apple_health_data['totalEnergyBurned'].sum(),\n",
    "    \"Total Duration (hours)\": apple_health_data['duration'].sum() / 3600,\n",
    "}\n",
    "\n",
    "# Display summary stats in a table format\n",
    "wahoo_summary_df = pd.DataFrame(list(wahoo_summary.items()), columns=[\"Metric\", \"Wahoo Stats\"])\n",
    "apple_health_summary_df = pd.DataFrame(list(apple_health_summary.items()), columns=[\"Metric\", \"Apple Health Stats\"])\n",
    "\n",
    "# Combine the summary tables into one\n",
    "summary_df = pd.merge(wahoo_summary_df, apple_health_summary_df, on=\"Metric\", how=\"outer\")\n",
    "\n",
    "# Display the summary stats using IPython display\n",
    "display(HTML(summary_df.to_html(index=False)))\n",
    "\n",
    "# --- Visualization 1: Workouts Over Time ---\n",
    "# Wahoo workouts over time\n",
    "wahoo_workouts_per_month = wahoo_data.groupby(wahoo_data['Date'].dt.to_period('M')).size()\n",
    "\n",
    "# Apple Health workouts over time\n",
    "apple_health_workouts_per_month = apple_health_data.groupby(apple_health_data['startDate'].dt.to_period('M')).size()\n",
    "\n",
    "# Create a combined dataframe for plotting\n",
    "workouts_per_month = pd.DataFrame({\n",
    "    'Month': wahoo_workouts_per_month.index.astype(str),  # Convert to string for plotting\n",
    "    'Wahoo Workouts': wahoo_workouts_per_month.values,\n",
    "    'Apple Health Workouts': apple_health_workouts_per_month.reindex(wahoo_workouts_per_month.index, fill_value=0).values\n",
    "})\n",
    "\n",
    "# Plot Workouts Over Time with the correct color mapping\n",
    "fig_workouts_time = px.line(workouts_per_month, x='Month', y=['Wahoo Workouts', 'Apple Health Workouts'],\n",
    "                            title='Workouts Performed Over Time', markers=True,\n",
    "                            color_discrete_sequence=[color_mapping['Zone 1 (50%-60%)'], color_mapping['Zone 2 (60%-70%)']])\n",
    "\n",
    "# Update axis labels and titles\n",
    "fig_workouts_time.update_layout(\n",
    "    xaxis_title=\"Month\",\n",
    "    yaxis_title=\"Number of Workouts\",\n",
    "    legend_title_text='Workout Source',\n",
    "    title_x=0.5,\n",
    "    template=\"simple_white\"\n",
    ")\n",
    "\n",
    "# --- Visualization 2: Distribution of Power, Speed, and Cadence ---\n",
    "fig_distribution = go.Figure()\n",
    "\n",
    "# Histogram for Power (Zone 5 color)\n",
    "fig_distribution.add_trace(go.Histogram(x=wahoo_data['Avg Power'], name='Power (W)', opacity=0.75, marker=dict(color=color_mapping['Zone 5 (90%-100%)'])))\n",
    "\n",
    "# Histogram for Speed (Zone 4 color)\n",
    "fig_distribution.add_trace(go.Histogram(x=wahoo_data['Avg Speed'], name='Speed (km/h)', opacity=0.75, marker=dict(color=color_mapping['Zone 4 (80%-90%)'])))\n",
    "\n",
    "# Histogram for Cadence (Zone 3 color)\n",
    "fig_distribution.add_trace(go.Histogram(x=wahoo_data['Avg Cadence'], name='Cadence (RPM)', opacity=0.75, marker=dict(color=color_mapping['Zone 3 (70%-80%)'])))\n",
    "\n",
    "# Update layout for the distribution plots with clearer labels\n",
    "fig_distribution.update_layout(\n",
    "    barmode='overlay', \n",
    "    title_text='Distribution of Power, Speed, and Cadence',\n",
    "    xaxis_title=\"Metric Value\",\n",
    "    yaxis_title=\"Count\",\n",
    "    template=\"simple_white\"\n",
    ")\n",
    "\n",
    "# --- Visualization 3: Heatmap for Workout Intensity (based on Avg Power or Calories) ---\n",
    "# Adjust the Y-axis for the heatmap to be more insightful (e.g., Workout Duration)\n",
    "wahoo_data['Duration (hrs)'] = wahoo_data['Duration'].apply(lambda x: pd.to_timedelta(x).total_seconds() / 3600)\n",
    "\n",
    "# Create a heatmap with Workout Duration on the Y-axis\n",
    "fig_heatmap = px.density_heatmap(wahoo_data, x='Date', y='Duration (hrs)', z='Avg Power',\n",
    "                                 title=\"Workout Intensity Heatmap (Average Power vs Duration)\",\n",
    "                                 labels={'Duration (hrs)': 'Workout Duration (hrs)', 'Avg Power': 'Avg Power (Watts)'},\n",
    "                                 color_continuous_scale=[color_mapping['Zone 5 (90%-100%)'], \n",
    "                                                         color_mapping['Zone 4 (80%-90%)'], \n",
    "                                                         color_mapping['Zone 3 (70%-80%)'], \n",
    "                                                         color_mapping['Zone 2 (60%-70%)'], \n",
    "                                                         color_mapping['Zone 1 (50%-60%)']])\n",
    "\n",
    "# Update layout for clarity\n",
    "fig_heatmap.update_layout(\n",
    "    xaxis_title=\"Date\",\n",
    "    yaxis_title=\"Workout Duration (hrs)\",\n",
    "    title_x=0.5,\n",
    "    template=\"simple_white\"\n",
    ")\n",
    "\n",
    "# --- Visualization 4: Compare Average Power Across Months ---\n",
    "wahoo_data['Month'] = wahoo_data['Date'].dt.to_period('M').astype(str)  # Convert to string\n",
    "monthly_avg_power = wahoo_data.groupby('Month')['Avg Power'].mean().reset_index()\n",
    "\n",
    "# Plot monthly average power with Zone 4 color\n",
    "fig_avg_power = px.line(monthly_avg_power, x='Month', y='Avg Power', title='Average Power Performed Each Month',\n",
    "                        markers=True, line_shape='linear', color_discrete_sequence=[color_mapping['Zone 4 (80%-90%)']])\n",
    "\n",
    "# Update the layout for the Average Power plot\n",
    "fig_avg_power.update_layout(\n",
    "    xaxis_title=\"Month\",\n",
    "    yaxis_title=\"Average Power (W)\",\n",
    "    title_x=0.5,\n",
    "    template=\"simple_white\"\n",
    ")\n",
    "\n",
    "# Display all plots\n",
    "fig_workouts_time.show()\n",
    "fig_distribution.show()\n",
    "fig_heatmap.show()\n",
    "fig_avg_power.show()"
   ]
  },
  {
   "cell_type": "code",
   "execution_count": 32,
   "metadata": {},
   "outputs": [
    {
     "data": {
      "application/vnd.plotly.v1+json": {
       "config": {
        "plotlyServerURL": "https://plot.ly"
       },
       "data": [
        {
         "alignmentgroup": "True",
         "hovertemplate": "Activity Name=%{x}<br>Count=%{y}<extra></extra>",
         "legendgroup": "",
         "marker": {
          "color": "#636efa",
          "pattern": {
           "shape": ""
          }
         },
         "name": "",
         "offsetgroup": "",
         "orientation": "v",
         "showlegend": false,
         "textposition": "auto",
         "type": "bar",
         "x": [
          "Full Frontal (4DP Test)",
          "FTP Builds: 8 x 2",
          "Endurance 1",
          "Endurance 2",
          "Sub-Threshold: 3 x 20",
          "Half Monty (Ramp Test)",
          "Endurance 3",
          "Recovery Spin",
          "Med. Coast: Nice to Menton",
          "FTP/MAP High Cadence: 6 x 1",
          "I. Boswell 4: Race Winning Efforts",
          "Fairless",
          "Open: 40",
          "MAP: 3 x 3",
          "Tempo/FTP Progressive Build",
          "Making an Hour Record",
          "A Very Dark Place",
          "MAP: 2 Sets 6 x 1",
          "Sub-Threshold With Starting Surge: 3 x 20",
          "The Rookie",
          "Tempo Alternating: 1 x 40",
          "Alla Vita",
          "Big Gear Tempo/Sub-Threshold: 4 x 8",
          "Blender",
          "A Dog's Life 1"
         ],
         "xaxis": "x",
         "y": [
          6,
          3,
          3,
          3,
          2,
          2,
          1,
          1,
          1,
          1,
          1,
          1,
          1,
          1,
          1,
          1,
          1,
          1,
          1,
          1,
          1,
          1,
          1,
          1,
          1
         ],
         "yaxis": "y"
        }
       ],
       "layout": {
        "barmode": "relative",
        "legend": {
         "tracegroupgap": 0
        },
        "template": {
         "data": {
          "bar": [
           {
            "error_x": {
             "color": "#2a3f5f"
            },
            "error_y": {
             "color": "#2a3f5f"
            },
            "marker": {
             "line": {
              "color": "#E5ECF6",
              "width": 0.5
             },
             "pattern": {
              "fillmode": "overlay",
              "size": 10,
              "solidity": 0.2
             }
            },
            "type": "bar"
           }
          ],
          "barpolar": [
           {
            "marker": {
             "line": {
              "color": "#E5ECF6",
              "width": 0.5
             },
             "pattern": {
              "fillmode": "overlay",
              "size": 10,
              "solidity": 0.2
             }
            },
            "type": "barpolar"
           }
          ],
          "carpet": [
           {
            "aaxis": {
             "endlinecolor": "#2a3f5f",
             "gridcolor": "white",
             "linecolor": "white",
             "minorgridcolor": "white",
             "startlinecolor": "#2a3f5f"
            },
            "baxis": {
             "endlinecolor": "#2a3f5f",
             "gridcolor": "white",
             "linecolor": "white",
             "minorgridcolor": "white",
             "startlinecolor": "#2a3f5f"
            },
            "type": "carpet"
           }
          ],
          "choropleth": [
           {
            "colorbar": {
             "outlinewidth": 0,
             "ticks": ""
            },
            "type": "choropleth"
           }
          ],
          "contour": [
           {
            "colorbar": {
             "outlinewidth": 0,
             "ticks": ""
            },
            "colorscale": [
             [
              0,
              "#0d0887"
             ],
             [
              0.1111111111111111,
              "#46039f"
             ],
             [
              0.2222222222222222,
              "#7201a8"
             ],
             [
              0.3333333333333333,
              "#9c179e"
             ],
             [
              0.4444444444444444,
              "#bd3786"
             ],
             [
              0.5555555555555556,
              "#d8576b"
             ],
             [
              0.6666666666666666,
              "#ed7953"
             ],
             [
              0.7777777777777778,
              "#fb9f3a"
             ],
             [
              0.8888888888888888,
              "#fdca26"
             ],
             [
              1,
              "#f0f921"
             ]
            ],
            "type": "contour"
           }
          ],
          "contourcarpet": [
           {
            "colorbar": {
             "outlinewidth": 0,
             "ticks": ""
            },
            "type": "contourcarpet"
           }
          ],
          "heatmap": [
           {
            "colorbar": {
             "outlinewidth": 0,
             "ticks": ""
            },
            "colorscale": [
             [
              0,
              "#0d0887"
             ],
             [
              0.1111111111111111,
              "#46039f"
             ],
             [
              0.2222222222222222,
              "#7201a8"
             ],
             [
              0.3333333333333333,
              "#9c179e"
             ],
             [
              0.4444444444444444,
              "#bd3786"
             ],
             [
              0.5555555555555556,
              "#d8576b"
             ],
             [
              0.6666666666666666,
              "#ed7953"
             ],
             [
              0.7777777777777778,
              "#fb9f3a"
             ],
             [
              0.8888888888888888,
              "#fdca26"
             ],
             [
              1,
              "#f0f921"
             ]
            ],
            "type": "heatmap"
           }
          ],
          "heatmapgl": [
           {
            "colorbar": {
             "outlinewidth": 0,
             "ticks": ""
            },
            "colorscale": [
             [
              0,
              "#0d0887"
             ],
             [
              0.1111111111111111,
              "#46039f"
             ],
             [
              0.2222222222222222,
              "#7201a8"
             ],
             [
              0.3333333333333333,
              "#9c179e"
             ],
             [
              0.4444444444444444,
              "#bd3786"
             ],
             [
              0.5555555555555556,
              "#d8576b"
             ],
             [
              0.6666666666666666,
              "#ed7953"
             ],
             [
              0.7777777777777778,
              "#fb9f3a"
             ],
             [
              0.8888888888888888,
              "#fdca26"
             ],
             [
              1,
              "#f0f921"
             ]
            ],
            "type": "heatmapgl"
           }
          ],
          "histogram": [
           {
            "marker": {
             "pattern": {
              "fillmode": "overlay",
              "size": 10,
              "solidity": 0.2
             }
            },
            "type": "histogram"
           }
          ],
          "histogram2d": [
           {
            "colorbar": {
             "outlinewidth": 0,
             "ticks": ""
            },
            "colorscale": [
             [
              0,
              "#0d0887"
             ],
             [
              0.1111111111111111,
              "#46039f"
             ],
             [
              0.2222222222222222,
              "#7201a8"
             ],
             [
              0.3333333333333333,
              "#9c179e"
             ],
             [
              0.4444444444444444,
              "#bd3786"
             ],
             [
              0.5555555555555556,
              "#d8576b"
             ],
             [
              0.6666666666666666,
              "#ed7953"
             ],
             [
              0.7777777777777778,
              "#fb9f3a"
             ],
             [
              0.8888888888888888,
              "#fdca26"
             ],
             [
              1,
              "#f0f921"
             ]
            ],
            "type": "histogram2d"
           }
          ],
          "histogram2dcontour": [
           {
            "colorbar": {
             "outlinewidth": 0,
             "ticks": ""
            },
            "colorscale": [
             [
              0,
              "#0d0887"
             ],
             [
              0.1111111111111111,
              "#46039f"
             ],
             [
              0.2222222222222222,
              "#7201a8"
             ],
             [
              0.3333333333333333,
              "#9c179e"
             ],
             [
              0.4444444444444444,
              "#bd3786"
             ],
             [
              0.5555555555555556,
              "#d8576b"
             ],
             [
              0.6666666666666666,
              "#ed7953"
             ],
             [
              0.7777777777777778,
              "#fb9f3a"
             ],
             [
              0.8888888888888888,
              "#fdca26"
             ],
             [
              1,
              "#f0f921"
             ]
            ],
            "type": "histogram2dcontour"
           }
          ],
          "mesh3d": [
           {
            "colorbar": {
             "outlinewidth": 0,
             "ticks": ""
            },
            "type": "mesh3d"
           }
          ],
          "parcoords": [
           {
            "line": {
             "colorbar": {
              "outlinewidth": 0,
              "ticks": ""
             }
            },
            "type": "parcoords"
           }
          ],
          "pie": [
           {
            "automargin": true,
            "type": "pie"
           }
          ],
          "scatter": [
           {
            "fillpattern": {
             "fillmode": "overlay",
             "size": 10,
             "solidity": 0.2
            },
            "type": "scatter"
           }
          ],
          "scatter3d": [
           {
            "line": {
             "colorbar": {
              "outlinewidth": 0,
              "ticks": ""
             }
            },
            "marker": {
             "colorbar": {
              "outlinewidth": 0,
              "ticks": ""
             }
            },
            "type": "scatter3d"
           }
          ],
          "scattercarpet": [
           {
            "marker": {
             "colorbar": {
              "outlinewidth": 0,
              "ticks": ""
             }
            },
            "type": "scattercarpet"
           }
          ],
          "scattergeo": [
           {
            "marker": {
             "colorbar": {
              "outlinewidth": 0,
              "ticks": ""
             }
            },
            "type": "scattergeo"
           }
          ],
          "scattergl": [
           {
            "marker": {
             "colorbar": {
              "outlinewidth": 0,
              "ticks": ""
             }
            },
            "type": "scattergl"
           }
          ],
          "scattermapbox": [
           {
            "marker": {
             "colorbar": {
              "outlinewidth": 0,
              "ticks": ""
             }
            },
            "type": "scattermapbox"
           }
          ],
          "scatterpolar": [
           {
            "marker": {
             "colorbar": {
              "outlinewidth": 0,
              "ticks": ""
             }
            },
            "type": "scatterpolar"
           }
          ],
          "scatterpolargl": [
           {
            "marker": {
             "colorbar": {
              "outlinewidth": 0,
              "ticks": ""
             }
            },
            "type": "scatterpolargl"
           }
          ],
          "scatterternary": [
           {
            "marker": {
             "colorbar": {
              "outlinewidth": 0,
              "ticks": ""
             }
            },
            "type": "scatterternary"
           }
          ],
          "surface": [
           {
            "colorbar": {
             "outlinewidth": 0,
             "ticks": ""
            },
            "colorscale": [
             [
              0,
              "#0d0887"
             ],
             [
              0.1111111111111111,
              "#46039f"
             ],
             [
              0.2222222222222222,
              "#7201a8"
             ],
             [
              0.3333333333333333,
              "#9c179e"
             ],
             [
              0.4444444444444444,
              "#bd3786"
             ],
             [
              0.5555555555555556,
              "#d8576b"
             ],
             [
              0.6666666666666666,
              "#ed7953"
             ],
             [
              0.7777777777777778,
              "#fb9f3a"
             ],
             [
              0.8888888888888888,
              "#fdca26"
             ],
             [
              1,
              "#f0f921"
             ]
            ],
            "type": "surface"
           }
          ],
          "table": [
           {
            "cells": {
             "fill": {
              "color": "#EBF0F8"
             },
             "line": {
              "color": "white"
             }
            },
            "header": {
             "fill": {
              "color": "#C8D4E3"
             },
             "line": {
              "color": "white"
             }
            },
            "type": "table"
           }
          ]
         },
         "layout": {
          "annotationdefaults": {
           "arrowcolor": "#2a3f5f",
           "arrowhead": 0,
           "arrowwidth": 1
          },
          "autotypenumbers": "strict",
          "coloraxis": {
           "colorbar": {
            "outlinewidth": 0,
            "ticks": ""
           }
          },
          "colorscale": {
           "diverging": [
            [
             0,
             "#8e0152"
            ],
            [
             0.1,
             "#c51b7d"
            ],
            [
             0.2,
             "#de77ae"
            ],
            [
             0.3,
             "#f1b6da"
            ],
            [
             0.4,
             "#fde0ef"
            ],
            [
             0.5,
             "#f7f7f7"
            ],
            [
             0.6,
             "#e6f5d0"
            ],
            [
             0.7,
             "#b8e186"
            ],
            [
             0.8,
             "#7fbc41"
            ],
            [
             0.9,
             "#4d9221"
            ],
            [
             1,
             "#276419"
            ]
           ],
           "sequential": [
            [
             0,
             "#0d0887"
            ],
            [
             0.1111111111111111,
             "#46039f"
            ],
            [
             0.2222222222222222,
             "#7201a8"
            ],
            [
             0.3333333333333333,
             "#9c179e"
            ],
            [
             0.4444444444444444,
             "#bd3786"
            ],
            [
             0.5555555555555556,
             "#d8576b"
            ],
            [
             0.6666666666666666,
             "#ed7953"
            ],
            [
             0.7777777777777778,
             "#fb9f3a"
            ],
            [
             0.8888888888888888,
             "#fdca26"
            ],
            [
             1,
             "#f0f921"
            ]
           ],
           "sequentialminus": [
            [
             0,
             "#0d0887"
            ],
            [
             0.1111111111111111,
             "#46039f"
            ],
            [
             0.2222222222222222,
             "#7201a8"
            ],
            [
             0.3333333333333333,
             "#9c179e"
            ],
            [
             0.4444444444444444,
             "#bd3786"
            ],
            [
             0.5555555555555556,
             "#d8576b"
            ],
            [
             0.6666666666666666,
             "#ed7953"
            ],
            [
             0.7777777777777778,
             "#fb9f3a"
            ],
            [
             0.8888888888888888,
             "#fdca26"
            ],
            [
             1,
             "#f0f921"
            ]
           ]
          },
          "colorway": [
           "#636efa",
           "#EF553B",
           "#00cc96",
           "#ab63fa",
           "#FFA15A",
           "#19d3f3",
           "#FF6692",
           "#B6E880",
           "#FF97FF",
           "#FECB52"
          ],
          "font": {
           "color": "#2a3f5f"
          },
          "geo": {
           "bgcolor": "white",
           "lakecolor": "white",
           "landcolor": "#E5ECF6",
           "showlakes": true,
           "showland": true,
           "subunitcolor": "white"
          },
          "hoverlabel": {
           "align": "left"
          },
          "hovermode": "closest",
          "mapbox": {
           "style": "light"
          },
          "paper_bgcolor": "white",
          "plot_bgcolor": "#E5ECF6",
          "polar": {
           "angularaxis": {
            "gridcolor": "white",
            "linecolor": "white",
            "ticks": ""
           },
           "bgcolor": "#E5ECF6",
           "radialaxis": {
            "gridcolor": "white",
            "linecolor": "white",
            "ticks": ""
           }
          },
          "scene": {
           "xaxis": {
            "backgroundcolor": "#E5ECF6",
            "gridcolor": "white",
            "gridwidth": 2,
            "linecolor": "white",
            "showbackground": true,
            "ticks": "",
            "zerolinecolor": "white"
           },
           "yaxis": {
            "backgroundcolor": "#E5ECF6",
            "gridcolor": "white",
            "gridwidth": 2,
            "linecolor": "white",
            "showbackground": true,
            "ticks": "",
            "zerolinecolor": "white"
           },
           "zaxis": {
            "backgroundcolor": "#E5ECF6",
            "gridcolor": "white",
            "gridwidth": 2,
            "linecolor": "white",
            "showbackground": true,
            "ticks": "",
            "zerolinecolor": "white"
           }
          },
          "shapedefaults": {
           "line": {
            "color": "#2a3f5f"
           }
          },
          "ternary": {
           "aaxis": {
            "gridcolor": "white",
            "linecolor": "white",
            "ticks": ""
           },
           "baxis": {
            "gridcolor": "white",
            "linecolor": "white",
            "ticks": ""
           },
           "bgcolor": "#E5ECF6",
           "caxis": {
            "gridcolor": "white",
            "linecolor": "white",
            "ticks": ""
           }
          },
          "title": {
           "x": 0.05
          },
          "xaxis": {
           "automargin": true,
           "gridcolor": "white",
           "linecolor": "white",
           "ticks": "",
           "title": {
            "standoff": 15
           },
           "zerolinecolor": "white",
           "zerolinewidth": 2
          },
          "yaxis": {
           "automargin": true,
           "gridcolor": "white",
           "linecolor": "white",
           "ticks": "",
           "title": {
            "standoff": 15
           },
           "zerolinecolor": "white",
           "zerolinewidth": 2
          }
         }
        },
        "title": {
         "text": "Count of Different Cycling Activities"
        },
        "xaxis": {
         "anchor": "y",
         "domain": [
          0,
          1
         ],
         "tickangle": -90,
         "title": {
          "text": "Activity Name"
         }
        },
        "yaxis": {
         "anchor": "x",
         "domain": [
          0,
          1
         ],
         "title": {
          "text": "Count"
         }
        }
       }
      }
     },
     "metadata": {},
     "output_type": "display_data"
    },
    {
     "data": {
      "application/vnd.plotly.v1+json": {
       "config": {
        "plotlyServerURL": "https://plot.ly"
       },
       "data": [
        {
         "alignmentgroup": "True",
         "hovertemplate": "Activity=%{x}<br>Training Stress Score=%{text}<extra></extra>",
         "legendgroup": "",
         "marker": {
          "color": "#636efa",
          "pattern": {
           "shape": ""
          }
         },
         "name": "",
         "offsetgroup": "",
         "orientation": "v",
         "showlegend": false,
         "text": [
          114,
          80,
          156,
          59,
          62,
          41,
          103,
          42,
          84,
          123,
          110,
          56,
          61,
          69,
          45,
          41,
          66,
          52,
          39,
          38,
          46,
          30,
          17,
          24,
          26,
          17,
          13,
          12,
          17,
          17,
          9,
          9,
          9,
          3,
          1,
          1,
          0,
          0
         ],
         "textposition": "auto",
         "type": "bar",
         "x": [
          0,
          1,
          2,
          3,
          4,
          5,
          6,
          7,
          8,
          9,
          10,
          11,
          12,
          13,
          14,
          15,
          16,
          17,
          18,
          19,
          20,
          21,
          22,
          23,
          24,
          25,
          26,
          27,
          28,
          29,
          30,
          31,
          32,
          33,
          34,
          35,
          36,
          37
         ],
         "xaxis": "x",
         "y": [
          114,
          80,
          156,
          59,
          62,
          41,
          103,
          42,
          84,
          123,
          110,
          56,
          61,
          69,
          45,
          41,
          66,
          52,
          39,
          38,
          46,
          30,
          17,
          24,
          26,
          17,
          13,
          12,
          17,
          17,
          9,
          9,
          9,
          3,
          1,
          1,
          0,
          0
         ],
         "yaxis": "y"
        }
       ],
       "layout": {
        "barmode": "relative",
        "legend": {
         "tracegroupgap": 0
        },
        "showlegend": false,
        "template": {
         "data": {
          "bar": [
           {
            "error_x": {
             "color": "#2a3f5f"
            },
            "error_y": {
             "color": "#2a3f5f"
            },
            "marker": {
             "line": {
              "color": "#E5ECF6",
              "width": 0.5
             },
             "pattern": {
              "fillmode": "overlay",
              "size": 10,
              "solidity": 0.2
             }
            },
            "type": "bar"
           }
          ],
          "barpolar": [
           {
            "marker": {
             "line": {
              "color": "#E5ECF6",
              "width": 0.5
             },
             "pattern": {
              "fillmode": "overlay",
              "size": 10,
              "solidity": 0.2
             }
            },
            "type": "barpolar"
           }
          ],
          "carpet": [
           {
            "aaxis": {
             "endlinecolor": "#2a3f5f",
             "gridcolor": "white",
             "linecolor": "white",
             "minorgridcolor": "white",
             "startlinecolor": "#2a3f5f"
            },
            "baxis": {
             "endlinecolor": "#2a3f5f",
             "gridcolor": "white",
             "linecolor": "white",
             "minorgridcolor": "white",
             "startlinecolor": "#2a3f5f"
            },
            "type": "carpet"
           }
          ],
          "choropleth": [
           {
            "colorbar": {
             "outlinewidth": 0,
             "ticks": ""
            },
            "type": "choropleth"
           }
          ],
          "contour": [
           {
            "colorbar": {
             "outlinewidth": 0,
             "ticks": ""
            },
            "colorscale": [
             [
              0,
              "#0d0887"
             ],
             [
              0.1111111111111111,
              "#46039f"
             ],
             [
              0.2222222222222222,
              "#7201a8"
             ],
             [
              0.3333333333333333,
              "#9c179e"
             ],
             [
              0.4444444444444444,
              "#bd3786"
             ],
             [
              0.5555555555555556,
              "#d8576b"
             ],
             [
              0.6666666666666666,
              "#ed7953"
             ],
             [
              0.7777777777777778,
              "#fb9f3a"
             ],
             [
              0.8888888888888888,
              "#fdca26"
             ],
             [
              1,
              "#f0f921"
             ]
            ],
            "type": "contour"
           }
          ],
          "contourcarpet": [
           {
            "colorbar": {
             "outlinewidth": 0,
             "ticks": ""
            },
            "type": "contourcarpet"
           }
          ],
          "heatmap": [
           {
            "colorbar": {
             "outlinewidth": 0,
             "ticks": ""
            },
            "colorscale": [
             [
              0,
              "#0d0887"
             ],
             [
              0.1111111111111111,
              "#46039f"
             ],
             [
              0.2222222222222222,
              "#7201a8"
             ],
             [
              0.3333333333333333,
              "#9c179e"
             ],
             [
              0.4444444444444444,
              "#bd3786"
             ],
             [
              0.5555555555555556,
              "#d8576b"
             ],
             [
              0.6666666666666666,
              "#ed7953"
             ],
             [
              0.7777777777777778,
              "#fb9f3a"
             ],
             [
              0.8888888888888888,
              "#fdca26"
             ],
             [
              1,
              "#f0f921"
             ]
            ],
            "type": "heatmap"
           }
          ],
          "heatmapgl": [
           {
            "colorbar": {
             "outlinewidth": 0,
             "ticks": ""
            },
            "colorscale": [
             [
              0,
              "#0d0887"
             ],
             [
              0.1111111111111111,
              "#46039f"
             ],
             [
              0.2222222222222222,
              "#7201a8"
             ],
             [
              0.3333333333333333,
              "#9c179e"
             ],
             [
              0.4444444444444444,
              "#bd3786"
             ],
             [
              0.5555555555555556,
              "#d8576b"
             ],
             [
              0.6666666666666666,
              "#ed7953"
             ],
             [
              0.7777777777777778,
              "#fb9f3a"
             ],
             [
              0.8888888888888888,
              "#fdca26"
             ],
             [
              1,
              "#f0f921"
             ]
            ],
            "type": "heatmapgl"
           }
          ],
          "histogram": [
           {
            "marker": {
             "pattern": {
              "fillmode": "overlay",
              "size": 10,
              "solidity": 0.2
             }
            },
            "type": "histogram"
           }
          ],
          "histogram2d": [
           {
            "colorbar": {
             "outlinewidth": 0,
             "ticks": ""
            },
            "colorscale": [
             [
              0,
              "#0d0887"
             ],
             [
              0.1111111111111111,
              "#46039f"
             ],
             [
              0.2222222222222222,
              "#7201a8"
             ],
             [
              0.3333333333333333,
              "#9c179e"
             ],
             [
              0.4444444444444444,
              "#bd3786"
             ],
             [
              0.5555555555555556,
              "#d8576b"
             ],
             [
              0.6666666666666666,
              "#ed7953"
             ],
             [
              0.7777777777777778,
              "#fb9f3a"
             ],
             [
              0.8888888888888888,
              "#fdca26"
             ],
             [
              1,
              "#f0f921"
             ]
            ],
            "type": "histogram2d"
           }
          ],
          "histogram2dcontour": [
           {
            "colorbar": {
             "outlinewidth": 0,
             "ticks": ""
            },
            "colorscale": [
             [
              0,
              "#0d0887"
             ],
             [
              0.1111111111111111,
              "#46039f"
             ],
             [
              0.2222222222222222,
              "#7201a8"
             ],
             [
              0.3333333333333333,
              "#9c179e"
             ],
             [
              0.4444444444444444,
              "#bd3786"
             ],
             [
              0.5555555555555556,
              "#d8576b"
             ],
             [
              0.6666666666666666,
              "#ed7953"
             ],
             [
              0.7777777777777778,
              "#fb9f3a"
             ],
             [
              0.8888888888888888,
              "#fdca26"
             ],
             [
              1,
              "#f0f921"
             ]
            ],
            "type": "histogram2dcontour"
           }
          ],
          "mesh3d": [
           {
            "colorbar": {
             "outlinewidth": 0,
             "ticks": ""
            },
            "type": "mesh3d"
           }
          ],
          "parcoords": [
           {
            "line": {
             "colorbar": {
              "outlinewidth": 0,
              "ticks": ""
             }
            },
            "type": "parcoords"
           }
          ],
          "pie": [
           {
            "automargin": true,
            "type": "pie"
           }
          ],
          "scatter": [
           {
            "fillpattern": {
             "fillmode": "overlay",
             "size": 10,
             "solidity": 0.2
            },
            "type": "scatter"
           }
          ],
          "scatter3d": [
           {
            "line": {
             "colorbar": {
              "outlinewidth": 0,
              "ticks": ""
             }
            },
            "marker": {
             "colorbar": {
              "outlinewidth": 0,
              "ticks": ""
             }
            },
            "type": "scatter3d"
           }
          ],
          "scattercarpet": [
           {
            "marker": {
             "colorbar": {
              "outlinewidth": 0,
              "ticks": ""
             }
            },
            "type": "scattercarpet"
           }
          ],
          "scattergeo": [
           {
            "marker": {
             "colorbar": {
              "outlinewidth": 0,
              "ticks": ""
             }
            },
            "type": "scattergeo"
           }
          ],
          "scattergl": [
           {
            "marker": {
             "colorbar": {
              "outlinewidth": 0,
              "ticks": ""
             }
            },
            "type": "scattergl"
           }
          ],
          "scattermapbox": [
           {
            "marker": {
             "colorbar": {
              "outlinewidth": 0,
              "ticks": ""
             }
            },
            "type": "scattermapbox"
           }
          ],
          "scatterpolar": [
           {
            "marker": {
             "colorbar": {
              "outlinewidth": 0,
              "ticks": ""
             }
            },
            "type": "scatterpolar"
           }
          ],
          "scatterpolargl": [
           {
            "marker": {
             "colorbar": {
              "outlinewidth": 0,
              "ticks": ""
             }
            },
            "type": "scatterpolargl"
           }
          ],
          "scatterternary": [
           {
            "marker": {
             "colorbar": {
              "outlinewidth": 0,
              "ticks": ""
             }
            },
            "type": "scatterternary"
           }
          ],
          "surface": [
           {
            "colorbar": {
             "outlinewidth": 0,
             "ticks": ""
            },
            "colorscale": [
             [
              0,
              "#0d0887"
             ],
             [
              0.1111111111111111,
              "#46039f"
             ],
             [
              0.2222222222222222,
              "#7201a8"
             ],
             [
              0.3333333333333333,
              "#9c179e"
             ],
             [
              0.4444444444444444,
              "#bd3786"
             ],
             [
              0.5555555555555556,
              "#d8576b"
             ],
             [
              0.6666666666666666,
              "#ed7953"
             ],
             [
              0.7777777777777778,
              "#fb9f3a"
             ],
             [
              0.8888888888888888,
              "#fdca26"
             ],
             [
              1,
              "#f0f921"
             ]
            ],
            "type": "surface"
           }
          ],
          "table": [
           {
            "cells": {
             "fill": {
              "color": "#EBF0F8"
             },
             "line": {
              "color": "white"
             }
            },
            "header": {
             "fill": {
              "color": "#C8D4E3"
             },
             "line": {
              "color": "white"
             }
            },
            "type": "table"
           }
          ]
         },
         "layout": {
          "annotationdefaults": {
           "arrowcolor": "#2a3f5f",
           "arrowhead": 0,
           "arrowwidth": 1
          },
          "autotypenumbers": "strict",
          "coloraxis": {
           "colorbar": {
            "outlinewidth": 0,
            "ticks": ""
           }
          },
          "colorscale": {
           "diverging": [
            [
             0,
             "#8e0152"
            ],
            [
             0.1,
             "#c51b7d"
            ],
            [
             0.2,
             "#de77ae"
            ],
            [
             0.3,
             "#f1b6da"
            ],
            [
             0.4,
             "#fde0ef"
            ],
            [
             0.5,
             "#f7f7f7"
            ],
            [
             0.6,
             "#e6f5d0"
            ],
            [
             0.7,
             "#b8e186"
            ],
            [
             0.8,
             "#7fbc41"
            ],
            [
             0.9,
             "#4d9221"
            ],
            [
             1,
             "#276419"
            ]
           ],
           "sequential": [
            [
             0,
             "#0d0887"
            ],
            [
             0.1111111111111111,
             "#46039f"
            ],
            [
             0.2222222222222222,
             "#7201a8"
            ],
            [
             0.3333333333333333,
             "#9c179e"
            ],
            [
             0.4444444444444444,
             "#bd3786"
            ],
            [
             0.5555555555555556,
             "#d8576b"
            ],
            [
             0.6666666666666666,
             "#ed7953"
            ],
            [
             0.7777777777777778,
             "#fb9f3a"
            ],
            [
             0.8888888888888888,
             "#fdca26"
            ],
            [
             1,
             "#f0f921"
            ]
           ],
           "sequentialminus": [
            [
             0,
             "#0d0887"
            ],
            [
             0.1111111111111111,
             "#46039f"
            ],
            [
             0.2222222222222222,
             "#7201a8"
            ],
            [
             0.3333333333333333,
             "#9c179e"
            ],
            [
             0.4444444444444444,
             "#bd3786"
            ],
            [
             0.5555555555555556,
             "#d8576b"
            ],
            [
             0.6666666666666666,
             "#ed7953"
            ],
            [
             0.7777777777777778,
             "#fb9f3a"
            ],
            [
             0.8888888888888888,
             "#fdca26"
            ],
            [
             1,
             "#f0f921"
            ]
           ]
          },
          "colorway": [
           "#636efa",
           "#EF553B",
           "#00cc96",
           "#ab63fa",
           "#FFA15A",
           "#19d3f3",
           "#FF6692",
           "#B6E880",
           "#FF97FF",
           "#FECB52"
          ],
          "font": {
           "color": "#2a3f5f"
          },
          "geo": {
           "bgcolor": "white",
           "lakecolor": "white",
           "landcolor": "#E5ECF6",
           "showlakes": true,
           "showland": true,
           "subunitcolor": "white"
          },
          "hoverlabel": {
           "align": "left"
          },
          "hovermode": "closest",
          "mapbox": {
           "style": "light"
          },
          "paper_bgcolor": "white",
          "plot_bgcolor": "#E5ECF6",
          "polar": {
           "angularaxis": {
            "gridcolor": "white",
            "linecolor": "white",
            "ticks": ""
           },
           "bgcolor": "#E5ECF6",
           "radialaxis": {
            "gridcolor": "white",
            "linecolor": "white",
            "ticks": ""
           }
          },
          "scene": {
           "xaxis": {
            "backgroundcolor": "#E5ECF6",
            "gridcolor": "white",
            "gridwidth": 2,
            "linecolor": "white",
            "showbackground": true,
            "ticks": "",
            "zerolinecolor": "white"
           },
           "yaxis": {
            "backgroundcolor": "#E5ECF6",
            "gridcolor": "white",
            "gridwidth": 2,
            "linecolor": "white",
            "showbackground": true,
            "ticks": "",
            "zerolinecolor": "white"
           },
           "zaxis": {
            "backgroundcolor": "#E5ECF6",
            "gridcolor": "white",
            "gridwidth": 2,
            "linecolor": "white",
            "showbackground": true,
            "ticks": "",
            "zerolinecolor": "white"
           }
          },
          "shapedefaults": {
           "line": {
            "color": "#2a3f5f"
           }
          },
          "ternary": {
           "aaxis": {
            "gridcolor": "white",
            "linecolor": "white",
            "ticks": ""
           },
           "baxis": {
            "gridcolor": "white",
            "linecolor": "white",
            "ticks": ""
           },
           "bgcolor": "#E5ECF6",
           "caxis": {
            "gridcolor": "white",
            "linecolor": "white",
            "ticks": ""
           }
          },
          "title": {
           "x": 0.05
          },
          "xaxis": {
           "automargin": true,
           "gridcolor": "white",
           "linecolor": "white",
           "ticks": "",
           "title": {
            "standoff": 15
           },
           "zerolinecolor": "white",
           "zerolinewidth": 2
          },
          "yaxis": {
           "automargin": true,
           "gridcolor": "white",
           "linecolor": "white",
           "ticks": "",
           "title": {
            "standoff": 15
           },
           "zerolinecolor": "white",
           "zerolinewidth": 2
          }
         }
        },
        "title": {
         "text": "TSS Values for Each Activity"
        },
        "xaxis": {
         "anchor": "y",
         "domain": [
          0,
          1
         ],
         "title": {
          "text": "Activity Index"
         }
        },
        "yaxis": {
         "anchor": "x",
         "domain": [
          0,
          1
         ],
         "title": {
          "text": "Training Stress Score"
         }
        }
       }
      }
     },
     "metadata": {},
     "output_type": "display_data"
    },
    {
     "name": "stdout",
     "output_type": "stream",
     "text": [
      "Summary Statistics for TSS:\n",
      "count     38.000000\n",
      "mean      44.526316\n",
      "std       38.694044\n",
      "min        0.000000\n",
      "25%       14.000000\n",
      "50%       40.000000\n",
      "75%       61.750000\n",
      "max      156.000000\n",
      "Name: TSS, dtype: float64\n"
     ]
    },
    {
     "data": {
      "application/vnd.plotly.v1+json": {
       "config": {
        "plotlyServerURL": "https://plot.ly"
       },
       "data": [
        {
         "alignmentgroup": "True",
         "bingroup": "x",
         "hovertemplate": "Training Stress Score=%{x}<br>count=%{y}<extra></extra>",
         "legendgroup": "",
         "marker": {
          "color": "#636efa",
          "pattern": {
           "shape": ""
          }
         },
         "name": "",
         "nbinsx": 10,
         "offsetgroup": "",
         "orientation": "v",
         "showlegend": false,
         "type": "histogram",
         "x": [
          114,
          80,
          156,
          59,
          62,
          41,
          103,
          42,
          84,
          123,
          110,
          56,
          61,
          69,
          45,
          41,
          66,
          52,
          39,
          38,
          46,
          30,
          17,
          24,
          26,
          17,
          13,
          12,
          17,
          17,
          9,
          9,
          9,
          3,
          1,
          1,
          0,
          0
         ],
         "xaxis": "x",
         "yaxis": "y"
        }
       ],
       "layout": {
        "barmode": "relative",
        "legend": {
         "tracegroupgap": 0
        },
        "template": {
         "data": {
          "bar": [
           {
            "error_x": {
             "color": "#2a3f5f"
            },
            "error_y": {
             "color": "#2a3f5f"
            },
            "marker": {
             "line": {
              "color": "#E5ECF6",
              "width": 0.5
             },
             "pattern": {
              "fillmode": "overlay",
              "size": 10,
              "solidity": 0.2
             }
            },
            "type": "bar"
           }
          ],
          "barpolar": [
           {
            "marker": {
             "line": {
              "color": "#E5ECF6",
              "width": 0.5
             },
             "pattern": {
              "fillmode": "overlay",
              "size": 10,
              "solidity": 0.2
             }
            },
            "type": "barpolar"
           }
          ],
          "carpet": [
           {
            "aaxis": {
             "endlinecolor": "#2a3f5f",
             "gridcolor": "white",
             "linecolor": "white",
             "minorgridcolor": "white",
             "startlinecolor": "#2a3f5f"
            },
            "baxis": {
             "endlinecolor": "#2a3f5f",
             "gridcolor": "white",
             "linecolor": "white",
             "minorgridcolor": "white",
             "startlinecolor": "#2a3f5f"
            },
            "type": "carpet"
           }
          ],
          "choropleth": [
           {
            "colorbar": {
             "outlinewidth": 0,
             "ticks": ""
            },
            "type": "choropleth"
           }
          ],
          "contour": [
           {
            "colorbar": {
             "outlinewidth": 0,
             "ticks": ""
            },
            "colorscale": [
             [
              0,
              "#0d0887"
             ],
             [
              0.1111111111111111,
              "#46039f"
             ],
             [
              0.2222222222222222,
              "#7201a8"
             ],
             [
              0.3333333333333333,
              "#9c179e"
             ],
             [
              0.4444444444444444,
              "#bd3786"
             ],
             [
              0.5555555555555556,
              "#d8576b"
             ],
             [
              0.6666666666666666,
              "#ed7953"
             ],
             [
              0.7777777777777778,
              "#fb9f3a"
             ],
             [
              0.8888888888888888,
              "#fdca26"
             ],
             [
              1,
              "#f0f921"
             ]
            ],
            "type": "contour"
           }
          ],
          "contourcarpet": [
           {
            "colorbar": {
             "outlinewidth": 0,
             "ticks": ""
            },
            "type": "contourcarpet"
           }
          ],
          "heatmap": [
           {
            "colorbar": {
             "outlinewidth": 0,
             "ticks": ""
            },
            "colorscale": [
             [
              0,
              "#0d0887"
             ],
             [
              0.1111111111111111,
              "#46039f"
             ],
             [
              0.2222222222222222,
              "#7201a8"
             ],
             [
              0.3333333333333333,
              "#9c179e"
             ],
             [
              0.4444444444444444,
              "#bd3786"
             ],
             [
              0.5555555555555556,
              "#d8576b"
             ],
             [
              0.6666666666666666,
              "#ed7953"
             ],
             [
              0.7777777777777778,
              "#fb9f3a"
             ],
             [
              0.8888888888888888,
              "#fdca26"
             ],
             [
              1,
              "#f0f921"
             ]
            ],
            "type": "heatmap"
           }
          ],
          "heatmapgl": [
           {
            "colorbar": {
             "outlinewidth": 0,
             "ticks": ""
            },
            "colorscale": [
             [
              0,
              "#0d0887"
             ],
             [
              0.1111111111111111,
              "#46039f"
             ],
             [
              0.2222222222222222,
              "#7201a8"
             ],
             [
              0.3333333333333333,
              "#9c179e"
             ],
             [
              0.4444444444444444,
              "#bd3786"
             ],
             [
              0.5555555555555556,
              "#d8576b"
             ],
             [
              0.6666666666666666,
              "#ed7953"
             ],
             [
              0.7777777777777778,
              "#fb9f3a"
             ],
             [
              0.8888888888888888,
              "#fdca26"
             ],
             [
              1,
              "#f0f921"
             ]
            ],
            "type": "heatmapgl"
           }
          ],
          "histogram": [
           {
            "marker": {
             "pattern": {
              "fillmode": "overlay",
              "size": 10,
              "solidity": 0.2
             }
            },
            "type": "histogram"
           }
          ],
          "histogram2d": [
           {
            "colorbar": {
             "outlinewidth": 0,
             "ticks": ""
            },
            "colorscale": [
             [
              0,
              "#0d0887"
             ],
             [
              0.1111111111111111,
              "#46039f"
             ],
             [
              0.2222222222222222,
              "#7201a8"
             ],
             [
              0.3333333333333333,
              "#9c179e"
             ],
             [
              0.4444444444444444,
              "#bd3786"
             ],
             [
              0.5555555555555556,
              "#d8576b"
             ],
             [
              0.6666666666666666,
              "#ed7953"
             ],
             [
              0.7777777777777778,
              "#fb9f3a"
             ],
             [
              0.8888888888888888,
              "#fdca26"
             ],
             [
              1,
              "#f0f921"
             ]
            ],
            "type": "histogram2d"
           }
          ],
          "histogram2dcontour": [
           {
            "colorbar": {
             "outlinewidth": 0,
             "ticks": ""
            },
            "colorscale": [
             [
              0,
              "#0d0887"
             ],
             [
              0.1111111111111111,
              "#46039f"
             ],
             [
              0.2222222222222222,
              "#7201a8"
             ],
             [
              0.3333333333333333,
              "#9c179e"
             ],
             [
              0.4444444444444444,
              "#bd3786"
             ],
             [
              0.5555555555555556,
              "#d8576b"
             ],
             [
              0.6666666666666666,
              "#ed7953"
             ],
             [
              0.7777777777777778,
              "#fb9f3a"
             ],
             [
              0.8888888888888888,
              "#fdca26"
             ],
             [
              1,
              "#f0f921"
             ]
            ],
            "type": "histogram2dcontour"
           }
          ],
          "mesh3d": [
           {
            "colorbar": {
             "outlinewidth": 0,
             "ticks": ""
            },
            "type": "mesh3d"
           }
          ],
          "parcoords": [
           {
            "line": {
             "colorbar": {
              "outlinewidth": 0,
              "ticks": ""
             }
            },
            "type": "parcoords"
           }
          ],
          "pie": [
           {
            "automargin": true,
            "type": "pie"
           }
          ],
          "scatter": [
           {
            "fillpattern": {
             "fillmode": "overlay",
             "size": 10,
             "solidity": 0.2
            },
            "type": "scatter"
           }
          ],
          "scatter3d": [
           {
            "line": {
             "colorbar": {
              "outlinewidth": 0,
              "ticks": ""
             }
            },
            "marker": {
             "colorbar": {
              "outlinewidth": 0,
              "ticks": ""
             }
            },
            "type": "scatter3d"
           }
          ],
          "scattercarpet": [
           {
            "marker": {
             "colorbar": {
              "outlinewidth": 0,
              "ticks": ""
             }
            },
            "type": "scattercarpet"
           }
          ],
          "scattergeo": [
           {
            "marker": {
             "colorbar": {
              "outlinewidth": 0,
              "ticks": ""
             }
            },
            "type": "scattergeo"
           }
          ],
          "scattergl": [
           {
            "marker": {
             "colorbar": {
              "outlinewidth": 0,
              "ticks": ""
             }
            },
            "type": "scattergl"
           }
          ],
          "scattermapbox": [
           {
            "marker": {
             "colorbar": {
              "outlinewidth": 0,
              "ticks": ""
             }
            },
            "type": "scattermapbox"
           }
          ],
          "scatterpolar": [
           {
            "marker": {
             "colorbar": {
              "outlinewidth": 0,
              "ticks": ""
             }
            },
            "type": "scatterpolar"
           }
          ],
          "scatterpolargl": [
           {
            "marker": {
             "colorbar": {
              "outlinewidth": 0,
              "ticks": ""
             }
            },
            "type": "scatterpolargl"
           }
          ],
          "scatterternary": [
           {
            "marker": {
             "colorbar": {
              "outlinewidth": 0,
              "ticks": ""
             }
            },
            "type": "scatterternary"
           }
          ],
          "surface": [
           {
            "colorbar": {
             "outlinewidth": 0,
             "ticks": ""
            },
            "colorscale": [
             [
              0,
              "#0d0887"
             ],
             [
              0.1111111111111111,
              "#46039f"
             ],
             [
              0.2222222222222222,
              "#7201a8"
             ],
             [
              0.3333333333333333,
              "#9c179e"
             ],
             [
              0.4444444444444444,
              "#bd3786"
             ],
             [
              0.5555555555555556,
              "#d8576b"
             ],
             [
              0.6666666666666666,
              "#ed7953"
             ],
             [
              0.7777777777777778,
              "#fb9f3a"
             ],
             [
              0.8888888888888888,
              "#fdca26"
             ],
             [
              1,
              "#f0f921"
             ]
            ],
            "type": "surface"
           }
          ],
          "table": [
           {
            "cells": {
             "fill": {
              "color": "#EBF0F8"
             },
             "line": {
              "color": "white"
             }
            },
            "header": {
             "fill": {
              "color": "#C8D4E3"
             },
             "line": {
              "color": "white"
             }
            },
            "type": "table"
           }
          ]
         },
         "layout": {
          "annotationdefaults": {
           "arrowcolor": "#2a3f5f",
           "arrowhead": 0,
           "arrowwidth": 1
          },
          "autotypenumbers": "strict",
          "coloraxis": {
           "colorbar": {
            "outlinewidth": 0,
            "ticks": ""
           }
          },
          "colorscale": {
           "diverging": [
            [
             0,
             "#8e0152"
            ],
            [
             0.1,
             "#c51b7d"
            ],
            [
             0.2,
             "#de77ae"
            ],
            [
             0.3,
             "#f1b6da"
            ],
            [
             0.4,
             "#fde0ef"
            ],
            [
             0.5,
             "#f7f7f7"
            ],
            [
             0.6,
             "#e6f5d0"
            ],
            [
             0.7,
             "#b8e186"
            ],
            [
             0.8,
             "#7fbc41"
            ],
            [
             0.9,
             "#4d9221"
            ],
            [
             1,
             "#276419"
            ]
           ],
           "sequential": [
            [
             0,
             "#0d0887"
            ],
            [
             0.1111111111111111,
             "#46039f"
            ],
            [
             0.2222222222222222,
             "#7201a8"
            ],
            [
             0.3333333333333333,
             "#9c179e"
            ],
            [
             0.4444444444444444,
             "#bd3786"
            ],
            [
             0.5555555555555556,
             "#d8576b"
            ],
            [
             0.6666666666666666,
             "#ed7953"
            ],
            [
             0.7777777777777778,
             "#fb9f3a"
            ],
            [
             0.8888888888888888,
             "#fdca26"
            ],
            [
             1,
             "#f0f921"
            ]
           ],
           "sequentialminus": [
            [
             0,
             "#0d0887"
            ],
            [
             0.1111111111111111,
             "#46039f"
            ],
            [
             0.2222222222222222,
             "#7201a8"
            ],
            [
             0.3333333333333333,
             "#9c179e"
            ],
            [
             0.4444444444444444,
             "#bd3786"
            ],
            [
             0.5555555555555556,
             "#d8576b"
            ],
            [
             0.6666666666666666,
             "#ed7953"
            ],
            [
             0.7777777777777778,
             "#fb9f3a"
            ],
            [
             0.8888888888888888,
             "#fdca26"
            ],
            [
             1,
             "#f0f921"
            ]
           ]
          },
          "colorway": [
           "#636efa",
           "#EF553B",
           "#00cc96",
           "#ab63fa",
           "#FFA15A",
           "#19d3f3",
           "#FF6692",
           "#B6E880",
           "#FF97FF",
           "#FECB52"
          ],
          "font": {
           "color": "#2a3f5f"
          },
          "geo": {
           "bgcolor": "white",
           "lakecolor": "white",
           "landcolor": "#E5ECF6",
           "showlakes": true,
           "showland": true,
           "subunitcolor": "white"
          },
          "hoverlabel": {
           "align": "left"
          },
          "hovermode": "closest",
          "mapbox": {
           "style": "light"
          },
          "paper_bgcolor": "white",
          "plot_bgcolor": "#E5ECF6",
          "polar": {
           "angularaxis": {
            "gridcolor": "white",
            "linecolor": "white",
            "ticks": ""
           },
           "bgcolor": "#E5ECF6",
           "radialaxis": {
            "gridcolor": "white",
            "linecolor": "white",
            "ticks": ""
           }
          },
          "scene": {
           "xaxis": {
            "backgroundcolor": "#E5ECF6",
            "gridcolor": "white",
            "gridwidth": 2,
            "linecolor": "white",
            "showbackground": true,
            "ticks": "",
            "zerolinecolor": "white"
           },
           "yaxis": {
            "backgroundcolor": "#E5ECF6",
            "gridcolor": "white",
            "gridwidth": 2,
            "linecolor": "white",
            "showbackground": true,
            "ticks": "",
            "zerolinecolor": "white"
           },
           "zaxis": {
            "backgroundcolor": "#E5ECF6",
            "gridcolor": "white",
            "gridwidth": 2,
            "linecolor": "white",
            "showbackground": true,
            "ticks": "",
            "zerolinecolor": "white"
           }
          },
          "shapedefaults": {
           "line": {
            "color": "#2a3f5f"
           }
          },
          "ternary": {
           "aaxis": {
            "gridcolor": "white",
            "linecolor": "white",
            "ticks": ""
           },
           "baxis": {
            "gridcolor": "white",
            "linecolor": "white",
            "ticks": ""
           },
           "bgcolor": "#E5ECF6",
           "caxis": {
            "gridcolor": "white",
            "linecolor": "white",
            "ticks": ""
           }
          },
          "title": {
           "x": 0.05
          },
          "xaxis": {
           "automargin": true,
           "gridcolor": "white",
           "linecolor": "white",
           "ticks": "",
           "title": {
            "standoff": 15
           },
           "zerolinecolor": "white",
           "zerolinewidth": 2
          },
          "yaxis": {
           "automargin": true,
           "gridcolor": "white",
           "linecolor": "white",
           "ticks": "",
           "title": {
            "standoff": 15
           },
           "zerolinecolor": "white",
           "zerolinewidth": 2
          }
         }
        },
        "title": {
         "text": "Distribution of Training Stress Score (TSS)"
        },
        "xaxis": {
         "anchor": "y",
         "domain": [
          0,
          1
         ],
         "title": {
          "text": "Training Stress Score"
         }
        },
        "yaxis": {
         "anchor": "x",
         "domain": [
          0,
          1
         ],
         "title": {
          "text": "count"
         }
        }
       }
      }
     },
     "metadata": {},
     "output_type": "display_data"
    },
    {
     "data": {
      "application/vnd.plotly.v1+json": {
       "config": {
        "plotlyServerURL": "https://plot.ly"
       },
       "data": [
        {
         "hovertemplate": "Intensity Factor=%{x}<br>Training Stress Score=%{y}<extra></extra>",
         "legendgroup": "",
         "marker": {
          "color": "#636efa",
          "symbol": "circle"
         },
         "mode": "markers",
         "name": "",
         "orientation": "v",
         "showlegend": false,
         "type": "scatter",
         "x": [
          0.65,
          0.63,
          0.96,
          0.74,
          0.77,
          0.64,
          1.02,
          0.65,
          0.93,
          1.12,
          1.06,
          0.77,
          0.85,
          0.91,
          0.75,
          0.73,
          0.93,
          0.97,
          0.85,
          0.85,
          0.94,
          0.77,
          0.63,
          0.76,
          0.8,
          0.64,
          0.6,
          0.59,
          0.72,
          0.77,
          0.57,
          0.61,
          0.7,
          0.88,
          0.47,
          0.44,
          0.35,
          0
         ],
         "xaxis": "x",
         "y": [
          114,
          80,
          156,
          59,
          62,
          41,
          103,
          42,
          84,
          123,
          110,
          56,
          61,
          69,
          45,
          41,
          66,
          52,
          39,
          38,
          46,
          30,
          17,
          24,
          26,
          17,
          13,
          12,
          17,
          17,
          9,
          9,
          9,
          3,
          1,
          1,
          0,
          0
         ],
         "yaxis": "y"
        },
        {
         "hovertemplate": "<b>OLS trendline</b><br>TSS = 118.905 * IF + -43.1506<br>R<sup>2</sup>=0.419563<br><br>Intensity Factor=%{x}<br>Training Stress Score=%{y} <b>(trend)</b><extra></extra>",
         "legendgroup": "",
         "marker": {
          "color": "#636efa",
          "symbol": "circle"
         },
         "mode": "lines",
         "name": "",
         "showlegend": false,
         "type": "scatter",
         "x": [
          0,
          0.35,
          0.44,
          0.47,
          0.57,
          0.59,
          0.6,
          0.61,
          0.63,
          0.63,
          0.64,
          0.64,
          0.65,
          0.65,
          0.7,
          0.72,
          0.73,
          0.74,
          0.75,
          0.76,
          0.77,
          0.77,
          0.77,
          0.77,
          0.8,
          0.85,
          0.85,
          0.85,
          0.88,
          0.91,
          0.93,
          0.93,
          0.94,
          0.96,
          0.97,
          1.02,
          1.06,
          1.12
         ],
         "xaxis": "x",
         "y": [
          -43.150620461792734,
          -1.5338020413129811,
          9.167665552524674,
          12.734821417137226,
          24.62534096584573,
          27.003444875587427,
          28.192496830458275,
          29.381548785329123,
          31.759652695070834,
          31.759652695070834,
          32.94870464994168,
          32.94870464994168,
          34.13775660481253,
          34.13775660481253,
          40.08301637916677,
          42.46112028890848,
          43.65017224377933,
          44.83922419865018,
          46.02827615352103,
          47.21732810839189,
          48.40638006326274,
          48.40638006326274,
          48.40638006326274,
          48.40638006326274,
          51.9735359278753,
          57.91879570222954,
          57.91879570222954,
          57.91879570222954,
          61.48595156684208,
          65.05310743145463,
          67.43121134119633,
          67.43121134119633,
          68.62026329606718,
          70.99836720580888,
          72.18741916067972,
          78.132678935034,
          82.88888675451739,
          90.0231984837425
         ],
         "yaxis": "y"
        }
       ],
       "layout": {
        "legend": {
         "tracegroupgap": 0
        },
        "template": {
         "data": {
          "bar": [
           {
            "error_x": {
             "color": "#2a3f5f"
            },
            "error_y": {
             "color": "#2a3f5f"
            },
            "marker": {
             "line": {
              "color": "#E5ECF6",
              "width": 0.5
             },
             "pattern": {
              "fillmode": "overlay",
              "size": 10,
              "solidity": 0.2
             }
            },
            "type": "bar"
           }
          ],
          "barpolar": [
           {
            "marker": {
             "line": {
              "color": "#E5ECF6",
              "width": 0.5
             },
             "pattern": {
              "fillmode": "overlay",
              "size": 10,
              "solidity": 0.2
             }
            },
            "type": "barpolar"
           }
          ],
          "carpet": [
           {
            "aaxis": {
             "endlinecolor": "#2a3f5f",
             "gridcolor": "white",
             "linecolor": "white",
             "minorgridcolor": "white",
             "startlinecolor": "#2a3f5f"
            },
            "baxis": {
             "endlinecolor": "#2a3f5f",
             "gridcolor": "white",
             "linecolor": "white",
             "minorgridcolor": "white",
             "startlinecolor": "#2a3f5f"
            },
            "type": "carpet"
           }
          ],
          "choropleth": [
           {
            "colorbar": {
             "outlinewidth": 0,
             "ticks": ""
            },
            "type": "choropleth"
           }
          ],
          "contour": [
           {
            "colorbar": {
             "outlinewidth": 0,
             "ticks": ""
            },
            "colorscale": [
             [
              0,
              "#0d0887"
             ],
             [
              0.1111111111111111,
              "#46039f"
             ],
             [
              0.2222222222222222,
              "#7201a8"
             ],
             [
              0.3333333333333333,
              "#9c179e"
             ],
             [
              0.4444444444444444,
              "#bd3786"
             ],
             [
              0.5555555555555556,
              "#d8576b"
             ],
             [
              0.6666666666666666,
              "#ed7953"
             ],
             [
              0.7777777777777778,
              "#fb9f3a"
             ],
             [
              0.8888888888888888,
              "#fdca26"
             ],
             [
              1,
              "#f0f921"
             ]
            ],
            "type": "contour"
           }
          ],
          "contourcarpet": [
           {
            "colorbar": {
             "outlinewidth": 0,
             "ticks": ""
            },
            "type": "contourcarpet"
           }
          ],
          "heatmap": [
           {
            "colorbar": {
             "outlinewidth": 0,
             "ticks": ""
            },
            "colorscale": [
             [
              0,
              "#0d0887"
             ],
             [
              0.1111111111111111,
              "#46039f"
             ],
             [
              0.2222222222222222,
              "#7201a8"
             ],
             [
              0.3333333333333333,
              "#9c179e"
             ],
             [
              0.4444444444444444,
              "#bd3786"
             ],
             [
              0.5555555555555556,
              "#d8576b"
             ],
             [
              0.6666666666666666,
              "#ed7953"
             ],
             [
              0.7777777777777778,
              "#fb9f3a"
             ],
             [
              0.8888888888888888,
              "#fdca26"
             ],
             [
              1,
              "#f0f921"
             ]
            ],
            "type": "heatmap"
           }
          ],
          "heatmapgl": [
           {
            "colorbar": {
             "outlinewidth": 0,
             "ticks": ""
            },
            "colorscale": [
             [
              0,
              "#0d0887"
             ],
             [
              0.1111111111111111,
              "#46039f"
             ],
             [
              0.2222222222222222,
              "#7201a8"
             ],
             [
              0.3333333333333333,
              "#9c179e"
             ],
             [
              0.4444444444444444,
              "#bd3786"
             ],
             [
              0.5555555555555556,
              "#d8576b"
             ],
             [
              0.6666666666666666,
              "#ed7953"
             ],
             [
              0.7777777777777778,
              "#fb9f3a"
             ],
             [
              0.8888888888888888,
              "#fdca26"
             ],
             [
              1,
              "#f0f921"
             ]
            ],
            "type": "heatmapgl"
           }
          ],
          "histogram": [
           {
            "marker": {
             "pattern": {
              "fillmode": "overlay",
              "size": 10,
              "solidity": 0.2
             }
            },
            "type": "histogram"
           }
          ],
          "histogram2d": [
           {
            "colorbar": {
             "outlinewidth": 0,
             "ticks": ""
            },
            "colorscale": [
             [
              0,
              "#0d0887"
             ],
             [
              0.1111111111111111,
              "#46039f"
             ],
             [
              0.2222222222222222,
              "#7201a8"
             ],
             [
              0.3333333333333333,
              "#9c179e"
             ],
             [
              0.4444444444444444,
              "#bd3786"
             ],
             [
              0.5555555555555556,
              "#d8576b"
             ],
             [
              0.6666666666666666,
              "#ed7953"
             ],
             [
              0.7777777777777778,
              "#fb9f3a"
             ],
             [
              0.8888888888888888,
              "#fdca26"
             ],
             [
              1,
              "#f0f921"
             ]
            ],
            "type": "histogram2d"
           }
          ],
          "histogram2dcontour": [
           {
            "colorbar": {
             "outlinewidth": 0,
             "ticks": ""
            },
            "colorscale": [
             [
              0,
              "#0d0887"
             ],
             [
              0.1111111111111111,
              "#46039f"
             ],
             [
              0.2222222222222222,
              "#7201a8"
             ],
             [
              0.3333333333333333,
              "#9c179e"
             ],
             [
              0.4444444444444444,
              "#bd3786"
             ],
             [
              0.5555555555555556,
              "#d8576b"
             ],
             [
              0.6666666666666666,
              "#ed7953"
             ],
             [
              0.7777777777777778,
              "#fb9f3a"
             ],
             [
              0.8888888888888888,
              "#fdca26"
             ],
             [
              1,
              "#f0f921"
             ]
            ],
            "type": "histogram2dcontour"
           }
          ],
          "mesh3d": [
           {
            "colorbar": {
             "outlinewidth": 0,
             "ticks": ""
            },
            "type": "mesh3d"
           }
          ],
          "parcoords": [
           {
            "line": {
             "colorbar": {
              "outlinewidth": 0,
              "ticks": ""
             }
            },
            "type": "parcoords"
           }
          ],
          "pie": [
           {
            "automargin": true,
            "type": "pie"
           }
          ],
          "scatter": [
           {
            "fillpattern": {
             "fillmode": "overlay",
             "size": 10,
             "solidity": 0.2
            },
            "type": "scatter"
           }
          ],
          "scatter3d": [
           {
            "line": {
             "colorbar": {
              "outlinewidth": 0,
              "ticks": ""
             }
            },
            "marker": {
             "colorbar": {
              "outlinewidth": 0,
              "ticks": ""
             }
            },
            "type": "scatter3d"
           }
          ],
          "scattercarpet": [
           {
            "marker": {
             "colorbar": {
              "outlinewidth": 0,
              "ticks": ""
             }
            },
            "type": "scattercarpet"
           }
          ],
          "scattergeo": [
           {
            "marker": {
             "colorbar": {
              "outlinewidth": 0,
              "ticks": ""
             }
            },
            "type": "scattergeo"
           }
          ],
          "scattergl": [
           {
            "marker": {
             "colorbar": {
              "outlinewidth": 0,
              "ticks": ""
             }
            },
            "type": "scattergl"
           }
          ],
          "scattermapbox": [
           {
            "marker": {
             "colorbar": {
              "outlinewidth": 0,
              "ticks": ""
             }
            },
            "type": "scattermapbox"
           }
          ],
          "scatterpolar": [
           {
            "marker": {
             "colorbar": {
              "outlinewidth": 0,
              "ticks": ""
             }
            },
            "type": "scatterpolar"
           }
          ],
          "scatterpolargl": [
           {
            "marker": {
             "colorbar": {
              "outlinewidth": 0,
              "ticks": ""
             }
            },
            "type": "scatterpolargl"
           }
          ],
          "scatterternary": [
           {
            "marker": {
             "colorbar": {
              "outlinewidth": 0,
              "ticks": ""
             }
            },
            "type": "scatterternary"
           }
          ],
          "surface": [
           {
            "colorbar": {
             "outlinewidth": 0,
             "ticks": ""
            },
            "colorscale": [
             [
              0,
              "#0d0887"
             ],
             [
              0.1111111111111111,
              "#46039f"
             ],
             [
              0.2222222222222222,
              "#7201a8"
             ],
             [
              0.3333333333333333,
              "#9c179e"
             ],
             [
              0.4444444444444444,
              "#bd3786"
             ],
             [
              0.5555555555555556,
              "#d8576b"
             ],
             [
              0.6666666666666666,
              "#ed7953"
             ],
             [
              0.7777777777777778,
              "#fb9f3a"
             ],
             [
              0.8888888888888888,
              "#fdca26"
             ],
             [
              1,
              "#f0f921"
             ]
            ],
            "type": "surface"
           }
          ],
          "table": [
           {
            "cells": {
             "fill": {
              "color": "#EBF0F8"
             },
             "line": {
              "color": "white"
             }
            },
            "header": {
             "fill": {
              "color": "#C8D4E3"
             },
             "line": {
              "color": "white"
             }
            },
            "type": "table"
           }
          ]
         },
         "layout": {
          "annotationdefaults": {
           "arrowcolor": "#2a3f5f",
           "arrowhead": 0,
           "arrowwidth": 1
          },
          "autotypenumbers": "strict",
          "coloraxis": {
           "colorbar": {
            "outlinewidth": 0,
            "ticks": ""
           }
          },
          "colorscale": {
           "diverging": [
            [
             0,
             "#8e0152"
            ],
            [
             0.1,
             "#c51b7d"
            ],
            [
             0.2,
             "#de77ae"
            ],
            [
             0.3,
             "#f1b6da"
            ],
            [
             0.4,
             "#fde0ef"
            ],
            [
             0.5,
             "#f7f7f7"
            ],
            [
             0.6,
             "#e6f5d0"
            ],
            [
             0.7,
             "#b8e186"
            ],
            [
             0.8,
             "#7fbc41"
            ],
            [
             0.9,
             "#4d9221"
            ],
            [
             1,
             "#276419"
            ]
           ],
           "sequential": [
            [
             0,
             "#0d0887"
            ],
            [
             0.1111111111111111,
             "#46039f"
            ],
            [
             0.2222222222222222,
             "#7201a8"
            ],
            [
             0.3333333333333333,
             "#9c179e"
            ],
            [
             0.4444444444444444,
             "#bd3786"
            ],
            [
             0.5555555555555556,
             "#d8576b"
            ],
            [
             0.6666666666666666,
             "#ed7953"
            ],
            [
             0.7777777777777778,
             "#fb9f3a"
            ],
            [
             0.8888888888888888,
             "#fdca26"
            ],
            [
             1,
             "#f0f921"
            ]
           ],
           "sequentialminus": [
            [
             0,
             "#0d0887"
            ],
            [
             0.1111111111111111,
             "#46039f"
            ],
            [
             0.2222222222222222,
             "#7201a8"
            ],
            [
             0.3333333333333333,
             "#9c179e"
            ],
            [
             0.4444444444444444,
             "#bd3786"
            ],
            [
             0.5555555555555556,
             "#d8576b"
            ],
            [
             0.6666666666666666,
             "#ed7953"
            ],
            [
             0.7777777777777778,
             "#fb9f3a"
            ],
            [
             0.8888888888888888,
             "#fdca26"
            ],
            [
             1,
             "#f0f921"
            ]
           ]
          },
          "colorway": [
           "#636efa",
           "#EF553B",
           "#00cc96",
           "#ab63fa",
           "#FFA15A",
           "#19d3f3",
           "#FF6692",
           "#B6E880",
           "#FF97FF",
           "#FECB52"
          ],
          "font": {
           "color": "#2a3f5f"
          },
          "geo": {
           "bgcolor": "white",
           "lakecolor": "white",
           "landcolor": "#E5ECF6",
           "showlakes": true,
           "showland": true,
           "subunitcolor": "white"
          },
          "hoverlabel": {
           "align": "left"
          },
          "hovermode": "closest",
          "mapbox": {
           "style": "light"
          },
          "paper_bgcolor": "white",
          "plot_bgcolor": "#E5ECF6",
          "polar": {
           "angularaxis": {
            "gridcolor": "white",
            "linecolor": "white",
            "ticks": ""
           },
           "bgcolor": "#E5ECF6",
           "radialaxis": {
            "gridcolor": "white",
            "linecolor": "white",
            "ticks": ""
           }
          },
          "scene": {
           "xaxis": {
            "backgroundcolor": "#E5ECF6",
            "gridcolor": "white",
            "gridwidth": 2,
            "linecolor": "white",
            "showbackground": true,
            "ticks": "",
            "zerolinecolor": "white"
           },
           "yaxis": {
            "backgroundcolor": "#E5ECF6",
            "gridcolor": "white",
            "gridwidth": 2,
            "linecolor": "white",
            "showbackground": true,
            "ticks": "",
            "zerolinecolor": "white"
           },
           "zaxis": {
            "backgroundcolor": "#E5ECF6",
            "gridcolor": "white",
            "gridwidth": 2,
            "linecolor": "white",
            "showbackground": true,
            "ticks": "",
            "zerolinecolor": "white"
           }
          },
          "shapedefaults": {
           "line": {
            "color": "#2a3f5f"
           }
          },
          "ternary": {
           "aaxis": {
            "gridcolor": "white",
            "linecolor": "white",
            "ticks": ""
           },
           "baxis": {
            "gridcolor": "white",
            "linecolor": "white",
            "ticks": ""
           },
           "bgcolor": "#E5ECF6",
           "caxis": {
            "gridcolor": "white",
            "linecolor": "white",
            "ticks": ""
           }
          },
          "title": {
           "x": 0.05
          },
          "xaxis": {
           "automargin": true,
           "gridcolor": "white",
           "linecolor": "white",
           "ticks": "",
           "title": {
            "standoff": 15
           },
           "zerolinecolor": "white",
           "zerolinewidth": 2
          },
          "yaxis": {
           "automargin": true,
           "gridcolor": "white",
           "linecolor": "white",
           "ticks": "",
           "title": {
            "standoff": 15
           },
           "zerolinecolor": "white",
           "zerolinewidth": 2
          }
         }
        },
        "title": {
         "text": "TSS vs Intensity Factor (IF)"
        },
        "xaxis": {
         "anchor": "y",
         "domain": [
          0,
          1
         ],
         "title": {
          "text": "Intensity Factor"
         }
        },
        "yaxis": {
         "anchor": "x",
         "domain": [
          0,
          1
         ],
         "title": {
          "text": "Training Stress Score"
         }
        }
       }
      }
     },
     "metadata": {},
     "output_type": "display_data"
    }
   ],
   "source": [
    "import pandas as pd\n",
    "import plotly.express as px\n",
    "\n",
    "# Load the provided cycling data\n",
    "wahoo_data_path = '/Users/ngirmay/Documents/GitHub/ironman_retrospective/IronMan_2023/wahoo/wahoo_data.csv'\n",
    "cycling_data = pd.read_csv(wahoo_data_path)\n",
    "\n",
    "# 1. Bar Graph: Count of Different Cycling Activities\n",
    "activity_counts = cycling_data['Activity Name'].value_counts()\n",
    "\n",
    "# Create a bar plot using plotly\n",
    "fig1 = px.bar(activity_counts, \n",
    "              x=activity_counts.index, \n",
    "              y=activity_counts.values, \n",
    "              title='Count of Different Cycling Activities',\n",
    "              labels={'x':'Activity Name', 'y':'Count'})\n",
    "\n",
    "# Update layout for better display\n",
    "fig1.update_layout(xaxis_tickangle=-90)\n",
    "\n",
    "# Show the first plot\n",
    "fig1.show()\n",
    "\n",
    "# Check if the TSS column exists or calculate it\n",
    "if 'TSS' not in cycling_data.columns:\n",
    "    # Assuming 'Duration' and 'Normalized Power' exist to calculate TSS (using FTP of 250W as an example)\n",
    "    cycling_data['Duration (hours)'] = pd.to_timedelta(cycling_data['Duration']).dt.total_seconds() / 3600\n",
    "    FTP = 250  # Adjust this value based on your actual FTP\n",
    "    cycling_data['IF'] = cycling_data['Normalized Power'] / FTP\n",
    "    cycling_data['TSS'] = (cycling_data['Duration (hours)'] * cycling_data['Normalized Power'] * cycling_data['IF']) / (FTP * 100)\n",
    "\n",
    "# 2. Bar Graph: Showing TSS values for each entry\n",
    "fig2 = px.bar(cycling_data, \n",
    "              y='TSS', \n",
    "              title='TSS Values for Each Activity',\n",
    "              labels={'index': 'Activity', 'TSS': 'Training Stress Score'},\n",
    "              text='TSS')\n",
    "\n",
    "# Update layout for better display\n",
    "fig2.update_layout(xaxis={'title':'Activity Index'}, \n",
    "                   yaxis={'title':'Training Stress Score'},\n",
    "                   showlegend=False)\n",
    "\n",
    "# Show the second plot\n",
    "fig2.show()\n",
    "\n",
    "# 3. Summary Statistics for TSS\n",
    "summary_stats = cycling_data['TSS'].describe()\n",
    "\n",
    "# Display summary statistics for TSS\n",
    "print(\"Summary Statistics for TSS:\")\n",
    "print(summary_stats)\n",
    "\n",
    "# 4. Visualization: Distribution of Training Stress Score (TSS)\n",
    "fig3 = px.histogram(cycling_data, \n",
    "                    x='TSS', \n",
    "                    title='Distribution of Training Stress Score (TSS)',\n",
    "                    labels={'TSS':'Training Stress Score'},\n",
    "                    nbins=10)\n",
    "\n",
    "# Show the distribution plot\n",
    "fig3.show()\n",
    "\n",
    "# 5. Scatter Plot: TSS vs IF (if available)\n",
    "if 'IF' in cycling_data.columns:\n",
    "    fig4 = px.scatter(cycling_data, \n",
    "                      x='IF', \n",
    "                      y='TSS', \n",
    "                      title='TSS vs Intensity Factor (IF)',\n",
    "                      labels={'IF':'Intensity Factor', 'TSS':'Training Stress Score'},\n",
    "                      trendline='ols')\n",
    "    fig4.show()\n"
   ]
  },
  {
   "cell_type": "code",
   "execution_count": 30,
   "metadata": {},
   "outputs": [
    {
     "name": "stdout",
     "output_type": "stream",
     "text": [
      "Descriptive Statistics:\n",
      "+-------+-------+-----------+------------------+------+----------------+\n",
      "|       |  TSS  | Avg_Power | Normalized_Power |  IF  | Duration_hours |\n",
      "+-------+-------+-----------+------------------+------+----------------+\n",
      "| count | 33.0  |   33.0    |       33.0       | 33.0 |      33.0      |\n",
      "| mean  | 51.12 |  124.64   |      140.64      | 0.78 |      0.78      |\n",
      "|  std  | 37.28 |   12.66   |      22.19       | 0.15 |      0.53      |\n",
      "|  min  |  9.0  |   100.0   |      102.0       | 0.57 |      0.19      |\n",
      "|  25%  | 17.0  |   112.0   |      124.0       | 0.65 |      0.42      |\n",
      "|  50%  | 42.0  |   127.0   |      143.0       | 0.77 |      0.76      |\n",
      "|  75%  | 66.0  |   134.0   |      156.0       | 0.91 |      0.98      |\n",
      "|  max  | 156.0 |   149.0   |      188.0       | 1.12 |      2.72      |\n",
      "+-------+-------+-----------+------------------+------+----------------+\n"
     ]
    },
    {
     "data": {
      "application/vnd.plotly.v1+json": {
       "config": {
        "plotlyServerURL": "https://plot.ly"
       },
       "data": [
        {
         "coloraxis": "coloraxis",
         "hovertemplate": "x: %{x}<br>y: %{y}<br>color: %{z}<extra></extra>",
         "name": "0",
         "texttemplate": "%{z}",
         "type": "heatmap",
         "x": [
          "TSS",
          "Avg_Power",
          "Normalized_Power",
          "IF",
          "Duration_hours"
         ],
         "xaxis": "x",
         "y": [
          "TSS",
          "Avg_Power",
          "Normalized_Power",
          "IF",
          "Duration_hours"
         ],
         "yaxis": "y",
         "z": [
          [
           1,
           0.48,
           0.59,
           0.66,
           0.77
          ],
          [
           0.48,
           1,
           0.78,
           0.64,
           0.21
          ],
          [
           0.59,
           0.78,
           1,
           0.92,
           0.1
          ],
          [
           0.66,
           0.64,
           0.92,
           1,
           0.11
          ],
          [
           0.77,
           0.21,
           0.1,
           0.11,
           1
          ]
         ]
        }
       ],
       "layout": {
        "coloraxis": {
         "colorscale": [
          [
           0,
           "#e63946"
          ],
          [
           0.25,
           "#a8dadc"
          ],
          [
           0.5,
           "#90EE90"
          ],
          [
           0.75,
           "#457b9d"
          ],
          [
           1,
           "#1d3557"
          ]
         ]
        },
        "margin": {
         "t": 60
        },
        "template": {
         "data": {
          "bar": [
           {
            "error_x": {
             "color": "#2a3f5f"
            },
            "error_y": {
             "color": "#2a3f5f"
            },
            "marker": {
             "line": {
              "color": "#E5ECF6",
              "width": 0.5
             },
             "pattern": {
              "fillmode": "overlay",
              "size": 10,
              "solidity": 0.2
             }
            },
            "type": "bar"
           }
          ],
          "barpolar": [
           {
            "marker": {
             "line": {
              "color": "#E5ECF6",
              "width": 0.5
             },
             "pattern": {
              "fillmode": "overlay",
              "size": 10,
              "solidity": 0.2
             }
            },
            "type": "barpolar"
           }
          ],
          "carpet": [
           {
            "aaxis": {
             "endlinecolor": "#2a3f5f",
             "gridcolor": "white",
             "linecolor": "white",
             "minorgridcolor": "white",
             "startlinecolor": "#2a3f5f"
            },
            "baxis": {
             "endlinecolor": "#2a3f5f",
             "gridcolor": "white",
             "linecolor": "white",
             "minorgridcolor": "white",
             "startlinecolor": "#2a3f5f"
            },
            "type": "carpet"
           }
          ],
          "choropleth": [
           {
            "colorbar": {
             "outlinewidth": 0,
             "ticks": ""
            },
            "type": "choropleth"
           }
          ],
          "contour": [
           {
            "colorbar": {
             "outlinewidth": 0,
             "ticks": ""
            },
            "colorscale": [
             [
              0,
              "#0d0887"
             ],
             [
              0.1111111111111111,
              "#46039f"
             ],
             [
              0.2222222222222222,
              "#7201a8"
             ],
             [
              0.3333333333333333,
              "#9c179e"
             ],
             [
              0.4444444444444444,
              "#bd3786"
             ],
             [
              0.5555555555555556,
              "#d8576b"
             ],
             [
              0.6666666666666666,
              "#ed7953"
             ],
             [
              0.7777777777777778,
              "#fb9f3a"
             ],
             [
              0.8888888888888888,
              "#fdca26"
             ],
             [
              1,
              "#f0f921"
             ]
            ],
            "type": "contour"
           }
          ],
          "contourcarpet": [
           {
            "colorbar": {
             "outlinewidth": 0,
             "ticks": ""
            },
            "type": "contourcarpet"
           }
          ],
          "heatmap": [
           {
            "colorbar": {
             "outlinewidth": 0,
             "ticks": ""
            },
            "colorscale": [
             [
              0,
              "#0d0887"
             ],
             [
              0.1111111111111111,
              "#46039f"
             ],
             [
              0.2222222222222222,
              "#7201a8"
             ],
             [
              0.3333333333333333,
              "#9c179e"
             ],
             [
              0.4444444444444444,
              "#bd3786"
             ],
             [
              0.5555555555555556,
              "#d8576b"
             ],
             [
              0.6666666666666666,
              "#ed7953"
             ],
             [
              0.7777777777777778,
              "#fb9f3a"
             ],
             [
              0.8888888888888888,
              "#fdca26"
             ],
             [
              1,
              "#f0f921"
             ]
            ],
            "type": "heatmap"
           }
          ],
          "heatmapgl": [
           {
            "colorbar": {
             "outlinewidth": 0,
             "ticks": ""
            },
            "colorscale": [
             [
              0,
              "#0d0887"
             ],
             [
              0.1111111111111111,
              "#46039f"
             ],
             [
              0.2222222222222222,
              "#7201a8"
             ],
             [
              0.3333333333333333,
              "#9c179e"
             ],
             [
              0.4444444444444444,
              "#bd3786"
             ],
             [
              0.5555555555555556,
              "#d8576b"
             ],
             [
              0.6666666666666666,
              "#ed7953"
             ],
             [
              0.7777777777777778,
              "#fb9f3a"
             ],
             [
              0.8888888888888888,
              "#fdca26"
             ],
             [
              1,
              "#f0f921"
             ]
            ],
            "type": "heatmapgl"
           }
          ],
          "histogram": [
           {
            "marker": {
             "pattern": {
              "fillmode": "overlay",
              "size": 10,
              "solidity": 0.2
             }
            },
            "type": "histogram"
           }
          ],
          "histogram2d": [
           {
            "colorbar": {
             "outlinewidth": 0,
             "ticks": ""
            },
            "colorscale": [
             [
              0,
              "#0d0887"
             ],
             [
              0.1111111111111111,
              "#46039f"
             ],
             [
              0.2222222222222222,
              "#7201a8"
             ],
             [
              0.3333333333333333,
              "#9c179e"
             ],
             [
              0.4444444444444444,
              "#bd3786"
             ],
             [
              0.5555555555555556,
              "#d8576b"
             ],
             [
              0.6666666666666666,
              "#ed7953"
             ],
             [
              0.7777777777777778,
              "#fb9f3a"
             ],
             [
              0.8888888888888888,
              "#fdca26"
             ],
             [
              1,
              "#f0f921"
             ]
            ],
            "type": "histogram2d"
           }
          ],
          "histogram2dcontour": [
           {
            "colorbar": {
             "outlinewidth": 0,
             "ticks": ""
            },
            "colorscale": [
             [
              0,
              "#0d0887"
             ],
             [
              0.1111111111111111,
              "#46039f"
             ],
             [
              0.2222222222222222,
              "#7201a8"
             ],
             [
              0.3333333333333333,
              "#9c179e"
             ],
             [
              0.4444444444444444,
              "#bd3786"
             ],
             [
              0.5555555555555556,
              "#d8576b"
             ],
             [
              0.6666666666666666,
              "#ed7953"
             ],
             [
              0.7777777777777778,
              "#fb9f3a"
             ],
             [
              0.8888888888888888,
              "#fdca26"
             ],
             [
              1,
              "#f0f921"
             ]
            ],
            "type": "histogram2dcontour"
           }
          ],
          "mesh3d": [
           {
            "colorbar": {
             "outlinewidth": 0,
             "ticks": ""
            },
            "type": "mesh3d"
           }
          ],
          "parcoords": [
           {
            "line": {
             "colorbar": {
              "outlinewidth": 0,
              "ticks": ""
             }
            },
            "type": "parcoords"
           }
          ],
          "pie": [
           {
            "automargin": true,
            "type": "pie"
           }
          ],
          "scatter": [
           {
            "fillpattern": {
             "fillmode": "overlay",
             "size": 10,
             "solidity": 0.2
            },
            "type": "scatter"
           }
          ],
          "scatter3d": [
           {
            "line": {
             "colorbar": {
              "outlinewidth": 0,
              "ticks": ""
             }
            },
            "marker": {
             "colorbar": {
              "outlinewidth": 0,
              "ticks": ""
             }
            },
            "type": "scatter3d"
           }
          ],
          "scattercarpet": [
           {
            "marker": {
             "colorbar": {
              "outlinewidth": 0,
              "ticks": ""
             }
            },
            "type": "scattercarpet"
           }
          ],
          "scattergeo": [
           {
            "marker": {
             "colorbar": {
              "outlinewidth": 0,
              "ticks": ""
             }
            },
            "type": "scattergeo"
           }
          ],
          "scattergl": [
           {
            "marker": {
             "colorbar": {
              "outlinewidth": 0,
              "ticks": ""
             }
            },
            "type": "scattergl"
           }
          ],
          "scattermapbox": [
           {
            "marker": {
             "colorbar": {
              "outlinewidth": 0,
              "ticks": ""
             }
            },
            "type": "scattermapbox"
           }
          ],
          "scatterpolar": [
           {
            "marker": {
             "colorbar": {
              "outlinewidth": 0,
              "ticks": ""
             }
            },
            "type": "scatterpolar"
           }
          ],
          "scatterpolargl": [
           {
            "marker": {
             "colorbar": {
              "outlinewidth": 0,
              "ticks": ""
             }
            },
            "type": "scatterpolargl"
           }
          ],
          "scatterternary": [
           {
            "marker": {
             "colorbar": {
              "outlinewidth": 0,
              "ticks": ""
             }
            },
            "type": "scatterternary"
           }
          ],
          "surface": [
           {
            "colorbar": {
             "outlinewidth": 0,
             "ticks": ""
            },
            "colorscale": [
             [
              0,
              "#0d0887"
             ],
             [
              0.1111111111111111,
              "#46039f"
             ],
             [
              0.2222222222222222,
              "#7201a8"
             ],
             [
              0.3333333333333333,
              "#9c179e"
             ],
             [
              0.4444444444444444,
              "#bd3786"
             ],
             [
              0.5555555555555556,
              "#d8576b"
             ],
             [
              0.6666666666666666,
              "#ed7953"
             ],
             [
              0.7777777777777778,
              "#fb9f3a"
             ],
             [
              0.8888888888888888,
              "#fdca26"
             ],
             [
              1,
              "#f0f921"
             ]
            ],
            "type": "surface"
           }
          ],
          "table": [
           {
            "cells": {
             "fill": {
              "color": "#EBF0F8"
             },
             "line": {
              "color": "white"
             }
            },
            "header": {
             "fill": {
              "color": "#C8D4E3"
             },
             "line": {
              "color": "white"
             }
            },
            "type": "table"
           }
          ]
         },
         "layout": {
          "annotationdefaults": {
           "arrowcolor": "#2a3f5f",
           "arrowhead": 0,
           "arrowwidth": 1
          },
          "autotypenumbers": "strict",
          "coloraxis": {
           "colorbar": {
            "outlinewidth": 0,
            "ticks": ""
           }
          },
          "colorscale": {
           "diverging": [
            [
             0,
             "#8e0152"
            ],
            [
             0.1,
             "#c51b7d"
            ],
            [
             0.2,
             "#de77ae"
            ],
            [
             0.3,
             "#f1b6da"
            ],
            [
             0.4,
             "#fde0ef"
            ],
            [
             0.5,
             "#f7f7f7"
            ],
            [
             0.6,
             "#e6f5d0"
            ],
            [
             0.7,
             "#b8e186"
            ],
            [
             0.8,
             "#7fbc41"
            ],
            [
             0.9,
             "#4d9221"
            ],
            [
             1,
             "#276419"
            ]
           ],
           "sequential": [
            [
             0,
             "#0d0887"
            ],
            [
             0.1111111111111111,
             "#46039f"
            ],
            [
             0.2222222222222222,
             "#7201a8"
            ],
            [
             0.3333333333333333,
             "#9c179e"
            ],
            [
             0.4444444444444444,
             "#bd3786"
            ],
            [
             0.5555555555555556,
             "#d8576b"
            ],
            [
             0.6666666666666666,
             "#ed7953"
            ],
            [
             0.7777777777777778,
             "#fb9f3a"
            ],
            [
             0.8888888888888888,
             "#fdca26"
            ],
            [
             1,
             "#f0f921"
            ]
           ],
           "sequentialminus": [
            [
             0,
             "#0d0887"
            ],
            [
             0.1111111111111111,
             "#46039f"
            ],
            [
             0.2222222222222222,
             "#7201a8"
            ],
            [
             0.3333333333333333,
             "#9c179e"
            ],
            [
             0.4444444444444444,
             "#bd3786"
            ],
            [
             0.5555555555555556,
             "#d8576b"
            ],
            [
             0.6666666666666666,
             "#ed7953"
            ],
            [
             0.7777777777777778,
             "#fb9f3a"
            ],
            [
             0.8888888888888888,
             "#fdca26"
            ],
            [
             1,
             "#f0f921"
            ]
           ]
          },
          "colorway": [
           "#636efa",
           "#EF553B",
           "#00cc96",
           "#ab63fa",
           "#FFA15A",
           "#19d3f3",
           "#FF6692",
           "#B6E880",
           "#FF97FF",
           "#FECB52"
          ],
          "font": {
           "color": "#2a3f5f"
          },
          "geo": {
           "bgcolor": "white",
           "lakecolor": "white",
           "landcolor": "#E5ECF6",
           "showlakes": true,
           "showland": true,
           "subunitcolor": "white"
          },
          "hoverlabel": {
           "align": "left"
          },
          "hovermode": "closest",
          "mapbox": {
           "style": "light"
          },
          "paper_bgcolor": "white",
          "plot_bgcolor": "#E5ECF6",
          "polar": {
           "angularaxis": {
            "gridcolor": "white",
            "linecolor": "white",
            "ticks": ""
           },
           "bgcolor": "#E5ECF6",
           "radialaxis": {
            "gridcolor": "white",
            "linecolor": "white",
            "ticks": ""
           }
          },
          "scene": {
           "xaxis": {
            "backgroundcolor": "#E5ECF6",
            "gridcolor": "white",
            "gridwidth": 2,
            "linecolor": "white",
            "showbackground": true,
            "ticks": "",
            "zerolinecolor": "white"
           },
           "yaxis": {
            "backgroundcolor": "#E5ECF6",
            "gridcolor": "white",
            "gridwidth": 2,
            "linecolor": "white",
            "showbackground": true,
            "ticks": "",
            "zerolinecolor": "white"
           },
           "zaxis": {
            "backgroundcolor": "#E5ECF6",
            "gridcolor": "white",
            "gridwidth": 2,
            "linecolor": "white",
            "showbackground": true,
            "ticks": "",
            "zerolinecolor": "white"
           }
          },
          "shapedefaults": {
           "line": {
            "color": "#2a3f5f"
           }
          },
          "ternary": {
           "aaxis": {
            "gridcolor": "white",
            "linecolor": "white",
            "ticks": ""
           },
           "baxis": {
            "gridcolor": "white",
            "linecolor": "white",
            "ticks": ""
           },
           "bgcolor": "#E5ECF6",
           "caxis": {
            "gridcolor": "white",
            "linecolor": "white",
            "ticks": ""
           }
          },
          "title": {
           "x": 0.05
          },
          "xaxis": {
           "automargin": true,
           "gridcolor": "white",
           "linecolor": "white",
           "ticks": "",
           "title": {
            "standoff": 15
           },
           "zerolinecolor": "white",
           "zerolinewidth": 2
          },
          "yaxis": {
           "automargin": true,
           "gridcolor": "white",
           "linecolor": "white",
           "ticks": "",
           "title": {
            "standoff": 15
           },
           "zerolinecolor": "white",
           "zerolinewidth": 2
          }
         }
        },
        "title": {
         "text": "Correlation Matrix of Key Metrics"
        },
        "xaxis": {
         "anchor": "y",
         "constrain": "domain",
         "domain": [
          0,
          1
         ],
         "scaleanchor": "y"
        },
        "yaxis": {
         "anchor": "x",
         "autorange": "reversed",
         "constrain": "domain",
         "domain": [
          0,
          1
         ]
        }
       }
      }
     },
     "metadata": {},
     "output_type": "display_data"
    },
    {
     "name": "stdout",
     "output_type": "stream",
     "text": [
      "\n",
      "One-way ANOVA Results for TSS across activities:\n",
      "+-------------+--------+\n",
      "|   Metric    | Value  |\n",
      "+-------------+--------+\n",
      "| F-statistic |  1.91  |\n",
      "|   p-value   | 0.1451 |\n",
      "+-------------+--------+\n",
      "\n",
      "Tukey's HSD Test Results:\n",
      "+-------------------------------------------+-------------------------------------------+-----------+--------+-----------+----------+--------+\n",
      "|                  group1                   |                  group2                   | meandiff  | p-adj  |   lower   |  upper   | reject |\n",
      "+-------------------------------------------+-------------------------------------------+-----------+--------+-----------+----------+--------+\n",
      "|             A Very Dark Place             |                 Alla Vita                 |   -10.0   |  1.0   | -204.0911 | 184.0911 | False  |\n",
      "|             A Very Dark Place             |    Big Gear Tempo/Sub-Threshold: 4 x 8    |   10.0    |  1.0   | -184.0911 | 204.0911 | False  |\n",
      "|             A Very Dark Place             |                  Blender                  |   104.0   | 0.6432 | -90.0911  | 298.0911 | False  |\n",
      "|             A Very Dark Place             |                Endurance 1                |   -23.0   |  1.0   | -191.0879 | 145.0879 | False  |\n",
      "|             A Very Dark Place             |                Endurance 2                | -18.3333  |  1.0   | -176.8081 | 140.1414 | False  |\n",
      "|             A Very Dark Place             |                Endurance 3                |   62.0    | 0.9864 | -132.0911 | 256.0911 | False  |\n",
      "|             A Very Dark Place             |             FTP Builds: 8 x 2             |   -21.0   |  1.0   | -179.4747 | 137.4747 | False  |\n",
      "|             A Very Dark Place             |        FTP/MAP High Cadence: 6 x 1        |   -35.0   |  1.0   | -229.0911 | 159.0911 | False  |\n",
      "|             A Very Dark Place             |                 Fairless                  |   -39.0   | 0.9999 | -233.0911 | 155.0911 | False  |\n",
      "|             A Very Dark Place             |          Full Frontal (4DP Test)          |   41.2    | 0.9972 | -109.1423 | 191.5423 | False  |\n",
      "|             A Very Dark Place             |          Half Monty (Ramp Test)           |   -17.0   |  1.0   | -185.0879 | 151.0879 | False  |\n",
      "|             A Very Dark Place             |    I. Boswell 4: Race Winning Efforts     |   -35.0   |  1.0   | -229.0911 | 159.0911 | False  |\n",
      "|             A Very Dark Place             |             MAP: 2 Sets 6 x 1             |   14.0    |  1.0   | -180.0911 | 208.0911 | False  |\n",
      "|             A Very Dark Place             |                MAP: 3 x 3                 |   -35.0   |  1.0   | -229.0911 | 159.0911 | False  |\n",
      "|             A Very Dark Place             |           Making an Hour Record           |   -11.0   |  1.0   | -205.0911 | 183.0911 | False  |\n",
      "|             A Very Dark Place             |        Med. Coast: Nice to Menton         |   -43.0   | 0.9998 | -237.0911 | 151.0911 | False  |\n",
      "|             A Very Dark Place             |                 Open: 40                  |   -26.0   |  1.0   | -220.0911 | 168.0911 | False  |\n",
      "|             A Very Dark Place             | Sub-Threshold With Starting Surge: 3 x 20 |   -7.0    |  1.0   | -201.0911 | 187.0911 | False  |\n",
      "|             A Very Dark Place             |           Sub-Threshold: 3 x 20           |    7.0    |  1.0   | -187.0911 | 201.0911 | False  |\n",
      "|             A Very Dark Place             |         Tempo Alternating: 1 x 40         |    4.0    |  1.0   | -190.0911 | 198.0911 | False  |\n",
      "|             A Very Dark Place             |        Tempo/FTP Progressive Build        |   -14.0   |  1.0   | -208.0911 | 180.0911 | False  |\n",
      "|             A Very Dark Place             |                The Rookie                 |   17.0    |  1.0   | -177.0911 | 211.0911 | False  |\n",
      "|                 Alla Vita                 |    Big Gear Tempo/Sub-Threshold: 4 x 8    |   20.0    |  1.0   | -174.0911 | 214.0911 | False  |\n",
      "|                 Alla Vita                 |                  Blender                  |   114.0   | 0.521  | -80.0911  | 308.0911 | False  |\n",
      "|                 Alla Vita                 |                Endurance 1                |   -13.0   |  1.0   | -181.0879 | 155.0879 | False  |\n",
      "|                 Alla Vita                 |                Endurance 2                |  -8.3333  |  1.0   | -166.8081 | 150.1414 | False  |\n",
      "|                 Alla Vita                 |                Endurance 3                |   72.0    | 0.9524 | -122.0911 | 266.0911 | False  |\n",
      "|                 Alla Vita                 |             FTP Builds: 8 x 2             |   -11.0   |  1.0   | -169.4747 | 147.4747 | False  |\n",
      "|                 Alla Vita                 |        FTP/MAP High Cadence: 6 x 1        |   -25.0   |  1.0   | -219.0911 | 169.0911 | False  |\n",
      "|                 Alla Vita                 |                 Fairless                  |   -29.0   |  1.0   | -223.0911 | 165.0911 | False  |\n",
      "|                 Alla Vita                 |          Full Frontal (4DP Test)          |   51.2    | 0.976  | -99.1423  | 201.5423 | False  |\n",
      "|                 Alla Vita                 |          Half Monty (Ramp Test)           |   -7.0    |  1.0   | -175.0879 | 161.0879 | False  |\n",
      "|                 Alla Vita                 |    I. Boswell 4: Race Winning Efforts     |   -25.0   |  1.0   | -219.0911 | 169.0911 | False  |\n",
      "|                 Alla Vita                 |             MAP: 2 Sets 6 x 1             |   24.0    |  1.0   | -170.0911 | 218.0911 | False  |\n",
      "|                 Alla Vita                 |                MAP: 3 x 3                 |   -25.0   |  1.0   | -219.0911 | 169.0911 | False  |\n",
      "|                 Alla Vita                 |           Making an Hour Record           |   -1.0    |  1.0   | -195.0911 | 193.0911 | False  |\n",
      "|                 Alla Vita                 |        Med. Coast: Nice to Menton         |   -33.0   |  1.0   | -227.0911 | 161.0911 | False  |\n",
      "|                 Alla Vita                 |                 Open: 40                  |   -16.0   |  1.0   | -210.0911 | 178.0911 | False  |\n",
      "|                 Alla Vita                 | Sub-Threshold With Starting Surge: 3 x 20 |    3.0    |  1.0   | -191.0911 | 197.0911 | False  |\n",
      "|                 Alla Vita                 |           Sub-Threshold: 3 x 20           |   17.0    |  1.0   | -177.0911 | 211.0911 | False  |\n",
      "|                 Alla Vita                 |         Tempo Alternating: 1 x 40         |   14.0    |  1.0   | -180.0911 | 208.0911 | False  |\n",
      "|                 Alla Vita                 |        Tempo/FTP Progressive Build        |   -4.0    |  1.0   | -198.0911 | 190.0911 | False  |\n",
      "|                 Alla Vita                 |                The Rookie                 |   27.0    |  1.0   | -167.0911 | 221.0911 | False  |\n",
      "|    Big Gear Tempo/Sub-Threshold: 4 x 8    |                  Blender                  |   94.0    | 0.7638 | -100.0911 | 288.0911 | False  |\n",
      "|    Big Gear Tempo/Sub-Threshold: 4 x 8    |                Endurance 1                |   -33.0   |  1.0   | -201.0879 | 135.0879 | False  |\n",
      "|    Big Gear Tempo/Sub-Threshold: 4 x 8    |                Endurance 2                | -28.3333  |  1.0   | -186.8081 | 130.1414 | False  |\n",
      "|    Big Gear Tempo/Sub-Threshold: 4 x 8    |                Endurance 3                |   52.0    | 0.9978 | -142.0911 | 246.0911 | False  |\n",
      "|    Big Gear Tempo/Sub-Threshold: 4 x 8    |             FTP Builds: 8 x 2             |   -31.0   |  1.0   | -189.4747 | 127.4747 | False  |\n",
      "|    Big Gear Tempo/Sub-Threshold: 4 x 8    |        FTP/MAP High Cadence: 6 x 1        |   -45.0   | 0.9996 | -239.0911 | 149.0911 | False  |\n",
      "|    Big Gear Tempo/Sub-Threshold: 4 x 8    |                 Fairless                  |   -49.0   | 0.9989 | -243.0911 | 145.0911 | False  |\n",
      "|    Big Gear Tempo/Sub-Threshold: 4 x 8    |          Full Frontal (4DP Test)          |   31.2    | 0.9999 | -119.1423 | 181.5423 | False  |\n",
      "|    Big Gear Tempo/Sub-Threshold: 4 x 8    |          Half Monty (Ramp Test)           |   -27.0   |  1.0   | -195.0879 | 141.0879 | False  |\n",
      "|    Big Gear Tempo/Sub-Threshold: 4 x 8    |    I. Boswell 4: Race Winning Efforts     |   -45.0   | 0.9996 | -239.0911 | 149.0911 | False  |\n",
      "|    Big Gear Tempo/Sub-Threshold: 4 x 8    |             MAP: 2 Sets 6 x 1             |    4.0    |  1.0   | -190.0911 | 198.0911 | False  |\n",
      "|    Big Gear Tempo/Sub-Threshold: 4 x 8    |                MAP: 3 x 3                 |   -45.0   | 0.9996 | -239.0911 | 149.0911 | False  |\n",
      "|    Big Gear Tempo/Sub-Threshold: 4 x 8    |           Making an Hour Record           |   -21.0   |  1.0   | -215.0911 | 173.0911 | False  |\n",
      "|    Big Gear Tempo/Sub-Threshold: 4 x 8    |        Med. Coast: Nice to Menton         |   -53.0   | 0.9973 | -247.0911 | 141.0911 | False  |\n",
      "|    Big Gear Tempo/Sub-Threshold: 4 x 8    |                 Open: 40                  |   -36.0   |  1.0   | -230.0911 | 158.0911 | False  |\n",
      "|    Big Gear Tempo/Sub-Threshold: 4 x 8    | Sub-Threshold With Starting Surge: 3 x 20 |   -17.0   |  1.0   | -211.0911 | 177.0911 | False  |\n",
      "|    Big Gear Tempo/Sub-Threshold: 4 x 8    |           Sub-Threshold: 3 x 20           |   -3.0    |  1.0   | -197.0911 | 191.0911 | False  |\n",
      "|    Big Gear Tempo/Sub-Threshold: 4 x 8    |         Tempo Alternating: 1 x 40         |   -6.0    |  1.0   | -200.0911 | 188.0911 | False  |\n",
      "|    Big Gear Tempo/Sub-Threshold: 4 x 8    |        Tempo/FTP Progressive Build        |   -24.0   |  1.0   | -218.0911 | 170.0911 | False  |\n",
      "|    Big Gear Tempo/Sub-Threshold: 4 x 8    |                The Rookie                 |    7.0    |  1.0   | -187.0911 | 201.0911 | False  |\n",
      "|                  Blender                  |                Endurance 1                |  -127.0   | 0.2179 | -295.0879 | 41.0879  | False  |\n",
      "|                  Blender                  |                Endurance 2                | -122.3333 | 0.1982 | -280.8081 | 36.1414  | False  |\n",
      "|                  Blender                  |                Endurance 3                |   -42.0   | 0.9999 | -236.0911 | 152.0911 | False  |\n",
      "|                  Blender                  |             FTP Builds: 8 x 2             |  -125.0   | 0.1797 | -283.4747 | 33.4747  | False  |\n",
      "|                  Blender                  |        FTP/MAP High Cadence: 6 x 1        |  -139.0   | 0.2721 | -333.0911 | 55.0911  | False  |\n",
      "|                  Blender                  |                 Fairless                  |  -143.0   | 0.2425 | -337.0911 | 51.0911  | False  |\n",
      "|                  Blender                  |          Full Frontal (4DP Test)          |   -62.8   | 0.893  | -213.1423 | 87.5423  | False  |\n",
      "|                  Blender                  |          Half Monty (Ramp Test)           |  -121.0   | 0.2666 | -289.0879 | 47.0879  | False  |\n",
      "|                  Blender                  |    I. Boswell 4: Race Winning Efforts     |  -139.0   | 0.2721 | -333.0911 | 55.0911  | False  |\n",
      "|                  Blender                  |             MAP: 2 Sets 6 x 1             |   -90.0   | 0.8083 | -284.0911 | 104.0911 | False  |\n",
      "|                  Blender                  |                MAP: 3 x 3                 |  -139.0   | 0.2721 | -333.0911 | 55.0911  | False  |\n",
      "|                  Blender                  |           Making an Hour Record           |  -115.0   | 0.5092 | -309.0911 | 79.0911  | False  |\n",
      "|                  Blender                  |        Med. Coast: Nice to Menton         |  -147.0   | 0.2156 | -341.0911 | 47.0911  | False  |\n",
      "|                  Blender                  |                 Open: 40                  |  -130.0   | 0.3493 | -324.0911 | 64.0911  | False  |\n",
      "|                  Blender                  | Sub-Threshold With Starting Surge: 3 x 20 |  -111.0   | 0.557  | -305.0911 | 83.0911  | False  |\n",
      "|                  Blender                  |           Sub-Threshold: 3 x 20           |   -97.0   | 0.7287 | -291.0911 | 97.0911  | False  |\n",
      "|                  Blender                  |         Tempo Alternating: 1 x 40         |  -100.0   | 0.6924 | -294.0911 | 94.0911  | False  |\n",
      "|                  Blender                  |        Tempo/FTP Progressive Build        |  -118.0   | 0.4745 | -312.0911 | 76.0911  | False  |\n",
      "|                  Blender                  |                The Rookie                 |   -87.0   | 0.8393 | -281.0911 | 107.0911 | False  |\n",
      "|                Endurance 1                |                Endurance 2                |  4.6667   |  1.0   | -120.6186 | 129.952  | False  |\n",
      "|                Endurance 1                |                Endurance 3                |   85.0    | 0.7149 | -83.0879  | 253.0879 | False  |\n",
      "|                Endurance 1                |             FTP Builds: 8 x 2             |    2.0    |  1.0   | -123.2853 | 127.2853 | False  |\n",
      "|                Endurance 1                |        FTP/MAP High Cadence: 6 x 1        |   -12.0   |  1.0   | -180.0879 | 156.0879 | False  |\n",
      "|                Endurance 1                |                 Fairless                  |   -16.0   |  1.0   | -184.0879 | 152.0879 | False  |\n",
      "|                Endurance 1                |          Full Frontal (4DP Test)          |   64.2    | 0.5873 | -50.6259  | 179.0259 | False  |\n",
      "|                Endurance 1                |          Half Monty (Ramp Test)           |    6.0    |  1.0   | -131.2432 | 143.2432 | False  |\n",
      "|                Endurance 1                |    I. Boswell 4: Race Winning Efforts     |   -12.0   |  1.0   | -180.0879 | 156.0879 | False  |\n",
      "|                Endurance 1                |             MAP: 2 Sets 6 x 1             |   37.0    | 0.9998 | -131.0879 | 205.0879 | False  |\n",
      "|                Endurance 1                |                MAP: 3 x 3                 |   -12.0   |  1.0   | -180.0879 | 156.0879 | False  |\n",
      "|                Endurance 1                |           Making an Hour Record           |   12.0    |  1.0   | -156.0879 | 180.0879 | False  |\n",
      "|                Endurance 1                |        Med. Coast: Nice to Menton         |   -20.0   |  1.0   | -188.0879 | 148.0879 | False  |\n",
      "|                Endurance 1                |                 Open: 40                  |   -3.0    |  1.0   | -171.0879 | 165.0879 | False  |\n",
      "|                Endurance 1                | Sub-Threshold With Starting Surge: 3 x 20 |   16.0    |  1.0   | -152.0879 | 184.0879 | False  |\n",
      "|                Endurance 1                |           Sub-Threshold: 3 x 20           |   30.0    |  1.0   | -138.0879 | 198.0879 | False  |\n",
      "|                Endurance 1                |         Tempo Alternating: 1 x 40         |   27.0    |  1.0   | -141.0879 | 195.0879 | False  |\n",
      "|                Endurance 1                |        Tempo/FTP Progressive Build        |    9.0    |  1.0   | -159.0879 | 177.0879 | False  |\n",
      "|                Endurance 1                |                The Rookie                 |   40.0    | 0.9995 | -128.0879 | 208.0879 | False  |\n",
      "|                Endurance 2                |                Endurance 3                |  80.3333  | 0.712  | -78.1414  | 238.8081 | False  |\n",
      "|                Endurance 2                |             FTP Builds: 8 x 2             |  -2.6667  |  1.0   | -114.7252 | 109.3919 | False  |\n",
      "|                Endurance 2                |        FTP/MAP High Cadence: 6 x 1        | -16.6667  |  1.0   | -175.1414 | 141.8081 | False  |\n",
      "|                Endurance 2                |                 Fairless                  | -20.6667  |  1.0   | -179.1414 | 137.8081 | False  |\n",
      "|                Endurance 2                |          Full Frontal (4DP Test)          |  59.5333  | 0.5058 | -40.6949  | 159.7616 | False  |\n",
      "|                Endurance 2                |          Half Monty (Ramp Test)           |  1.3333   |  1.0   | -123.952  | 126.6186 | False  |\n",
      "|                Endurance 2                |    I. Boswell 4: Race Winning Efforts     | -16.6667  |  1.0   | -175.1414 | 141.8081 | False  |\n",
      "|                Endurance 2                |             MAP: 2 Sets 6 x 1             |  32.3333  | 0.9999 | -126.1414 | 190.8081 | False  |\n",
      "|                Endurance 2                |                MAP: 3 x 3                 | -16.6667  |  1.0   | -175.1414 | 141.8081 | False  |\n",
      "|                Endurance 2                |           Making an Hour Record           |  7.3333   |  1.0   | -151.1414 | 165.8081 | False  |\n",
      "|                Endurance 2                |        Med. Coast: Nice to Menton         | -24.6667  |  1.0   | -183.1414 | 133.8081 | False  |\n",
      "|                Endurance 2                |                 Open: 40                  |  -7.6667  |  1.0   | -166.1414 | 150.8081 | False  |\n",
      "|                Endurance 2                | Sub-Threshold With Starting Surge: 3 x 20 |  11.3333  |  1.0   | -147.1414 | 169.8081 | False  |\n",
      "|                Endurance 2                |           Sub-Threshold: 3 x 20           |  25.3333  |  1.0   | -133.1414 | 183.8081 | False  |\n",
      "|                Endurance 2                |         Tempo Alternating: 1 x 40         |  22.3333  |  1.0   | -136.1414 | 180.8081 | False  |\n",
      "|                Endurance 2                |        Tempo/FTP Progressive Build        |  4.3333   |  1.0   | -154.1414 | 162.8081 | False  |\n",
      "|                Endurance 2                |                The Rookie                 |  35.3333  | 0.9998 | -123.1414 | 193.8081 | False  |\n",
      "|                Endurance 3                |             FTP Builds: 8 x 2             |   -83.0   | 0.6721 | -241.4747 | 75.4747  | False  |\n",
      "|                Endurance 3                |        FTP/MAP High Cadence: 6 x 1        |   -97.0   | 0.7287 | -291.0911 | 97.0911  | False  |\n",
      "|                Endurance 3                |                 Fairless                  |  -101.0   | 0.6802 | -295.0911 | 93.0911  | False  |\n",
      "|                Endurance 3                |          Full Frontal (4DP Test)          |   -20.8   |  1.0   | -171.1423 | 129.5423 | False  |\n",
      "|                Endurance 3                |          Half Monty (Ramp Test)           |   -79.0   | 0.7951 | -247.0879 | 89.0879  | False  |\n",
      "|                Endurance 3                |    I. Boswell 4: Race Winning Efforts     |   -97.0   | 0.7287 | -291.0911 | 97.0911  | False  |\n",
      "|                Endurance 3                |             MAP: 2 Sets 6 x 1             |   -48.0   | 0.9991 | -242.0911 | 146.0911 | False  |\n",
      "|                Endurance 3                |                MAP: 3 x 3                 |   -97.0   | 0.7287 | -291.0911 | 97.0911  | False  |\n",
      "|                Endurance 3                |           Making an Hour Record           |   -73.0   | 0.9473 | -267.0911 | 121.0911 | False  |\n",
      "|                Endurance 3                |        Med. Coast: Nice to Menton         |  -105.0   | 0.6308 | -299.0911 | 89.0911  | False  |\n",
      "|                Endurance 3                |                 Open: 40                  |   -88.0   | 0.8292 | -282.0911 | 106.0911 | False  |\n",
      "|                Endurance 3                | Sub-Threshold With Starting Surge: 3 x 20 |   -69.0   | 0.9658 | -263.0911 | 125.0911 | False  |\n",
      "|                Endurance 3                |           Sub-Threshold: 3 x 20           |   -55.0   | 0.9959 | -249.0911 | 139.0911 | False  |\n",
      "|                Endurance 3                |         Tempo Alternating: 1 x 40         |   -58.0   | 0.9929 | -252.0911 | 136.0911 | False  |\n",
      "|                Endurance 3                |        Tempo/FTP Progressive Build        |   -76.0   | 0.9297 | -270.0911 | 118.0911 | False  |\n",
      "|                Endurance 3                |                The Rookie                 |   -45.0   | 0.9996 | -239.0911 | 149.0911 | False  |\n",
      "|             FTP Builds: 8 x 2             |        FTP/MAP High Cadence: 6 x 1        |   -14.0   |  1.0   | -172.4747 | 144.4747 | False  |\n",
      "|             FTP Builds: 8 x 2             |                 Fairless                  |   -18.0   |  1.0   | -176.4747 | 140.4747 | False  |\n",
      "|             FTP Builds: 8 x 2             |          Full Frontal (4DP Test)          |   62.2    | 0.447  | -38.0282  | 162.4282 | False  |\n",
      "|             FTP Builds: 8 x 2             |          Half Monty (Ramp Test)           |    4.0    |  1.0   | -121.2853 | 129.2853 | False  |\n",
      "|             FTP Builds: 8 x 2             |    I. Boswell 4: Race Winning Efforts     |   -14.0   |  1.0   | -172.4747 | 144.4747 | False  |\n",
      "|             FTP Builds: 8 x 2             |             MAP: 2 Sets 6 x 1             |   35.0    | 0.9998 | -123.4747 | 193.4747 | False  |\n",
      "|             FTP Builds: 8 x 2             |                MAP: 3 x 3                 |   -14.0   |  1.0   | -172.4747 | 144.4747 | False  |\n",
      "|             FTP Builds: 8 x 2             |           Making an Hour Record           |   10.0    |  1.0   | -148.4747 | 168.4747 | False  |\n",
      "|             FTP Builds: 8 x 2             |        Med. Coast: Nice to Menton         |   -22.0   |  1.0   | -180.4747 | 136.4747 | False  |\n",
      "|             FTP Builds: 8 x 2             |                 Open: 40                  |   -5.0    |  1.0   | -163.4747 | 153.4747 | False  |\n",
      "|             FTP Builds: 8 x 2             | Sub-Threshold With Starting Surge: 3 x 20 |   14.0    |  1.0   | -144.4747 | 172.4747 | False  |\n",
      "|             FTP Builds: 8 x 2             |           Sub-Threshold: 3 x 20           |   28.0    |  1.0   | -130.4747 | 186.4747 | False  |\n",
      "|             FTP Builds: 8 x 2             |         Tempo Alternating: 1 x 40         |   25.0    |  1.0   | -133.4747 | 183.4747 | False  |\n",
      "|             FTP Builds: 8 x 2             |        Tempo/FTP Progressive Build        |    7.0    |  1.0   | -151.4747 | 165.4747 | False  |\n",
      "|             FTP Builds: 8 x 2             |                The Rookie                 |   38.0    | 0.9994 | -120.4747 | 196.4747 | False  |\n",
      "|        FTP/MAP High Cadence: 6 x 1        |                 Fairless                  |   -4.0    |  1.0   | -198.0911 | 190.0911 | False  |\n",
      "|        FTP/MAP High Cadence: 6 x 1        |          Full Frontal (4DP Test)          |   76.2    | 0.7122 | -74.1423  | 226.5423 | False  |\n",
      "|        FTP/MAP High Cadence: 6 x 1        |          Half Monty (Ramp Test)           |   18.0    |  1.0   | -150.0879 | 186.0879 | False  |\n",
      "|        FTP/MAP High Cadence: 6 x 1        |    I. Boswell 4: Race Winning Efforts     |    0.0    |  1.0   | -194.0911 | 194.0911 | False  |\n",
      "|        FTP/MAP High Cadence: 6 x 1        |             MAP: 2 Sets 6 x 1             |   49.0    | 0.9989 | -145.0911 | 243.0911 | False  |\n",
      "|        FTP/MAP High Cadence: 6 x 1        |                MAP: 3 x 3                 |    0.0    |  1.0   | -194.0911 | 194.0911 | False  |\n",
      "|        FTP/MAP High Cadence: 6 x 1        |           Making an Hour Record           |   24.0    |  1.0   | -170.0911 | 218.0911 | False  |\n",
      "|        FTP/MAP High Cadence: 6 x 1        |        Med. Coast: Nice to Menton         |   -8.0    |  1.0   | -202.0911 | 186.0911 | False  |\n",
      "|        FTP/MAP High Cadence: 6 x 1        |                 Open: 40                  |    9.0    |  1.0   | -185.0911 | 203.0911 | False  |\n",
      "|        FTP/MAP High Cadence: 6 x 1        | Sub-Threshold With Starting Surge: 3 x 20 |   28.0    |  1.0   | -166.0911 | 222.0911 | False  |\n",
      "|        FTP/MAP High Cadence: 6 x 1        |           Sub-Threshold: 3 x 20           |   42.0    | 0.9999 | -152.0911 | 236.0911 | False  |\n",
      "|        FTP/MAP High Cadence: 6 x 1        |         Tempo Alternating: 1 x 40         |   39.0    | 0.9999 | -155.0911 | 233.0911 | False  |\n",
      "|        FTP/MAP High Cadence: 6 x 1        |        Tempo/FTP Progressive Build        |   21.0    |  1.0   | -173.0911 | 215.0911 | False  |\n",
      "|        FTP/MAP High Cadence: 6 x 1        |                The Rookie                 |   52.0    | 0.9978 | -142.0911 | 246.0911 | False  |\n",
      "|                 Fairless                  |          Full Frontal (4DP Test)          |   80.2    | 0.6489 | -70.1423  | 230.5423 | False  |\n",
      "|                 Fairless                  |          Half Monty (Ramp Test)           |   22.0    |  1.0   | -146.0879 | 190.0879 | False  |\n",
      "|                 Fairless                  |    I. Boswell 4: Race Winning Efforts     |    4.0    |  1.0   | -190.0911 | 198.0911 | False  |\n",
      "|                 Fairless                  |             MAP: 2 Sets 6 x 1             |   53.0    | 0.9973 | -141.0911 | 247.0911 | False  |\n",
      "|                 Fairless                  |                MAP: 3 x 3                 |    4.0    |  1.0   | -190.0911 | 198.0911 | False  |\n",
      "|                 Fairless                  |           Making an Hour Record           |   28.0    |  1.0   | -166.0911 | 222.0911 | False  |\n",
      "|                 Fairless                  |        Med. Coast: Nice to Menton         |   -4.0    |  1.0   | -198.0911 | 190.0911 | False  |\n",
      "|                 Fairless                  |                 Open: 40                  |   13.0    |  1.0   | -181.0911 | 207.0911 | False  |\n",
      "|                 Fairless                  | Sub-Threshold With Starting Surge: 3 x 20 |   32.0    |  1.0   | -162.0911 | 226.0911 | False  |\n",
      "|                 Fairless                  |           Sub-Threshold: 3 x 20           |   46.0    | 0.9995 | -148.0911 | 240.0911 | False  |\n",
      "|                 Fairless                  |         Tempo Alternating: 1 x 40         |   43.0    | 0.9998 | -151.0911 | 237.0911 | False  |\n",
      "|                 Fairless                  |        Tempo/FTP Progressive Build        |   25.0    |  1.0   | -169.0911 | 219.0911 | False  |\n",
      "|                 Fairless                  |                The Rookie                 |   56.0    | 0.995  | -138.0911 | 250.0911 | False  |\n",
      "|          Full Frontal (4DP Test)          |          Half Monty (Ramp Test)           |   -58.2   | 0.7122 | -173.0259 | 56.6259  | False  |\n",
      "|          Full Frontal (4DP Test)          |    I. Boswell 4: Race Winning Efforts     |   -76.2   | 0.7122 | -226.5423 | 74.1423  | False  |\n",
      "|          Full Frontal (4DP Test)          |             MAP: 2 Sets 6 x 1             |   -27.2   |  1.0   | -177.5423 | 123.1423 | False  |\n",
      "|          Full Frontal (4DP Test)          |                MAP: 3 x 3                 |   -76.2   | 0.7122 | -226.5423 | 74.1423  | False  |\n",
      "|          Full Frontal (4DP Test)          |           Making an Hour Record           |   -52.2   | 0.9718 | -202.5423 | 98.1423  | False  |\n",
      "|          Full Frontal (4DP Test)          |        Med. Coast: Nice to Menton         |   -84.2   | 0.5851 | -234.5423 | 66.1423  | False  |\n",
      "|          Full Frontal (4DP Test)          |                 Open: 40                  |   -67.2   | 0.8417 | -217.5423 | 83.1423  | False  |\n",
      "|          Full Frontal (4DP Test)          | Sub-Threshold With Starting Surge: 3 x 20 |   -48.2   | 0.986  | -198.5423 | 102.1423 | False  |\n",
      "|          Full Frontal (4DP Test)          |           Sub-Threshold: 3 x 20           |   -34.2   | 0.9997 | -184.5423 | 116.1423 | False  |\n",
      "|          Full Frontal (4DP Test)          |         Tempo Alternating: 1 x 40         |   -37.2   | 0.9991 | -187.5423 | 113.1423 | False  |\n",
      "|          Full Frontal (4DP Test)          |        Tempo/FTP Progressive Build        |   -55.2   | 0.956  | -205.5423 | 95.1423  | False  |\n",
      "|          Full Frontal (4DP Test)          |                The Rookie                 |   -24.2   |  1.0   | -174.5423 | 126.1423 | False  |\n",
      "|          Half Monty (Ramp Test)           |    I. Boswell 4: Race Winning Efforts     |   -18.0   |  1.0   | -186.0879 | 150.0879 | False  |\n",
      "|          Half Monty (Ramp Test)           |             MAP: 2 Sets 6 x 1             |   31.0    |  1.0   | -137.0879 | 199.0879 | False  |\n",
      "|          Half Monty (Ramp Test)           |                MAP: 3 x 3                 |   -18.0   |  1.0   | -186.0879 | 150.0879 | False  |\n",
      "|          Half Monty (Ramp Test)           |           Making an Hour Record           |    6.0    |  1.0   | -162.0879 | 174.0879 | False  |\n",
      "|          Half Monty (Ramp Test)           |        Med. Coast: Nice to Menton         |   -26.0   |  1.0   | -194.0879 | 142.0879 | False  |\n",
      "|          Half Monty (Ramp Test)           |                 Open: 40                  |   -9.0    |  1.0   | -177.0879 | 159.0879 | False  |\n",
      "|          Half Monty (Ramp Test)           | Sub-Threshold With Starting Surge: 3 x 20 |   10.0    |  1.0   | -158.0879 | 178.0879 | False  |\n",
      "|          Half Monty (Ramp Test)           |           Sub-Threshold: 3 x 20           |   24.0    |  1.0   | -144.0879 | 192.0879 | False  |\n",
      "|          Half Monty (Ramp Test)           |         Tempo Alternating: 1 x 40         |   21.0    |  1.0   | -147.0879 | 189.0879 | False  |\n",
      "|          Half Monty (Ramp Test)           |        Tempo/FTP Progressive Build        |    3.0    |  1.0   | -165.0879 | 171.0879 | False  |\n",
      "|          Half Monty (Ramp Test)           |                The Rookie                 |   34.0    | 0.9999 | -134.0879 | 202.0879 | False  |\n",
      "|    I. Boswell 4: Race Winning Efforts     |             MAP: 2 Sets 6 x 1             |   49.0    | 0.9989 | -145.0911 | 243.0911 | False  |\n",
      "|    I. Boswell 4: Race Winning Efforts     |                MAP: 3 x 3                 |    0.0    |  1.0   | -194.0911 | 194.0911 | False  |\n",
      "|    I. Boswell 4: Race Winning Efforts     |           Making an Hour Record           |   24.0    |  1.0   | -170.0911 | 218.0911 | False  |\n",
      "|    I. Boswell 4: Race Winning Efforts     |        Med. Coast: Nice to Menton         |   -8.0    |  1.0   | -202.0911 | 186.0911 | False  |\n",
      "|    I. Boswell 4: Race Winning Efforts     |                 Open: 40                  |    9.0    |  1.0   | -185.0911 | 203.0911 | False  |\n",
      "|    I. Boswell 4: Race Winning Efforts     | Sub-Threshold With Starting Surge: 3 x 20 |   28.0    |  1.0   | -166.0911 | 222.0911 | False  |\n",
      "|    I. Boswell 4: Race Winning Efforts     |           Sub-Threshold: 3 x 20           |   42.0    | 0.9999 | -152.0911 | 236.0911 | False  |\n",
      "|    I. Boswell 4: Race Winning Efforts     |         Tempo Alternating: 1 x 40         |   39.0    | 0.9999 | -155.0911 | 233.0911 | False  |\n",
      "|    I. Boswell 4: Race Winning Efforts     |        Tempo/FTP Progressive Build        |   21.0    |  1.0   | -173.0911 | 215.0911 | False  |\n",
      "|    I. Boswell 4: Race Winning Efforts     |                The Rookie                 |   52.0    | 0.9978 | -142.0911 | 246.0911 | False  |\n",
      "|             MAP: 2 Sets 6 x 1             |                MAP: 3 x 3                 |   -49.0   | 0.9989 | -243.0911 | 145.0911 | False  |\n",
      "|             MAP: 2 Sets 6 x 1             |           Making an Hour Record           |   -25.0   |  1.0   | -219.0911 | 169.0911 | False  |\n",
      "|             MAP: 2 Sets 6 x 1             |        Med. Coast: Nice to Menton         |   -57.0   | 0.994  | -251.0911 | 137.0911 | False  |\n",
      "|             MAP: 2 Sets 6 x 1             |                 Open: 40                  |   -40.0   | 0.9999 | -234.0911 | 154.0911 | False  |\n",
      "|             MAP: 2 Sets 6 x 1             | Sub-Threshold With Starting Surge: 3 x 20 |   -21.0   |  1.0   | -215.0911 | 173.0911 | False  |\n",
      "|             MAP: 2 Sets 6 x 1             |           Sub-Threshold: 3 x 20           |   -7.0    |  1.0   | -201.0911 | 187.0911 | False  |\n",
      "|             MAP: 2 Sets 6 x 1             |         Tempo Alternating: 1 x 40         |   -10.0   |  1.0   | -204.0911 | 184.0911 | False  |\n",
      "|             MAP: 2 Sets 6 x 1             |        Tempo/FTP Progressive Build        |   -28.0   |  1.0   | -222.0911 | 166.0911 | False  |\n",
      "|             MAP: 2 Sets 6 x 1             |                The Rookie                 |    3.0    |  1.0   | -191.0911 | 197.0911 | False  |\n",
      "|                MAP: 3 x 3                 |           Making an Hour Record           |   24.0    |  1.0   | -170.0911 | 218.0911 | False  |\n",
      "|                MAP: 3 x 3                 |        Med. Coast: Nice to Menton         |   -8.0    |  1.0   | -202.0911 | 186.0911 | False  |\n",
      "|                MAP: 3 x 3                 |                 Open: 40                  |    9.0    |  1.0   | -185.0911 | 203.0911 | False  |\n",
      "|                MAP: 3 x 3                 | Sub-Threshold With Starting Surge: 3 x 20 |   28.0    |  1.0   | -166.0911 | 222.0911 | False  |\n",
      "|                MAP: 3 x 3                 |           Sub-Threshold: 3 x 20           |   42.0    | 0.9999 | -152.0911 | 236.0911 | False  |\n",
      "|                MAP: 3 x 3                 |         Tempo Alternating: 1 x 40         |   39.0    | 0.9999 | -155.0911 | 233.0911 | False  |\n",
      "|                MAP: 3 x 3                 |        Tempo/FTP Progressive Build        |   21.0    |  1.0   | -173.0911 | 215.0911 | False  |\n",
      "|                MAP: 3 x 3                 |                The Rookie                 |   52.0    | 0.9978 | -142.0911 | 246.0911 | False  |\n",
      "|           Making an Hour Record           |        Med. Coast: Nice to Menton         |   -32.0   |  1.0   | -226.0911 | 162.0911 | False  |\n",
      "|           Making an Hour Record           |                 Open: 40                  |   -15.0   |  1.0   | -209.0911 | 179.0911 | False  |\n",
      "|           Making an Hour Record           | Sub-Threshold With Starting Surge: 3 x 20 |    4.0    |  1.0   | -190.0911 | 198.0911 | False  |\n",
      "|           Making an Hour Record           |           Sub-Threshold: 3 x 20           |   18.0    |  1.0   | -176.0911 | 212.0911 | False  |\n",
      "|           Making an Hour Record           |         Tempo Alternating: 1 x 40         |   15.0    |  1.0   | -179.0911 | 209.0911 | False  |\n",
      "|           Making an Hour Record           |        Tempo/FTP Progressive Build        |   -3.0    |  1.0   | -197.0911 | 191.0911 | False  |\n",
      "|           Making an Hour Record           |                The Rookie                 |   28.0    |  1.0   | -166.0911 | 222.0911 | False  |\n",
      "|        Med. Coast: Nice to Menton         |                 Open: 40                  |   17.0    |  1.0   | -177.0911 | 211.0911 | False  |\n",
      "|        Med. Coast: Nice to Menton         | Sub-Threshold With Starting Surge: 3 x 20 |   36.0    |  1.0   | -158.0911 | 230.0911 | False  |\n",
      "|        Med. Coast: Nice to Menton         |           Sub-Threshold: 3 x 20           |   50.0    | 0.9986 | -144.0911 | 244.0911 | False  |\n",
      "|        Med. Coast: Nice to Menton         |         Tempo Alternating: 1 x 40         |   47.0    | 0.9993 | -147.0911 | 241.0911 | False  |\n",
      "|        Med. Coast: Nice to Menton         |        Tempo/FTP Progressive Build        |   29.0    |  1.0   | -165.0911 | 223.0911 | False  |\n",
      "|        Med. Coast: Nice to Menton         |                The Rookie                 |   60.0    | 0.9901 | -134.0911 | 254.0911 | False  |\n",
      "|                 Open: 40                  | Sub-Threshold With Starting Surge: 3 x 20 |   19.0    |  1.0   | -175.0911 | 213.0911 | False  |\n",
      "|                 Open: 40                  |           Sub-Threshold: 3 x 20           |   33.0    |  1.0   | -161.0911 | 227.0911 | False  |\n",
      "|                 Open: 40                  |         Tempo Alternating: 1 x 40         |   30.0    |  1.0   | -164.0911 | 224.0911 | False  |\n",
      "|                 Open: 40                  |        Tempo/FTP Progressive Build        |   12.0    |  1.0   | -182.0911 | 206.0911 | False  |\n",
      "|                 Open: 40                  |                The Rookie                 |   43.0    | 0.9998 | -151.0911 | 237.0911 | False  |\n",
      "| Sub-Threshold With Starting Surge: 3 x 20 |           Sub-Threshold: 3 x 20           |   14.0    |  1.0   | -180.0911 | 208.0911 | False  |\n",
      "| Sub-Threshold With Starting Surge: 3 x 20 |         Tempo Alternating: 1 x 40         |   11.0    |  1.0   | -183.0911 | 205.0911 | False  |\n",
      "| Sub-Threshold With Starting Surge: 3 x 20 |        Tempo/FTP Progressive Build        |   -7.0    |  1.0   | -201.0911 | 187.0911 | False  |\n",
      "| Sub-Threshold With Starting Surge: 3 x 20 |                The Rookie                 |   24.0    |  1.0   | -170.0911 | 218.0911 | False  |\n",
      "|           Sub-Threshold: 3 x 20           |         Tempo Alternating: 1 x 40         |   -3.0    |  1.0   | -197.0911 | 191.0911 | False  |\n",
      "|           Sub-Threshold: 3 x 20           |        Tempo/FTP Progressive Build        |   -21.0   |  1.0   | -215.0911 | 173.0911 | False  |\n",
      "|           Sub-Threshold: 3 x 20           |                The Rookie                 |   10.0    |  1.0   | -184.0911 | 204.0911 | False  |\n",
      "|         Tempo Alternating: 1 x 40         |        Tempo/FTP Progressive Build        |   -18.0   |  1.0   | -212.0911 | 176.0911 | False  |\n",
      "|         Tempo Alternating: 1 x 40         |                The Rookie                 |   13.0    |  1.0   | -181.0911 | 207.0911 | False  |\n",
      "|        Tempo/FTP Progressive Build        |                The Rookie                 |   31.0    |  1.0   | -163.0911 | 225.0911 | False  |\n",
      "+-------------------------------------------+-------------------------------------------+-----------+--------+-----------+----------+--------+\n",
      "\n",
      "Multiple Regression Results:\n",
      "                            OLS Regression Results                            \n",
      "==============================================================================\n",
      "Dep. Variable:                    TSS   R-squared:                       0.931\n",
      "Model:                            OLS   Adj. R-squared:                  0.924\n",
      "Method:                 Least Squares   F-statistic:                     130.4\n",
      "Date:                Tue, 08 Oct 2024   Prob (F-statistic):           6.26e-17\n",
      "Time:                        11:11:32   Log-Likelihood:                -121.62\n",
      "No. Observations:                  33   AIC:                             251.2\n",
      "Df Residuals:                      29   BIC:                             257.2\n",
      "Df Model:                           3                                         \n",
      "Covariance Type:            nonrobust                                         \n",
      "====================================================================================\n",
      "                       coef    std err          t      P>|t|      [0.025      0.975]\n",
      "------------------------------------------------------------------------------------\n",
      "Intercept          -96.1406     12.034     -7.989      0.000    -120.752     -71.529\n",
      "Duration_hours      49.3558      3.440     14.349      0.000      42.321      56.391\n",
      "Normalized_Power    -0.1964      0.209     -0.938      0.356      -0.625       0.232\n",
      "IF                 173.8511     31.515      5.517      0.000     109.397     238.306\n",
      "==============================================================================\n",
      "Omnibus:                       11.536   Durbin-Watson:                   1.566\n",
      "Prob(Omnibus):                  0.003   Jarque-Bera (JB):               12.252\n",
      "Skew:                           1.003   Prob(JB):                      0.00219\n",
      "Kurtosis:                       5.211   Cond. No.                     2.51e+03\n",
      "==============================================================================\n",
      "\n",
      "Notes:\n",
      "[1] Standard Errors assume that the covariance matrix of the errors is correctly specified.\n",
      "[2] The condition number is large, 2.51e+03. This might indicate that there are\n",
      "strong multicollinearity or other numerical problems.\n",
      "\n",
      "Linear Mixed Model Results:\n",
      "             Mixed Linear Model Regression Results\n",
      "================================================================\n",
      "Model:               MixedLM    Dependent Variable:    TSS      \n",
      "No. Observations:    33         Method:                REML     \n",
      "No. Groups:          23         Scale:                 140.8525 \n",
      "Min. group size:     1          Log-Likelihood:        -129.4898\n",
      "Max. group size:     5          Converged:             Yes      \n",
      "Mean group size:     1.4                                        \n",
      "----------------------------------------------------------------\n",
      "                  Coef.   Std.Err.   z    P>|z|  [0.025   0.975]\n",
      "----------------------------------------------------------------\n",
      "Intercept        -102.852   18.472 -5.568 0.000 -139.056 -66.649\n",
      "Duration_hours     49.485    4.625 10.699 0.000   40.420  58.550\n",
      "Normalized_Power    0.812    0.131  6.182 0.000    0.554   1.069\n",
      "Group Var          68.988    6.711                              \n",
      "================================================================\n",
      "\n",
      "\n",
      "Paired t-test results (Endurance 1 vs Endurance 2):\n",
      "+-------------+--------+\n",
      "|   Metric    | Value  |\n",
      "+-------------+--------+\n",
      "| t-statistic | -0.15  |\n",
      "|   p-value   | 0.8907 |\n",
      "+-------------+--------+\n"
     ]
    },
    {
     "data": {
      "application/vnd.plotly.v1+json": {
       "config": {
        "plotlyServerURL": "https://plot.ly"
       },
       "data": [
        {
         "hovertemplate": "Duration_hours=%{x}<br>TSS=%{y}<br>IF=%{marker.color}<extra></extra>",
         "legendgroup": "",
         "marker": {
          "color": [
           0.65,
           0.63,
           0.96,
           0.74,
           0.77,
           0.64,
           1.02,
           0.65,
           0.93,
           1.12,
           1.06,
           0.77,
           0.85,
           0.91,
           0.75,
           0.73,
           0.93,
           0.97,
           0.85,
           0.85,
           0.94,
           0.77,
           0.63,
           0.76,
           0.8,
           0.64,
           0.6,
           0.59,
           0.72,
           0.77,
           0.57,
           0.61,
           0.7
          ],
          "coloraxis": "coloraxis",
          "symbol": "circle"
         },
         "mode": "markers",
         "name": "",
         "orientation": "v",
         "showlegend": false,
         "type": "scatter",
         "x": [
          2.72,
          2,
          1.7,
          1.06,
          1.05,
          1,
          0.99,
          0.99,
          0.98,
          0.98,
          0.98,
          0.95,
          0.85,
          0.83,
          0.8,
          0.77,
          0.76,
          0.54,
          0.54,
          0.53,
          0.53,
          0.5,
          0.42,
          0.42,
          0.42,
          0.41,
          0.37,
          0.35,
          0.32,
          0.29,
          0.28,
          0.25,
          0.19
         ],
         "xaxis": "x",
         "y": [
          114,
          80,
          156,
          59,
          62,
          41,
          103,
          42,
          84,
          123,
          110,
          56,
          61,
          69,
          45,
          41,
          66,
          52,
          39,
          38,
          46,
          30,
          17,
          24,
          26,
          17,
          13,
          12,
          17,
          17,
          9,
          9,
          9
         ],
         "yaxis": "y"
        },
        {
         "line": {
          "color": "rgba(255,0,0,0.5)",
          "dash": "dash"
         },
         "mode": "lines",
         "name": "Trend",
         "type": "scatter",
         "x": [
          0.19,
          0.21555555555555556,
          0.2411111111111111,
          0.26666666666666666,
          0.2922222222222222,
          0.3177777777777778,
          0.3433333333333334,
          0.36888888888888893,
          0.3944444444444445,
          0.42000000000000004,
          0.4455555555555556,
          0.47111111111111115,
          0.4966666666666667,
          0.5222222222222223,
          0.5477777777777778,
          0.5733333333333334,
          0.5988888888888889,
          0.6244444444444445,
          0.65,
          0.6755555555555556,
          0.7011111111111112,
          0.7266666666666668,
          0.7522222222222223,
          0.7777777777777779,
          0.8033333333333335,
          0.828888888888889,
          0.8544444444444446,
          0.8800000000000001,
          0.9055555555555557,
          0.9311111111111112,
          0.9566666666666668,
          0.9822222222222223,
          1.0077777777777779,
          1.0333333333333334,
          1.058888888888889,
          1.0844444444444445,
          1.11,
          1.1355555555555557,
          1.1611111111111112,
          1.1866666666666668,
          1.2122222222222223,
          1.2377777777777779,
          1.2633333333333334,
          1.288888888888889,
          1.3144444444444445,
          1.34,
          1.3655555555555556,
          1.3911111111111112,
          1.4166666666666667,
          1.4422222222222223,
          1.4677777777777778,
          1.4933333333333334,
          1.518888888888889,
          1.5444444444444445,
          1.57,
          1.5955555555555556,
          1.6211111111111112,
          1.6466666666666667,
          1.6722222222222223,
          1.6977777777777778,
          1.7233333333333334,
          1.748888888888889,
          1.7744444444444445,
          1.8,
          1.8255555555555556,
          1.8511111111111112,
          1.8766666666666667,
          1.9022222222222223,
          1.9277777777777778,
          1.9533333333333334,
          1.978888888888889,
          2.0044444444444447,
          2.0300000000000002,
          2.055555555555556,
          2.0811111111111114,
          2.106666666666667,
          2.1322222222222225,
          2.157777777777778,
          2.1833333333333336,
          2.208888888888889,
          2.2344444444444447,
          2.2600000000000002,
          2.285555555555556,
          2.3111111111111113,
          2.336666666666667,
          2.3622222222222224,
          2.387777777777778,
          2.4133333333333336,
          2.438888888888889,
          2.4644444444444447,
          2.49,
          2.5155555555555558,
          2.5411111111111113,
          2.566666666666667,
          2.5922222222222224,
          2.617777777777778,
          2.6433333333333335,
          2.668888888888889,
          2.6944444444444446,
          2.72
         ],
         "y": [
          19.175849299134875,
          20.557417981867445,
          21.938986664600016,
          23.320555347332586,
          24.702124030065157,
          26.083692712797735,
          27.465261395530305,
          28.846830078262876,
          30.228398760995447,
          31.609967443728017,
          32.99153612646059,
          34.37310480919316,
          35.75467349192573,
          37.1362421746583,
          38.51781085739087,
          39.89937954012344,
          41.28094822285601,
          42.66251690558858,
          44.04408558832115,
          45.42565427105372,
          46.8072229537863,
          48.18879163651887,
          49.57036031925144,
          50.95192900198401,
          52.33349768471659,
          53.71506636744916,
          55.09663505018173,
          56.4782037329143,
          57.85977241564687,
          59.24134109837944,
          60.622909781112014,
          62.004478463844585,
          63.386047146577155,
          64.76761582930972,
          66.1491845120423,
          67.53075319477486,
          68.91232187750744,
          70.29389056024,
          71.67545924297258,
          73.05702792570514,
          74.43859660843772,
          75.82016529117028,
          77.20173397390286,
          78.58330265663542,
          79.964871339368,
          81.34644002210057,
          82.72800870483314,
          84.10957738756571,
          85.49114607029829,
          86.87271475303085,
          88.25428343576343,
          89.63585211849599,
          91.01742080122857,
          92.39898948396113,
          93.78055816669371,
          95.16212684942627,
          96.54369553215885,
          97.92526421489143,
          99.30683289762399,
          100.68840158035657,
          102.06997026308913,
          103.45153894582171,
          104.83310762855427,
          106.21467631128685,
          107.59624499401941,
          108.97781367675199,
          110.35938235948456,
          111.74095104221713,
          113.1225197249497,
          114.50408840768227,
          115.88565709041484,
          117.26722577314743,
          118.64879445588,
          120.03036313861257,
          121.41193182134514,
          122.79350050407771,
          124.17506918681028,
          125.55663786954285,
          126.93820655227542,
          128.319775235008,
          129.70134391774056,
          131.08291260047315,
          132.4644812832057,
          133.84604996593828,
          135.22761864867084,
          136.60918733140343,
          137.990756014136,
          139.37232469686856,
          140.75389337960112,
          142.13546206233372,
          143.51703074506628,
          144.89859942779884,
          146.2801681105314,
          147.661736793264,
          149.04330547599656,
          150.42487415872912,
          151.8064428414617,
          153.18801152419428,
          154.56958020692684,
          155.9511488896594
         ]
        }
       ],
       "layout": {
        "annotations": [
         {
          "font": {
           "color": "gray",
           "size": 10
          },
          "showarrow": false,
          "text": "Short",
          "x": 0.5,
          "xanchor": "center",
          "xref": "x",
          "y": 1,
          "yanchor": "top",
          "yref": "y domain"
         },
         {
          "font": {
           "color": "gray",
           "size": 10
          },
          "showarrow": false,
          "text": "Medium",
          "x": 1.5,
          "xanchor": "center",
          "xref": "x",
          "y": 1,
          "yanchor": "top",
          "yref": "y domain"
         },
         {
          "font": {
           "color": "gray",
           "size": 10
          },
          "showarrow": false,
          "text": "Long",
          "x": 2.5,
          "xanchor": "center",
          "xref": "x",
          "y": 1,
          "yanchor": "top",
          "yref": "y domain"
         },
         {
          "showarrow": false,
          "text": "Avg TSS: 51.12",
          "x": 1,
          "xanchor": "right",
          "xref": "x domain",
          "y": 51.121212121212125,
          "yanchor": "bottom",
          "yref": "y"
         },
         {
          "arrowcolor": "rgba(0,0,0,0.5)",
          "arrowhead": 1,
          "showarrow": true,
          "text": "Max TSS",
          "x": 1.7,
          "y": 156
         }
        ],
        "coloraxis": {
         "colorbar": {
          "title": {
           "text": "IF"
          }
         },
         "colorscale": [
          [
           0,
           "#440154"
          ],
          [
           0.1111111111111111,
           "#482878"
          ],
          [
           0.2222222222222222,
           "#3e4989"
          ],
          [
           0.3333333333333333,
           "#31688e"
          ],
          [
           0.4444444444444444,
           "#26828e"
          ],
          [
           0.5555555555555556,
           "#1f9e89"
          ],
          [
           0.6666666666666666,
           "#35b779"
          ],
          [
           0.7777777777777778,
           "#6ece58"
          ],
          [
           0.8888888888888888,
           "#b5de2b"
          ],
          [
           1,
           "#fde725"
          ]
         ]
        },
        "font": {
         "family": "Arial",
         "size": 12
        },
        "legend": {
         "title": {
          "text": "Intensity Factor"
         },
         "tracegroupgap": 0
        },
        "margin": {
         "b": 50,
         "l": 50,
         "r": 50,
         "t": 50
        },
        "plot_bgcolor": "rgba(240,240,240,0.5)",
        "shapes": [
         {
          "fillcolor": "rgba(255,0,0,0.05)",
          "layer": "below",
          "line": {
           "width": 0
          },
          "type": "rect",
          "x0": 0,
          "x1": 1,
          "xref": "x",
          "y0": 0,
          "y1": 1,
          "yref": "y domain"
         },
         {
          "fillcolor": "rgba(0,255,0,0.05)",
          "layer": "below",
          "line": {
           "width": 0
          },
          "type": "rect",
          "x0": 1,
          "x1": 2,
          "xref": "x",
          "y0": 0,
          "y1": 1,
          "yref": "y domain"
         },
         {
          "fillcolor": "rgba(0,0,255,0.05)",
          "layer": "below",
          "line": {
           "width": 0
          },
          "type": "rect",
          "x0": 2,
          "x1": 3,
          "xref": "x",
          "y0": 0,
          "y1": 1,
          "yref": "y domain"
         },
         {
          "line": {
           "color": "rgba(0,128,0,0.5)",
           "dash": "dot"
          },
          "type": "line",
          "x0": 0,
          "x1": 1,
          "xref": "x domain",
          "y0": 51.121212121212125,
          "y1": 51.121212121212125,
          "yref": "y"
         }
        ],
        "template": {
         "data": {
          "bar": [
           {
            "error_x": {
             "color": "#2a3f5f"
            },
            "error_y": {
             "color": "#2a3f5f"
            },
            "marker": {
             "line": {
              "color": "#E5ECF6",
              "width": 0.5
             },
             "pattern": {
              "fillmode": "overlay",
              "size": 10,
              "solidity": 0.2
             }
            },
            "type": "bar"
           }
          ],
          "barpolar": [
           {
            "marker": {
             "line": {
              "color": "#E5ECF6",
              "width": 0.5
             },
             "pattern": {
              "fillmode": "overlay",
              "size": 10,
              "solidity": 0.2
             }
            },
            "type": "barpolar"
           }
          ],
          "carpet": [
           {
            "aaxis": {
             "endlinecolor": "#2a3f5f",
             "gridcolor": "white",
             "linecolor": "white",
             "minorgridcolor": "white",
             "startlinecolor": "#2a3f5f"
            },
            "baxis": {
             "endlinecolor": "#2a3f5f",
             "gridcolor": "white",
             "linecolor": "white",
             "minorgridcolor": "white",
             "startlinecolor": "#2a3f5f"
            },
            "type": "carpet"
           }
          ],
          "choropleth": [
           {
            "colorbar": {
             "outlinewidth": 0,
             "ticks": ""
            },
            "type": "choropleth"
           }
          ],
          "contour": [
           {
            "colorbar": {
             "outlinewidth": 0,
             "ticks": ""
            },
            "colorscale": [
             [
              0,
              "#0d0887"
             ],
             [
              0.1111111111111111,
              "#46039f"
             ],
             [
              0.2222222222222222,
              "#7201a8"
             ],
             [
              0.3333333333333333,
              "#9c179e"
             ],
             [
              0.4444444444444444,
              "#bd3786"
             ],
             [
              0.5555555555555556,
              "#d8576b"
             ],
             [
              0.6666666666666666,
              "#ed7953"
             ],
             [
              0.7777777777777778,
              "#fb9f3a"
             ],
             [
              0.8888888888888888,
              "#fdca26"
             ],
             [
              1,
              "#f0f921"
             ]
            ],
            "type": "contour"
           }
          ],
          "contourcarpet": [
           {
            "colorbar": {
             "outlinewidth": 0,
             "ticks": ""
            },
            "type": "contourcarpet"
           }
          ],
          "heatmap": [
           {
            "colorbar": {
             "outlinewidth": 0,
             "ticks": ""
            },
            "colorscale": [
             [
              0,
              "#0d0887"
             ],
             [
              0.1111111111111111,
              "#46039f"
             ],
             [
              0.2222222222222222,
              "#7201a8"
             ],
             [
              0.3333333333333333,
              "#9c179e"
             ],
             [
              0.4444444444444444,
              "#bd3786"
             ],
             [
              0.5555555555555556,
              "#d8576b"
             ],
             [
              0.6666666666666666,
              "#ed7953"
             ],
             [
              0.7777777777777778,
              "#fb9f3a"
             ],
             [
              0.8888888888888888,
              "#fdca26"
             ],
             [
              1,
              "#f0f921"
             ]
            ],
            "type": "heatmap"
           }
          ],
          "heatmapgl": [
           {
            "colorbar": {
             "outlinewidth": 0,
             "ticks": ""
            },
            "colorscale": [
             [
              0,
              "#0d0887"
             ],
             [
              0.1111111111111111,
              "#46039f"
             ],
             [
              0.2222222222222222,
              "#7201a8"
             ],
             [
              0.3333333333333333,
              "#9c179e"
             ],
             [
              0.4444444444444444,
              "#bd3786"
             ],
             [
              0.5555555555555556,
              "#d8576b"
             ],
             [
              0.6666666666666666,
              "#ed7953"
             ],
             [
              0.7777777777777778,
              "#fb9f3a"
             ],
             [
              0.8888888888888888,
              "#fdca26"
             ],
             [
              1,
              "#f0f921"
             ]
            ],
            "type": "heatmapgl"
           }
          ],
          "histogram": [
           {
            "marker": {
             "pattern": {
              "fillmode": "overlay",
              "size": 10,
              "solidity": 0.2
             }
            },
            "type": "histogram"
           }
          ],
          "histogram2d": [
           {
            "colorbar": {
             "outlinewidth": 0,
             "ticks": ""
            },
            "colorscale": [
             [
              0,
              "#0d0887"
             ],
             [
              0.1111111111111111,
              "#46039f"
             ],
             [
              0.2222222222222222,
              "#7201a8"
             ],
             [
              0.3333333333333333,
              "#9c179e"
             ],
             [
              0.4444444444444444,
              "#bd3786"
             ],
             [
              0.5555555555555556,
              "#d8576b"
             ],
             [
              0.6666666666666666,
              "#ed7953"
             ],
             [
              0.7777777777777778,
              "#fb9f3a"
             ],
             [
              0.8888888888888888,
              "#fdca26"
             ],
             [
              1,
              "#f0f921"
             ]
            ],
            "type": "histogram2d"
           }
          ],
          "histogram2dcontour": [
           {
            "colorbar": {
             "outlinewidth": 0,
             "ticks": ""
            },
            "colorscale": [
             [
              0,
              "#0d0887"
             ],
             [
              0.1111111111111111,
              "#46039f"
             ],
             [
              0.2222222222222222,
              "#7201a8"
             ],
             [
              0.3333333333333333,
              "#9c179e"
             ],
             [
              0.4444444444444444,
              "#bd3786"
             ],
             [
              0.5555555555555556,
              "#d8576b"
             ],
             [
              0.6666666666666666,
              "#ed7953"
             ],
             [
              0.7777777777777778,
              "#fb9f3a"
             ],
             [
              0.8888888888888888,
              "#fdca26"
             ],
             [
              1,
              "#f0f921"
             ]
            ],
            "type": "histogram2dcontour"
           }
          ],
          "mesh3d": [
           {
            "colorbar": {
             "outlinewidth": 0,
             "ticks": ""
            },
            "type": "mesh3d"
           }
          ],
          "parcoords": [
           {
            "line": {
             "colorbar": {
              "outlinewidth": 0,
              "ticks": ""
             }
            },
            "type": "parcoords"
           }
          ],
          "pie": [
           {
            "automargin": true,
            "type": "pie"
           }
          ],
          "scatter": [
           {
            "fillpattern": {
             "fillmode": "overlay",
             "size": 10,
             "solidity": 0.2
            },
            "type": "scatter"
           }
          ],
          "scatter3d": [
           {
            "line": {
             "colorbar": {
              "outlinewidth": 0,
              "ticks": ""
             }
            },
            "marker": {
             "colorbar": {
              "outlinewidth": 0,
              "ticks": ""
             }
            },
            "type": "scatter3d"
           }
          ],
          "scattercarpet": [
           {
            "marker": {
             "colorbar": {
              "outlinewidth": 0,
              "ticks": ""
             }
            },
            "type": "scattercarpet"
           }
          ],
          "scattergeo": [
           {
            "marker": {
             "colorbar": {
              "outlinewidth": 0,
              "ticks": ""
             }
            },
            "type": "scattergeo"
           }
          ],
          "scattergl": [
           {
            "marker": {
             "colorbar": {
              "outlinewidth": 0,
              "ticks": ""
             }
            },
            "type": "scattergl"
           }
          ],
          "scattermapbox": [
           {
            "marker": {
             "colorbar": {
              "outlinewidth": 0,
              "ticks": ""
             }
            },
            "type": "scattermapbox"
           }
          ],
          "scatterpolar": [
           {
            "marker": {
             "colorbar": {
              "outlinewidth": 0,
              "ticks": ""
             }
            },
            "type": "scatterpolar"
           }
          ],
          "scatterpolargl": [
           {
            "marker": {
             "colorbar": {
              "outlinewidth": 0,
              "ticks": ""
             }
            },
            "type": "scatterpolargl"
           }
          ],
          "scatterternary": [
           {
            "marker": {
             "colorbar": {
              "outlinewidth": 0,
              "ticks": ""
             }
            },
            "type": "scatterternary"
           }
          ],
          "surface": [
           {
            "colorbar": {
             "outlinewidth": 0,
             "ticks": ""
            },
            "colorscale": [
             [
              0,
              "#0d0887"
             ],
             [
              0.1111111111111111,
              "#46039f"
             ],
             [
              0.2222222222222222,
              "#7201a8"
             ],
             [
              0.3333333333333333,
              "#9c179e"
             ],
             [
              0.4444444444444444,
              "#bd3786"
             ],
             [
              0.5555555555555556,
              "#d8576b"
             ],
             [
              0.6666666666666666,
              "#ed7953"
             ],
             [
              0.7777777777777778,
              "#fb9f3a"
             ],
             [
              0.8888888888888888,
              "#fdca26"
             ],
             [
              1,
              "#f0f921"
             ]
            ],
            "type": "surface"
           }
          ],
          "table": [
           {
            "cells": {
             "fill": {
              "color": "#EBF0F8"
             },
             "line": {
              "color": "white"
             }
            },
            "header": {
             "fill": {
              "color": "#C8D4E3"
             },
             "line": {
              "color": "white"
             }
            },
            "type": "table"
           }
          ]
         },
         "layout": {
          "annotationdefaults": {
           "arrowcolor": "#2a3f5f",
           "arrowhead": 0,
           "arrowwidth": 1
          },
          "autotypenumbers": "strict",
          "coloraxis": {
           "colorbar": {
            "outlinewidth": 0,
            "ticks": ""
           }
          },
          "colorscale": {
           "diverging": [
            [
             0,
             "#8e0152"
            ],
            [
             0.1,
             "#c51b7d"
            ],
            [
             0.2,
             "#de77ae"
            ],
            [
             0.3,
             "#f1b6da"
            ],
            [
             0.4,
             "#fde0ef"
            ],
            [
             0.5,
             "#f7f7f7"
            ],
            [
             0.6,
             "#e6f5d0"
            ],
            [
             0.7,
             "#b8e186"
            ],
            [
             0.8,
             "#7fbc41"
            ],
            [
             0.9,
             "#4d9221"
            ],
            [
             1,
             "#276419"
            ]
           ],
           "sequential": [
            [
             0,
             "#0d0887"
            ],
            [
             0.1111111111111111,
             "#46039f"
            ],
            [
             0.2222222222222222,
             "#7201a8"
            ],
            [
             0.3333333333333333,
             "#9c179e"
            ],
            [
             0.4444444444444444,
             "#bd3786"
            ],
            [
             0.5555555555555556,
             "#d8576b"
            ],
            [
             0.6666666666666666,
             "#ed7953"
            ],
            [
             0.7777777777777778,
             "#fb9f3a"
            ],
            [
             0.8888888888888888,
             "#fdca26"
            ],
            [
             1,
             "#f0f921"
            ]
           ],
           "sequentialminus": [
            [
             0,
             "#0d0887"
            ],
            [
             0.1111111111111111,
             "#46039f"
            ],
            [
             0.2222222222222222,
             "#7201a8"
            ],
            [
             0.3333333333333333,
             "#9c179e"
            ],
            [
             0.4444444444444444,
             "#bd3786"
            ],
            [
             0.5555555555555556,
             "#d8576b"
            ],
            [
             0.6666666666666666,
             "#ed7953"
            ],
            [
             0.7777777777777778,
             "#fb9f3a"
            ],
            [
             0.8888888888888888,
             "#fdca26"
            ],
            [
             1,
             "#f0f921"
            ]
           ]
          },
          "colorway": [
           "#636efa",
           "#EF553B",
           "#00cc96",
           "#ab63fa",
           "#FFA15A",
           "#19d3f3",
           "#FF6692",
           "#B6E880",
           "#FF97FF",
           "#FECB52"
          ],
          "font": {
           "color": "#2a3f5f"
          },
          "geo": {
           "bgcolor": "white",
           "lakecolor": "white",
           "landcolor": "#E5ECF6",
           "showlakes": true,
           "showland": true,
           "subunitcolor": "white"
          },
          "hoverlabel": {
           "align": "left"
          },
          "hovermode": "closest",
          "mapbox": {
           "style": "light"
          },
          "paper_bgcolor": "white",
          "plot_bgcolor": "#E5ECF6",
          "polar": {
           "angularaxis": {
            "gridcolor": "white",
            "linecolor": "white",
            "ticks": ""
           },
           "bgcolor": "#E5ECF6",
           "radialaxis": {
            "gridcolor": "white",
            "linecolor": "white",
            "ticks": ""
           }
          },
          "scene": {
           "xaxis": {
            "backgroundcolor": "#E5ECF6",
            "gridcolor": "white",
            "gridwidth": 2,
            "linecolor": "white",
            "showbackground": true,
            "ticks": "",
            "zerolinecolor": "white"
           },
           "yaxis": {
            "backgroundcolor": "#E5ECF6",
            "gridcolor": "white",
            "gridwidth": 2,
            "linecolor": "white",
            "showbackground": true,
            "ticks": "",
            "zerolinecolor": "white"
           },
           "zaxis": {
            "backgroundcolor": "#E5ECF6",
            "gridcolor": "white",
            "gridwidth": 2,
            "linecolor": "white",
            "showbackground": true,
            "ticks": "",
            "zerolinecolor": "white"
           }
          },
          "shapedefaults": {
           "line": {
            "color": "#2a3f5f"
           }
          },
          "ternary": {
           "aaxis": {
            "gridcolor": "white",
            "linecolor": "white",
            "ticks": ""
           },
           "baxis": {
            "gridcolor": "white",
            "linecolor": "white",
            "ticks": ""
           },
           "bgcolor": "#E5ECF6",
           "caxis": {
            "gridcolor": "white",
            "linecolor": "white",
            "ticks": ""
           }
          },
          "title": {
           "x": 0.05
          },
          "xaxis": {
           "automargin": true,
           "gridcolor": "white",
           "linecolor": "white",
           "ticks": "",
           "title": {
            "standoff": 15
           },
           "zerolinecolor": "white",
           "zerolinewidth": 2
          },
          "yaxis": {
           "automargin": true,
           "gridcolor": "white",
           "linecolor": "white",
           "ticks": "",
           "title": {
            "standoff": 15
           },
           "zerolinecolor": "white",
           "zerolinewidth": 2
          }
         }
        },
        "title": {
         "text": "Training Stress Score vs Duration"
        },
        "xaxis": {
         "anchor": "y",
         "domain": [
          0,
          1
         ],
         "gridcolor": "rgba(200,200,200,0.5)",
         "gridwidth": 1,
         "showgrid": true,
         "title": {
          "text": "Duration (hours)"
         }
        },
        "yaxis": {
         "anchor": "x",
         "domain": [
          0,
          1
         ],
         "gridcolor": "rgba(200,200,200,0.5)",
         "gridwidth": 1,
         "showgrid": true,
         "title": {
          "text": "TSS"
         }
        }
       }
      }
     },
     "metadata": {},
     "output_type": "display_data"
    }
   ],
   "source": [
    "import pandas as pd\n",
    "import numpy as np\n",
    "import plotly.express as px\n",
    "import plotly.graph_objects as go\n",
    "from scipy import stats\n",
    "from statsmodels.formula.api import ols, mixedlm\n",
    "from statsmodels.stats.multicomp import pairwise_tukeyhsd\n",
    "from tabulate import tabulate\n",
    "\n",
    "# Custom color mapping\n",
    "color_mapping = {\n",
    "    'Zone 1 (50%-60%)': '#e63946',\n",
    "    'Zone 2 (60%-70%)': '#a8dadc',\n",
    "    'Zone 3 (70%-80%)': '#90EE90',\n",
    "    'Zone 4 (80%-90%)': '#457b9d',\n",
    "    'Zone 5 (90%-100%)': '#1d3557'\n",
    "}\n",
    "\n",
    "# Load and prepare data\n",
    "cycling_data = pd.read_csv('/Users/ngirmay/Documents/GitHub/ironman_retrospective/IronMan_2023/wahoo/wahoo_data.csv', parse_dates=['Date'])\n",
    "cycling_data['Duration'] = pd.to_timedelta(cycling_data['Duration'])\n",
    "cycling_data['Duration_hours'] = cycling_data['Duration'].dt.total_seconds() / 3600\n",
    "cycling_data = cycling_data[cycling_data['Duration_hours'] >= 5/60]\n",
    "\n",
    "# Rename columns with spaces\n",
    "cycling_data = cycling_data.rename(columns={\n",
    "    'Normalized Power': 'Normalized_Power',\n",
    "    'Avg Power': 'Avg_Power',\n",
    "    'Activity Name': 'Activity_Name'\n",
    "})\n",
    "\n",
    "# Round all numeric columns to two decimal points\n",
    "numeric_columns = cycling_data.select_dtypes(include=[np.number]).columns\n",
    "cycling_data[numeric_columns] = cycling_data[numeric_columns].round(2)\n",
    "\n",
    "# 1. Descriptive Statistics\n",
    "print(\"Descriptive Statistics:\")\n",
    "desc_stats = cycling_data[['TSS', 'Avg_Power', 'Normalized_Power', 'IF', 'Duration_hours']].describe().round(2)\n",
    "print(tabulate(desc_stats, headers='keys', tablefmt='pretty'))\n",
    "\n",
    "# 2. Correlation Analysis\n",
    "corr_matrix = cycling_data[['TSS', 'Avg_Power', 'Normalized_Power', 'IF', 'Duration_hours']].corr().round(2)\n",
    "fig = px.imshow(corr_matrix, text_auto=True, color_continuous_scale=list(color_mapping.values()))\n",
    "fig.update_layout(title='Correlation Matrix of Key Metrics')\n",
    "fig.show()\n",
    "\n",
    "# 3. One-way ANOVA for TSS across different activities\n",
    "activities = cycling_data['Activity_Name'].unique()\n",
    "tss_by_activity = [group['TSS'].values for name, group in cycling_data.groupby('Activity_Name')]\n",
    "f_statistic, p_value = stats.f_oneway(*tss_by_activity)\n",
    "print(\"\\nOne-way ANOVA Results for TSS across activities:\")\n",
    "anova_results = [[\"F-statistic\", f\"{f_statistic:.2f}\"], [\"p-value\", f\"{p_value:.4f}\"]]\n",
    "print(tabulate(anova_results, headers=[\"Metric\", \"Value\"], tablefmt='pretty'))\n",
    "\n",
    "# 4. Tukey's HSD Test\n",
    "tukey_results = pairwise_tukeyhsd(cycling_data['TSS'], cycling_data['Activity_Name'])\n",
    "print(\"\\nTukey's HSD Test Results:\")\n",
    "print(tabulate(tukey_results.summary().data[1:], headers=tukey_results.summary().data[0], tablefmt='pretty'))\n",
    "\n",
    "# 5. Multiple Regression\n",
    "try:\n",
    "    model = ols('TSS ~ Duration_hours + Normalized_Power + IF', data=cycling_data).fit()\n",
    "    print(\"\\nMultiple Regression Results:\")\n",
    "    print(model.summary().as_text())  # Already formatted nicely\n",
    "except Exception as e:\n",
    "    print(f\"Error in Multiple Regression: {e}\")\n",
    "\n",
    "# 6. Linear Mixed Model\n",
    "try:\n",
    "    lmm = mixedlm('TSS ~ Duration_hours + Normalized_Power', cycling_data, groups=cycling_data['Activity_Name'])\n",
    "    lmm_results = lmm.fit()\n",
    "    print(\"\\nLinear Mixed Model Results:\")\n",
    "    print(lmm_results.summary().as_text())  # Already formatted nicely\n",
    "except Exception as e:\n",
    "    print(f\"Error in Linear Mixed Model: {e}\")\n",
    "\n",
    "# 7. Paired t-test (comparing TSS between two specific activity types)\n",
    "activity1 = 'Endurance 1'\n",
    "activity2 = 'Endurance 2'\n",
    "tss_activity1 = cycling_data[cycling_data['Activity_Name'] == activity1]['TSS']\n",
    "tss_activity2 = cycling_data[cycling_data['Activity_Name'] == activity2]['TSS']\n",
    "if len(tss_activity1) > 0 and len(tss_activity2) > 0:\n",
    "    t_stat, t_p_value = stats.ttest_ind(tss_activity1, tss_activity2)\n",
    "    print(f\"\\nPaired t-test results ({activity1} vs {activity2}):\")\n",
    "    t_test_results = [[\"t-statistic\", f\"{t_stat:.2f}\"], [\"p-value\", f\"{t_p_value:.4f}\"]]\n",
    "    print(tabulate(t_test_results, headers=[\"Metric\", \"Value\"], tablefmt='pretty'))\n",
    "else:\n",
    "    print(f\"\\nNot enough data for paired t-test between {activity1} and {activity2}\")\n",
    "\n",
    "# 8. TSS vs Duration Scatter Plot\n",
    "fig = px.scatter(cycling_data, x='Duration_hours', y='TSS', color='IF',\n",
    "                 color_continuous_scale='viridis',\n",
    "                 title='Training Stress Score vs Duration')\n",
    "\n",
    "# Define and add duration zones with faint colors\n",
    "duration_zones = [\n",
    "    (0, 1, 'Short', 'rgba(255,0,0,0.05)'),\n",
    "    (1, 2, 'Medium', 'rgba(0,255,0,0.05)'),\n",
    "    (2, 3, 'Long', 'rgba(0,0,255,0.05)')\n",
    "]\n",
    "\n",
    "for start, end, name, color in duration_zones:\n",
    "    fig.add_vrect(\n",
    "        x0=start, x1=end,\n",
    "        fillcolor=color, layer=\"below\", line_width=0,\n",
    "        annotation_text=name, annotation_position=\"top\",\n",
    "        annotation=dict(font_size=10, font_color=\"gray\")\n",
    "    )\n",
    "\n",
    "# Add average TSS line\n",
    "avg_tss = cycling_data['TSS'].mean()\n",
    "fig.add_hline(y=avg_tss, line_dash=\"dot\", line_color=\"rgba(0,128,0,0.5)\", annotation_text=f\"Avg TSS: {avg_tss:.2f}\")\n",
    "\n",
    "# Add annotations\n",
    "max_tss_idx = cycling_data['TSS'].idxmax()\n",
    "fig.add_annotation(x=cycling_data.loc[max_tss_idx, 'Duration_hours'], y=cycling_data.loc[max_tss_idx, 'TSS'],\n",
    "                   text=\"Max TSS\", showarrow=True, arrowhead=1, arrowcolor=\"rgba(0,0,0,0.5)\")\n",
    "\n",
    "# Add trend line (now as a separate trace to control its position)\n",
    "z = np.polyfit(cycling_data['Duration_hours'], cycling_data['TSS'], 1)\n",
    "p = np.poly1d(z)\n",
    "x_trend = np.linspace(cycling_data['Duration_hours'].min(), cycling_data['Duration_hours'].max(), 100)\n",
    "trend_trace = go.Scatter(x=x_trend, y=p(x_trend), mode='lines', name='Trend', \n",
    "                         line=dict(color='rgba(255,0,0,0.5)', dash='dash'))\n",
    "\n",
    "# Update layout\n",
    "fig.update_layout(\n",
    "    xaxis_title='Duration (hours)',\n",
    "    yaxis_title='TSS',\n",
    "    plot_bgcolor='rgba(240,240,240,0.5)',\n",
    "    legend_title_text='Intensity Factor',\n",
    "    coloraxis_colorbar=dict(title='IF'),\n",
    "    font=dict(family=\"Arial\", size=12),\n",
    "    margin=dict(l=50, r=50, t=50, b=50)\n",
    ")\n",
    "\n",
    "# Update axes\n",
    "fig.update_xaxes(showgrid=True, gridwidth=1, gridcolor='rgba(200,200,200,0.5)')\n",
    "fig.update_yaxes(showgrid=True, gridwidth=1, gridcolor='rgba(200,200,200,0.5)')\n",
    "\n",
    "# Add the trend line trace last to ensure it's on top\n",
    "fig.add_trace(trend_trace)\n",
    "\n",
    "fig.show()"
   ]
  },
  {
   "cell_type": "code",
   "execution_count": 36,
   "metadata": {},
   "outputs": [
    {
     "name": "stdout",
     "output_type": "stream",
     "text": [
      "Training period: 148 days\n",
      "Total training volume: 241.92 hours\n",
      "Average TSS: 44.90\n",
      "Average IF: 0.56\n",
      "\n",
      "Workout type distribution:\n",
      "WorkoutType\n",
      "Run         88\n",
      "Bike        75\n",
      "Swim        72\n",
      "Other       51\n",
      "Strength    21\n",
      "Day Off     20\n",
      "Brick        2\n",
      "Name: count, dtype: int64\n"
     ]
    },
    {
     "data": {
      "application/vnd.plotly.v1+json": {
       "config": {
        "plotlyServerURL": "https://plot.ly"
       },
       "data": [
        {
         "alignmentgroup": "True",
         "hovertemplate": "WorkoutType=%{x}<br>Duration=%{y}<extra></extra>",
         "legendgroup": "Run",
         "marker": {
          "color": "#e63946"
         },
         "name": "Run",
         "notched": false,
         "offsetgroup": "Run",
         "orientation": "v",
         "showlegend": true,
         "type": "box",
         "x": [
          "Run",
          "Run",
          "Run",
          "Run",
          "Run",
          "Run",
          "Run",
          "Run",
          "Run",
          "Run",
          "Run",
          "Run",
          "Run",
          "Run",
          "Run",
          "Run",
          "Run",
          "Run",
          "Run",
          "Run",
          "Run",
          "Run",
          "Run",
          "Run",
          "Run",
          "Run",
          "Run",
          "Run",
          "Run",
          "Run",
          "Run",
          "Run",
          "Run",
          "Run",
          "Run",
          "Run",
          "Run",
          "Run",
          "Run",
          "Run",
          "Run",
          "Run",
          "Run",
          "Run",
          "Run",
          "Run",
          "Run",
          "Run",
          "Run",
          "Run",
          "Run",
          "Run",
          "Run",
          "Run",
          "Run",
          "Run",
          "Run",
          "Run",
          "Run",
          "Run",
          "Run",
          "Run",
          "Run",
          "Run",
          "Run",
          "Run",
          "Run",
          "Run",
          "Run",
          "Run",
          "Run",
          "Run",
          "Run",
          "Run",
          "Run",
          "Run",
          "Run",
          "Run",
          "Run",
          "Run",
          "Run",
          "Run",
          "Run",
          "Run",
          "Run",
          "Run",
          "Run",
          "Run"
         ],
         "x0": " ",
         "xaxis": "x",
         "y": [
          0,
          0,
          0.833333333333333,
          0,
          0.666666666666667,
          2,
          0.380277777777778,
          0.256388888888889,
          0.333333333333333,
          0,
          0.25,
          0.666666666666667,
          0,
          1.31666666666667,
          0.666666666666667,
          0.25,
          1.08333333333333,
          0.666666666666667,
          0.333333333333333,
          0.666666666666667,
          1.43333333333333,
          0,
          0.75,
          0.5,
          1.55,
          0.5,
          0.333333333333333,
          1.55,
          0.75,
          0.5,
          0.95,
          0.5,
          2,
          0.5,
          1.08333333333333,
          0.25,
          2.25,
          0.666666666666667,
          1.16666666666667,
          1.08333333333333,
          0.5,
          0,
          2.5,
          0,
          0.5,
          0.5,
          1,
          0,
          0,
          2.5,
          0.25,
          1.08333333333333,
          0.5,
          0.5,
          2.5,
          1,
          0.5,
          0.25,
          0,
          2.5,
          1.5,
          0.25,
          0.5,
          2.5,
          0.166666666666667,
          1.25,
          0.5,
          2.75,
          0.7575,
          0.166666666666667,
          0.5,
          3,
          0.166666666666667,
          1,
          2,
          0.25,
          1.41666666666667,
          1.25,
          2.5,
          1,
          0.166666666666667,
          1,
          0.5,
          1.25,
          0.5,
          0.333333333333333,
          0.166666666666667,
          3.57833333333333
         ],
         "y0": " ",
         "yaxis": "y"
        },
        {
         "alignmentgroup": "True",
         "hovertemplate": "WorkoutType=%{x}<br>Duration=%{y}<extra></extra>",
         "legendgroup": "Other",
         "marker": {
          "color": "#a8dadc"
         },
         "name": "Other",
         "notched": false,
         "offsetgroup": "Other",
         "orientation": "v",
         "showlegend": true,
         "type": "box",
         "x": [
          "Other",
          "Other",
          "Other",
          "Other",
          "Other",
          "Other",
          "Other",
          "Other",
          "Other",
          "Other",
          "Other",
          "Other",
          "Other",
          "Other",
          "Other",
          "Other",
          "Other",
          "Other",
          "Other",
          "Other",
          "Other",
          "Other",
          "Other",
          "Other",
          "Other",
          "Other",
          "Other",
          "Other",
          "Other",
          "Other",
          "Other",
          "Other",
          "Other",
          "Other",
          "Other",
          "Other",
          "Other",
          "Other",
          "Other",
          "Other",
          "Other",
          "Other",
          "Other",
          "Other",
          "Other",
          "Other",
          "Other",
          "Other",
          "Other",
          "Other",
          "Other"
         ],
         "x0": " ",
         "xaxis": "x",
         "y": [
          0.25,
          0,
          0.25,
          0.25,
          0.25,
          0.25,
          0,
          0,
          0,
          0,
          0,
          0,
          0,
          0,
          0,
          0,
          0,
          0,
          0,
          0,
          0,
          0,
          0,
          0,
          0,
          0,
          0,
          0,
          0,
          0,
          0,
          0,
          0,
          0,
          0,
          0,
          0,
          0,
          0,
          0,
          0,
          0,
          0,
          0,
          0,
          0,
          0,
          0,
          0,
          0,
          0
         ],
         "y0": " ",
         "yaxis": "y"
        },
        {
         "alignmentgroup": "True",
         "hovertemplate": "WorkoutType=%{x}<br>Duration=%{y}<extra></extra>",
         "legendgroup": "Swim",
         "marker": {
          "color": "#90EE90"
         },
         "name": "Swim",
         "notched": false,
         "offsetgroup": "Swim",
         "orientation": "v",
         "showlegend": true,
         "type": "box",
         "x": [
          "Swim",
          "Swim",
          "Swim",
          "Swim",
          "Swim",
          "Swim",
          "Swim",
          "Swim",
          "Swim",
          "Swim",
          "Swim",
          "Swim",
          "Swim",
          "Swim",
          "Swim",
          "Swim",
          "Swim",
          "Swim",
          "Swim",
          "Swim",
          "Swim",
          "Swim",
          "Swim",
          "Swim",
          "Swim",
          "Swim",
          "Swim",
          "Swim",
          "Swim",
          "Swim",
          "Swim",
          "Swim",
          "Swim",
          "Swim",
          "Swim",
          "Swim",
          "Swim",
          "Swim",
          "Swim",
          "Swim",
          "Swim",
          "Swim",
          "Swim",
          "Swim",
          "Swim",
          "Swim",
          "Swim",
          "Swim",
          "Swim",
          "Swim",
          "Swim",
          "Swim",
          "Swim",
          "Swim",
          "Swim",
          "Swim",
          "Swim",
          "Swim",
          "Swim",
          "Swim",
          "Swim",
          "Swim",
          "Swim",
          "Swim",
          "Swim",
          "Swim",
          "Swim",
          "Swim",
          "Swim",
          "Swim",
          "Swim",
          "Swim"
         ],
         "x0": " ",
         "xaxis": "x",
         "y": [
          0,
          0,
          0,
          0.75,
          0,
          0.5,
          0.75,
          0.75,
          0,
          0.5,
          0.75,
          1,
          0,
          0.5,
          0.75,
          0.75,
          0.5,
          1,
          1,
          0.5,
          0.666666666666667,
          1,
          0.5,
          0,
          1.25,
          1.33333333333333,
          0.5,
          1.25,
          1.25,
          0.5,
          1,
          0.75,
          0.5,
          1,
          0.5,
          1.33333333333333,
          1.25,
          1.25,
          0.666666666666667,
          1,
          1.33333333333333,
          0.5,
          1.25,
          1.25,
          0.666666666666667,
          1.25,
          1.25,
          0,
          0.5,
          0,
          0,
          1.33333333333333,
          0,
          0,
          0.5,
          1,
          0,
          0.5,
          0,
          0,
          0,
          1.25,
          0,
          0.75,
          1,
          0,
          0,
          0.666666666666667,
          0.5,
          0.25,
          0.25,
          1.75
         ],
         "y0": " ",
         "yaxis": "y"
        },
        {
         "alignmentgroup": "True",
         "hovertemplate": "WorkoutType=%{x}<br>Duration=%{y}<extra></extra>",
         "legendgroup": "Bike",
         "marker": {
          "color": "#457b9d"
         },
         "name": "Bike",
         "notched": false,
         "offsetgroup": "Bike",
         "orientation": "v",
         "showlegend": true,
         "type": "box",
         "x": [
          "Bike",
          "Bike",
          "Bike",
          "Bike",
          "Bike",
          "Bike",
          "Bike",
          "Bike",
          "Bike",
          "Bike",
          "Bike",
          "Bike",
          "Bike",
          "Bike",
          "Bike",
          "Bike",
          "Bike",
          "Bike",
          "Bike",
          "Bike",
          "Bike",
          "Bike",
          "Bike",
          "Bike",
          "Bike",
          "Bike",
          "Bike",
          "Bike",
          "Bike",
          "Bike",
          "Bike",
          "Bike",
          "Bike",
          "Bike",
          "Bike",
          "Bike",
          "Bike",
          "Bike",
          "Bike",
          "Bike",
          "Bike",
          "Bike",
          "Bike",
          "Bike",
          "Bike",
          "Bike",
          "Bike",
          "Bike",
          "Bike",
          "Bike",
          "Bike",
          "Bike",
          "Bike",
          "Bike",
          "Bike",
          "Bike",
          "Bike",
          "Bike",
          "Bike",
          "Bike",
          "Bike",
          "Bike",
          "Bike",
          "Bike",
          "Bike",
          "Bike",
          "Bike",
          "Bike",
          "Bike",
          "Bike",
          "Bike",
          "Bike",
          "Bike",
          "Bike",
          "Bike"
         ],
         "x0": " ",
         "xaxis": "x",
         "y": [
          1,
          0,
          0,
          2,
          1,
          1,
          0.666666666666667,
          0.75,
          2,
          0.916666666666667,
          0,
          1.25,
          0.75,
          0.7,
          2,
          1,
          1,
          2.23333333333333,
          1,
          1,
          2.83333333333333,
          1,
          1.05,
          1,
          0,
          1.25,
          1,
          4.5,
          1.08333333333333,
          0,
          0,
          1.75,
          1,
          1.08333333333333,
          4.5,
          1.16666666666667,
          1,
          0,
          5,
          1,
          1.08333333333333,
          4.5,
          1,
          1.16666666666667,
          0,
          5,
          0,
          0,
          0,
          0.833333333333333,
          1.33333333333333,
          5.5,
          1.5,
          0.333333333333333,
          5,
          0.5,
          1.5,
          6,
          0.75,
          1.33333333333333,
          3,
          1,
          1.33333333333333,
          3.25,
          0,
          0.5,
          1.33333333333333,
          0,
          0,
          1.5,
          0,
          0,
          0.5,
          7.16666666666667,
          0
         ],
         "y0": " ",
         "yaxis": "y"
        },
        {
         "alignmentgroup": "True",
         "hovertemplate": "WorkoutType=%{x}<br>Duration=%{y}<extra></extra>",
         "legendgroup": "Day Off",
         "marker": {
          "color": "#1d3557"
         },
         "name": "Day Off",
         "notched": false,
         "offsetgroup": "Day Off",
         "orientation": "v",
         "showlegend": true,
         "type": "box",
         "x": [
          "Day Off",
          "Day Off",
          "Day Off",
          "Day Off",
          "Day Off",
          "Day Off",
          "Day Off",
          "Day Off",
          "Day Off",
          "Day Off",
          "Day Off",
          "Day Off",
          "Day Off",
          "Day Off",
          "Day Off",
          "Day Off",
          "Day Off",
          "Day Off",
          "Day Off",
          "Day Off"
         ],
         "x0": " ",
         "xaxis": "x",
         "y": [
          0,
          0,
          0,
          0,
          0,
          0,
          0,
          0,
          0,
          0,
          0,
          0,
          0,
          0,
          0,
          0,
          0,
          0,
          0,
          0
         ],
         "y0": " ",
         "yaxis": "y"
        },
        {
         "alignmentgroup": "True",
         "hovertemplate": "WorkoutType=%{x}<br>Duration=%{y}<extra></extra>",
         "legendgroup": "Strength",
         "marker": {
          "color": "#e63946"
         },
         "name": "Strength",
         "notched": false,
         "offsetgroup": "Strength",
         "orientation": "v",
         "showlegend": true,
         "type": "box",
         "x": [
          "Strength",
          "Strength",
          "Strength",
          "Strength",
          "Strength",
          "Strength",
          "Strength",
          "Strength",
          "Strength",
          "Strength",
          "Strength",
          "Strength",
          "Strength",
          "Strength",
          "Strength",
          "Strength",
          "Strength",
          "Strength",
          "Strength",
          "Strength",
          "Strength"
         ],
         "x0": " ",
         "xaxis": "x",
         "y": [
          0.25,
          0.75,
          0.75,
          0,
          0.5,
          0.75,
          0.75,
          0.75,
          0.75,
          0.75,
          0.75,
          0.75,
          0.5,
          0.5,
          0,
          0.5,
          0,
          0.5,
          0.5,
          0.5,
          0.333333333333333
         ],
         "y0": " ",
         "yaxis": "y"
        },
        {
         "alignmentgroup": "True",
         "hovertemplate": "WorkoutType=%{x}<br>Duration=%{y}<extra></extra>",
         "legendgroup": "Brick",
         "marker": {
          "color": "#a8dadc"
         },
         "name": "Brick",
         "notched": false,
         "offsetgroup": "Brick",
         "orientation": "v",
         "showlegend": true,
         "type": "box",
         "x": [
          "Brick",
          "Brick"
         ],
         "x0": " ",
         "xaxis": "x",
         "y": [
          0,
          1
         ],
         "y0": " ",
         "yaxis": "y"
        }
       ],
       "layout": {
        "boxmode": "overlay",
        "legend": {
         "title": {
          "text": "WorkoutType"
         },
         "tracegroupgap": 0
        },
        "template": {
         "data": {
          "bar": [
           {
            "error_x": {
             "color": "#2a3f5f"
            },
            "error_y": {
             "color": "#2a3f5f"
            },
            "marker": {
             "line": {
              "color": "#E5ECF6",
              "width": 0.5
             },
             "pattern": {
              "fillmode": "overlay",
              "size": 10,
              "solidity": 0.2
             }
            },
            "type": "bar"
           }
          ],
          "barpolar": [
           {
            "marker": {
             "line": {
              "color": "#E5ECF6",
              "width": 0.5
             },
             "pattern": {
              "fillmode": "overlay",
              "size": 10,
              "solidity": 0.2
             }
            },
            "type": "barpolar"
           }
          ],
          "carpet": [
           {
            "aaxis": {
             "endlinecolor": "#2a3f5f",
             "gridcolor": "white",
             "linecolor": "white",
             "minorgridcolor": "white",
             "startlinecolor": "#2a3f5f"
            },
            "baxis": {
             "endlinecolor": "#2a3f5f",
             "gridcolor": "white",
             "linecolor": "white",
             "minorgridcolor": "white",
             "startlinecolor": "#2a3f5f"
            },
            "type": "carpet"
           }
          ],
          "choropleth": [
           {
            "colorbar": {
             "outlinewidth": 0,
             "ticks": ""
            },
            "type": "choropleth"
           }
          ],
          "contour": [
           {
            "colorbar": {
             "outlinewidth": 0,
             "ticks": ""
            },
            "colorscale": [
             [
              0,
              "#0d0887"
             ],
             [
              0.1111111111111111,
              "#46039f"
             ],
             [
              0.2222222222222222,
              "#7201a8"
             ],
             [
              0.3333333333333333,
              "#9c179e"
             ],
             [
              0.4444444444444444,
              "#bd3786"
             ],
             [
              0.5555555555555556,
              "#d8576b"
             ],
             [
              0.6666666666666666,
              "#ed7953"
             ],
             [
              0.7777777777777778,
              "#fb9f3a"
             ],
             [
              0.8888888888888888,
              "#fdca26"
             ],
             [
              1,
              "#f0f921"
             ]
            ],
            "type": "contour"
           }
          ],
          "contourcarpet": [
           {
            "colorbar": {
             "outlinewidth": 0,
             "ticks": ""
            },
            "type": "contourcarpet"
           }
          ],
          "heatmap": [
           {
            "colorbar": {
             "outlinewidth": 0,
             "ticks": ""
            },
            "colorscale": [
             [
              0,
              "#0d0887"
             ],
             [
              0.1111111111111111,
              "#46039f"
             ],
             [
              0.2222222222222222,
              "#7201a8"
             ],
             [
              0.3333333333333333,
              "#9c179e"
             ],
             [
              0.4444444444444444,
              "#bd3786"
             ],
             [
              0.5555555555555556,
              "#d8576b"
             ],
             [
              0.6666666666666666,
              "#ed7953"
             ],
             [
              0.7777777777777778,
              "#fb9f3a"
             ],
             [
              0.8888888888888888,
              "#fdca26"
             ],
             [
              1,
              "#f0f921"
             ]
            ],
            "type": "heatmap"
           }
          ],
          "heatmapgl": [
           {
            "colorbar": {
             "outlinewidth": 0,
             "ticks": ""
            },
            "colorscale": [
             [
              0,
              "#0d0887"
             ],
             [
              0.1111111111111111,
              "#46039f"
             ],
             [
              0.2222222222222222,
              "#7201a8"
             ],
             [
              0.3333333333333333,
              "#9c179e"
             ],
             [
              0.4444444444444444,
              "#bd3786"
             ],
             [
              0.5555555555555556,
              "#d8576b"
             ],
             [
              0.6666666666666666,
              "#ed7953"
             ],
             [
              0.7777777777777778,
              "#fb9f3a"
             ],
             [
              0.8888888888888888,
              "#fdca26"
             ],
             [
              1,
              "#f0f921"
             ]
            ],
            "type": "heatmapgl"
           }
          ],
          "histogram": [
           {
            "marker": {
             "pattern": {
              "fillmode": "overlay",
              "size": 10,
              "solidity": 0.2
             }
            },
            "type": "histogram"
           }
          ],
          "histogram2d": [
           {
            "colorbar": {
             "outlinewidth": 0,
             "ticks": ""
            },
            "colorscale": [
             [
              0,
              "#0d0887"
             ],
             [
              0.1111111111111111,
              "#46039f"
             ],
             [
              0.2222222222222222,
              "#7201a8"
             ],
             [
              0.3333333333333333,
              "#9c179e"
             ],
             [
              0.4444444444444444,
              "#bd3786"
             ],
             [
              0.5555555555555556,
              "#d8576b"
             ],
             [
              0.6666666666666666,
              "#ed7953"
             ],
             [
              0.7777777777777778,
              "#fb9f3a"
             ],
             [
              0.8888888888888888,
              "#fdca26"
             ],
             [
              1,
              "#f0f921"
             ]
            ],
            "type": "histogram2d"
           }
          ],
          "histogram2dcontour": [
           {
            "colorbar": {
             "outlinewidth": 0,
             "ticks": ""
            },
            "colorscale": [
             [
              0,
              "#0d0887"
             ],
             [
              0.1111111111111111,
              "#46039f"
             ],
             [
              0.2222222222222222,
              "#7201a8"
             ],
             [
              0.3333333333333333,
              "#9c179e"
             ],
             [
              0.4444444444444444,
              "#bd3786"
             ],
             [
              0.5555555555555556,
              "#d8576b"
             ],
             [
              0.6666666666666666,
              "#ed7953"
             ],
             [
              0.7777777777777778,
              "#fb9f3a"
             ],
             [
              0.8888888888888888,
              "#fdca26"
             ],
             [
              1,
              "#f0f921"
             ]
            ],
            "type": "histogram2dcontour"
           }
          ],
          "mesh3d": [
           {
            "colorbar": {
             "outlinewidth": 0,
             "ticks": ""
            },
            "type": "mesh3d"
           }
          ],
          "parcoords": [
           {
            "line": {
             "colorbar": {
              "outlinewidth": 0,
              "ticks": ""
             }
            },
            "type": "parcoords"
           }
          ],
          "pie": [
           {
            "automargin": true,
            "type": "pie"
           }
          ],
          "scatter": [
           {
            "fillpattern": {
             "fillmode": "overlay",
             "size": 10,
             "solidity": 0.2
            },
            "type": "scatter"
           }
          ],
          "scatter3d": [
           {
            "line": {
             "colorbar": {
              "outlinewidth": 0,
              "ticks": ""
             }
            },
            "marker": {
             "colorbar": {
              "outlinewidth": 0,
              "ticks": ""
             }
            },
            "type": "scatter3d"
           }
          ],
          "scattercarpet": [
           {
            "marker": {
             "colorbar": {
              "outlinewidth": 0,
              "ticks": ""
             }
            },
            "type": "scattercarpet"
           }
          ],
          "scattergeo": [
           {
            "marker": {
             "colorbar": {
              "outlinewidth": 0,
              "ticks": ""
             }
            },
            "type": "scattergeo"
           }
          ],
          "scattergl": [
           {
            "marker": {
             "colorbar": {
              "outlinewidth": 0,
              "ticks": ""
             }
            },
            "type": "scattergl"
           }
          ],
          "scattermapbox": [
           {
            "marker": {
             "colorbar": {
              "outlinewidth": 0,
              "ticks": ""
             }
            },
            "type": "scattermapbox"
           }
          ],
          "scatterpolar": [
           {
            "marker": {
             "colorbar": {
              "outlinewidth": 0,
              "ticks": ""
             }
            },
            "type": "scatterpolar"
           }
          ],
          "scatterpolargl": [
           {
            "marker": {
             "colorbar": {
              "outlinewidth": 0,
              "ticks": ""
             }
            },
            "type": "scatterpolargl"
           }
          ],
          "scatterternary": [
           {
            "marker": {
             "colorbar": {
              "outlinewidth": 0,
              "ticks": ""
             }
            },
            "type": "scatterternary"
           }
          ],
          "surface": [
           {
            "colorbar": {
             "outlinewidth": 0,
             "ticks": ""
            },
            "colorscale": [
             [
              0,
              "#0d0887"
             ],
             [
              0.1111111111111111,
              "#46039f"
             ],
             [
              0.2222222222222222,
              "#7201a8"
             ],
             [
              0.3333333333333333,
              "#9c179e"
             ],
             [
              0.4444444444444444,
              "#bd3786"
             ],
             [
              0.5555555555555556,
              "#d8576b"
             ],
             [
              0.6666666666666666,
              "#ed7953"
             ],
             [
              0.7777777777777778,
              "#fb9f3a"
             ],
             [
              0.8888888888888888,
              "#fdca26"
             ],
             [
              1,
              "#f0f921"
             ]
            ],
            "type": "surface"
           }
          ],
          "table": [
           {
            "cells": {
             "fill": {
              "color": "#EBF0F8"
             },
             "line": {
              "color": "white"
             }
            },
            "header": {
             "fill": {
              "color": "#C8D4E3"
             },
             "line": {
              "color": "white"
             }
            },
            "type": "table"
           }
          ]
         },
         "layout": {
          "annotationdefaults": {
           "arrowcolor": "#2a3f5f",
           "arrowhead": 0,
           "arrowwidth": 1
          },
          "autotypenumbers": "strict",
          "coloraxis": {
           "colorbar": {
            "outlinewidth": 0,
            "ticks": ""
           }
          },
          "colorscale": {
           "diverging": [
            [
             0,
             "#8e0152"
            ],
            [
             0.1,
             "#c51b7d"
            ],
            [
             0.2,
             "#de77ae"
            ],
            [
             0.3,
             "#f1b6da"
            ],
            [
             0.4,
             "#fde0ef"
            ],
            [
             0.5,
             "#f7f7f7"
            ],
            [
             0.6,
             "#e6f5d0"
            ],
            [
             0.7,
             "#b8e186"
            ],
            [
             0.8,
             "#7fbc41"
            ],
            [
             0.9,
             "#4d9221"
            ],
            [
             1,
             "#276419"
            ]
           ],
           "sequential": [
            [
             0,
             "#0d0887"
            ],
            [
             0.1111111111111111,
             "#46039f"
            ],
            [
             0.2222222222222222,
             "#7201a8"
            ],
            [
             0.3333333333333333,
             "#9c179e"
            ],
            [
             0.4444444444444444,
             "#bd3786"
            ],
            [
             0.5555555555555556,
             "#d8576b"
            ],
            [
             0.6666666666666666,
             "#ed7953"
            ],
            [
             0.7777777777777778,
             "#fb9f3a"
            ],
            [
             0.8888888888888888,
             "#fdca26"
            ],
            [
             1,
             "#f0f921"
            ]
           ],
           "sequentialminus": [
            [
             0,
             "#0d0887"
            ],
            [
             0.1111111111111111,
             "#46039f"
            ],
            [
             0.2222222222222222,
             "#7201a8"
            ],
            [
             0.3333333333333333,
             "#9c179e"
            ],
            [
             0.4444444444444444,
             "#bd3786"
            ],
            [
             0.5555555555555556,
             "#d8576b"
            ],
            [
             0.6666666666666666,
             "#ed7953"
            ],
            [
             0.7777777777777778,
             "#fb9f3a"
            ],
            [
             0.8888888888888888,
             "#fdca26"
            ],
            [
             1,
             "#f0f921"
            ]
           ]
          },
          "colorway": [
           "#636efa",
           "#EF553B",
           "#00cc96",
           "#ab63fa",
           "#FFA15A",
           "#19d3f3",
           "#FF6692",
           "#B6E880",
           "#FF97FF",
           "#FECB52"
          ],
          "font": {
           "color": "#2a3f5f"
          },
          "geo": {
           "bgcolor": "white",
           "lakecolor": "white",
           "landcolor": "#E5ECF6",
           "showlakes": true,
           "showland": true,
           "subunitcolor": "white"
          },
          "hoverlabel": {
           "align": "left"
          },
          "hovermode": "closest",
          "mapbox": {
           "style": "light"
          },
          "paper_bgcolor": "white",
          "plot_bgcolor": "#E5ECF6",
          "polar": {
           "angularaxis": {
            "gridcolor": "white",
            "linecolor": "white",
            "ticks": ""
           },
           "bgcolor": "#E5ECF6",
           "radialaxis": {
            "gridcolor": "white",
            "linecolor": "white",
            "ticks": ""
           }
          },
          "scene": {
           "xaxis": {
            "backgroundcolor": "#E5ECF6",
            "gridcolor": "white",
            "gridwidth": 2,
            "linecolor": "white",
            "showbackground": true,
            "ticks": "",
            "zerolinecolor": "white"
           },
           "yaxis": {
            "backgroundcolor": "#E5ECF6",
            "gridcolor": "white",
            "gridwidth": 2,
            "linecolor": "white",
            "showbackground": true,
            "ticks": "",
            "zerolinecolor": "white"
           },
           "zaxis": {
            "backgroundcolor": "#E5ECF6",
            "gridcolor": "white",
            "gridwidth": 2,
            "linecolor": "white",
            "showbackground": true,
            "ticks": "",
            "zerolinecolor": "white"
           }
          },
          "shapedefaults": {
           "line": {
            "color": "#2a3f5f"
           }
          },
          "ternary": {
           "aaxis": {
            "gridcolor": "white",
            "linecolor": "white",
            "ticks": ""
           },
           "baxis": {
            "gridcolor": "white",
            "linecolor": "white",
            "ticks": ""
           },
           "bgcolor": "#E5ECF6",
           "caxis": {
            "gridcolor": "white",
            "linecolor": "white",
            "ticks": ""
           }
          },
          "title": {
           "x": 0.05
          },
          "xaxis": {
           "automargin": true,
           "gridcolor": "white",
           "linecolor": "white",
           "ticks": "",
           "title": {
            "standoff": 15
           },
           "zerolinecolor": "white",
           "zerolinewidth": 2
          },
          "yaxis": {
           "automargin": true,
           "gridcolor": "white",
           "linecolor": "white",
           "ticks": "",
           "title": {
            "standoff": 15
           },
           "zerolinecolor": "white",
           "zerolinewidth": 2
          }
         }
        },
        "title": {
         "text": "Duration Distribution by Workout Type"
        },
        "xaxis": {
         "anchor": "y",
         "categoryarray": [
          "Run",
          "Other",
          "Swim",
          "Bike",
          "Day Off",
          "Strength",
          "Brick"
         ],
         "categoryorder": "array",
         "domain": [
          0,
          1
         ],
         "title": {
          "text": "Workout Type"
         }
        },
        "yaxis": {
         "anchor": "x",
         "domain": [
          0,
          1
         ],
         "title": {
          "text": "Duration (hours)"
         }
        }
       }
      }
     },
     "metadata": {},
     "output_type": "display_data"
    },
    {
     "data": {
      "application/vnd.plotly.v1+json": {
       "config": {
        "plotlyServerURL": "https://plot.ly"
       },
       "data": [
        {
         "hovertemplate": "WorkoutType=Run<br>Duration=%{x}<br>TSS=%{y}<extra></extra>",
         "legendgroup": "Run",
         "marker": {
          "color": "#e63946",
          "symbol": "circle"
         },
         "mode": "markers",
         "name": "Run",
         "orientation": "v",
         "showlegend": true,
         "type": "scatter",
         "x": [
          0,
          0,
          0.833333333333333,
          0,
          0.666666666666667,
          2,
          0.380277777777778,
          0.256388888888889,
          0.333333333333333,
          0,
          0.25,
          0.666666666666667,
          0,
          1.31666666666667,
          0.666666666666667,
          0.25,
          1.08333333333333,
          0.666666666666667,
          0.333333333333333,
          0.666666666666667,
          1.43333333333333,
          0,
          0.75,
          0.5,
          1.55,
          0.5,
          0.333333333333333,
          1.55,
          0.75,
          0.5,
          0.95,
          0.5,
          2,
          0.5,
          1.08333333333333,
          0.25,
          2.25,
          0.666666666666667,
          1.16666666666667,
          1.08333333333333,
          0.5,
          0,
          2.5,
          0,
          0.5,
          0.5,
          1,
          0,
          0,
          2.5,
          0.25,
          1.08333333333333,
          0.5,
          0.5,
          2.5,
          1,
          0.5,
          0.25,
          0,
          2.5,
          1.5,
          0.25,
          0.5,
          2.5,
          0.166666666666667,
          1.25,
          0.5,
          2.75,
          0.7575,
          0.166666666666667,
          0.5,
          3,
          0.166666666666667,
          1,
          2,
          0.25,
          1.41666666666667,
          1.25,
          2.5,
          1,
          0.166666666666667,
          1,
          0.5,
          1.25,
          0.5,
          0.333333333333333,
          0.166666666666667,
          3.57833333333333
         ],
         "xaxis": "x",
         "y": [
          null,
          0.08,
          78.79,
          141.62,
          28.33,
          null,
          14.31,
          16.3,
          23.32,
          206.86,
          10.16,
          8.09,
          1.22,
          92.79,
          52.29,
          16.28,
          57.06,
          null,
          null,
          null,
          null,
          15.6,
          null,
          33.12,
          60.36,
          33.12,
          null,
          null,
          null,
          null,
          null,
          null,
          41.83,
          24.61,
          62.58,
          9.36,
          89.86,
          38.66,
          null,
          60.82,
          26.44,
          62.25,
          113.29,
          144.52,
          null,
          23.4,
          17.53,
          5.44,
          19.14,
          24.2,
          144.57,
          59.31,
          null,
          null,
          null,
          13.89,
          27.57,
          3,
          11.54,
          176.16,
          null,
          null,
          47.48,
          0.96,
          null,
          null,
          96.6,
          null,
          56.98,
          null,
          34.91,
          17.2,
          9.98,
          32.52,
          79.31,
          null,
          88.47,
          17.92,
          94.87,
          52.18,
          null,
          78.15,
          19.45,
          null,
          null,
          17.65,
          null,
          null
         ],
         "yaxis": "y"
        },
        {
         "hovertemplate": "WorkoutType=Other<br>Duration=%{x}<br>TSS=%{y}<extra></extra>",
         "legendgroup": "Other",
         "marker": {
          "color": "#a8dadc",
          "symbol": "circle"
         },
         "mode": "markers",
         "name": "Other",
         "orientation": "v",
         "showlegend": true,
         "type": "scatter",
         "x": [
          0.25,
          0,
          0.25,
          0.25,
          0.25,
          0.25,
          0,
          0,
          0,
          0,
          0,
          0,
          0,
          0,
          0,
          0,
          0,
          0,
          0,
          0,
          0,
          0,
          0,
          0,
          0,
          0,
          0,
          0,
          0,
          0,
          0,
          0,
          0,
          0,
          0,
          0,
          0,
          0,
          0,
          0,
          0,
          0,
          0,
          0,
          0,
          0,
          0,
          0,
          0,
          0,
          0
         ],
         "xaxis": "x",
         "y": [
          34.56,
          12.63,
          null,
          null,
          null,
          null,
          null,
          null,
          null,
          null,
          null,
          null,
          null,
          null,
          null,
          null,
          null,
          null,
          null,
          null,
          null,
          null,
          null,
          null,
          null,
          null,
          null,
          null,
          null,
          null,
          null,
          null,
          null,
          null,
          null,
          null,
          null,
          null,
          null,
          null,
          null,
          null,
          null,
          null,
          null,
          null,
          null,
          null,
          null,
          null,
          null
         ],
         "yaxis": "y"
        },
        {
         "hovertemplate": "WorkoutType=Swim<br>Duration=%{x}<br>TSS=%{y}<extra></extra>",
         "legendgroup": "Swim",
         "marker": {
          "color": "#90EE90",
          "symbol": "circle"
         },
         "mode": "markers",
         "name": "Swim",
         "orientation": "v",
         "showlegend": true,
         "type": "scatter",
         "x": [
          0,
          0,
          0,
          0.75,
          0,
          0.5,
          0.75,
          0.75,
          0,
          0.5,
          0.75,
          1,
          0,
          0.5,
          0.75,
          0.75,
          0.5,
          1,
          1,
          0.5,
          0.666666666666667,
          1,
          0.5,
          0,
          1.25,
          1.33333333333333,
          0.5,
          1.25,
          1.25,
          0.5,
          1,
          0.75,
          0.5,
          1,
          0.5,
          1.33333333333333,
          1.25,
          1.25,
          0.666666666666667,
          1,
          1.33333333333333,
          0.5,
          1.25,
          1.25,
          0.666666666666667,
          1.25,
          1.25,
          0,
          0.5,
          0,
          0,
          1.33333333333333,
          0,
          0,
          0.5,
          1,
          0,
          0.5,
          0,
          0,
          0,
          1.25,
          0,
          0.75,
          1,
          0,
          0,
          0.666666666666667,
          0.5,
          0.25,
          0.25,
          1.75
         ],
         "xaxis": "x",
         "y": [
          0.49,
          null,
          0.03,
          null,
          0.11,
          0.11,
          0.23,
          0.06,
          0.24,
          null,
          null,
          null,
          null,
          null,
          null,
          null,
          null,
          null,
          0.19,
          null,
          0.05,
          0.1,
          null,
          0.19,
          null,
          0.61,
          null,
          0.63,
          0.19,
          0.17,
          0.44,
          0.32,
          null,
          null,
          null,
          null,
          0.69,
          null,
          null,
          null,
          null,
          null,
          0.22,
          0.38,
          null,
          null,
          0.27,
          0.21,
          null,
          0.16,
          0.98,
          null,
          null,
          0.35,
          null,
          null,
          null,
          0.39,
          0.4,
          null,
          null,
          null,
          null,
          null,
          null,
          null,
          null,
          null,
          null,
          null,
          null,
          0.86
         ],
         "yaxis": "y"
        },
        {
         "hovertemplate": "WorkoutType=Bike<br>Duration=%{x}<br>TSS=%{y}<extra></extra>",
         "legendgroup": "Bike",
         "marker": {
          "color": "#457b9d",
          "symbol": "circle"
         },
         "mode": "markers",
         "name": "Bike",
         "orientation": "v",
         "showlegend": true,
         "type": "scatter",
         "x": [
          1,
          0,
          0,
          2,
          1,
          1,
          0.666666666666667,
          0.75,
          2,
          0.916666666666667,
          0,
          1.25,
          0.75,
          0.7,
          2,
          1,
          1,
          2.23333333333333,
          1,
          1,
          2.83333333333333,
          1,
          1.05,
          1,
          0,
          1.25,
          1,
          4.5,
          1.08333333333333,
          0,
          0,
          1.75,
          1,
          1.08333333333333,
          4.5,
          1.16666666666667,
          1,
          0,
          5,
          1,
          1.08333333333333,
          4.5,
          1,
          1.16666666666667,
          0,
          5,
          0,
          0,
          0,
          0.833333333333333,
          1.33333333333333,
          5.5,
          1.5,
          0.333333333333333,
          5,
          0.5,
          1.5,
          6,
          0.75,
          1.33333333333333,
          3,
          1,
          1.33333333333333,
          3.25,
          0,
          0.5,
          1.33333333333333,
          0,
          0,
          1.5,
          0,
          0,
          0.5,
          7.16666666666667,
          0
         ],
         "xaxis": "x",
         "y": [
          0.03,
          15.65,
          59.62,
          null,
          25.63,
          27.66,
          16.99,
          37.1,
          42.81,
          16.25,
          20.09,
          null,
          17.28,
          null,
          null,
          null,
          59.24,
          81.22,
          45.35,
          55.08,
          null,
          null,
          null,
          null,
          92.07,
          59.78,
          30.67,
          144.87,
          8.98,
          13.69,
          13.87,
          null,
          42.41,
          67.33,
          240.19,
          56.34,
          null,
          142.98,
          166.58,
          null,
          null,
          null,
          40.12,
          22.57,
          69.47,
          26.32,
          11.28,
          90.86,
          160.07,
          null,
          null,
          null,
          null,
          null,
          177.32,
          14.87,
          null,
          null,
          null,
          58.7,
          117.95,
          null,
          null,
          67.8,
          35.21,
          null,
          null,
          null,
          19.46,
          63.17,
          0.02,
          0.1,
          null,
          371.78,
          316.75
         ],
         "yaxis": "y"
        },
        {
         "hovertemplate": "WorkoutType=Day Off<br>Duration=%{x}<br>TSS=%{y}<extra></extra>",
         "legendgroup": "Day Off",
         "marker": {
          "color": "#1d3557",
          "symbol": "circle"
         },
         "mode": "markers",
         "name": "Day Off",
         "orientation": "v",
         "showlegend": true,
         "type": "scatter",
         "x": [
          0,
          0,
          0,
          0,
          0,
          0,
          0,
          0,
          0,
          0,
          0,
          0,
          0,
          0,
          0,
          0,
          0,
          0,
          0,
          0
         ],
         "xaxis": "x",
         "y": [
          null,
          null,
          null,
          null,
          null,
          null,
          null,
          null,
          null,
          null,
          null,
          null,
          null,
          null,
          null,
          null,
          null,
          null,
          null,
          null
         ],
         "yaxis": "y"
        },
        {
         "hovertemplate": "WorkoutType=Strength<br>Duration=%{x}<br>TSS=%{y}<extra></extra>",
         "legendgroup": "Strength",
         "marker": {
          "color": "#e63946",
          "symbol": "circle"
         },
         "mode": "markers",
         "name": "Strength",
         "orientation": "v",
         "showlegend": true,
         "type": "scatter",
         "x": [
          0.25,
          0.75,
          0.75,
          0,
          0.5,
          0.75,
          0.75,
          0.75,
          0.75,
          0.75,
          0.75,
          0.75,
          0.5,
          0.5,
          0,
          0.5,
          0,
          0.5,
          0.5,
          0.5,
          0.333333333333333
         ],
         "xaxis": "x",
         "y": [
          null,
          null,
          null,
          27.09,
          null,
          null,
          null,
          null,
          null,
          null,
          null,
          null,
          null,
          null,
          19.85,
          null,
          15.12,
          null,
          null,
          24.71,
          null
         ],
         "yaxis": "y"
        },
        {
         "hovertemplate": "WorkoutType=Brick<br>Duration=%{x}<br>TSS=%{y}<extra></extra>",
         "legendgroup": "Brick",
         "marker": {
          "color": "#a8dadc",
          "symbol": "circle"
         },
         "mode": "markers",
         "name": "Brick",
         "orientation": "v",
         "showlegend": true,
         "type": "scatter",
         "x": [
          0,
          1
         ],
         "xaxis": "x",
         "y": [
          null,
          null
         ],
         "yaxis": "y"
        }
       ],
       "layout": {
        "legend": {
         "title": {
          "text": "WorkoutType"
         },
         "tracegroupgap": 0
        },
        "template": {
         "data": {
          "bar": [
           {
            "error_x": {
             "color": "#2a3f5f"
            },
            "error_y": {
             "color": "#2a3f5f"
            },
            "marker": {
             "line": {
              "color": "#E5ECF6",
              "width": 0.5
             },
             "pattern": {
              "fillmode": "overlay",
              "size": 10,
              "solidity": 0.2
             }
            },
            "type": "bar"
           }
          ],
          "barpolar": [
           {
            "marker": {
             "line": {
              "color": "#E5ECF6",
              "width": 0.5
             },
             "pattern": {
              "fillmode": "overlay",
              "size": 10,
              "solidity": 0.2
             }
            },
            "type": "barpolar"
           }
          ],
          "carpet": [
           {
            "aaxis": {
             "endlinecolor": "#2a3f5f",
             "gridcolor": "white",
             "linecolor": "white",
             "minorgridcolor": "white",
             "startlinecolor": "#2a3f5f"
            },
            "baxis": {
             "endlinecolor": "#2a3f5f",
             "gridcolor": "white",
             "linecolor": "white",
             "minorgridcolor": "white",
             "startlinecolor": "#2a3f5f"
            },
            "type": "carpet"
           }
          ],
          "choropleth": [
           {
            "colorbar": {
             "outlinewidth": 0,
             "ticks": ""
            },
            "type": "choropleth"
           }
          ],
          "contour": [
           {
            "colorbar": {
             "outlinewidth": 0,
             "ticks": ""
            },
            "colorscale": [
             [
              0,
              "#0d0887"
             ],
             [
              0.1111111111111111,
              "#46039f"
             ],
             [
              0.2222222222222222,
              "#7201a8"
             ],
             [
              0.3333333333333333,
              "#9c179e"
             ],
             [
              0.4444444444444444,
              "#bd3786"
             ],
             [
              0.5555555555555556,
              "#d8576b"
             ],
             [
              0.6666666666666666,
              "#ed7953"
             ],
             [
              0.7777777777777778,
              "#fb9f3a"
             ],
             [
              0.8888888888888888,
              "#fdca26"
             ],
             [
              1,
              "#f0f921"
             ]
            ],
            "type": "contour"
           }
          ],
          "contourcarpet": [
           {
            "colorbar": {
             "outlinewidth": 0,
             "ticks": ""
            },
            "type": "contourcarpet"
           }
          ],
          "heatmap": [
           {
            "colorbar": {
             "outlinewidth": 0,
             "ticks": ""
            },
            "colorscale": [
             [
              0,
              "#0d0887"
             ],
             [
              0.1111111111111111,
              "#46039f"
             ],
             [
              0.2222222222222222,
              "#7201a8"
             ],
             [
              0.3333333333333333,
              "#9c179e"
             ],
             [
              0.4444444444444444,
              "#bd3786"
             ],
             [
              0.5555555555555556,
              "#d8576b"
             ],
             [
              0.6666666666666666,
              "#ed7953"
             ],
             [
              0.7777777777777778,
              "#fb9f3a"
             ],
             [
              0.8888888888888888,
              "#fdca26"
             ],
             [
              1,
              "#f0f921"
             ]
            ],
            "type": "heatmap"
           }
          ],
          "heatmapgl": [
           {
            "colorbar": {
             "outlinewidth": 0,
             "ticks": ""
            },
            "colorscale": [
             [
              0,
              "#0d0887"
             ],
             [
              0.1111111111111111,
              "#46039f"
             ],
             [
              0.2222222222222222,
              "#7201a8"
             ],
             [
              0.3333333333333333,
              "#9c179e"
             ],
             [
              0.4444444444444444,
              "#bd3786"
             ],
             [
              0.5555555555555556,
              "#d8576b"
             ],
             [
              0.6666666666666666,
              "#ed7953"
             ],
             [
              0.7777777777777778,
              "#fb9f3a"
             ],
             [
              0.8888888888888888,
              "#fdca26"
             ],
             [
              1,
              "#f0f921"
             ]
            ],
            "type": "heatmapgl"
           }
          ],
          "histogram": [
           {
            "marker": {
             "pattern": {
              "fillmode": "overlay",
              "size": 10,
              "solidity": 0.2
             }
            },
            "type": "histogram"
           }
          ],
          "histogram2d": [
           {
            "colorbar": {
             "outlinewidth": 0,
             "ticks": ""
            },
            "colorscale": [
             [
              0,
              "#0d0887"
             ],
             [
              0.1111111111111111,
              "#46039f"
             ],
             [
              0.2222222222222222,
              "#7201a8"
             ],
             [
              0.3333333333333333,
              "#9c179e"
             ],
             [
              0.4444444444444444,
              "#bd3786"
             ],
             [
              0.5555555555555556,
              "#d8576b"
             ],
             [
              0.6666666666666666,
              "#ed7953"
             ],
             [
              0.7777777777777778,
              "#fb9f3a"
             ],
             [
              0.8888888888888888,
              "#fdca26"
             ],
             [
              1,
              "#f0f921"
             ]
            ],
            "type": "histogram2d"
           }
          ],
          "histogram2dcontour": [
           {
            "colorbar": {
             "outlinewidth": 0,
             "ticks": ""
            },
            "colorscale": [
             [
              0,
              "#0d0887"
             ],
             [
              0.1111111111111111,
              "#46039f"
             ],
             [
              0.2222222222222222,
              "#7201a8"
             ],
             [
              0.3333333333333333,
              "#9c179e"
             ],
             [
              0.4444444444444444,
              "#bd3786"
             ],
             [
              0.5555555555555556,
              "#d8576b"
             ],
             [
              0.6666666666666666,
              "#ed7953"
             ],
             [
              0.7777777777777778,
              "#fb9f3a"
             ],
             [
              0.8888888888888888,
              "#fdca26"
             ],
             [
              1,
              "#f0f921"
             ]
            ],
            "type": "histogram2dcontour"
           }
          ],
          "mesh3d": [
           {
            "colorbar": {
             "outlinewidth": 0,
             "ticks": ""
            },
            "type": "mesh3d"
           }
          ],
          "parcoords": [
           {
            "line": {
             "colorbar": {
              "outlinewidth": 0,
              "ticks": ""
             }
            },
            "type": "parcoords"
           }
          ],
          "pie": [
           {
            "automargin": true,
            "type": "pie"
           }
          ],
          "scatter": [
           {
            "fillpattern": {
             "fillmode": "overlay",
             "size": 10,
             "solidity": 0.2
            },
            "type": "scatter"
           }
          ],
          "scatter3d": [
           {
            "line": {
             "colorbar": {
              "outlinewidth": 0,
              "ticks": ""
             }
            },
            "marker": {
             "colorbar": {
              "outlinewidth": 0,
              "ticks": ""
             }
            },
            "type": "scatter3d"
           }
          ],
          "scattercarpet": [
           {
            "marker": {
             "colorbar": {
              "outlinewidth": 0,
              "ticks": ""
             }
            },
            "type": "scattercarpet"
           }
          ],
          "scattergeo": [
           {
            "marker": {
             "colorbar": {
              "outlinewidth": 0,
              "ticks": ""
             }
            },
            "type": "scattergeo"
           }
          ],
          "scattergl": [
           {
            "marker": {
             "colorbar": {
              "outlinewidth": 0,
              "ticks": ""
             }
            },
            "type": "scattergl"
           }
          ],
          "scattermapbox": [
           {
            "marker": {
             "colorbar": {
              "outlinewidth": 0,
              "ticks": ""
             }
            },
            "type": "scattermapbox"
           }
          ],
          "scatterpolar": [
           {
            "marker": {
             "colorbar": {
              "outlinewidth": 0,
              "ticks": ""
             }
            },
            "type": "scatterpolar"
           }
          ],
          "scatterpolargl": [
           {
            "marker": {
             "colorbar": {
              "outlinewidth": 0,
              "ticks": ""
             }
            },
            "type": "scatterpolargl"
           }
          ],
          "scatterternary": [
           {
            "marker": {
             "colorbar": {
              "outlinewidth": 0,
              "ticks": ""
             }
            },
            "type": "scatterternary"
           }
          ],
          "surface": [
           {
            "colorbar": {
             "outlinewidth": 0,
             "ticks": ""
            },
            "colorscale": [
             [
              0,
              "#0d0887"
             ],
             [
              0.1111111111111111,
              "#46039f"
             ],
             [
              0.2222222222222222,
              "#7201a8"
             ],
             [
              0.3333333333333333,
              "#9c179e"
             ],
             [
              0.4444444444444444,
              "#bd3786"
             ],
             [
              0.5555555555555556,
              "#d8576b"
             ],
             [
              0.6666666666666666,
              "#ed7953"
             ],
             [
              0.7777777777777778,
              "#fb9f3a"
             ],
             [
              0.8888888888888888,
              "#fdca26"
             ],
             [
              1,
              "#f0f921"
             ]
            ],
            "type": "surface"
           }
          ],
          "table": [
           {
            "cells": {
             "fill": {
              "color": "#EBF0F8"
             },
             "line": {
              "color": "white"
             }
            },
            "header": {
             "fill": {
              "color": "#C8D4E3"
             },
             "line": {
              "color": "white"
             }
            },
            "type": "table"
           }
          ]
         },
         "layout": {
          "annotationdefaults": {
           "arrowcolor": "#2a3f5f",
           "arrowhead": 0,
           "arrowwidth": 1
          },
          "autotypenumbers": "strict",
          "coloraxis": {
           "colorbar": {
            "outlinewidth": 0,
            "ticks": ""
           }
          },
          "colorscale": {
           "diverging": [
            [
             0,
             "#8e0152"
            ],
            [
             0.1,
             "#c51b7d"
            ],
            [
             0.2,
             "#de77ae"
            ],
            [
             0.3,
             "#f1b6da"
            ],
            [
             0.4,
             "#fde0ef"
            ],
            [
             0.5,
             "#f7f7f7"
            ],
            [
             0.6,
             "#e6f5d0"
            ],
            [
             0.7,
             "#b8e186"
            ],
            [
             0.8,
             "#7fbc41"
            ],
            [
             0.9,
             "#4d9221"
            ],
            [
             1,
             "#276419"
            ]
           ],
           "sequential": [
            [
             0,
             "#0d0887"
            ],
            [
             0.1111111111111111,
             "#46039f"
            ],
            [
             0.2222222222222222,
             "#7201a8"
            ],
            [
             0.3333333333333333,
             "#9c179e"
            ],
            [
             0.4444444444444444,
             "#bd3786"
            ],
            [
             0.5555555555555556,
             "#d8576b"
            ],
            [
             0.6666666666666666,
             "#ed7953"
            ],
            [
             0.7777777777777778,
             "#fb9f3a"
            ],
            [
             0.8888888888888888,
             "#fdca26"
            ],
            [
             1,
             "#f0f921"
            ]
           ],
           "sequentialminus": [
            [
             0,
             "#0d0887"
            ],
            [
             0.1111111111111111,
             "#46039f"
            ],
            [
             0.2222222222222222,
             "#7201a8"
            ],
            [
             0.3333333333333333,
             "#9c179e"
            ],
            [
             0.4444444444444444,
             "#bd3786"
            ],
            [
             0.5555555555555556,
             "#d8576b"
            ],
            [
             0.6666666666666666,
             "#ed7953"
            ],
            [
             0.7777777777777778,
             "#fb9f3a"
            ],
            [
             0.8888888888888888,
             "#fdca26"
            ],
            [
             1,
             "#f0f921"
            ]
           ]
          },
          "colorway": [
           "#636efa",
           "#EF553B",
           "#00cc96",
           "#ab63fa",
           "#FFA15A",
           "#19d3f3",
           "#FF6692",
           "#B6E880",
           "#FF97FF",
           "#FECB52"
          ],
          "font": {
           "color": "#2a3f5f"
          },
          "geo": {
           "bgcolor": "white",
           "lakecolor": "white",
           "landcolor": "#E5ECF6",
           "showlakes": true,
           "showland": true,
           "subunitcolor": "white"
          },
          "hoverlabel": {
           "align": "left"
          },
          "hovermode": "closest",
          "mapbox": {
           "style": "light"
          },
          "paper_bgcolor": "white",
          "plot_bgcolor": "#E5ECF6",
          "polar": {
           "angularaxis": {
            "gridcolor": "white",
            "linecolor": "white",
            "ticks": ""
           },
           "bgcolor": "#E5ECF6",
           "radialaxis": {
            "gridcolor": "white",
            "linecolor": "white",
            "ticks": ""
           }
          },
          "scene": {
           "xaxis": {
            "backgroundcolor": "#E5ECF6",
            "gridcolor": "white",
            "gridwidth": 2,
            "linecolor": "white",
            "showbackground": true,
            "ticks": "",
            "zerolinecolor": "white"
           },
           "yaxis": {
            "backgroundcolor": "#E5ECF6",
            "gridcolor": "white",
            "gridwidth": 2,
            "linecolor": "white",
            "showbackground": true,
            "ticks": "",
            "zerolinecolor": "white"
           },
           "zaxis": {
            "backgroundcolor": "#E5ECF6",
            "gridcolor": "white",
            "gridwidth": 2,
            "linecolor": "white",
            "showbackground": true,
            "ticks": "",
            "zerolinecolor": "white"
           }
          },
          "shapedefaults": {
           "line": {
            "color": "#2a3f5f"
           }
          },
          "ternary": {
           "aaxis": {
            "gridcolor": "white",
            "linecolor": "white",
            "ticks": ""
           },
           "baxis": {
            "gridcolor": "white",
            "linecolor": "white",
            "ticks": ""
           },
           "bgcolor": "#E5ECF6",
           "caxis": {
            "gridcolor": "white",
            "linecolor": "white",
            "ticks": ""
           }
          },
          "title": {
           "x": 0.05
          },
          "xaxis": {
           "automargin": true,
           "gridcolor": "white",
           "linecolor": "white",
           "ticks": "",
           "title": {
            "standoff": 15
           },
           "zerolinecolor": "white",
           "zerolinewidth": 2
          },
          "yaxis": {
           "automargin": true,
           "gridcolor": "white",
           "linecolor": "white",
           "ticks": "",
           "title": {
            "standoff": 15
           },
           "zerolinecolor": "white",
           "zerolinewidth": 2
          }
         }
        },
        "title": {
         "text": "TSS vs Duration by Workout Type"
        },
        "xaxis": {
         "anchor": "y",
         "domain": [
          0,
          1
         ],
         "title": {
          "text": "Duration (hours)"
         }
        },
        "yaxis": {
         "anchor": "x",
         "domain": [
          0,
          1
         ],
         "title": {
          "text": "TSS"
         }
        }
       }
      }
     },
     "metadata": {},
     "output_type": "display_data"
    },
    {
     "data": {
      "application/vnd.plotly.v1+json": {
       "config": {
        "plotlyServerURL": "https://plot.ly"
       },
       "data": [
        {
         "hovertemplate": "WorkoutDay=%{x}<br>CumulativeTSS=%{y}<extra></extra>",
         "legendgroup": "",
         "line": {
          "color": "#90EE90",
          "dash": "solid"
         },
         "marker": {
          "symbol": "circle"
         },
         "mode": "lines",
         "name": "",
         "orientation": "v",
         "showlegend": false,
         "type": "scatter",
         "x": [
          "2023-02-25T00:00:00",
          "2023-02-26T00:00:00",
          "2023-02-27T00:00:00",
          "2023-02-28T00:00:00",
          "2023-03-01T00:00:00",
          "2023-03-02T00:00:00",
          "2023-03-03T00:00:00",
          "2023-03-04T00:00:00",
          "2023-03-05T00:00:00",
          "2023-03-06T00:00:00",
          "2023-03-07T00:00:00",
          "2023-03-08T00:00:00",
          "2023-03-09T00:00:00",
          "2023-03-10T00:00:00",
          "2023-03-11T00:00:00",
          "2023-03-12T00:00:00",
          "2023-03-13T00:00:00",
          "2023-03-14T00:00:00",
          "2023-03-15T00:00:00",
          "2023-03-16T00:00:00",
          "2023-03-17T00:00:00",
          "2023-03-18T00:00:00",
          "2023-03-19T00:00:00",
          "2023-03-20T00:00:00",
          "2023-03-21T00:00:00",
          "2023-03-22T00:00:00",
          "2023-03-23T00:00:00",
          "2023-03-24T00:00:00",
          "2023-03-25T00:00:00",
          "2023-03-26T00:00:00",
          "2023-03-27T00:00:00",
          "2023-03-28T00:00:00",
          "2023-03-29T00:00:00",
          "2023-03-30T00:00:00",
          "2023-03-31T00:00:00",
          "2023-04-01T00:00:00",
          "2023-04-02T00:00:00",
          "2023-04-03T00:00:00",
          "2023-04-04T00:00:00",
          "2023-04-05T00:00:00",
          "2023-04-06T00:00:00",
          "2023-04-07T00:00:00",
          "2023-04-08T00:00:00",
          "2023-04-09T00:00:00",
          "2023-04-10T00:00:00",
          "2023-04-11T00:00:00",
          "2023-04-12T00:00:00",
          "2023-04-13T00:00:00",
          "2023-04-14T00:00:00",
          "2023-04-15T00:00:00",
          "2023-04-16T00:00:00",
          "2023-04-17T00:00:00",
          "2023-04-18T00:00:00",
          "2023-04-19T00:00:00",
          "2023-04-20T00:00:00",
          "2023-04-21T00:00:00",
          "2023-04-22T00:00:00",
          "2023-04-23T00:00:00",
          "2023-04-24T00:00:00",
          "2023-04-25T00:00:00",
          "2023-04-26T00:00:00",
          "2023-04-27T00:00:00",
          "2023-04-28T00:00:00",
          "2023-04-29T00:00:00",
          "2023-04-30T00:00:00",
          "2023-05-01T00:00:00",
          "2023-05-02T00:00:00",
          "2023-05-03T00:00:00",
          "2023-05-04T00:00:00",
          "2023-05-05T00:00:00",
          "2023-05-06T00:00:00",
          "2023-05-07T00:00:00",
          "2023-05-08T00:00:00",
          "2023-05-09T00:00:00",
          "2023-05-10T00:00:00",
          "2023-05-11T00:00:00",
          "2023-05-12T00:00:00",
          "2023-05-13T00:00:00",
          "2023-05-14T00:00:00",
          "2023-05-15T00:00:00",
          "2023-05-16T00:00:00",
          "2023-05-17T00:00:00",
          "2023-05-18T00:00:00",
          "2023-05-19T00:00:00",
          "2023-05-20T00:00:00",
          "2023-05-21T00:00:00",
          "2023-05-22T00:00:00",
          "2023-05-23T00:00:00",
          "2023-05-24T00:00:00",
          "2023-05-25T00:00:00",
          "2023-05-26T00:00:00",
          "2023-05-27T00:00:00",
          "2023-05-28T00:00:00",
          "2023-05-29T00:00:00",
          "2023-05-30T00:00:00",
          "2023-05-31T00:00:00",
          "2023-06-01T00:00:00",
          "2023-06-02T00:00:00",
          "2023-06-03T00:00:00",
          "2023-06-04T00:00:00",
          "2023-06-05T00:00:00",
          "2023-06-06T00:00:00",
          "2023-06-07T00:00:00",
          "2023-06-08T00:00:00",
          "2023-06-09T00:00:00",
          "2023-06-10T00:00:00",
          "2023-06-11T00:00:00",
          "2023-06-12T00:00:00",
          "2023-06-13T00:00:00",
          "2023-06-14T00:00:00",
          "2023-06-15T00:00:00",
          "2023-06-16T00:00:00",
          "2023-06-17T00:00:00",
          "2023-06-18T00:00:00",
          "2023-06-19T00:00:00",
          "2023-06-20T00:00:00",
          "2023-06-21T00:00:00",
          "2023-06-22T00:00:00",
          "2023-06-23T00:00:00",
          "2023-06-24T00:00:00",
          "2023-06-25T00:00:00",
          "2023-06-26T00:00:00",
          "2023-06-27T00:00:00",
          "2023-06-28T00:00:00",
          "2023-06-29T00:00:00",
          "2023-06-30T00:00:00",
          "2023-07-01T00:00:00",
          "2023-07-02T00:00:00",
          "2023-07-03T00:00:00",
          "2023-07-04T00:00:00",
          "2023-07-05T00:00:00",
          "2023-07-06T00:00:00",
          "2023-07-07T00:00:00",
          "2023-07-08T00:00:00",
          "2023-07-09T00:00:00",
          "2023-07-10T00:00:00",
          "2023-07-11T00:00:00",
          "2023-07-12T00:00:00",
          "2023-07-13T00:00:00",
          "2023-07-14T00:00:00",
          "2023-07-15T00:00:00",
          "2023-07-16T00:00:00",
          "2023-07-17T00:00:00",
          "2023-07-18T00:00:00",
          "2023-07-19T00:00:00",
          "2023-07-20T00:00:00",
          "2023-07-21T00:00:00",
          "2023-07-22T00:00:00",
          "2023-07-23T00:00:00"
         ],
         "xaxis": "x",
         "y": [
          0.08,
          0.08,
          255.05000000000004,
          255.57000000000005,
          343.50000000000006,
          371.83000000000004,
          371.83000000000004,
          371.83000000000004,
          371.83000000000004,
          386.25000000000006,
          411.88000000000005,
          428.18000000000006,
          428.18000000000006,
          451.50000000000006,
          658.3600000000001,
          686.1300000000001,
          686.3600000000001,
          703.3500000000001,
          703.6500000000001,
          750.9100000000001,
          760.22,
          830.12,
          922.91,
          922.91,
          975.1999999999999,
          975.1999999999999,
          1007.7299999999999,
          1027.82,
          1027.82,
          1084.8799999999999,
          1084.8799999999999,
          1102.1599999999999,
          1102.1599999999999,
          1102.1599999999999,
          1102.1599999999999,
          1102.1599999999999,
          1102.1599999999999,
          1117.7599999999998,
          1117.7599999999998,
          1117.7599999999998,
          1176.9999999999998,
          1210.3099999999997,
          1291.5299999999997,
          1351.8899999999996,
          1351.8899999999996,
          1397.2399999999996,
          1397.2399999999996,
          1485.4899999999996,
          1485.5899999999995,
          1485.5899999999995,
          1485.5899999999995,
          1485.7799999999995,
          1485.7799999999995,
          1485.7799999999995,
          1485.7799999999995,
          1486.3899999999994,
          1578.4599999999994,
          1578.4599999999994,
          1620.2899999999993,
          1620.9199999999994,
          1705.3099999999995,
          1705.4999999999995,
          1798.7499999999995,
          1952.9799999999996,
          2043.0099999999995,
          2043.0099999999995,
          2043.4499999999996,
          2101.9599999999996,
          2102.2799999999997,
          2138.8199999999997,
          2138.8199999999997,
          2138.8199999999997,
          2138.8199999999997,
          2242.0499999999997,
          2242.0499999999997,
          2335.8199999999997,
          2398.0699999999997,
          2655.8799999999997,
          2911.1899999999996,
          2911.1899999999996,
          2911.8799999999997,
          2991.62,
          3033.73,
          3033.73,
          3367.49,
          3512.06,
          3512.06,
          3571.37,
          3571.37,
          3571.37,
          3571.37,
          3571.37,
          3571.37,
          3571.37,
          3625.38,
          3650.31,
          3769.92,
          3770.3,
          4073.3700000000003,
          4249.530000000001,
          4249.530000000001,
          4249.530000000001,
          4249.530000000001,
          4249.530000000001,
          4250.01,
          4297.49,
          4298.45,
          4299.59,
          4299.59,
          4299.59,
          4299.59,
          4299.59,
          4573.860000000001,
          4573.860000000001,
          4573.860000000001,
          4645.710000000001,
          4645.710000000001,
          4645.710000000001,
          4645.710000000001,
          4680.620000000001,
          4698.210000000001,
          4698.610000000001,
          4698.610000000001,
          4767.290000000001,
          4799.810000000001,
          4799.810000000001,
          4997.0700000000015,
          4997.0700000000015,
          4997.0700000000015,
          5085.540000000002,
          5085.540000000002,
          5085.540000000002,
          5085.540000000002,
          5206.470000000002,
          5301.340000000002,
          5301.340000000002,
          5353.520000000002,
          5353.520000000002,
          5353.520000000002,
          5431.670000000002,
          5470.580000000002,
          5470.580000000002,
          5470.580000000002,
          5533.750000000002,
          5533.750000000002,
          5551.4000000000015,
          5551.520000000001,
          5551.520000000001,
          6240.910000000002
         ],
         "yaxis": "y"
        }
       ],
       "layout": {
        "legend": {
         "tracegroupgap": 0
        },
        "template": {
         "data": {
          "bar": [
           {
            "error_x": {
             "color": "#2a3f5f"
            },
            "error_y": {
             "color": "#2a3f5f"
            },
            "marker": {
             "line": {
              "color": "#E5ECF6",
              "width": 0.5
             },
             "pattern": {
              "fillmode": "overlay",
              "size": 10,
              "solidity": 0.2
             }
            },
            "type": "bar"
           }
          ],
          "barpolar": [
           {
            "marker": {
             "line": {
              "color": "#E5ECF6",
              "width": 0.5
             },
             "pattern": {
              "fillmode": "overlay",
              "size": 10,
              "solidity": 0.2
             }
            },
            "type": "barpolar"
           }
          ],
          "carpet": [
           {
            "aaxis": {
             "endlinecolor": "#2a3f5f",
             "gridcolor": "white",
             "linecolor": "white",
             "minorgridcolor": "white",
             "startlinecolor": "#2a3f5f"
            },
            "baxis": {
             "endlinecolor": "#2a3f5f",
             "gridcolor": "white",
             "linecolor": "white",
             "minorgridcolor": "white",
             "startlinecolor": "#2a3f5f"
            },
            "type": "carpet"
           }
          ],
          "choropleth": [
           {
            "colorbar": {
             "outlinewidth": 0,
             "ticks": ""
            },
            "type": "choropleth"
           }
          ],
          "contour": [
           {
            "colorbar": {
             "outlinewidth": 0,
             "ticks": ""
            },
            "colorscale": [
             [
              0,
              "#0d0887"
             ],
             [
              0.1111111111111111,
              "#46039f"
             ],
             [
              0.2222222222222222,
              "#7201a8"
             ],
             [
              0.3333333333333333,
              "#9c179e"
             ],
             [
              0.4444444444444444,
              "#bd3786"
             ],
             [
              0.5555555555555556,
              "#d8576b"
             ],
             [
              0.6666666666666666,
              "#ed7953"
             ],
             [
              0.7777777777777778,
              "#fb9f3a"
             ],
             [
              0.8888888888888888,
              "#fdca26"
             ],
             [
              1,
              "#f0f921"
             ]
            ],
            "type": "contour"
           }
          ],
          "contourcarpet": [
           {
            "colorbar": {
             "outlinewidth": 0,
             "ticks": ""
            },
            "type": "contourcarpet"
           }
          ],
          "heatmap": [
           {
            "colorbar": {
             "outlinewidth": 0,
             "ticks": ""
            },
            "colorscale": [
             [
              0,
              "#0d0887"
             ],
             [
              0.1111111111111111,
              "#46039f"
             ],
             [
              0.2222222222222222,
              "#7201a8"
             ],
             [
              0.3333333333333333,
              "#9c179e"
             ],
             [
              0.4444444444444444,
              "#bd3786"
             ],
             [
              0.5555555555555556,
              "#d8576b"
             ],
             [
              0.6666666666666666,
              "#ed7953"
             ],
             [
              0.7777777777777778,
              "#fb9f3a"
             ],
             [
              0.8888888888888888,
              "#fdca26"
             ],
             [
              1,
              "#f0f921"
             ]
            ],
            "type": "heatmap"
           }
          ],
          "heatmapgl": [
           {
            "colorbar": {
             "outlinewidth": 0,
             "ticks": ""
            },
            "colorscale": [
             [
              0,
              "#0d0887"
             ],
             [
              0.1111111111111111,
              "#46039f"
             ],
             [
              0.2222222222222222,
              "#7201a8"
             ],
             [
              0.3333333333333333,
              "#9c179e"
             ],
             [
              0.4444444444444444,
              "#bd3786"
             ],
             [
              0.5555555555555556,
              "#d8576b"
             ],
             [
              0.6666666666666666,
              "#ed7953"
             ],
             [
              0.7777777777777778,
              "#fb9f3a"
             ],
             [
              0.8888888888888888,
              "#fdca26"
             ],
             [
              1,
              "#f0f921"
             ]
            ],
            "type": "heatmapgl"
           }
          ],
          "histogram": [
           {
            "marker": {
             "pattern": {
              "fillmode": "overlay",
              "size": 10,
              "solidity": 0.2
             }
            },
            "type": "histogram"
           }
          ],
          "histogram2d": [
           {
            "colorbar": {
             "outlinewidth": 0,
             "ticks": ""
            },
            "colorscale": [
             [
              0,
              "#0d0887"
             ],
             [
              0.1111111111111111,
              "#46039f"
             ],
             [
              0.2222222222222222,
              "#7201a8"
             ],
             [
              0.3333333333333333,
              "#9c179e"
             ],
             [
              0.4444444444444444,
              "#bd3786"
             ],
             [
              0.5555555555555556,
              "#d8576b"
             ],
             [
              0.6666666666666666,
              "#ed7953"
             ],
             [
              0.7777777777777778,
              "#fb9f3a"
             ],
             [
              0.8888888888888888,
              "#fdca26"
             ],
             [
              1,
              "#f0f921"
             ]
            ],
            "type": "histogram2d"
           }
          ],
          "histogram2dcontour": [
           {
            "colorbar": {
             "outlinewidth": 0,
             "ticks": ""
            },
            "colorscale": [
             [
              0,
              "#0d0887"
             ],
             [
              0.1111111111111111,
              "#46039f"
             ],
             [
              0.2222222222222222,
              "#7201a8"
             ],
             [
              0.3333333333333333,
              "#9c179e"
             ],
             [
              0.4444444444444444,
              "#bd3786"
             ],
             [
              0.5555555555555556,
              "#d8576b"
             ],
             [
              0.6666666666666666,
              "#ed7953"
             ],
             [
              0.7777777777777778,
              "#fb9f3a"
             ],
             [
              0.8888888888888888,
              "#fdca26"
             ],
             [
              1,
              "#f0f921"
             ]
            ],
            "type": "histogram2dcontour"
           }
          ],
          "mesh3d": [
           {
            "colorbar": {
             "outlinewidth": 0,
             "ticks": ""
            },
            "type": "mesh3d"
           }
          ],
          "parcoords": [
           {
            "line": {
             "colorbar": {
              "outlinewidth": 0,
              "ticks": ""
             }
            },
            "type": "parcoords"
           }
          ],
          "pie": [
           {
            "automargin": true,
            "type": "pie"
           }
          ],
          "scatter": [
           {
            "fillpattern": {
             "fillmode": "overlay",
             "size": 10,
             "solidity": 0.2
            },
            "type": "scatter"
           }
          ],
          "scatter3d": [
           {
            "line": {
             "colorbar": {
              "outlinewidth": 0,
              "ticks": ""
             }
            },
            "marker": {
             "colorbar": {
              "outlinewidth": 0,
              "ticks": ""
             }
            },
            "type": "scatter3d"
           }
          ],
          "scattercarpet": [
           {
            "marker": {
             "colorbar": {
              "outlinewidth": 0,
              "ticks": ""
             }
            },
            "type": "scattercarpet"
           }
          ],
          "scattergeo": [
           {
            "marker": {
             "colorbar": {
              "outlinewidth": 0,
              "ticks": ""
             }
            },
            "type": "scattergeo"
           }
          ],
          "scattergl": [
           {
            "marker": {
             "colorbar": {
              "outlinewidth": 0,
              "ticks": ""
             }
            },
            "type": "scattergl"
           }
          ],
          "scattermapbox": [
           {
            "marker": {
             "colorbar": {
              "outlinewidth": 0,
              "ticks": ""
             }
            },
            "type": "scattermapbox"
           }
          ],
          "scatterpolar": [
           {
            "marker": {
             "colorbar": {
              "outlinewidth": 0,
              "ticks": ""
             }
            },
            "type": "scatterpolar"
           }
          ],
          "scatterpolargl": [
           {
            "marker": {
             "colorbar": {
              "outlinewidth": 0,
              "ticks": ""
             }
            },
            "type": "scatterpolargl"
           }
          ],
          "scatterternary": [
           {
            "marker": {
             "colorbar": {
              "outlinewidth": 0,
              "ticks": ""
             }
            },
            "type": "scatterternary"
           }
          ],
          "surface": [
           {
            "colorbar": {
             "outlinewidth": 0,
             "ticks": ""
            },
            "colorscale": [
             [
              0,
              "#0d0887"
             ],
             [
              0.1111111111111111,
              "#46039f"
             ],
             [
              0.2222222222222222,
              "#7201a8"
             ],
             [
              0.3333333333333333,
              "#9c179e"
             ],
             [
              0.4444444444444444,
              "#bd3786"
             ],
             [
              0.5555555555555556,
              "#d8576b"
             ],
             [
              0.6666666666666666,
              "#ed7953"
             ],
             [
              0.7777777777777778,
              "#fb9f3a"
             ],
             [
              0.8888888888888888,
              "#fdca26"
             ],
             [
              1,
              "#f0f921"
             ]
            ],
            "type": "surface"
           }
          ],
          "table": [
           {
            "cells": {
             "fill": {
              "color": "#EBF0F8"
             },
             "line": {
              "color": "white"
             }
            },
            "header": {
             "fill": {
              "color": "#C8D4E3"
             },
             "line": {
              "color": "white"
             }
            },
            "type": "table"
           }
          ]
         },
         "layout": {
          "annotationdefaults": {
           "arrowcolor": "#2a3f5f",
           "arrowhead": 0,
           "arrowwidth": 1
          },
          "autotypenumbers": "strict",
          "coloraxis": {
           "colorbar": {
            "outlinewidth": 0,
            "ticks": ""
           }
          },
          "colorscale": {
           "diverging": [
            [
             0,
             "#8e0152"
            ],
            [
             0.1,
             "#c51b7d"
            ],
            [
             0.2,
             "#de77ae"
            ],
            [
             0.3,
             "#f1b6da"
            ],
            [
             0.4,
             "#fde0ef"
            ],
            [
             0.5,
             "#f7f7f7"
            ],
            [
             0.6,
             "#e6f5d0"
            ],
            [
             0.7,
             "#b8e186"
            ],
            [
             0.8,
             "#7fbc41"
            ],
            [
             0.9,
             "#4d9221"
            ],
            [
             1,
             "#276419"
            ]
           ],
           "sequential": [
            [
             0,
             "#0d0887"
            ],
            [
             0.1111111111111111,
             "#46039f"
            ],
            [
             0.2222222222222222,
             "#7201a8"
            ],
            [
             0.3333333333333333,
             "#9c179e"
            ],
            [
             0.4444444444444444,
             "#bd3786"
            ],
            [
             0.5555555555555556,
             "#d8576b"
            ],
            [
             0.6666666666666666,
             "#ed7953"
            ],
            [
             0.7777777777777778,
             "#fb9f3a"
            ],
            [
             0.8888888888888888,
             "#fdca26"
            ],
            [
             1,
             "#f0f921"
            ]
           ],
           "sequentialminus": [
            [
             0,
             "#0d0887"
            ],
            [
             0.1111111111111111,
             "#46039f"
            ],
            [
             0.2222222222222222,
             "#7201a8"
            ],
            [
             0.3333333333333333,
             "#9c179e"
            ],
            [
             0.4444444444444444,
             "#bd3786"
            ],
            [
             0.5555555555555556,
             "#d8576b"
            ],
            [
             0.6666666666666666,
             "#ed7953"
            ],
            [
             0.7777777777777778,
             "#fb9f3a"
            ],
            [
             0.8888888888888888,
             "#fdca26"
            ],
            [
             1,
             "#f0f921"
            ]
           ]
          },
          "colorway": [
           "#636efa",
           "#EF553B",
           "#00cc96",
           "#ab63fa",
           "#FFA15A",
           "#19d3f3",
           "#FF6692",
           "#B6E880",
           "#FF97FF",
           "#FECB52"
          ],
          "font": {
           "color": "#2a3f5f"
          },
          "geo": {
           "bgcolor": "white",
           "lakecolor": "white",
           "landcolor": "#E5ECF6",
           "showlakes": true,
           "showland": true,
           "subunitcolor": "white"
          },
          "hoverlabel": {
           "align": "left"
          },
          "hovermode": "closest",
          "mapbox": {
           "style": "light"
          },
          "paper_bgcolor": "white",
          "plot_bgcolor": "#E5ECF6",
          "polar": {
           "angularaxis": {
            "gridcolor": "white",
            "linecolor": "white",
            "ticks": ""
           },
           "bgcolor": "#E5ECF6",
           "radialaxis": {
            "gridcolor": "white",
            "linecolor": "white",
            "ticks": ""
           }
          },
          "scene": {
           "xaxis": {
            "backgroundcolor": "#E5ECF6",
            "gridcolor": "white",
            "gridwidth": 2,
            "linecolor": "white",
            "showbackground": true,
            "ticks": "",
            "zerolinecolor": "white"
           },
           "yaxis": {
            "backgroundcolor": "#E5ECF6",
            "gridcolor": "white",
            "gridwidth": 2,
            "linecolor": "white",
            "showbackground": true,
            "ticks": "",
            "zerolinecolor": "white"
           },
           "zaxis": {
            "backgroundcolor": "#E5ECF6",
            "gridcolor": "white",
            "gridwidth": 2,
            "linecolor": "white",
            "showbackground": true,
            "ticks": "",
            "zerolinecolor": "white"
           }
          },
          "shapedefaults": {
           "line": {
            "color": "#2a3f5f"
           }
          },
          "ternary": {
           "aaxis": {
            "gridcolor": "white",
            "linecolor": "white",
            "ticks": ""
           },
           "baxis": {
            "gridcolor": "white",
            "linecolor": "white",
            "ticks": ""
           },
           "bgcolor": "#E5ECF6",
           "caxis": {
            "gridcolor": "white",
            "linecolor": "white",
            "ticks": ""
           }
          },
          "title": {
           "x": 0.05
          },
          "xaxis": {
           "automargin": true,
           "gridcolor": "white",
           "linecolor": "white",
           "ticks": "",
           "title": {
            "standoff": 15
           },
           "zerolinecolor": "white",
           "zerolinewidth": 2
          },
          "yaxis": {
           "automargin": true,
           "gridcolor": "white",
           "linecolor": "white",
           "ticks": "",
           "title": {
            "standoff": 15
           },
           "zerolinecolor": "white",
           "zerolinewidth": 2
          }
         }
        },
        "title": {
         "text": "Cumulative TSS over Time"
        },
        "xaxis": {
         "anchor": "y",
         "domain": [
          0,
          1
         ],
         "title": {
          "text": "Date"
         }
        },
        "yaxis": {
         "anchor": "x",
         "domain": [
          0,
          1
         ],
         "title": {
          "text": "Cumulative TSS"
         }
        }
       }
      }
     },
     "metadata": {},
     "output_type": "display_data"
    },
    {
     "data": {
      "application/vnd.plotly.v1+json": {
       "config": {
        "plotlyServerURL": "https://plot.ly"
       },
       "data": [
        {
         "marker": {
          "color": "#a8dadc"
         },
         "mode": "markers",
         "name": "Bike IF",
         "type": "scatter",
         "x": [
          "2023-03-01T00:00:00",
          "2023-03-01T00:00:00",
          "2023-03-01T00:00:00",
          "2023-03-05T00:00:00",
          "2023-03-07T00:00:00",
          "2023-03-12T00:00:00",
          "2023-03-14T00:00:00",
          "2023-03-16T00:00:00",
          "2023-03-18T00:00:00",
          "2023-03-23T00:00:00",
          "2023-03-24T00:00:00",
          "2023-03-25T00:00:00",
          "2023-03-28T00:00:00",
          "2023-03-30T00:00:00",
          "2023-04-01T00:00:00",
          "2023-04-04T00:00:00",
          "2023-04-06T00:00:00",
          "2023-04-08T00:00:00",
          "2023-04-11T00:00:00",
          "2023-04-13T00:00:00",
          "2023-04-15T00:00:00",
          "2023-04-16T00:00:00",
          "2023-04-19T00:00:00",
          "2023-04-20T00:00:00",
          "2023-04-22T00:00:00",
          "2023-04-26T00:00:00",
          "2023-04-28T00:00:00",
          "2023-04-29T00:00:00",
          "2023-05-05T00:00:00",
          "2023-05-05T00:00:00",
          "2023-05-05T00:00:00",
          "2023-05-06T00:00:00",
          "2023-05-09T00:00:00",
          "2023-05-11T00:00:00",
          "2023-05-14T00:00:00",
          "2023-05-17T00:00:00",
          "2023-05-19T00:00:00",
          "2023-05-20T00:00:00",
          "2023-05-20T00:00:00",
          "2023-05-23T00:00:00",
          "2023-05-25T00:00:00",
          "2023-05-27T00:00:00",
          "2023-05-30T00:00:00",
          "2023-06-01T00:00:00",
          "2023-06-01T00:00:00",
          "2023-06-03T00:00:00",
          "2023-06-03T00:00:00",
          "2023-06-03T00:00:00",
          "2023-06-03T00:00:00",
          "2023-06-06T00:00:00",
          "2023-06-09T00:00:00",
          "2023-06-10T00:00:00",
          "2023-06-14T00:00:00",
          "2023-06-16T00:00:00",
          "2023-06-17T00:00:00",
          "2023-06-20T00:00:00",
          "2023-06-23T00:00:00",
          "2023-06-24T00:00:00",
          "2023-06-27T00:00:00",
          "2023-06-28T00:00:00",
          "2023-07-01T00:00:00",
          "2023-07-04T00:00:00",
          "2023-07-07T00:00:00",
          "2023-07-08T00:00:00",
          "2023-07-08T00:00:00",
          "2023-07-11T00:00:00",
          "2023-07-12T00:00:00",
          "2023-07-15T00:00:00",
          "2023-07-15T00:00:00",
          "2023-07-18T00:00:00",
          "2023-07-21T00:00:00",
          "2023-07-21T00:00:00",
          "2023-07-22T00:00:00",
          "2023-07-23T00:00:00",
          "2023-07-23T00:00:00"
         ],
         "y": [
          0.275117726883298,
          0.658122262181416,
          0.961447665876427,
          null,
          0.607878735949126,
          0.528703291929284,
          0.495475907266242,
          0.715656759795275,
          0.46214411194374,
          0.629549099138819,
          0.701876354055959,
          null,
          0.645166774901831,
          null,
          null,
          null,
          0.77306377430538,
          0.610865049507979,
          0.675298614666543,
          0.745079784015157,
          null,
          null,
          null,
          null,
          0.557748900112697,
          0.722836532048818,
          0.544722797925023,
          0.56696217845483,
          0.602188669441232,
          0.592099373693233,
          0.637613463462106,
          null,
          0.620088460392867,
          0.668618438956627,
          0.598010021440366,
          0.668200048729926,
          null,
          0.608634698856535,
          0.583029973497643,
          null,
          null,
          null,
          0.600959469345819,
          0.611305265803018,
          0.720328429911956,
          0.614461213738137,
          0.591710397086052,
          0.643862061395979,
          0.611405195298223,
          null,
          null,
          null,
          null,
          null,
          0.645339249316622,
          0.55,
          null,
          null,
          null,
          0.654082491757054,
          0.588355818178179,
          null,
          null,
          0.636459815235451,
          0.652841458441613,
          null,
          null,
          null,
          0.598744485938486,
          0.651499102713645,
          0.529358083039754,
          0.54525843474014,
          null,
          0.632224349245028,
          0.633816096743337
         ]
        },
        {
         "marker": {
          "color": "#457b9d"
         },
         "mode": "markers",
         "name": "Run IF",
         "type": "scatter",
         "x": [
          "2023-02-25T00:00:00",
          "2023-02-25T00:00:00",
          "2023-02-27T00:00:00",
          "2023-02-27T00:00:00",
          "2023-03-02T00:00:00",
          "2023-03-04T00:00:00",
          "2023-03-06T00:00:00",
          "2023-03-08T00:00:00",
          "2023-03-10T00:00:00",
          "2023-03-11T00:00:00",
          "2023-03-16T00:00:00",
          "2023-03-17T00:00:00",
          "2023-03-17T00:00:00",
          "2023-03-19T00:00:00",
          "2023-03-21T00:00:00",
          "2023-03-23T00:00:00",
          "2023-03-26T00:00:00",
          "2023-03-28T00:00:00",
          "2023-03-30T00:00:00",
          "2023-03-31T00:00:00",
          "2023-04-02T00:00:00",
          "2023-04-03T00:00:00",
          "2023-04-04T00:00:00",
          "2023-04-07T00:00:00",
          "2023-04-09T00:00:00",
          "2023-04-13T00:00:00",
          "2023-04-15T00:00:00",
          "2023-04-16T00:00:00",
          "2023-04-17T00:00:00",
          "2023-04-19T00:00:00",
          "2023-04-20T00:00:00",
          "2023-04-22T00:00:00",
          "2023-04-24T00:00:00",
          "2023-04-26T00:00:00",
          "2023-04-28T00:00:00",
          "2023-04-29T00:00:00",
          "2023-04-30T00:00:00",
          "2023-05-03T00:00:00",
          "2023-05-07T00:00:00",
          "2023-05-09T00:00:00",
          "2023-05-11T00:00:00",
          "2023-05-12T00:00:00",
          "2023-05-13T00:00:00",
          "2023-05-13T00:00:00",
          "2023-05-14T00:00:00",
          "2023-05-17T00:00:00",
          "2023-05-18T00:00:00",
          "2023-05-18T00:00:00",
          "2023-05-18T00:00:00",
          "2023-05-20T00:00:00",
          "2023-05-21T00:00:00",
          "2023-05-23T00:00:00",
          "2023-05-25T00:00:00",
          "2023-05-27T00:00:00",
          "2023-05-28T00:00:00",
          "2023-05-30T00:00:00",
          "2023-06-01T00:00:00",
          "2023-06-03T00:00:00",
          "2023-06-03T00:00:00",
          "2023-06-04T00:00:00",
          "2023-06-07T00:00:00",
          "2023-06-08T00:00:00",
          "2023-06-10T00:00:00",
          "2023-06-11T00:00:00",
          "2023-06-14T00:00:00",
          "2023-06-16T00:00:00",
          "2023-06-17T00:00:00",
          "2023-06-18T00:00:00",
          "2023-06-20T00:00:00",
          "2023-06-23T00:00:00",
          "2023-06-24T00:00:00",
          "2023-06-25T00:00:00",
          "2023-06-28T00:00:00",
          "2023-06-29T00:00:00",
          "2023-07-01T00:00:00",
          "2023-07-02T00:00:00",
          "2023-07-04T00:00:00",
          "2023-07-08T00:00:00",
          "2023-07-09T00:00:00",
          "2023-07-11T00:00:00",
          "2023-07-12T00:00:00",
          "2023-07-14T00:00:00",
          "2023-07-15T00:00:00",
          "2023-07-16T00:00:00",
          "2023-07-17T00:00:00",
          "2023-07-20T00:00:00",
          "2023-07-22T00:00:00",
          "2023-07-23T00:00:00"
         ],
         "y": [
          null,
          0.0266835141708461,
          0.925967350672075,
          1.60744316554281,
          0.639213942885285,
          null,
          0.628676583504996,
          0.712662425097244,
          0.805648552487037,
          0.55003546143913,
          0.614089704380601,
          0.580581166165981,
          0.51829710679075,
          0.794842587691983,
          0.905843156440034,
          0.7800755066,
          0.661796458389369,
          null,
          null,
          null,
          null,
          0.673202654914822,
          null,
          0.77994536387284,
          0.644105631416696,
          0.77994536387284,
          null,
          null,
          null,
          null,
          null,
          null,
          0.698040206457306,
          0.669198401891686,
          0.740742632607135,
          0.585786429632083,
          0.60563556898803,
          0.724221549049342,
          null,
          0.730759692031176,
          0.720909317672512,
          0.660098766073263,
          0.310419964345479,
          0.759670499876342,
          null,
          0.654279514885178,
          0.611624161560637,
          1.03146803843765,
          0.640424805655615,
          0.665924608098362,
          0.670265049348269,
          0.70227836198555,
          null,
          null,
          null,
          0.621891565293545,
          0.646891604178089,
          0.557390767207512,
          0.668601392853054,
          0.733963236015249,
          null,
          null,
          0.681689800353544,
          0.565619941820175,
          null,
          null,
          0.623755522824917,
          null,
          0.826900258512814,
          null,
          0.56693700072804,
          0.713617727361549,
          0.75186677857185,
          0.560842072472012,
          0.65016856752277,
          null,
          0.747567702594074,
          0.712420793254908,
          0.648306765293729,
          0.727031220689108,
          null,
          0.839941161093827,
          0.655232624299491,
          null,
          null,
          0.700856480691147,
          null,
          null
         ]
        }
       ],
       "layout": {
        "template": {
         "data": {
          "bar": [
           {
            "error_x": {
             "color": "#2a3f5f"
            },
            "error_y": {
             "color": "#2a3f5f"
            },
            "marker": {
             "line": {
              "color": "#E5ECF6",
              "width": 0.5
             },
             "pattern": {
              "fillmode": "overlay",
              "size": 10,
              "solidity": 0.2
             }
            },
            "type": "bar"
           }
          ],
          "barpolar": [
           {
            "marker": {
             "line": {
              "color": "#E5ECF6",
              "width": 0.5
             },
             "pattern": {
              "fillmode": "overlay",
              "size": 10,
              "solidity": 0.2
             }
            },
            "type": "barpolar"
           }
          ],
          "carpet": [
           {
            "aaxis": {
             "endlinecolor": "#2a3f5f",
             "gridcolor": "white",
             "linecolor": "white",
             "minorgridcolor": "white",
             "startlinecolor": "#2a3f5f"
            },
            "baxis": {
             "endlinecolor": "#2a3f5f",
             "gridcolor": "white",
             "linecolor": "white",
             "minorgridcolor": "white",
             "startlinecolor": "#2a3f5f"
            },
            "type": "carpet"
           }
          ],
          "choropleth": [
           {
            "colorbar": {
             "outlinewidth": 0,
             "ticks": ""
            },
            "type": "choropleth"
           }
          ],
          "contour": [
           {
            "colorbar": {
             "outlinewidth": 0,
             "ticks": ""
            },
            "colorscale": [
             [
              0,
              "#0d0887"
             ],
             [
              0.1111111111111111,
              "#46039f"
             ],
             [
              0.2222222222222222,
              "#7201a8"
             ],
             [
              0.3333333333333333,
              "#9c179e"
             ],
             [
              0.4444444444444444,
              "#bd3786"
             ],
             [
              0.5555555555555556,
              "#d8576b"
             ],
             [
              0.6666666666666666,
              "#ed7953"
             ],
             [
              0.7777777777777778,
              "#fb9f3a"
             ],
             [
              0.8888888888888888,
              "#fdca26"
             ],
             [
              1,
              "#f0f921"
             ]
            ],
            "type": "contour"
           }
          ],
          "contourcarpet": [
           {
            "colorbar": {
             "outlinewidth": 0,
             "ticks": ""
            },
            "type": "contourcarpet"
           }
          ],
          "heatmap": [
           {
            "colorbar": {
             "outlinewidth": 0,
             "ticks": ""
            },
            "colorscale": [
             [
              0,
              "#0d0887"
             ],
             [
              0.1111111111111111,
              "#46039f"
             ],
             [
              0.2222222222222222,
              "#7201a8"
             ],
             [
              0.3333333333333333,
              "#9c179e"
             ],
             [
              0.4444444444444444,
              "#bd3786"
             ],
             [
              0.5555555555555556,
              "#d8576b"
             ],
             [
              0.6666666666666666,
              "#ed7953"
             ],
             [
              0.7777777777777778,
              "#fb9f3a"
             ],
             [
              0.8888888888888888,
              "#fdca26"
             ],
             [
              1,
              "#f0f921"
             ]
            ],
            "type": "heatmap"
           }
          ],
          "heatmapgl": [
           {
            "colorbar": {
             "outlinewidth": 0,
             "ticks": ""
            },
            "colorscale": [
             [
              0,
              "#0d0887"
             ],
             [
              0.1111111111111111,
              "#46039f"
             ],
             [
              0.2222222222222222,
              "#7201a8"
             ],
             [
              0.3333333333333333,
              "#9c179e"
             ],
             [
              0.4444444444444444,
              "#bd3786"
             ],
             [
              0.5555555555555556,
              "#d8576b"
             ],
             [
              0.6666666666666666,
              "#ed7953"
             ],
             [
              0.7777777777777778,
              "#fb9f3a"
             ],
             [
              0.8888888888888888,
              "#fdca26"
             ],
             [
              1,
              "#f0f921"
             ]
            ],
            "type": "heatmapgl"
           }
          ],
          "histogram": [
           {
            "marker": {
             "pattern": {
              "fillmode": "overlay",
              "size": 10,
              "solidity": 0.2
             }
            },
            "type": "histogram"
           }
          ],
          "histogram2d": [
           {
            "colorbar": {
             "outlinewidth": 0,
             "ticks": ""
            },
            "colorscale": [
             [
              0,
              "#0d0887"
             ],
             [
              0.1111111111111111,
              "#46039f"
             ],
             [
              0.2222222222222222,
              "#7201a8"
             ],
             [
              0.3333333333333333,
              "#9c179e"
             ],
             [
              0.4444444444444444,
              "#bd3786"
             ],
             [
              0.5555555555555556,
              "#d8576b"
             ],
             [
              0.6666666666666666,
              "#ed7953"
             ],
             [
              0.7777777777777778,
              "#fb9f3a"
             ],
             [
              0.8888888888888888,
              "#fdca26"
             ],
             [
              1,
              "#f0f921"
             ]
            ],
            "type": "histogram2d"
           }
          ],
          "histogram2dcontour": [
           {
            "colorbar": {
             "outlinewidth": 0,
             "ticks": ""
            },
            "colorscale": [
             [
              0,
              "#0d0887"
             ],
             [
              0.1111111111111111,
              "#46039f"
             ],
             [
              0.2222222222222222,
              "#7201a8"
             ],
             [
              0.3333333333333333,
              "#9c179e"
             ],
             [
              0.4444444444444444,
              "#bd3786"
             ],
             [
              0.5555555555555556,
              "#d8576b"
             ],
             [
              0.6666666666666666,
              "#ed7953"
             ],
             [
              0.7777777777777778,
              "#fb9f3a"
             ],
             [
              0.8888888888888888,
              "#fdca26"
             ],
             [
              1,
              "#f0f921"
             ]
            ],
            "type": "histogram2dcontour"
           }
          ],
          "mesh3d": [
           {
            "colorbar": {
             "outlinewidth": 0,
             "ticks": ""
            },
            "type": "mesh3d"
           }
          ],
          "parcoords": [
           {
            "line": {
             "colorbar": {
              "outlinewidth": 0,
              "ticks": ""
             }
            },
            "type": "parcoords"
           }
          ],
          "pie": [
           {
            "automargin": true,
            "type": "pie"
           }
          ],
          "scatter": [
           {
            "fillpattern": {
             "fillmode": "overlay",
             "size": 10,
             "solidity": 0.2
            },
            "type": "scatter"
           }
          ],
          "scatter3d": [
           {
            "line": {
             "colorbar": {
              "outlinewidth": 0,
              "ticks": ""
             }
            },
            "marker": {
             "colorbar": {
              "outlinewidth": 0,
              "ticks": ""
             }
            },
            "type": "scatter3d"
           }
          ],
          "scattercarpet": [
           {
            "marker": {
             "colorbar": {
              "outlinewidth": 0,
              "ticks": ""
             }
            },
            "type": "scattercarpet"
           }
          ],
          "scattergeo": [
           {
            "marker": {
             "colorbar": {
              "outlinewidth": 0,
              "ticks": ""
             }
            },
            "type": "scattergeo"
           }
          ],
          "scattergl": [
           {
            "marker": {
             "colorbar": {
              "outlinewidth": 0,
              "ticks": ""
             }
            },
            "type": "scattergl"
           }
          ],
          "scattermapbox": [
           {
            "marker": {
             "colorbar": {
              "outlinewidth": 0,
              "ticks": ""
             }
            },
            "type": "scattermapbox"
           }
          ],
          "scatterpolar": [
           {
            "marker": {
             "colorbar": {
              "outlinewidth": 0,
              "ticks": ""
             }
            },
            "type": "scatterpolar"
           }
          ],
          "scatterpolargl": [
           {
            "marker": {
             "colorbar": {
              "outlinewidth": 0,
              "ticks": ""
             }
            },
            "type": "scatterpolargl"
           }
          ],
          "scatterternary": [
           {
            "marker": {
             "colorbar": {
              "outlinewidth": 0,
              "ticks": ""
             }
            },
            "type": "scatterternary"
           }
          ],
          "surface": [
           {
            "colorbar": {
             "outlinewidth": 0,
             "ticks": ""
            },
            "colorscale": [
             [
              0,
              "#0d0887"
             ],
             [
              0.1111111111111111,
              "#46039f"
             ],
             [
              0.2222222222222222,
              "#7201a8"
             ],
             [
              0.3333333333333333,
              "#9c179e"
             ],
             [
              0.4444444444444444,
              "#bd3786"
             ],
             [
              0.5555555555555556,
              "#d8576b"
             ],
             [
              0.6666666666666666,
              "#ed7953"
             ],
             [
              0.7777777777777778,
              "#fb9f3a"
             ],
             [
              0.8888888888888888,
              "#fdca26"
             ],
             [
              1,
              "#f0f921"
             ]
            ],
            "type": "surface"
           }
          ],
          "table": [
           {
            "cells": {
             "fill": {
              "color": "#EBF0F8"
             },
             "line": {
              "color": "white"
             }
            },
            "header": {
             "fill": {
              "color": "#C8D4E3"
             },
             "line": {
              "color": "white"
             }
            },
            "type": "table"
           }
          ]
         },
         "layout": {
          "annotationdefaults": {
           "arrowcolor": "#2a3f5f",
           "arrowhead": 0,
           "arrowwidth": 1
          },
          "autotypenumbers": "strict",
          "coloraxis": {
           "colorbar": {
            "outlinewidth": 0,
            "ticks": ""
           }
          },
          "colorscale": {
           "diverging": [
            [
             0,
             "#8e0152"
            ],
            [
             0.1,
             "#c51b7d"
            ],
            [
             0.2,
             "#de77ae"
            ],
            [
             0.3,
             "#f1b6da"
            ],
            [
             0.4,
             "#fde0ef"
            ],
            [
             0.5,
             "#f7f7f7"
            ],
            [
             0.6,
             "#e6f5d0"
            ],
            [
             0.7,
             "#b8e186"
            ],
            [
             0.8,
             "#7fbc41"
            ],
            [
             0.9,
             "#4d9221"
            ],
            [
             1,
             "#276419"
            ]
           ],
           "sequential": [
            [
             0,
             "#0d0887"
            ],
            [
             0.1111111111111111,
             "#46039f"
            ],
            [
             0.2222222222222222,
             "#7201a8"
            ],
            [
             0.3333333333333333,
             "#9c179e"
            ],
            [
             0.4444444444444444,
             "#bd3786"
            ],
            [
             0.5555555555555556,
             "#d8576b"
            ],
            [
             0.6666666666666666,
             "#ed7953"
            ],
            [
             0.7777777777777778,
             "#fb9f3a"
            ],
            [
             0.8888888888888888,
             "#fdca26"
            ],
            [
             1,
             "#f0f921"
            ]
           ],
           "sequentialminus": [
            [
             0,
             "#0d0887"
            ],
            [
             0.1111111111111111,
             "#46039f"
            ],
            [
             0.2222222222222222,
             "#7201a8"
            ],
            [
             0.3333333333333333,
             "#9c179e"
            ],
            [
             0.4444444444444444,
             "#bd3786"
            ],
            [
             0.5555555555555556,
             "#d8576b"
            ],
            [
             0.6666666666666666,
             "#ed7953"
            ],
            [
             0.7777777777777778,
             "#fb9f3a"
            ],
            [
             0.8888888888888888,
             "#fdca26"
            ],
            [
             1,
             "#f0f921"
            ]
           ]
          },
          "colorway": [
           "#636efa",
           "#EF553B",
           "#00cc96",
           "#ab63fa",
           "#FFA15A",
           "#19d3f3",
           "#FF6692",
           "#B6E880",
           "#FF97FF",
           "#FECB52"
          ],
          "font": {
           "color": "#2a3f5f"
          },
          "geo": {
           "bgcolor": "white",
           "lakecolor": "white",
           "landcolor": "#E5ECF6",
           "showlakes": true,
           "showland": true,
           "subunitcolor": "white"
          },
          "hoverlabel": {
           "align": "left"
          },
          "hovermode": "closest",
          "mapbox": {
           "style": "light"
          },
          "paper_bgcolor": "white",
          "plot_bgcolor": "#E5ECF6",
          "polar": {
           "angularaxis": {
            "gridcolor": "white",
            "linecolor": "white",
            "ticks": ""
           },
           "bgcolor": "#E5ECF6",
           "radialaxis": {
            "gridcolor": "white",
            "linecolor": "white",
            "ticks": ""
           }
          },
          "scene": {
           "xaxis": {
            "backgroundcolor": "#E5ECF6",
            "gridcolor": "white",
            "gridwidth": 2,
            "linecolor": "white",
            "showbackground": true,
            "ticks": "",
            "zerolinecolor": "white"
           },
           "yaxis": {
            "backgroundcolor": "#E5ECF6",
            "gridcolor": "white",
            "gridwidth": 2,
            "linecolor": "white",
            "showbackground": true,
            "ticks": "",
            "zerolinecolor": "white"
           },
           "zaxis": {
            "backgroundcolor": "#E5ECF6",
            "gridcolor": "white",
            "gridwidth": 2,
            "linecolor": "white",
            "showbackground": true,
            "ticks": "",
            "zerolinecolor": "white"
           }
          },
          "shapedefaults": {
           "line": {
            "color": "#2a3f5f"
           }
          },
          "ternary": {
           "aaxis": {
            "gridcolor": "white",
            "linecolor": "white",
            "ticks": ""
           },
           "baxis": {
            "gridcolor": "white",
            "linecolor": "white",
            "ticks": ""
           },
           "bgcolor": "#E5ECF6",
           "caxis": {
            "gridcolor": "white",
            "linecolor": "white",
            "ticks": ""
           }
          },
          "title": {
           "x": 0.05
          },
          "xaxis": {
           "automargin": true,
           "gridcolor": "white",
           "linecolor": "white",
           "ticks": "",
           "title": {
            "standoff": 15
           },
           "zerolinecolor": "white",
           "zerolinewidth": 2
          },
          "yaxis": {
           "automargin": true,
           "gridcolor": "white",
           "linecolor": "white",
           "ticks": "",
           "title": {
            "standoff": 15
           },
           "zerolinecolor": "white",
           "zerolinewidth": 2
          }
         }
        },
        "title": {
         "text": "Intensity Factor (IF) Progression"
        },
        "xaxis": {
         "title": {
          "text": "Date"
         }
        },
        "yaxis": {
         "title": {
          "text": "IF"
         }
        }
       }
      }
     },
     "metadata": {},
     "output_type": "display_data"
    },
    {
     "name": "stdout",
     "output_type": "stream",
     "text": [
      "\n",
      "Taper period analysis:\n",
      "WorkoutType\n",
      "Run        10\n",
      "Bike       10\n",
      "Swim        9\n",
      "Other       6\n",
      "Day Off     3\n",
      "Brick       1\n",
      "Name: count, dtype: int64\n",
      "Average TSS during taper: 86.20\n",
      "Average IF during taper: 0.61\n"
     ]
    },
    {
     "data": {
      "application/vnd.plotly.v1+json": {
       "config": {
        "plotlyServerURL": "https://plot.ly"
       },
       "data": [
        {
         "hovertemplate": "Week=%{x}<br>TSS=%{y}<extra></extra>",
         "legendgroup": "",
         "line": {
          "color": "#1d3557",
          "dash": "solid"
         },
         "marker": {
          "symbol": "circle"
         },
         "mode": "lines",
         "name": "",
         "orientation": "v",
         "showlegend": false,
         "type": "scatter",
         "x": [
          "2023-02-20/2023-02-26",
          "2023-02-27/2023-03-05",
          "2023-03-06/2023-03-12",
          "2023-03-13/2023-03-19",
          "2023-03-20/2023-03-26",
          "2023-03-27/2023-04-02",
          "2023-04-03/2023-04-09",
          "2023-04-10/2023-04-16",
          "2023-04-17/2023-04-23",
          "2023-04-24/2023-04-30",
          "2023-05-01/2023-05-07",
          "2023-05-08/2023-05-14",
          "2023-05-15/2023-05-21",
          "2023-05-22/2023-05-28",
          "2023-05-29/2023-06-04",
          "2023-06-05/2023-06-11",
          "2023-06-12/2023-06-18",
          "2023-06-19/2023-06-25",
          "2023-06-26/2023-07-02",
          "2023-07-03/2023-07-09",
          "2023-07-10/2023-07-16",
          "2023-07-17/2023-07-23"
         ],
         "xaxis": "x",
         "y": [
          0.08,
          371.75,
          314.3,
          236.78,
          161.97,
          17.28,
          249.73000000000002,
          133.7,
          92.86999999999999,
          464.55,
          95.81,
          772.37,
          600.87,
          59.31,
          678.16,
          48.919999999999995,
          275.40999999999997,
          124.35,
          298.86,
          304.27,
          169.24,
          770.3299999999999
         ],
         "yaxis": "y"
        }
       ],
       "layout": {
        "legend": {
         "tracegroupgap": 0
        },
        "template": {
         "data": {
          "bar": [
           {
            "error_x": {
             "color": "#2a3f5f"
            },
            "error_y": {
             "color": "#2a3f5f"
            },
            "marker": {
             "line": {
              "color": "#E5ECF6",
              "width": 0.5
             },
             "pattern": {
              "fillmode": "overlay",
              "size": 10,
              "solidity": 0.2
             }
            },
            "type": "bar"
           }
          ],
          "barpolar": [
           {
            "marker": {
             "line": {
              "color": "#E5ECF6",
              "width": 0.5
             },
             "pattern": {
              "fillmode": "overlay",
              "size": 10,
              "solidity": 0.2
             }
            },
            "type": "barpolar"
           }
          ],
          "carpet": [
           {
            "aaxis": {
             "endlinecolor": "#2a3f5f",
             "gridcolor": "white",
             "linecolor": "white",
             "minorgridcolor": "white",
             "startlinecolor": "#2a3f5f"
            },
            "baxis": {
             "endlinecolor": "#2a3f5f",
             "gridcolor": "white",
             "linecolor": "white",
             "minorgridcolor": "white",
             "startlinecolor": "#2a3f5f"
            },
            "type": "carpet"
           }
          ],
          "choropleth": [
           {
            "colorbar": {
             "outlinewidth": 0,
             "ticks": ""
            },
            "type": "choropleth"
           }
          ],
          "contour": [
           {
            "colorbar": {
             "outlinewidth": 0,
             "ticks": ""
            },
            "colorscale": [
             [
              0,
              "#0d0887"
             ],
             [
              0.1111111111111111,
              "#46039f"
             ],
             [
              0.2222222222222222,
              "#7201a8"
             ],
             [
              0.3333333333333333,
              "#9c179e"
             ],
             [
              0.4444444444444444,
              "#bd3786"
             ],
             [
              0.5555555555555556,
              "#d8576b"
             ],
             [
              0.6666666666666666,
              "#ed7953"
             ],
             [
              0.7777777777777778,
              "#fb9f3a"
             ],
             [
              0.8888888888888888,
              "#fdca26"
             ],
             [
              1,
              "#f0f921"
             ]
            ],
            "type": "contour"
           }
          ],
          "contourcarpet": [
           {
            "colorbar": {
             "outlinewidth": 0,
             "ticks": ""
            },
            "type": "contourcarpet"
           }
          ],
          "heatmap": [
           {
            "colorbar": {
             "outlinewidth": 0,
             "ticks": ""
            },
            "colorscale": [
             [
              0,
              "#0d0887"
             ],
             [
              0.1111111111111111,
              "#46039f"
             ],
             [
              0.2222222222222222,
              "#7201a8"
             ],
             [
              0.3333333333333333,
              "#9c179e"
             ],
             [
              0.4444444444444444,
              "#bd3786"
             ],
             [
              0.5555555555555556,
              "#d8576b"
             ],
             [
              0.6666666666666666,
              "#ed7953"
             ],
             [
              0.7777777777777778,
              "#fb9f3a"
             ],
             [
              0.8888888888888888,
              "#fdca26"
             ],
             [
              1,
              "#f0f921"
             ]
            ],
            "type": "heatmap"
           }
          ],
          "heatmapgl": [
           {
            "colorbar": {
             "outlinewidth": 0,
             "ticks": ""
            },
            "colorscale": [
             [
              0,
              "#0d0887"
             ],
             [
              0.1111111111111111,
              "#46039f"
             ],
             [
              0.2222222222222222,
              "#7201a8"
             ],
             [
              0.3333333333333333,
              "#9c179e"
             ],
             [
              0.4444444444444444,
              "#bd3786"
             ],
             [
              0.5555555555555556,
              "#d8576b"
             ],
             [
              0.6666666666666666,
              "#ed7953"
             ],
             [
              0.7777777777777778,
              "#fb9f3a"
             ],
             [
              0.8888888888888888,
              "#fdca26"
             ],
             [
              1,
              "#f0f921"
             ]
            ],
            "type": "heatmapgl"
           }
          ],
          "histogram": [
           {
            "marker": {
             "pattern": {
              "fillmode": "overlay",
              "size": 10,
              "solidity": 0.2
             }
            },
            "type": "histogram"
           }
          ],
          "histogram2d": [
           {
            "colorbar": {
             "outlinewidth": 0,
             "ticks": ""
            },
            "colorscale": [
             [
              0,
              "#0d0887"
             ],
             [
              0.1111111111111111,
              "#46039f"
             ],
             [
              0.2222222222222222,
              "#7201a8"
             ],
             [
              0.3333333333333333,
              "#9c179e"
             ],
             [
              0.4444444444444444,
              "#bd3786"
             ],
             [
              0.5555555555555556,
              "#d8576b"
             ],
             [
              0.6666666666666666,
              "#ed7953"
             ],
             [
              0.7777777777777778,
              "#fb9f3a"
             ],
             [
              0.8888888888888888,
              "#fdca26"
             ],
             [
              1,
              "#f0f921"
             ]
            ],
            "type": "histogram2d"
           }
          ],
          "histogram2dcontour": [
           {
            "colorbar": {
             "outlinewidth": 0,
             "ticks": ""
            },
            "colorscale": [
             [
              0,
              "#0d0887"
             ],
             [
              0.1111111111111111,
              "#46039f"
             ],
             [
              0.2222222222222222,
              "#7201a8"
             ],
             [
              0.3333333333333333,
              "#9c179e"
             ],
             [
              0.4444444444444444,
              "#bd3786"
             ],
             [
              0.5555555555555556,
              "#d8576b"
             ],
             [
              0.6666666666666666,
              "#ed7953"
             ],
             [
              0.7777777777777778,
              "#fb9f3a"
             ],
             [
              0.8888888888888888,
              "#fdca26"
             ],
             [
              1,
              "#f0f921"
             ]
            ],
            "type": "histogram2dcontour"
           }
          ],
          "mesh3d": [
           {
            "colorbar": {
             "outlinewidth": 0,
             "ticks": ""
            },
            "type": "mesh3d"
           }
          ],
          "parcoords": [
           {
            "line": {
             "colorbar": {
              "outlinewidth": 0,
              "ticks": ""
             }
            },
            "type": "parcoords"
           }
          ],
          "pie": [
           {
            "automargin": true,
            "type": "pie"
           }
          ],
          "scatter": [
           {
            "fillpattern": {
             "fillmode": "overlay",
             "size": 10,
             "solidity": 0.2
            },
            "type": "scatter"
           }
          ],
          "scatter3d": [
           {
            "line": {
             "colorbar": {
              "outlinewidth": 0,
              "ticks": ""
             }
            },
            "marker": {
             "colorbar": {
              "outlinewidth": 0,
              "ticks": ""
             }
            },
            "type": "scatter3d"
           }
          ],
          "scattercarpet": [
           {
            "marker": {
             "colorbar": {
              "outlinewidth": 0,
              "ticks": ""
             }
            },
            "type": "scattercarpet"
           }
          ],
          "scattergeo": [
           {
            "marker": {
             "colorbar": {
              "outlinewidth": 0,
              "ticks": ""
             }
            },
            "type": "scattergeo"
           }
          ],
          "scattergl": [
           {
            "marker": {
             "colorbar": {
              "outlinewidth": 0,
              "ticks": ""
             }
            },
            "type": "scattergl"
           }
          ],
          "scattermapbox": [
           {
            "marker": {
             "colorbar": {
              "outlinewidth": 0,
              "ticks": ""
             }
            },
            "type": "scattermapbox"
           }
          ],
          "scatterpolar": [
           {
            "marker": {
             "colorbar": {
              "outlinewidth": 0,
              "ticks": ""
             }
            },
            "type": "scatterpolar"
           }
          ],
          "scatterpolargl": [
           {
            "marker": {
             "colorbar": {
              "outlinewidth": 0,
              "ticks": ""
             }
            },
            "type": "scatterpolargl"
           }
          ],
          "scatterternary": [
           {
            "marker": {
             "colorbar": {
              "outlinewidth": 0,
              "ticks": ""
             }
            },
            "type": "scatterternary"
           }
          ],
          "surface": [
           {
            "colorbar": {
             "outlinewidth": 0,
             "ticks": ""
            },
            "colorscale": [
             [
              0,
              "#0d0887"
             ],
             [
              0.1111111111111111,
              "#46039f"
             ],
             [
              0.2222222222222222,
              "#7201a8"
             ],
             [
              0.3333333333333333,
              "#9c179e"
             ],
             [
              0.4444444444444444,
              "#bd3786"
             ],
             [
              0.5555555555555556,
              "#d8576b"
             ],
             [
              0.6666666666666666,
              "#ed7953"
             ],
             [
              0.7777777777777778,
              "#fb9f3a"
             ],
             [
              0.8888888888888888,
              "#fdca26"
             ],
             [
              1,
              "#f0f921"
             ]
            ],
            "type": "surface"
           }
          ],
          "table": [
           {
            "cells": {
             "fill": {
              "color": "#EBF0F8"
             },
             "line": {
              "color": "white"
             }
            },
            "header": {
             "fill": {
              "color": "#C8D4E3"
             },
             "line": {
              "color": "white"
             }
            },
            "type": "table"
           }
          ]
         },
         "layout": {
          "annotationdefaults": {
           "arrowcolor": "#2a3f5f",
           "arrowhead": 0,
           "arrowwidth": 1
          },
          "autotypenumbers": "strict",
          "coloraxis": {
           "colorbar": {
            "outlinewidth": 0,
            "ticks": ""
           }
          },
          "colorscale": {
           "diverging": [
            [
             0,
             "#8e0152"
            ],
            [
             0.1,
             "#c51b7d"
            ],
            [
             0.2,
             "#de77ae"
            ],
            [
             0.3,
             "#f1b6da"
            ],
            [
             0.4,
             "#fde0ef"
            ],
            [
             0.5,
             "#f7f7f7"
            ],
            [
             0.6,
             "#e6f5d0"
            ],
            [
             0.7,
             "#b8e186"
            ],
            [
             0.8,
             "#7fbc41"
            ],
            [
             0.9,
             "#4d9221"
            ],
            [
             1,
             "#276419"
            ]
           ],
           "sequential": [
            [
             0,
             "#0d0887"
            ],
            [
             0.1111111111111111,
             "#46039f"
            ],
            [
             0.2222222222222222,
             "#7201a8"
            ],
            [
             0.3333333333333333,
             "#9c179e"
            ],
            [
             0.4444444444444444,
             "#bd3786"
            ],
            [
             0.5555555555555556,
             "#d8576b"
            ],
            [
             0.6666666666666666,
             "#ed7953"
            ],
            [
             0.7777777777777778,
             "#fb9f3a"
            ],
            [
             0.8888888888888888,
             "#fdca26"
            ],
            [
             1,
             "#f0f921"
            ]
           ],
           "sequentialminus": [
            [
             0,
             "#0d0887"
            ],
            [
             0.1111111111111111,
             "#46039f"
            ],
            [
             0.2222222222222222,
             "#7201a8"
            ],
            [
             0.3333333333333333,
             "#9c179e"
            ],
            [
             0.4444444444444444,
             "#bd3786"
            ],
            [
             0.5555555555555556,
             "#d8576b"
            ],
            [
             0.6666666666666666,
             "#ed7953"
            ],
            [
             0.7777777777777778,
             "#fb9f3a"
            ],
            [
             0.8888888888888888,
             "#fdca26"
            ],
            [
             1,
             "#f0f921"
            ]
           ]
          },
          "colorway": [
           "#636efa",
           "#EF553B",
           "#00cc96",
           "#ab63fa",
           "#FFA15A",
           "#19d3f3",
           "#FF6692",
           "#B6E880",
           "#FF97FF",
           "#FECB52"
          ],
          "font": {
           "color": "#2a3f5f"
          },
          "geo": {
           "bgcolor": "white",
           "lakecolor": "white",
           "landcolor": "#E5ECF6",
           "showlakes": true,
           "showland": true,
           "subunitcolor": "white"
          },
          "hoverlabel": {
           "align": "left"
          },
          "hovermode": "closest",
          "mapbox": {
           "style": "light"
          },
          "paper_bgcolor": "white",
          "plot_bgcolor": "#E5ECF6",
          "polar": {
           "angularaxis": {
            "gridcolor": "white",
            "linecolor": "white",
            "ticks": ""
           },
           "bgcolor": "#E5ECF6",
           "radialaxis": {
            "gridcolor": "white",
            "linecolor": "white",
            "ticks": ""
           }
          },
          "scene": {
           "xaxis": {
            "backgroundcolor": "#E5ECF6",
            "gridcolor": "white",
            "gridwidth": 2,
            "linecolor": "white",
            "showbackground": true,
            "ticks": "",
            "zerolinecolor": "white"
           },
           "yaxis": {
            "backgroundcolor": "#E5ECF6",
            "gridcolor": "white",
            "gridwidth": 2,
            "linecolor": "white",
            "showbackground": true,
            "ticks": "",
            "zerolinecolor": "white"
           },
           "zaxis": {
            "backgroundcolor": "#E5ECF6",
            "gridcolor": "white",
            "gridwidth": 2,
            "linecolor": "white",
            "showbackground": true,
            "ticks": "",
            "zerolinecolor": "white"
           }
          },
          "shapedefaults": {
           "line": {
            "color": "#2a3f5f"
           }
          },
          "ternary": {
           "aaxis": {
            "gridcolor": "white",
            "linecolor": "white",
            "ticks": ""
           },
           "baxis": {
            "gridcolor": "white",
            "linecolor": "white",
            "ticks": ""
           },
           "bgcolor": "#E5ECF6",
           "caxis": {
            "gridcolor": "white",
            "linecolor": "white",
            "ticks": ""
           }
          },
          "title": {
           "x": 0.05
          },
          "xaxis": {
           "automargin": true,
           "gridcolor": "white",
           "linecolor": "white",
           "ticks": "",
           "title": {
            "standoff": 15
           },
           "zerolinecolor": "white",
           "zerolinewidth": 2
          },
          "yaxis": {
           "automargin": true,
           "gridcolor": "white",
           "linecolor": "white",
           "ticks": "",
           "title": {
            "standoff": 15
           },
           "zerolinecolor": "white",
           "zerolinewidth": 2
          }
         }
        },
        "title": {
         "text": "Weekly Training Load (TSS)"
        },
        "xaxis": {
         "anchor": "y",
         "domain": [
          0,
          1
         ],
         "title": {
          "text": "Week"
         }
        },
        "yaxis": {
         "anchor": "x",
         "domain": [
          0,
          1
         ],
         "title": {
          "text": "TSS"
         }
        }
       }
      }
     },
     "metadata": {},
     "output_type": "display_data"
    },
    {
     "data": {
      "application/vnd.plotly.v1+json": {
       "config": {
        "plotlyServerURL": "https://plot.ly"
       },
       "data": [
        {
         "domain": {
          "x": [
           0,
           1
          ],
          "y": [
           0,
           1
          ]
         },
         "hovertemplate": "WorkoutType=%{label}<br>value=%{value}<extra></extra>",
         "labels": [
          "Run",
          "Bike",
          "Swim",
          "Other",
          "Strength",
          "Day Off",
          "Brick"
         ],
         "legendgroup": "",
         "name": "",
         "showlegend": true,
         "type": "pie",
         "values": [
          88,
          75,
          72,
          51,
          21,
          20,
          2
         ]
        }
       ],
       "layout": {
        "legend": {
         "tracegroupgap": 0
        },
        "piecolorway": [
         "#e63946",
         "#a8dadc",
         "#90EE90",
         "#457b9d",
         "#1d3557"
        ],
        "template": {
         "data": {
          "bar": [
           {
            "error_x": {
             "color": "#2a3f5f"
            },
            "error_y": {
             "color": "#2a3f5f"
            },
            "marker": {
             "line": {
              "color": "#E5ECF6",
              "width": 0.5
             },
             "pattern": {
              "fillmode": "overlay",
              "size": 10,
              "solidity": 0.2
             }
            },
            "type": "bar"
           }
          ],
          "barpolar": [
           {
            "marker": {
             "line": {
              "color": "#E5ECF6",
              "width": 0.5
             },
             "pattern": {
              "fillmode": "overlay",
              "size": 10,
              "solidity": 0.2
             }
            },
            "type": "barpolar"
           }
          ],
          "carpet": [
           {
            "aaxis": {
             "endlinecolor": "#2a3f5f",
             "gridcolor": "white",
             "linecolor": "white",
             "minorgridcolor": "white",
             "startlinecolor": "#2a3f5f"
            },
            "baxis": {
             "endlinecolor": "#2a3f5f",
             "gridcolor": "white",
             "linecolor": "white",
             "minorgridcolor": "white",
             "startlinecolor": "#2a3f5f"
            },
            "type": "carpet"
           }
          ],
          "choropleth": [
           {
            "colorbar": {
             "outlinewidth": 0,
             "ticks": ""
            },
            "type": "choropleth"
           }
          ],
          "contour": [
           {
            "colorbar": {
             "outlinewidth": 0,
             "ticks": ""
            },
            "colorscale": [
             [
              0,
              "#0d0887"
             ],
             [
              0.1111111111111111,
              "#46039f"
             ],
             [
              0.2222222222222222,
              "#7201a8"
             ],
             [
              0.3333333333333333,
              "#9c179e"
             ],
             [
              0.4444444444444444,
              "#bd3786"
             ],
             [
              0.5555555555555556,
              "#d8576b"
             ],
             [
              0.6666666666666666,
              "#ed7953"
             ],
             [
              0.7777777777777778,
              "#fb9f3a"
             ],
             [
              0.8888888888888888,
              "#fdca26"
             ],
             [
              1,
              "#f0f921"
             ]
            ],
            "type": "contour"
           }
          ],
          "contourcarpet": [
           {
            "colorbar": {
             "outlinewidth": 0,
             "ticks": ""
            },
            "type": "contourcarpet"
           }
          ],
          "heatmap": [
           {
            "colorbar": {
             "outlinewidth": 0,
             "ticks": ""
            },
            "colorscale": [
             [
              0,
              "#0d0887"
             ],
             [
              0.1111111111111111,
              "#46039f"
             ],
             [
              0.2222222222222222,
              "#7201a8"
             ],
             [
              0.3333333333333333,
              "#9c179e"
             ],
             [
              0.4444444444444444,
              "#bd3786"
             ],
             [
              0.5555555555555556,
              "#d8576b"
             ],
             [
              0.6666666666666666,
              "#ed7953"
             ],
             [
              0.7777777777777778,
              "#fb9f3a"
             ],
             [
              0.8888888888888888,
              "#fdca26"
             ],
             [
              1,
              "#f0f921"
             ]
            ],
            "type": "heatmap"
           }
          ],
          "heatmapgl": [
           {
            "colorbar": {
             "outlinewidth": 0,
             "ticks": ""
            },
            "colorscale": [
             [
              0,
              "#0d0887"
             ],
             [
              0.1111111111111111,
              "#46039f"
             ],
             [
              0.2222222222222222,
              "#7201a8"
             ],
             [
              0.3333333333333333,
              "#9c179e"
             ],
             [
              0.4444444444444444,
              "#bd3786"
             ],
             [
              0.5555555555555556,
              "#d8576b"
             ],
             [
              0.6666666666666666,
              "#ed7953"
             ],
             [
              0.7777777777777778,
              "#fb9f3a"
             ],
             [
              0.8888888888888888,
              "#fdca26"
             ],
             [
              1,
              "#f0f921"
             ]
            ],
            "type": "heatmapgl"
           }
          ],
          "histogram": [
           {
            "marker": {
             "pattern": {
              "fillmode": "overlay",
              "size": 10,
              "solidity": 0.2
             }
            },
            "type": "histogram"
           }
          ],
          "histogram2d": [
           {
            "colorbar": {
             "outlinewidth": 0,
             "ticks": ""
            },
            "colorscale": [
             [
              0,
              "#0d0887"
             ],
             [
              0.1111111111111111,
              "#46039f"
             ],
             [
              0.2222222222222222,
              "#7201a8"
             ],
             [
              0.3333333333333333,
              "#9c179e"
             ],
             [
              0.4444444444444444,
              "#bd3786"
             ],
             [
              0.5555555555555556,
              "#d8576b"
             ],
             [
              0.6666666666666666,
              "#ed7953"
             ],
             [
              0.7777777777777778,
              "#fb9f3a"
             ],
             [
              0.8888888888888888,
              "#fdca26"
             ],
             [
              1,
              "#f0f921"
             ]
            ],
            "type": "histogram2d"
           }
          ],
          "histogram2dcontour": [
           {
            "colorbar": {
             "outlinewidth": 0,
             "ticks": ""
            },
            "colorscale": [
             [
              0,
              "#0d0887"
             ],
             [
              0.1111111111111111,
              "#46039f"
             ],
             [
              0.2222222222222222,
              "#7201a8"
             ],
             [
              0.3333333333333333,
              "#9c179e"
             ],
             [
              0.4444444444444444,
              "#bd3786"
             ],
             [
              0.5555555555555556,
              "#d8576b"
             ],
             [
              0.6666666666666666,
              "#ed7953"
             ],
             [
              0.7777777777777778,
              "#fb9f3a"
             ],
             [
              0.8888888888888888,
              "#fdca26"
             ],
             [
              1,
              "#f0f921"
             ]
            ],
            "type": "histogram2dcontour"
           }
          ],
          "mesh3d": [
           {
            "colorbar": {
             "outlinewidth": 0,
             "ticks": ""
            },
            "type": "mesh3d"
           }
          ],
          "parcoords": [
           {
            "line": {
             "colorbar": {
              "outlinewidth": 0,
              "ticks": ""
             }
            },
            "type": "parcoords"
           }
          ],
          "pie": [
           {
            "automargin": true,
            "type": "pie"
           }
          ],
          "scatter": [
           {
            "fillpattern": {
             "fillmode": "overlay",
             "size": 10,
             "solidity": 0.2
            },
            "type": "scatter"
           }
          ],
          "scatter3d": [
           {
            "line": {
             "colorbar": {
              "outlinewidth": 0,
              "ticks": ""
             }
            },
            "marker": {
             "colorbar": {
              "outlinewidth": 0,
              "ticks": ""
             }
            },
            "type": "scatter3d"
           }
          ],
          "scattercarpet": [
           {
            "marker": {
             "colorbar": {
              "outlinewidth": 0,
              "ticks": ""
             }
            },
            "type": "scattercarpet"
           }
          ],
          "scattergeo": [
           {
            "marker": {
             "colorbar": {
              "outlinewidth": 0,
              "ticks": ""
             }
            },
            "type": "scattergeo"
           }
          ],
          "scattergl": [
           {
            "marker": {
             "colorbar": {
              "outlinewidth": 0,
              "ticks": ""
             }
            },
            "type": "scattergl"
           }
          ],
          "scattermapbox": [
           {
            "marker": {
             "colorbar": {
              "outlinewidth": 0,
              "ticks": ""
             }
            },
            "type": "scattermapbox"
           }
          ],
          "scatterpolar": [
           {
            "marker": {
             "colorbar": {
              "outlinewidth": 0,
              "ticks": ""
             }
            },
            "type": "scatterpolar"
           }
          ],
          "scatterpolargl": [
           {
            "marker": {
             "colorbar": {
              "outlinewidth": 0,
              "ticks": ""
             }
            },
            "type": "scatterpolargl"
           }
          ],
          "scatterternary": [
           {
            "marker": {
             "colorbar": {
              "outlinewidth": 0,
              "ticks": ""
             }
            },
            "type": "scatterternary"
           }
          ],
          "surface": [
           {
            "colorbar": {
             "outlinewidth": 0,
             "ticks": ""
            },
            "colorscale": [
             [
              0,
              "#0d0887"
             ],
             [
              0.1111111111111111,
              "#46039f"
             ],
             [
              0.2222222222222222,
              "#7201a8"
             ],
             [
              0.3333333333333333,
              "#9c179e"
             ],
             [
              0.4444444444444444,
              "#bd3786"
             ],
             [
              0.5555555555555556,
              "#d8576b"
             ],
             [
              0.6666666666666666,
              "#ed7953"
             ],
             [
              0.7777777777777778,
              "#fb9f3a"
             ],
             [
              0.8888888888888888,
              "#fdca26"
             ],
             [
              1,
              "#f0f921"
             ]
            ],
            "type": "surface"
           }
          ],
          "table": [
           {
            "cells": {
             "fill": {
              "color": "#EBF0F8"
             },
             "line": {
              "color": "white"
             }
            },
            "header": {
             "fill": {
              "color": "#C8D4E3"
             },
             "line": {
              "color": "white"
             }
            },
            "type": "table"
           }
          ]
         },
         "layout": {
          "annotationdefaults": {
           "arrowcolor": "#2a3f5f",
           "arrowhead": 0,
           "arrowwidth": 1
          },
          "autotypenumbers": "strict",
          "coloraxis": {
           "colorbar": {
            "outlinewidth": 0,
            "ticks": ""
           }
          },
          "colorscale": {
           "diverging": [
            [
             0,
             "#8e0152"
            ],
            [
             0.1,
             "#c51b7d"
            ],
            [
             0.2,
             "#de77ae"
            ],
            [
             0.3,
             "#f1b6da"
            ],
            [
             0.4,
             "#fde0ef"
            ],
            [
             0.5,
             "#f7f7f7"
            ],
            [
             0.6,
             "#e6f5d0"
            ],
            [
             0.7,
             "#b8e186"
            ],
            [
             0.8,
             "#7fbc41"
            ],
            [
             0.9,
             "#4d9221"
            ],
            [
             1,
             "#276419"
            ]
           ],
           "sequential": [
            [
             0,
             "#0d0887"
            ],
            [
             0.1111111111111111,
             "#46039f"
            ],
            [
             0.2222222222222222,
             "#7201a8"
            ],
            [
             0.3333333333333333,
             "#9c179e"
            ],
            [
             0.4444444444444444,
             "#bd3786"
            ],
            [
             0.5555555555555556,
             "#d8576b"
            ],
            [
             0.6666666666666666,
             "#ed7953"
            ],
            [
             0.7777777777777778,
             "#fb9f3a"
            ],
            [
             0.8888888888888888,
             "#fdca26"
            ],
            [
             1,
             "#f0f921"
            ]
           ],
           "sequentialminus": [
            [
             0,
             "#0d0887"
            ],
            [
             0.1111111111111111,
             "#46039f"
            ],
            [
             0.2222222222222222,
             "#7201a8"
            ],
            [
             0.3333333333333333,
             "#9c179e"
            ],
            [
             0.4444444444444444,
             "#bd3786"
            ],
            [
             0.5555555555555556,
             "#d8576b"
            ],
            [
             0.6666666666666666,
             "#ed7953"
            ],
            [
             0.7777777777777778,
             "#fb9f3a"
            ],
            [
             0.8888888888888888,
             "#fdca26"
            ],
            [
             1,
             "#f0f921"
            ]
           ]
          },
          "colorway": [
           "#636efa",
           "#EF553B",
           "#00cc96",
           "#ab63fa",
           "#FFA15A",
           "#19d3f3",
           "#FF6692",
           "#B6E880",
           "#FF97FF",
           "#FECB52"
          ],
          "font": {
           "color": "#2a3f5f"
          },
          "geo": {
           "bgcolor": "white",
           "lakecolor": "white",
           "landcolor": "#E5ECF6",
           "showlakes": true,
           "showland": true,
           "subunitcolor": "white"
          },
          "hoverlabel": {
           "align": "left"
          },
          "hovermode": "closest",
          "mapbox": {
           "style": "light"
          },
          "paper_bgcolor": "white",
          "plot_bgcolor": "#E5ECF6",
          "polar": {
           "angularaxis": {
            "gridcolor": "white",
            "linecolor": "white",
            "ticks": ""
           },
           "bgcolor": "#E5ECF6",
           "radialaxis": {
            "gridcolor": "white",
            "linecolor": "white",
            "ticks": ""
           }
          },
          "scene": {
           "xaxis": {
            "backgroundcolor": "#E5ECF6",
            "gridcolor": "white",
            "gridwidth": 2,
            "linecolor": "white",
            "showbackground": true,
            "ticks": "",
            "zerolinecolor": "white"
           },
           "yaxis": {
            "backgroundcolor": "#E5ECF6",
            "gridcolor": "white",
            "gridwidth": 2,
            "linecolor": "white",
            "showbackground": true,
            "ticks": "",
            "zerolinecolor": "white"
           },
           "zaxis": {
            "backgroundcolor": "#E5ECF6",
            "gridcolor": "white",
            "gridwidth": 2,
            "linecolor": "white",
            "showbackground": true,
            "ticks": "",
            "zerolinecolor": "white"
           }
          },
          "shapedefaults": {
           "line": {
            "color": "#2a3f5f"
           }
          },
          "ternary": {
           "aaxis": {
            "gridcolor": "white",
            "linecolor": "white",
            "ticks": ""
           },
           "baxis": {
            "gridcolor": "white",
            "linecolor": "white",
            "ticks": ""
           },
           "bgcolor": "#E5ECF6",
           "caxis": {
            "gridcolor": "white",
            "linecolor": "white",
            "ticks": ""
           }
          },
          "title": {
           "x": 0.05
          },
          "xaxis": {
           "automargin": true,
           "gridcolor": "white",
           "linecolor": "white",
           "ticks": "",
           "title": {
            "standoff": 15
           },
           "zerolinecolor": "white",
           "zerolinewidth": 2
          },
          "yaxis": {
           "automargin": true,
           "gridcolor": "white",
           "linecolor": "white",
           "ticks": "",
           "title": {
            "standoff": 15
           },
           "zerolinecolor": "white",
           "zerolinewidth": 2
          }
         }
        },
        "title": {
         "text": "Workout Type Distribution"
        }
       }
      }
     },
     "metadata": {},
     "output_type": "display_data"
    },
    {
     "data": {
      "application/vnd.plotly.v1+json": {
       "config": {
        "plotlyServerURL": "https://plot.ly"
       },
       "data": [
        {
         "marker": {
          "color": "#e63946"
         },
         "mode": "markers",
         "name": "TSS",
         "type": "scatter",
         "x": [
          "2023-02-25T00:00:00",
          "2023-02-25T00:00:00",
          "2023-02-27T00:00:00",
          "2023-02-27T00:00:00",
          "2023-02-27T00:00:00",
          "2023-02-28T00:00:00",
          "2023-02-28T00:00:00",
          "2023-02-28T00:00:00",
          "2023-03-01T00:00:00",
          "2023-03-01T00:00:00",
          "2023-03-01T00:00:00",
          "2023-03-01T00:00:00",
          "2023-03-02T00:00:00",
          "2023-03-02T00:00:00",
          "2023-03-03T00:00:00",
          "2023-03-04T00:00:00",
          "2023-03-04T00:00:00",
          "2023-03-04T00:00:00",
          "2023-03-05T00:00:00",
          "2023-03-05T00:00:00",
          "2023-03-06T00:00:00",
          "2023-03-06T00:00:00",
          "2023-03-06T00:00:00",
          "2023-03-07T00:00:00",
          "2023-03-08T00:00:00",
          "2023-03-08T00:00:00",
          "2023-03-09T00:00:00",
          "2023-03-09T00:00:00",
          "2023-03-10T00:00:00",
          "2023-03-11T00:00:00",
          "2023-03-12T00:00:00",
          "2023-03-12T00:00:00",
          "2023-03-13T00:00:00",
          "2023-03-13T00:00:00",
          "2023-03-13T00:00:00",
          "2023-03-14T00:00:00",
          "2023-03-15T00:00:00",
          "2023-03-15T00:00:00",
          "2023-03-15T00:00:00",
          "2023-03-16T00:00:00",
          "2023-03-16T00:00:00",
          "2023-03-17T00:00:00",
          "2023-03-17T00:00:00",
          "2023-03-18T00:00:00",
          "2023-03-18T00:00:00",
          "2023-03-18T00:00:00",
          "2023-03-19T00:00:00",
          "2023-03-19T00:00:00",
          "2023-03-20T00:00:00",
          "2023-03-20T00:00:00",
          "2023-03-21T00:00:00",
          "2023-03-22T00:00:00",
          "2023-03-22T00:00:00",
          "2023-03-22T00:00:00",
          "2023-03-23T00:00:00",
          "2023-03-23T00:00:00",
          "2023-03-24T00:00:00",
          "2023-03-24T00:00:00",
          "2023-03-25T00:00:00",
          "2023-03-25T00:00:00",
          "2023-03-25T00:00:00",
          "2023-03-26T00:00:00",
          "2023-03-26T00:00:00",
          "2023-03-27T00:00:00",
          "2023-03-27T00:00:00",
          "2023-03-28T00:00:00",
          "2023-03-28T00:00:00",
          "2023-03-29T00:00:00",
          "2023-03-29T00:00:00",
          "2023-03-30T00:00:00",
          "2023-03-30T00:00:00",
          "2023-03-31T00:00:00",
          "2023-03-31T00:00:00",
          "2023-04-01T00:00:00",
          "2023-04-01T00:00:00",
          "2023-04-02T00:00:00",
          "2023-04-02T00:00:00",
          "2023-04-03T00:00:00",
          "2023-04-03T00:00:00",
          "2023-04-03T00:00:00",
          "2023-04-04T00:00:00",
          "2023-04-04T00:00:00",
          "2023-04-05T00:00:00",
          "2023-04-05T00:00:00",
          "2023-04-06T00:00:00",
          "2023-04-07T00:00:00",
          "2023-04-07T00:00:00",
          "2023-04-08T00:00:00",
          "2023-04-08T00:00:00",
          "2023-04-09T00:00:00",
          "2023-04-09T00:00:00",
          "2023-04-10T00:00:00",
          "2023-04-10T00:00:00",
          "2023-04-11T00:00:00",
          "2023-04-12T00:00:00",
          "2023-04-13T00:00:00",
          "2023-04-13T00:00:00",
          "2023-04-13T00:00:00",
          "2023-04-14T00:00:00",
          "2023-04-14T00:00:00",
          "2023-04-14T00:00:00",
          "2023-04-15T00:00:00",
          "2023-04-15T00:00:00",
          "2023-04-15T00:00:00",
          "2023-04-16T00:00:00",
          "2023-04-16T00:00:00",
          "2023-04-16T00:00:00",
          "2023-04-17T00:00:00",
          "2023-04-17T00:00:00",
          "2023-04-17T00:00:00",
          "2023-04-17T00:00:00",
          "2023-04-17T00:00:00",
          "2023-04-17T00:00:00",
          "2023-04-18T00:00:00",
          "2023-04-18T00:00:00",
          "2023-04-18T00:00:00",
          "2023-04-19T00:00:00",
          "2023-04-19T00:00:00",
          "2023-04-20T00:00:00",
          "2023-04-20T00:00:00",
          "2023-04-21T00:00:00",
          "2023-04-22T00:00:00",
          "2023-04-22T00:00:00",
          "2023-04-23T00:00:00",
          "2023-04-24T00:00:00",
          "2023-04-24T00:00:00",
          "2023-04-24T00:00:00",
          "2023-04-25T00:00:00",
          "2023-04-25T00:00:00",
          "2023-04-26T00:00:00",
          "2023-04-26T00:00:00",
          "2023-04-27T00:00:00",
          "2023-04-28T00:00:00",
          "2023-04-28T00:00:00",
          "2023-04-29T00:00:00",
          "2023-04-29T00:00:00",
          "2023-04-30T00:00:00",
          "2023-04-30T00:00:00",
          "2023-05-01T00:00:00",
          "2023-05-01T00:00:00",
          "2023-05-01T00:00:00",
          "2023-05-02T00:00:00",
          "2023-05-03T00:00:00",
          "2023-05-03T00:00:00",
          "2023-05-04T00:00:00",
          "2023-05-05T00:00:00",
          "2023-05-05T00:00:00",
          "2023-05-05T00:00:00",
          "2023-05-06T00:00:00",
          "2023-05-06T00:00:00",
          "2023-05-07T00:00:00",
          "2023-05-08T00:00:00",
          "2023-05-08T00:00:00",
          "2023-05-08T00:00:00",
          "2023-05-09T00:00:00",
          "2023-05-09T00:00:00",
          "2023-05-10T00:00:00",
          "2023-05-10T00:00:00",
          "2023-05-11T00:00:00",
          "2023-05-11T00:00:00",
          "2023-05-12T00:00:00",
          "2023-05-13T00:00:00",
          "2023-05-13T00:00:00",
          "2023-05-13T00:00:00",
          "2023-05-13T00:00:00",
          "2023-05-14T00:00:00",
          "2023-05-14T00:00:00",
          "2023-05-14T00:00:00",
          "2023-05-14T00:00:00",
          "2023-05-15T00:00:00",
          "2023-05-15T00:00:00",
          "2023-05-15T00:00:00",
          "2023-05-15T00:00:00",
          "2023-05-16T00:00:00",
          "2023-05-16T00:00:00",
          "2023-05-16T00:00:00",
          "2023-05-17T00:00:00",
          "2023-05-17T00:00:00",
          "2023-05-17T00:00:00",
          "2023-05-18T00:00:00",
          "2023-05-18T00:00:00",
          "2023-05-18T00:00:00",
          "2023-05-18T00:00:00",
          "2023-05-18T00:00:00",
          "2023-05-19T00:00:00",
          "2023-05-19T00:00:00",
          "2023-05-20T00:00:00",
          "2023-05-20T00:00:00",
          "2023-05-20T00:00:00",
          "2023-05-20T00:00:00",
          "2023-05-21T00:00:00",
          "2023-05-21T00:00:00",
          "2023-05-21T00:00:00",
          "2023-05-22T00:00:00",
          "2023-05-22T00:00:00",
          "2023-05-22T00:00:00",
          "2023-05-23T00:00:00",
          "2023-05-23T00:00:00",
          "2023-05-23T00:00:00",
          "2023-05-24T00:00:00",
          "2023-05-24T00:00:00",
          "2023-05-25T00:00:00",
          "2023-05-25T00:00:00",
          "2023-05-26T00:00:00",
          "2023-05-27T00:00:00",
          "2023-05-27T00:00:00",
          "2023-05-28T00:00:00",
          "2023-05-28T00:00:00",
          "2023-05-29T00:00:00",
          "2023-05-29T00:00:00",
          "2023-05-30T00:00:00",
          "2023-05-30T00:00:00",
          "2023-05-31T00:00:00",
          "2023-05-31T00:00:00",
          "2023-06-01T00:00:00",
          "2023-06-01T00:00:00",
          "2023-06-01T00:00:00",
          "2023-06-02T00:00:00",
          "2023-06-03T00:00:00",
          "2023-06-03T00:00:00",
          "2023-06-03T00:00:00",
          "2023-06-03T00:00:00",
          "2023-06-03T00:00:00",
          "2023-06-03T00:00:00",
          "2023-06-04T00:00:00",
          "2023-06-04T00:00:00",
          "2023-06-05T00:00:00",
          "2023-06-05T00:00:00",
          "2023-06-06T00:00:00",
          "2023-06-07T00:00:00",
          "2023-06-08T00:00:00",
          "2023-06-08T00:00:00",
          "2023-06-09T00:00:00",
          "2023-06-09T00:00:00",
          "2023-06-09T00:00:00",
          "2023-06-10T00:00:00",
          "2023-06-10T00:00:00",
          "2023-06-11T00:00:00",
          "2023-06-11T00:00:00",
          "2023-06-12T00:00:00",
          "2023-06-12T00:00:00",
          "2023-06-12T00:00:00",
          "2023-06-12T00:00:00",
          "2023-06-13T00:00:00",
          "2023-06-14T00:00:00",
          "2023-06-14T00:00:00",
          "2023-06-15T00:00:00",
          "2023-06-16T00:00:00",
          "2023-06-16T00:00:00",
          "2023-06-17T00:00:00",
          "2023-06-17T00:00:00",
          "2023-06-17T00:00:00",
          "2023-06-18T00:00:00",
          "2023-06-18T00:00:00",
          "2023-06-19T00:00:00",
          "2023-06-19T00:00:00",
          "2023-06-20T00:00:00",
          "2023-06-20T00:00:00",
          "2023-06-21T00:00:00",
          "2023-06-22T00:00:00",
          "2023-06-23T00:00:00",
          "2023-06-23T00:00:00",
          "2023-06-24T00:00:00",
          "2023-06-24T00:00:00",
          "2023-06-24T00:00:00",
          "2023-06-25T00:00:00",
          "2023-06-25T00:00:00",
          "2023-06-26T00:00:00",
          "2023-06-27T00:00:00",
          "2023-06-27T00:00:00",
          "2023-06-28T00:00:00",
          "2023-06-28T00:00:00",
          "2023-06-29T00:00:00",
          "2023-06-30T00:00:00",
          "2023-07-01T00:00:00",
          "2023-07-01T00:00:00",
          "2023-07-02T00:00:00",
          "2023-07-02T00:00:00",
          "2023-07-03T00:00:00",
          "2023-07-03T00:00:00",
          "2023-07-04T00:00:00",
          "2023-07-04T00:00:00",
          "2023-07-05T00:00:00",
          "2023-07-06T00:00:00",
          "2023-07-06T00:00:00",
          "2023-07-07T00:00:00",
          "2023-07-07T00:00:00",
          "2023-07-08T00:00:00",
          "2023-07-08T00:00:00",
          "2023-07-08T00:00:00",
          "2023-07-09T00:00:00",
          "2023-07-09T00:00:00",
          "2023-07-10T00:00:00",
          "2023-07-10T00:00:00",
          "2023-07-10T00:00:00",
          "2023-07-11T00:00:00",
          "2023-07-11T00:00:00",
          "2023-07-12T00:00:00",
          "2023-07-12T00:00:00",
          "2023-07-12T00:00:00",
          "2023-07-13T00:00:00",
          "2023-07-13T00:00:00",
          "2023-07-14T00:00:00",
          "2023-07-15T00:00:00",
          "2023-07-15T00:00:00",
          "2023-07-15T00:00:00",
          "2023-07-15T00:00:00",
          "2023-07-16T00:00:00",
          "2023-07-16T00:00:00",
          "2023-07-16T00:00:00",
          "2023-07-17T00:00:00",
          "2023-07-17T00:00:00",
          "2023-07-18T00:00:00",
          "2023-07-18T00:00:00",
          "2023-07-19T00:00:00",
          "2023-07-20T00:00:00",
          "2023-07-20T00:00:00",
          "2023-07-21T00:00:00",
          "2023-07-21T00:00:00",
          "2023-07-21T00:00:00",
          "2023-07-21T00:00:00",
          "2023-07-22T00:00:00",
          "2023-07-22T00:00:00",
          "2023-07-22T00:00:00",
          "2023-07-22T00:00:00",
          "2023-07-23T00:00:00",
          "2023-07-23T00:00:00",
          "2023-07-23T00:00:00",
          "2023-07-23T00:00:00"
         ],
         "xaxis": "x",
         "y": [
          null,
          0.08,
          34.56,
          78.79,
          141.62,
          0.49,
          null,
          0.03,
          0.03,
          15.65,
          12.63,
          59.62,
          null,
          28.33,
          null,
          null,
          null,
          null,
          null,
          null,
          null,
          14.31,
          0.11,
          25.63,
          null,
          16.3,
          null,
          null,
          23.32,
          206.86,
          27.66,
          0.11,
          null,
          null,
          0.23,
          16.99,
          0.06,
          null,
          0.24,
          37.1,
          10.16,
          8.09,
          1.22,
          42.81,
          null,
          27.09,
          92.79,
          null,
          null,
          null,
          52.29,
          null,
          null,
          null,
          16.25,
          16.28,
          null,
          20.09,
          null,
          null,
          null,
          57.06,
          null,
          null,
          null,
          null,
          17.28,
          null,
          null,
          null,
          null,
          null,
          null,
          null,
          null,
          null,
          null,
          null,
          null,
          15.6,
          null,
          null,
          null,
          null,
          59.24,
          0.19,
          33.12,
          81.22,
          null,
          null,
          60.36,
          null,
          null,
          45.35,
          null,
          0.05,
          55.08,
          33.12,
          0.1,
          null,
          null,
          null,
          null,
          null,
          null,
          null,
          null,
          null,
          null,
          null,
          null,
          null,
          0.19,
          null,
          null,
          null,
          null,
          null,
          null,
          null,
          0.61,
          null,
          92.07,
          null,
          null,
          41.83,
          null,
          0.63,
          null,
          59.78,
          24.61,
          0.19,
          62.58,
          30.67,
          144.87,
          9.36,
          89.86,
          0.17,
          null,
          null,
          null,
          0.44,
          38.66,
          19.85,
          0.32,
          8.98,
          13.69,
          13.87,
          null,
          null,
          null,
          null,
          null,
          null,
          42.41,
          60.82,
          null,
          null,
          67.33,
          26.44,
          62.25,
          113.29,
          null,
          null,
          144.52,
          240.19,
          null,
          null,
          15.12,
          null,
          null,
          null,
          null,
          null,
          0.69,
          null,
          56.34,
          null,
          23.4,
          null,
          null,
          17.53,
          5.44,
          19.14,
          null,
          null,
          null,
          24.2,
          142.98,
          166.58,
          null,
          144.57,
          null,
          null,
          null,
          null,
          null,
          59.31,
          null,
          null,
          null,
          null,
          null,
          null,
          null,
          null,
          null,
          null,
          null,
          null,
          13.89,
          40.12,
          0.22,
          24.71,
          22.57,
          27.57,
          69.47,
          0.38,
          26.32,
          3,
          11.28,
          11.54,
          90.86,
          160.07,
          176.16,
          null,
          null,
          null,
          null,
          null,
          null,
          null,
          0.27,
          null,
          0.21,
          null,
          47.48,
          0.96,
          null,
          null,
          null,
          0.16,
          0.98,
          null,
          null,
          null,
          null,
          null,
          null,
          177.32,
          96.6,
          0.35,
          null,
          null,
          null,
          null,
          56.98,
          14.87,
          null,
          null,
          null,
          null,
          null,
          null,
          34.91,
          17.2,
          0.39,
          0.4,
          null,
          null,
          58.7,
          9.98,
          32.52,
          null,
          117.95,
          79.31,
          null,
          null,
          null,
          null,
          88.47,
          null,
          null,
          null,
          null,
          null,
          null,
          67.8,
          17.92,
          35.21,
          94.87,
          null,
          null,
          null,
          null,
          52.18,
          null,
          null,
          null,
          null,
          null,
          null,
          78.15,
          null,
          19.45,
          null,
          19.46,
          null,
          null,
          null,
          null,
          null,
          63.17,
          null,
          null,
          null,
          17.65,
          null,
          null,
          0.02,
          0.1,
          null,
          null,
          null,
          null,
          0.86,
          371.78,
          null,
          316.75
         ],
         "yaxis": "y"
        },
        {
         "marker": {
          "color": "#1d3557"
         },
         "mode": "markers",
         "name": "IF",
         "type": "scatter",
         "x": [
          "2023-02-25T00:00:00",
          "2023-02-25T00:00:00",
          "2023-02-27T00:00:00",
          "2023-02-27T00:00:00",
          "2023-02-27T00:00:00",
          "2023-02-28T00:00:00",
          "2023-02-28T00:00:00",
          "2023-02-28T00:00:00",
          "2023-03-01T00:00:00",
          "2023-03-01T00:00:00",
          "2023-03-01T00:00:00",
          "2023-03-01T00:00:00",
          "2023-03-02T00:00:00",
          "2023-03-02T00:00:00",
          "2023-03-03T00:00:00",
          "2023-03-04T00:00:00",
          "2023-03-04T00:00:00",
          "2023-03-04T00:00:00",
          "2023-03-05T00:00:00",
          "2023-03-05T00:00:00",
          "2023-03-06T00:00:00",
          "2023-03-06T00:00:00",
          "2023-03-06T00:00:00",
          "2023-03-07T00:00:00",
          "2023-03-08T00:00:00",
          "2023-03-08T00:00:00",
          "2023-03-09T00:00:00",
          "2023-03-09T00:00:00",
          "2023-03-10T00:00:00",
          "2023-03-11T00:00:00",
          "2023-03-12T00:00:00",
          "2023-03-12T00:00:00",
          "2023-03-13T00:00:00",
          "2023-03-13T00:00:00",
          "2023-03-13T00:00:00",
          "2023-03-14T00:00:00",
          "2023-03-15T00:00:00",
          "2023-03-15T00:00:00",
          "2023-03-15T00:00:00",
          "2023-03-16T00:00:00",
          "2023-03-16T00:00:00",
          "2023-03-17T00:00:00",
          "2023-03-17T00:00:00",
          "2023-03-18T00:00:00",
          "2023-03-18T00:00:00",
          "2023-03-18T00:00:00",
          "2023-03-19T00:00:00",
          "2023-03-19T00:00:00",
          "2023-03-20T00:00:00",
          "2023-03-20T00:00:00",
          "2023-03-21T00:00:00",
          "2023-03-22T00:00:00",
          "2023-03-22T00:00:00",
          "2023-03-22T00:00:00",
          "2023-03-23T00:00:00",
          "2023-03-23T00:00:00",
          "2023-03-24T00:00:00",
          "2023-03-24T00:00:00",
          "2023-03-25T00:00:00",
          "2023-03-25T00:00:00",
          "2023-03-25T00:00:00",
          "2023-03-26T00:00:00",
          "2023-03-26T00:00:00",
          "2023-03-27T00:00:00",
          "2023-03-27T00:00:00",
          "2023-03-28T00:00:00",
          "2023-03-28T00:00:00",
          "2023-03-29T00:00:00",
          "2023-03-29T00:00:00",
          "2023-03-30T00:00:00",
          "2023-03-30T00:00:00",
          "2023-03-31T00:00:00",
          "2023-03-31T00:00:00",
          "2023-04-01T00:00:00",
          "2023-04-01T00:00:00",
          "2023-04-02T00:00:00",
          "2023-04-02T00:00:00",
          "2023-04-03T00:00:00",
          "2023-04-03T00:00:00",
          "2023-04-03T00:00:00",
          "2023-04-04T00:00:00",
          "2023-04-04T00:00:00",
          "2023-04-05T00:00:00",
          "2023-04-05T00:00:00",
          "2023-04-06T00:00:00",
          "2023-04-07T00:00:00",
          "2023-04-07T00:00:00",
          "2023-04-08T00:00:00",
          "2023-04-08T00:00:00",
          "2023-04-09T00:00:00",
          "2023-04-09T00:00:00",
          "2023-04-10T00:00:00",
          "2023-04-10T00:00:00",
          "2023-04-11T00:00:00",
          "2023-04-12T00:00:00",
          "2023-04-13T00:00:00",
          "2023-04-13T00:00:00",
          "2023-04-13T00:00:00",
          "2023-04-14T00:00:00",
          "2023-04-14T00:00:00",
          "2023-04-14T00:00:00",
          "2023-04-15T00:00:00",
          "2023-04-15T00:00:00",
          "2023-04-15T00:00:00",
          "2023-04-16T00:00:00",
          "2023-04-16T00:00:00",
          "2023-04-16T00:00:00",
          "2023-04-17T00:00:00",
          "2023-04-17T00:00:00",
          "2023-04-17T00:00:00",
          "2023-04-17T00:00:00",
          "2023-04-17T00:00:00",
          "2023-04-17T00:00:00",
          "2023-04-18T00:00:00",
          "2023-04-18T00:00:00",
          "2023-04-18T00:00:00",
          "2023-04-19T00:00:00",
          "2023-04-19T00:00:00",
          "2023-04-20T00:00:00",
          "2023-04-20T00:00:00",
          "2023-04-21T00:00:00",
          "2023-04-22T00:00:00",
          "2023-04-22T00:00:00",
          "2023-04-23T00:00:00",
          "2023-04-24T00:00:00",
          "2023-04-24T00:00:00",
          "2023-04-24T00:00:00",
          "2023-04-25T00:00:00",
          "2023-04-25T00:00:00",
          "2023-04-26T00:00:00",
          "2023-04-26T00:00:00",
          "2023-04-27T00:00:00",
          "2023-04-28T00:00:00",
          "2023-04-28T00:00:00",
          "2023-04-29T00:00:00",
          "2023-04-29T00:00:00",
          "2023-04-30T00:00:00",
          "2023-04-30T00:00:00",
          "2023-05-01T00:00:00",
          "2023-05-01T00:00:00",
          "2023-05-01T00:00:00",
          "2023-05-02T00:00:00",
          "2023-05-03T00:00:00",
          "2023-05-03T00:00:00",
          "2023-05-04T00:00:00",
          "2023-05-05T00:00:00",
          "2023-05-05T00:00:00",
          "2023-05-05T00:00:00",
          "2023-05-06T00:00:00",
          "2023-05-06T00:00:00",
          "2023-05-07T00:00:00",
          "2023-05-08T00:00:00",
          "2023-05-08T00:00:00",
          "2023-05-08T00:00:00",
          "2023-05-09T00:00:00",
          "2023-05-09T00:00:00",
          "2023-05-10T00:00:00",
          "2023-05-10T00:00:00",
          "2023-05-11T00:00:00",
          "2023-05-11T00:00:00",
          "2023-05-12T00:00:00",
          "2023-05-13T00:00:00",
          "2023-05-13T00:00:00",
          "2023-05-13T00:00:00",
          "2023-05-13T00:00:00",
          "2023-05-14T00:00:00",
          "2023-05-14T00:00:00",
          "2023-05-14T00:00:00",
          "2023-05-14T00:00:00",
          "2023-05-15T00:00:00",
          "2023-05-15T00:00:00",
          "2023-05-15T00:00:00",
          "2023-05-15T00:00:00",
          "2023-05-16T00:00:00",
          "2023-05-16T00:00:00",
          "2023-05-16T00:00:00",
          "2023-05-17T00:00:00",
          "2023-05-17T00:00:00",
          "2023-05-17T00:00:00",
          "2023-05-18T00:00:00",
          "2023-05-18T00:00:00",
          "2023-05-18T00:00:00",
          "2023-05-18T00:00:00",
          "2023-05-18T00:00:00",
          "2023-05-19T00:00:00",
          "2023-05-19T00:00:00",
          "2023-05-20T00:00:00",
          "2023-05-20T00:00:00",
          "2023-05-20T00:00:00",
          "2023-05-20T00:00:00",
          "2023-05-21T00:00:00",
          "2023-05-21T00:00:00",
          "2023-05-21T00:00:00",
          "2023-05-22T00:00:00",
          "2023-05-22T00:00:00",
          "2023-05-22T00:00:00",
          "2023-05-23T00:00:00",
          "2023-05-23T00:00:00",
          "2023-05-23T00:00:00",
          "2023-05-24T00:00:00",
          "2023-05-24T00:00:00",
          "2023-05-25T00:00:00",
          "2023-05-25T00:00:00",
          "2023-05-26T00:00:00",
          "2023-05-27T00:00:00",
          "2023-05-27T00:00:00",
          "2023-05-28T00:00:00",
          "2023-05-28T00:00:00",
          "2023-05-29T00:00:00",
          "2023-05-29T00:00:00",
          "2023-05-30T00:00:00",
          "2023-05-30T00:00:00",
          "2023-05-31T00:00:00",
          "2023-05-31T00:00:00",
          "2023-06-01T00:00:00",
          "2023-06-01T00:00:00",
          "2023-06-01T00:00:00",
          "2023-06-02T00:00:00",
          "2023-06-03T00:00:00",
          "2023-06-03T00:00:00",
          "2023-06-03T00:00:00",
          "2023-06-03T00:00:00",
          "2023-06-03T00:00:00",
          "2023-06-03T00:00:00",
          "2023-06-04T00:00:00",
          "2023-06-04T00:00:00",
          "2023-06-05T00:00:00",
          "2023-06-05T00:00:00",
          "2023-06-06T00:00:00",
          "2023-06-07T00:00:00",
          "2023-06-08T00:00:00",
          "2023-06-08T00:00:00",
          "2023-06-09T00:00:00",
          "2023-06-09T00:00:00",
          "2023-06-09T00:00:00",
          "2023-06-10T00:00:00",
          "2023-06-10T00:00:00",
          "2023-06-11T00:00:00",
          "2023-06-11T00:00:00",
          "2023-06-12T00:00:00",
          "2023-06-12T00:00:00",
          "2023-06-12T00:00:00",
          "2023-06-12T00:00:00",
          "2023-06-13T00:00:00",
          "2023-06-14T00:00:00",
          "2023-06-14T00:00:00",
          "2023-06-15T00:00:00",
          "2023-06-16T00:00:00",
          "2023-06-16T00:00:00",
          "2023-06-17T00:00:00",
          "2023-06-17T00:00:00",
          "2023-06-17T00:00:00",
          "2023-06-18T00:00:00",
          "2023-06-18T00:00:00",
          "2023-06-19T00:00:00",
          "2023-06-19T00:00:00",
          "2023-06-20T00:00:00",
          "2023-06-20T00:00:00",
          "2023-06-21T00:00:00",
          "2023-06-22T00:00:00",
          "2023-06-23T00:00:00",
          "2023-06-23T00:00:00",
          "2023-06-24T00:00:00",
          "2023-06-24T00:00:00",
          "2023-06-24T00:00:00",
          "2023-06-25T00:00:00",
          "2023-06-25T00:00:00",
          "2023-06-26T00:00:00",
          "2023-06-27T00:00:00",
          "2023-06-27T00:00:00",
          "2023-06-28T00:00:00",
          "2023-06-28T00:00:00",
          "2023-06-29T00:00:00",
          "2023-06-30T00:00:00",
          "2023-07-01T00:00:00",
          "2023-07-01T00:00:00",
          "2023-07-02T00:00:00",
          "2023-07-02T00:00:00",
          "2023-07-03T00:00:00",
          "2023-07-03T00:00:00",
          "2023-07-04T00:00:00",
          "2023-07-04T00:00:00",
          "2023-07-05T00:00:00",
          "2023-07-06T00:00:00",
          "2023-07-06T00:00:00",
          "2023-07-07T00:00:00",
          "2023-07-07T00:00:00",
          "2023-07-08T00:00:00",
          "2023-07-08T00:00:00",
          "2023-07-08T00:00:00",
          "2023-07-09T00:00:00",
          "2023-07-09T00:00:00",
          "2023-07-10T00:00:00",
          "2023-07-10T00:00:00",
          "2023-07-10T00:00:00",
          "2023-07-11T00:00:00",
          "2023-07-11T00:00:00",
          "2023-07-12T00:00:00",
          "2023-07-12T00:00:00",
          "2023-07-12T00:00:00",
          "2023-07-13T00:00:00",
          "2023-07-13T00:00:00",
          "2023-07-14T00:00:00",
          "2023-07-15T00:00:00",
          "2023-07-15T00:00:00",
          "2023-07-15T00:00:00",
          "2023-07-15T00:00:00",
          "2023-07-16T00:00:00",
          "2023-07-16T00:00:00",
          "2023-07-16T00:00:00",
          "2023-07-17T00:00:00",
          "2023-07-17T00:00:00",
          "2023-07-18T00:00:00",
          "2023-07-18T00:00:00",
          "2023-07-19T00:00:00",
          "2023-07-20T00:00:00",
          "2023-07-20T00:00:00",
          "2023-07-21T00:00:00",
          "2023-07-21T00:00:00",
          "2023-07-21T00:00:00",
          "2023-07-21T00:00:00",
          "2023-07-22T00:00:00",
          "2023-07-22T00:00:00",
          "2023-07-22T00:00:00",
          "2023-07-22T00:00:00",
          "2023-07-23T00:00:00",
          "2023-07-23T00:00:00",
          "2023-07-23T00:00:00",
          "2023-07-23T00:00:00"
         ],
         "xaxis": "x",
         "y": [
          null,
          0.0266835141708461,
          0.659789769793864,
          0.925967350672075,
          1.60744316554281,
          0.22746576640798,
          null,
          0.246253650939271,
          0.275117726883298,
          0.658122262181416,
          0.583526368613447,
          0.961447665876427,
          null,
          0.639213942885285,
          null,
          null,
          null,
          null,
          null,
          null,
          null,
          0.628676583504996,
          0.138711390861291,
          0.607878735949126,
          null,
          0.712662425097244,
          null,
          null,
          0.805648552487037,
          0.55003546143913,
          0.528703291929284,
          0.142065186986373,
          null,
          null,
          0.153182944497609,
          0.495475907266242,
          0.160153070551684,
          null,
          0.148623160052641,
          0.715656759795275,
          0.614089704380601,
          0.580581166165981,
          0.51829710679075,
          0.46214411194374,
          null,
          0.59163661558257,
          0.794842587691983,
          null,
          null,
          null,
          0.905843156440034,
          null,
          null,
          null,
          0.629549099138819,
          0.7800755066,
          null,
          0.701876354055959,
          null,
          null,
          null,
          0.661796458389369,
          null,
          null,
          null,
          null,
          0.645166774901831,
          null,
          null,
          null,
          null,
          null,
          null,
          null,
          null,
          null,
          null,
          null,
          null,
          0.673202654914822,
          null,
          null,
          null,
          null,
          0.77306377430538,
          0.13481249019446,
          0.77994536387284,
          0.610865049507979,
          null,
          null,
          0.644105631416696,
          null,
          null,
          0.675298614666543,
          null,
          0.0892518822866667,
          0.745079784015157,
          0.77994536387284,
          0.119002509715556,
          null,
          null,
          null,
          null,
          null,
          null,
          null,
          null,
          null,
          null,
          null,
          null,
          null,
          0.180972301996484,
          null,
          null,
          null,
          null,
          null,
          null,
          null,
          0.155675989822549,
          null,
          0.557748900112697,
          null,
          null,
          0.698040206457306,
          null,
          0.166602873291576,
          null,
          0.722836532048818,
          0.669198401891686,
          0.161305943502381,
          0.740742632607135,
          0.544722797925023,
          0.56696217845483,
          0.585786429632083,
          0.60563556898803,
          0.167777321947953,
          null,
          null,
          null,
          0.167496892290646,
          0.724221549049342,
          0.592485532017518,
          0.161289616972272,
          0.602188669441232,
          0.592099373693233,
          0.637613463462106,
          null,
          null,
          null,
          null,
          null,
          null,
          0.620088460392867,
          0.730759692031176,
          null,
          null,
          0.668618438956627,
          0.720909317672512,
          0.660098766073263,
          0.310419964345479,
          null,
          null,
          0.759670499876342,
          0.598010021440366,
          null,
          null,
          0.527077824125547,
          null,
          null,
          null,
          null,
          null,
          0.166603513601778,
          null,
          0.668200048729926,
          null,
          0.654279514885178,
          null,
          null,
          0.611624161560637,
          1.03146803843765,
          0.640424805655615,
          null,
          null,
          null,
          0.665924608098362,
          0.608634698856535,
          0.583029973497643,
          null,
          0.670265049348269,
          null,
          null,
          null,
          null,
          null,
          0.70227836198555,
          null,
          null,
          null,
          null,
          null,
          null,
          null,
          null,
          null,
          null,
          null,
          null,
          0.621891565293545,
          0.600959469345819,
          0.143718673974478,
          0.590541447743252,
          0.611305265803018,
          0.646891604178089,
          0.720328429911956,
          0.17028450417857,
          0.614461213738137,
          0.557390767207512,
          0.591710397086052,
          0.668601392853054,
          0.643862061395979,
          0.611405195298223,
          0.733963236015249,
          null,
          null,
          null,
          null,
          null,
          null,
          null,
          0.162951447263929,
          null,
          0.16321173319932,
          null,
          0.681689800353544,
          0.565619941820175,
          null,
          null,
          null,
          0.167529968734296,
          0.373050806325255,
          null,
          null,
          null,
          null,
          null,
          null,
          0.645339249316622,
          0.623755522824917,
          0.166580036358675,
          null,
          null,
          null,
          null,
          0.826900258512814,
          0.55,
          null,
          null,
          null,
          null,
          null,
          null,
          0.56693700072804,
          0.713617727361549,
          0.152909303167435,
          0.154168086962673,
          null,
          null,
          0.654082491757054,
          0.75186677857185,
          0.560842072472012,
          null,
          0.588355818178179,
          0.65016856752277,
          null,
          null,
          null,
          null,
          0.747567702594074,
          null,
          null,
          null,
          null,
          null,
          null,
          0.636459815235451,
          0.712420793254908,
          0.652841458441613,
          0.648306765293729,
          null,
          null,
          null,
          null,
          0.727031220689108,
          null,
          null,
          null,
          null,
          null,
          null,
          0.839941161093827,
          null,
          0.655232624299491,
          null,
          0.598744485938486,
          null,
          null,
          null,
          null,
          null,
          0.651499102713645,
          null,
          null,
          null,
          0.700856480691147,
          null,
          null,
          0.529358083039754,
          0.54525843474014,
          null,
          null,
          null,
          null,
          0.173343280517869,
          0.632224349245028,
          null,
          0.633816096743337
         ],
         "yaxis": "y2"
        }
       ],
       "layout": {
        "template": {
         "data": {
          "bar": [
           {
            "error_x": {
             "color": "#2a3f5f"
            },
            "error_y": {
             "color": "#2a3f5f"
            },
            "marker": {
             "line": {
              "color": "#E5ECF6",
              "width": 0.5
             },
             "pattern": {
              "fillmode": "overlay",
              "size": 10,
              "solidity": 0.2
             }
            },
            "type": "bar"
           }
          ],
          "barpolar": [
           {
            "marker": {
             "line": {
              "color": "#E5ECF6",
              "width": 0.5
             },
             "pattern": {
              "fillmode": "overlay",
              "size": 10,
              "solidity": 0.2
             }
            },
            "type": "barpolar"
           }
          ],
          "carpet": [
           {
            "aaxis": {
             "endlinecolor": "#2a3f5f",
             "gridcolor": "white",
             "linecolor": "white",
             "minorgridcolor": "white",
             "startlinecolor": "#2a3f5f"
            },
            "baxis": {
             "endlinecolor": "#2a3f5f",
             "gridcolor": "white",
             "linecolor": "white",
             "minorgridcolor": "white",
             "startlinecolor": "#2a3f5f"
            },
            "type": "carpet"
           }
          ],
          "choropleth": [
           {
            "colorbar": {
             "outlinewidth": 0,
             "ticks": ""
            },
            "type": "choropleth"
           }
          ],
          "contour": [
           {
            "colorbar": {
             "outlinewidth": 0,
             "ticks": ""
            },
            "colorscale": [
             [
              0,
              "#0d0887"
             ],
             [
              0.1111111111111111,
              "#46039f"
             ],
             [
              0.2222222222222222,
              "#7201a8"
             ],
             [
              0.3333333333333333,
              "#9c179e"
             ],
             [
              0.4444444444444444,
              "#bd3786"
             ],
             [
              0.5555555555555556,
              "#d8576b"
             ],
             [
              0.6666666666666666,
              "#ed7953"
             ],
             [
              0.7777777777777778,
              "#fb9f3a"
             ],
             [
              0.8888888888888888,
              "#fdca26"
             ],
             [
              1,
              "#f0f921"
             ]
            ],
            "type": "contour"
           }
          ],
          "contourcarpet": [
           {
            "colorbar": {
             "outlinewidth": 0,
             "ticks": ""
            },
            "type": "contourcarpet"
           }
          ],
          "heatmap": [
           {
            "colorbar": {
             "outlinewidth": 0,
             "ticks": ""
            },
            "colorscale": [
             [
              0,
              "#0d0887"
             ],
             [
              0.1111111111111111,
              "#46039f"
             ],
             [
              0.2222222222222222,
              "#7201a8"
             ],
             [
              0.3333333333333333,
              "#9c179e"
             ],
             [
              0.4444444444444444,
              "#bd3786"
             ],
             [
              0.5555555555555556,
              "#d8576b"
             ],
             [
              0.6666666666666666,
              "#ed7953"
             ],
             [
              0.7777777777777778,
              "#fb9f3a"
             ],
             [
              0.8888888888888888,
              "#fdca26"
             ],
             [
              1,
              "#f0f921"
             ]
            ],
            "type": "heatmap"
           }
          ],
          "heatmapgl": [
           {
            "colorbar": {
             "outlinewidth": 0,
             "ticks": ""
            },
            "colorscale": [
             [
              0,
              "#0d0887"
             ],
             [
              0.1111111111111111,
              "#46039f"
             ],
             [
              0.2222222222222222,
              "#7201a8"
             ],
             [
              0.3333333333333333,
              "#9c179e"
             ],
             [
              0.4444444444444444,
              "#bd3786"
             ],
             [
              0.5555555555555556,
              "#d8576b"
             ],
             [
              0.6666666666666666,
              "#ed7953"
             ],
             [
              0.7777777777777778,
              "#fb9f3a"
             ],
             [
              0.8888888888888888,
              "#fdca26"
             ],
             [
              1,
              "#f0f921"
             ]
            ],
            "type": "heatmapgl"
           }
          ],
          "histogram": [
           {
            "marker": {
             "pattern": {
              "fillmode": "overlay",
              "size": 10,
              "solidity": 0.2
             }
            },
            "type": "histogram"
           }
          ],
          "histogram2d": [
           {
            "colorbar": {
             "outlinewidth": 0,
             "ticks": ""
            },
            "colorscale": [
             [
              0,
              "#0d0887"
             ],
             [
              0.1111111111111111,
              "#46039f"
             ],
             [
              0.2222222222222222,
              "#7201a8"
             ],
             [
              0.3333333333333333,
              "#9c179e"
             ],
             [
              0.4444444444444444,
              "#bd3786"
             ],
             [
              0.5555555555555556,
              "#d8576b"
             ],
             [
              0.6666666666666666,
              "#ed7953"
             ],
             [
              0.7777777777777778,
              "#fb9f3a"
             ],
             [
              0.8888888888888888,
              "#fdca26"
             ],
             [
              1,
              "#f0f921"
             ]
            ],
            "type": "histogram2d"
           }
          ],
          "histogram2dcontour": [
           {
            "colorbar": {
             "outlinewidth": 0,
             "ticks": ""
            },
            "colorscale": [
             [
              0,
              "#0d0887"
             ],
             [
              0.1111111111111111,
              "#46039f"
             ],
             [
              0.2222222222222222,
              "#7201a8"
             ],
             [
              0.3333333333333333,
              "#9c179e"
             ],
             [
              0.4444444444444444,
              "#bd3786"
             ],
             [
              0.5555555555555556,
              "#d8576b"
             ],
             [
              0.6666666666666666,
              "#ed7953"
             ],
             [
              0.7777777777777778,
              "#fb9f3a"
             ],
             [
              0.8888888888888888,
              "#fdca26"
             ],
             [
              1,
              "#f0f921"
             ]
            ],
            "type": "histogram2dcontour"
           }
          ],
          "mesh3d": [
           {
            "colorbar": {
             "outlinewidth": 0,
             "ticks": ""
            },
            "type": "mesh3d"
           }
          ],
          "parcoords": [
           {
            "line": {
             "colorbar": {
              "outlinewidth": 0,
              "ticks": ""
             }
            },
            "type": "parcoords"
           }
          ],
          "pie": [
           {
            "automargin": true,
            "type": "pie"
           }
          ],
          "scatter": [
           {
            "fillpattern": {
             "fillmode": "overlay",
             "size": 10,
             "solidity": 0.2
            },
            "type": "scatter"
           }
          ],
          "scatter3d": [
           {
            "line": {
             "colorbar": {
              "outlinewidth": 0,
              "ticks": ""
             }
            },
            "marker": {
             "colorbar": {
              "outlinewidth": 0,
              "ticks": ""
             }
            },
            "type": "scatter3d"
           }
          ],
          "scattercarpet": [
           {
            "marker": {
             "colorbar": {
              "outlinewidth": 0,
              "ticks": ""
             }
            },
            "type": "scattercarpet"
           }
          ],
          "scattergeo": [
           {
            "marker": {
             "colorbar": {
              "outlinewidth": 0,
              "ticks": ""
             }
            },
            "type": "scattergeo"
           }
          ],
          "scattergl": [
           {
            "marker": {
             "colorbar": {
              "outlinewidth": 0,
              "ticks": ""
             }
            },
            "type": "scattergl"
           }
          ],
          "scattermapbox": [
           {
            "marker": {
             "colorbar": {
              "outlinewidth": 0,
              "ticks": ""
             }
            },
            "type": "scattermapbox"
           }
          ],
          "scatterpolar": [
           {
            "marker": {
             "colorbar": {
              "outlinewidth": 0,
              "ticks": ""
             }
            },
            "type": "scatterpolar"
           }
          ],
          "scatterpolargl": [
           {
            "marker": {
             "colorbar": {
              "outlinewidth": 0,
              "ticks": ""
             }
            },
            "type": "scatterpolargl"
           }
          ],
          "scatterternary": [
           {
            "marker": {
             "colorbar": {
              "outlinewidth": 0,
              "ticks": ""
             }
            },
            "type": "scatterternary"
           }
          ],
          "surface": [
           {
            "colorbar": {
             "outlinewidth": 0,
             "ticks": ""
            },
            "colorscale": [
             [
              0,
              "#0d0887"
             ],
             [
              0.1111111111111111,
              "#46039f"
             ],
             [
              0.2222222222222222,
              "#7201a8"
             ],
             [
              0.3333333333333333,
              "#9c179e"
             ],
             [
              0.4444444444444444,
              "#bd3786"
             ],
             [
              0.5555555555555556,
              "#d8576b"
             ],
             [
              0.6666666666666666,
              "#ed7953"
             ],
             [
              0.7777777777777778,
              "#fb9f3a"
             ],
             [
              0.8888888888888888,
              "#fdca26"
             ],
             [
              1,
              "#f0f921"
             ]
            ],
            "type": "surface"
           }
          ],
          "table": [
           {
            "cells": {
             "fill": {
              "color": "#EBF0F8"
             },
             "line": {
              "color": "white"
             }
            },
            "header": {
             "fill": {
              "color": "#C8D4E3"
             },
             "line": {
              "color": "white"
             }
            },
            "type": "table"
           }
          ]
         },
         "layout": {
          "annotationdefaults": {
           "arrowcolor": "#2a3f5f",
           "arrowhead": 0,
           "arrowwidth": 1
          },
          "autotypenumbers": "strict",
          "coloraxis": {
           "colorbar": {
            "outlinewidth": 0,
            "ticks": ""
           }
          },
          "colorscale": {
           "diverging": [
            [
             0,
             "#8e0152"
            ],
            [
             0.1,
             "#c51b7d"
            ],
            [
             0.2,
             "#de77ae"
            ],
            [
             0.3,
             "#f1b6da"
            ],
            [
             0.4,
             "#fde0ef"
            ],
            [
             0.5,
             "#f7f7f7"
            ],
            [
             0.6,
             "#e6f5d0"
            ],
            [
             0.7,
             "#b8e186"
            ],
            [
             0.8,
             "#7fbc41"
            ],
            [
             0.9,
             "#4d9221"
            ],
            [
             1,
             "#276419"
            ]
           ],
           "sequential": [
            [
             0,
             "#0d0887"
            ],
            [
             0.1111111111111111,
             "#46039f"
            ],
            [
             0.2222222222222222,
             "#7201a8"
            ],
            [
             0.3333333333333333,
             "#9c179e"
            ],
            [
             0.4444444444444444,
             "#bd3786"
            ],
            [
             0.5555555555555556,
             "#d8576b"
            ],
            [
             0.6666666666666666,
             "#ed7953"
            ],
            [
             0.7777777777777778,
             "#fb9f3a"
            ],
            [
             0.8888888888888888,
             "#fdca26"
            ],
            [
             1,
             "#f0f921"
            ]
           ],
           "sequentialminus": [
            [
             0,
             "#0d0887"
            ],
            [
             0.1111111111111111,
             "#46039f"
            ],
            [
             0.2222222222222222,
             "#7201a8"
            ],
            [
             0.3333333333333333,
             "#9c179e"
            ],
            [
             0.4444444444444444,
             "#bd3786"
            ],
            [
             0.5555555555555556,
             "#d8576b"
            ],
            [
             0.6666666666666666,
             "#ed7953"
            ],
            [
             0.7777777777777778,
             "#fb9f3a"
            ],
            [
             0.8888888888888888,
             "#fdca26"
            ],
            [
             1,
             "#f0f921"
            ]
           ]
          },
          "colorway": [
           "#636efa",
           "#EF553B",
           "#00cc96",
           "#ab63fa",
           "#FFA15A",
           "#19d3f3",
           "#FF6692",
           "#B6E880",
           "#FF97FF",
           "#FECB52"
          ],
          "font": {
           "color": "#2a3f5f"
          },
          "geo": {
           "bgcolor": "white",
           "lakecolor": "white",
           "landcolor": "#E5ECF6",
           "showlakes": true,
           "showland": true,
           "subunitcolor": "white"
          },
          "hoverlabel": {
           "align": "left"
          },
          "hovermode": "closest",
          "mapbox": {
           "style": "light"
          },
          "paper_bgcolor": "white",
          "plot_bgcolor": "#E5ECF6",
          "polar": {
           "angularaxis": {
            "gridcolor": "white",
            "linecolor": "white",
            "ticks": ""
           },
           "bgcolor": "#E5ECF6",
           "radialaxis": {
            "gridcolor": "white",
            "linecolor": "white",
            "ticks": ""
           }
          },
          "scene": {
           "xaxis": {
            "backgroundcolor": "#E5ECF6",
            "gridcolor": "white",
            "gridwidth": 2,
            "linecolor": "white",
            "showbackground": true,
            "ticks": "",
            "zerolinecolor": "white"
           },
           "yaxis": {
            "backgroundcolor": "#E5ECF6",
            "gridcolor": "white",
            "gridwidth": 2,
            "linecolor": "white",
            "showbackground": true,
            "ticks": "",
            "zerolinecolor": "white"
           },
           "zaxis": {
            "backgroundcolor": "#E5ECF6",
            "gridcolor": "white",
            "gridwidth": 2,
            "linecolor": "white",
            "showbackground": true,
            "ticks": "",
            "zerolinecolor": "white"
           }
          },
          "shapedefaults": {
           "line": {
            "color": "#2a3f5f"
           }
          },
          "ternary": {
           "aaxis": {
            "gridcolor": "white",
            "linecolor": "white",
            "ticks": ""
           },
           "baxis": {
            "gridcolor": "white",
            "linecolor": "white",
            "ticks": ""
           },
           "bgcolor": "#E5ECF6",
           "caxis": {
            "gridcolor": "white",
            "linecolor": "white",
            "ticks": ""
           }
          },
          "title": {
           "x": 0.05
          },
          "xaxis": {
           "automargin": true,
           "gridcolor": "white",
           "linecolor": "white",
           "ticks": "",
           "title": {
            "standoff": 15
           },
           "zerolinecolor": "white",
           "zerolinewidth": 2
          },
          "yaxis": {
           "automargin": true,
           "gridcolor": "white",
           "linecolor": "white",
           "ticks": "",
           "title": {
            "standoff": 15
           },
           "zerolinecolor": "white",
           "zerolinewidth": 2
          }
         }
        },
        "title": {
         "text": "TSS and IF over Time"
        },
        "xaxis": {
         "anchor": "y",
         "domain": [
          0,
          0.94
         ],
         "title": {
          "text": "Date"
         }
        },
        "yaxis": {
         "anchor": "x",
         "domain": [
          0,
          1
         ],
         "title": {
          "text": "TSS"
         }
        },
        "yaxis2": {
         "anchor": "x",
         "overlaying": "y",
         "side": "right",
         "title": {
          "text": "IF"
         }
        }
       }
      }
     },
     "metadata": {},
     "output_type": "display_data"
    },
    {
     "name": "stdout",
     "output_type": "stream",
     "text": [
      "\n",
      "Analysis complete. Please check the generated plots and statistics.\n"
     ]
    }
   ],
   "source": [
    "import pandas as pd\n",
    "import numpy as np\n",
    "from scipy import stats\n",
    "from statsmodels.formula.api import ols\n",
    "import plotly.express as px\n",
    "import plotly.graph_objects as go\n",
    "from plotly.subplots import make_subplots\n",
    "from datetime import datetime\n",
    "\n",
    "# Custom color mapping\n",
    "color_mapping = {\n",
    "    'Zone 1 (50%-60%)': '#e63946',\n",
    "    'Zone 2 (60%-70%)': '#a8dadc',\n",
    "    'Zone 3 (70%-80%)': '#90EE90',\n",
    "    'Zone 4 (80%-90%)': '#457b9d',\n",
    "    'Zone 5 (90%-100%)': '#1d3557'\n",
    "}\n",
    "\n",
    "# Create a color list from the mapping\n",
    "color_list = list(color_mapping.values())\n",
    "\n",
    "# Load the data\n",
    "file_path = '/Users/ngirmay/Documents/GitHub/ironman_retrospective/IronMan_2023/training_peaks/workouts.csv'\n",
    "df = pd.read_csv(file_path, parse_dates=['WorkoutDay'])\n",
    "\n",
    "# Function to convert duration string to hours\n",
    "def duration_to_hours(duration_str):\n",
    "    if pd.isna(duration_str):\n",
    "        return 0\n",
    "    try:\n",
    "        return float(duration_str)\n",
    "    except ValueError:\n",
    "        return float(duration_str) * 24\n",
    "\n",
    "# Convert PlannedDuration to hours\n",
    "df['Duration'] = df['PlannedDuration'].apply(duration_to_hours)\n",
    "\n",
    "# Calculate training period\n",
    "training_start = df['WorkoutDay'].min()\n",
    "training_end = df['WorkoutDay'].max()\n",
    "training_period = (training_end - training_start).days\n",
    "\n",
    "# Calculate TSS and IF where available\n",
    "df['TSS'] = pd.to_numeric(df['TSS'], errors='coerce')\n",
    "df['IF'] = pd.to_numeric(df['IF'], errors='coerce')\n",
    "\n",
    "# Group workouts by type\n",
    "workout_types = df['WorkoutType'].value_counts()\n",
    "\n",
    "# Calculate total training volume\n",
    "total_volume = df['Duration'].sum()\n",
    "\n",
    "# Calculate average TSS and IF\n",
    "avg_tss = df['TSS'].mean()\n",
    "avg_if = df['IF'].mean()\n",
    "\n",
    "# Time series analysis\n",
    "df_ts = df.set_index('WorkoutDay')\n",
    "df_ts = df_ts.resample('D').sum()\n",
    "df_ts['CumulativeTSS'] = df_ts['TSS'].cumsum()\n",
    "\n",
    "# Print basic statistics\n",
    "print(f\"Training period: {training_period} days\")\n",
    "print(f\"Total training volume: {total_volume:.2f} hours\")\n",
    "print(f\"Average TSS: {avg_tss:.2f}\")\n",
    "print(f\"Average IF: {avg_if:.2f}\")\n",
    "print(\"\\nWorkout type distribution:\")\n",
    "print(workout_types)\n",
    "\n",
    "# Visualizations\n",
    "# Duration Distribution by Workout Type\n",
    "fig = px.box(df, x='WorkoutType', y='Duration', color='WorkoutType', \n",
    "             color_discrete_sequence=color_list,\n",
    "             title='Duration Distribution by Workout Type')\n",
    "fig.update_layout(xaxis_title='Workout Type', yaxis_title='Duration (hours)')\n",
    "fig.show()\n",
    "\n",
    "# TSS vs Duration by Workout Type\n",
    "fig = px.scatter(df, x='Duration', y='TSS', color='WorkoutType', \n",
    "                 color_discrete_sequence=color_list,\n",
    "                 title='TSS vs Duration by Workout Type')\n",
    "fig.update_layout(xaxis_title='Duration (hours)', yaxis_title='TSS')\n",
    "fig.show()\n",
    "\n",
    "# Cumulative TSS over Time\n",
    "fig = px.line(df_ts, x=df_ts.index, y='CumulativeTSS', \n",
    "              color_discrete_sequence=[color_mapping['Zone 3 (70%-80%)']],\n",
    "              title='Cumulative TSS over Time')\n",
    "fig.update_layout(xaxis_title='Date', yaxis_title='Cumulative TSS')\n",
    "fig.show()\n",
    "\n",
    "# Analyze progression of key metrics\n",
    "bike_data = df[df['WorkoutType'] == 'Bike']\n",
    "run_data = df[df['WorkoutType'] == 'Run']\n",
    "\n",
    "fig = go.Figure()\n",
    "fig.add_trace(go.Scatter(x=bike_data['WorkoutDay'], y=bike_data['IF'], mode='markers', name='Bike IF',\n",
    "                         marker=dict(color=color_mapping['Zone 2 (60%-70%)'])))\n",
    "fig.add_trace(go.Scatter(x=run_data['WorkoutDay'], y=run_data['IF'], mode='markers', name='Run IF',\n",
    "                         marker=dict(color=color_mapping['Zone 4 (80%-90%)'])))\n",
    "fig.update_layout(title='Intensity Factor (IF) Progression', xaxis_title='Date', yaxis_title='IF')\n",
    "fig.show()\n",
    "\n",
    "# Analyze tapering period\n",
    "taper_start = training_end - pd.Timedelta(days=14)\n",
    "taper_data = df[df['WorkoutDay'] >= taper_start]\n",
    "\n",
    "print(\"\\nTaper period analysis:\")\n",
    "print(taper_data['WorkoutType'].value_counts())\n",
    "print(f\"Average TSS during taper: {taper_data['TSS'].mean():.2f}\")\n",
    "print(f\"Average IF during taper: {taper_data['IF'].mean():.2f}\")\n",
    "\n",
    "# Additional analysis: Weekly training load\n",
    "df['Week'] = df['WorkoutDay'].dt.to_period('W').astype(str)\n",
    "weekly_load = df.groupby('Week')['TSS'].sum().reset_index()\n",
    "\n",
    "fig = px.line(weekly_load, x='Week', y='TSS', \n",
    "              color_discrete_sequence=[color_mapping['Zone 5 (90%-100%)']],\n",
    "              title='Weekly Training Load (TSS)')\n",
    "fig.update_layout(xaxis_title='Week', yaxis_title='TSS')\n",
    "fig.show()\n",
    "\n",
    "# Workout Type Distribution\n",
    "fig = px.pie(workout_types, values=workout_types.values, names=workout_types.index, \n",
    "             color_discrete_sequence=color_list,\n",
    "             title='Workout Type Distribution')\n",
    "fig.show()\n",
    "\n",
    "# TSS and IF over time\n",
    "fig = make_subplots(specs=[[{\"secondary_y\": True}]])\n",
    "fig.add_trace(go.Scatter(x=df['WorkoutDay'], y=df['TSS'], mode='markers', name='TSS',\n",
    "                         marker=dict(color=color_mapping['Zone 1 (50%-60%)'])), secondary_y=False)\n",
    "fig.add_trace(go.Scatter(x=df['WorkoutDay'], y=df['IF'], mode='markers', name='IF',\n",
    "                         marker=dict(color=color_mapping['Zone 5 (90%-100%)'])), secondary_y=True)\n",
    "fig.update_layout(title='TSS and IF over Time', xaxis_title='Date')\n",
    "fig.update_yaxes(title_text=\"TSS\", secondary_y=False)\n",
    "fig.update_yaxes(title_text=\"IF\", secondary_y=True)\n",
    "fig.show()\n",
    "\n",
    "print(\"\\nAnalysis complete. Please check the generated plots and statistics.\")"
   ]
  }
 ],
 "metadata": {
  "kernelspec": {
   "display_name": "Python 3.11.6 64-bit",
   "language": "python",
   "name": "python3"
  },
  "language_info": {
   "codemirror_mode": {
    "name": "ipython",
    "version": 3
   },
   "file_extension": ".py",
   "mimetype": "text/x-python",
   "name": "python",
   "nbconvert_exporter": "python",
   "pygments_lexer": "ipython3",
   "version": "3.11.6"
  },
  "orig_nbformat": 4,
  "vscode": {
   "interpreter": {
    "hash": "1a1af0ee75eeea9e2e1ee996c87e7a2b11a0bebd85af04bb136d915cefc0abce"
   }
  }
 },
 "nbformat": 4,
 "nbformat_minor": 2
}
