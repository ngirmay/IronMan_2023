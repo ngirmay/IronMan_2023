{
 "cells": [
  {
   "cell_type": "markdown",
   "metadata": {},
   "source": [
    "The 2023 Ironman was the 2nd triatholon I've done in my life, the first being a sprint event in rural maryland that I had not trained for (highlighted with a 400m pool swim with >50 contestants). With that in mind I had to create a training schedule. "
   ]
  },
  {
   "cell_type": "code",
   "execution_count": 28,
   "metadata": {},
   "outputs": [
    {
     "name": "stdout",
     "output_type": "stream",
     "text": [
      "Index(['type', 'sourceName', 'sourceVersion', 'productType', 'device',\n",
      "       'startDate', 'endDate', 'unit', 'value'],\n",
      "      dtype='object')\n"
     ]
    }
   ],
   "source": [
    "import pandas as pd\n",
    "import matplotlib.pyplot as plt\n",
    "\n",
    "# Base path where your data is located\n",
    "base_path = '/Users/ngirmay/Documents/GitHub/ironman_retrospective/apple_health/health_data_exported/'\n",
    "\n",
    "# Specific file for body fat percentage data\n",
    "body_fat_file = 'HKQuantityTypeIdentifierBodyFatPercentage_2024-04-99_18-30-56_SimpleHealthExportCSV.csv'\n",
    "\n",
    "# Full path to the body fat percentage file\n",
    "body_fat_file_path = base_path + body_fat_file\n",
    "\n",
    "df_body_fat = pd.read_csv(body_fat_file_path, sep=',', skiprows=1)  # Skipping the first row (sep=)\n",
    "\n",
    "# Print the columns to check if it’s loaded correctly\n",
    "print(df_body_fat.columns)\n",
    "\n"
   ]
  },
  {
   "cell_type": "code",
   "execution_count": 29,
   "metadata": {},
   "outputs": [
    {
     "data": {
      "application/vnd.plotly.v1+json": {
       "config": {
        "plotlyServerURL": "https://plot.ly"
       },
       "data": [
        {
         "hovertemplate": "Date=%{x}<br>Body Fat Percentage (%)=%{y}<extra></extra>",
         "legendgroup": "",
         "line": {
          "color": "#E63946",
          "dash": "solid",
          "width": 3
         },
         "marker": {
          "symbol": "circle"
         },
         "mode": "lines",
         "name": "",
         "orientation": "v",
         "showlegend": false,
         "type": "scatter",
         "x": [
          "2022-08-17T01:06:10+00:00",
          "2022-08-29T22:32:46+00:00",
          "2022-09-16T02:01:59+00:00",
          "2022-09-16T22:15:16+00:00",
          "2022-09-21T20:25:38+00:00",
          "2022-09-21T20:35:06+00:00",
          "2022-09-21T20:35:35+00:00",
          "2022-09-23T15:03:23+00:00",
          "2022-09-23T15:03:41+00:00",
          "2022-09-23T15:03:41+00:00",
          "2022-09-23T15:03:41+00:00",
          "2022-09-23T15:03:41+00:00",
          "2022-09-23T15:03:41+00:00",
          "2022-09-23T15:03:41+00:00",
          "2022-09-23T15:03:41+00:00",
          "2022-09-23T15:10:43+00:00",
          "2022-11-24T15:28:14+00:00",
          "2022-12-04T12:14:54+00:00",
          "2022-12-04T12:15:46+00:00",
          "2022-12-04T12:16:12+00:00",
          "2022-12-04T12:16:58+00:00",
          "2022-12-04T12:16:58+00:00",
          "2022-12-04T12:16:58+00:00",
          "2022-12-04T12:16:58+00:00",
          "2022-12-04T12:17:25+00:00",
          "2022-12-04T12:17:34+00:00",
          "2022-12-06T11:12:58+00:00",
          "2022-12-08T12:14:50+00:00",
          "2022-12-16T11:10:23+00:00",
          "2022-12-17T02:47:12+00:00",
          "2022-12-17T02:47:12+00:00",
          "2022-12-17T02:47:12+00:00",
          "2022-12-17T02:47:12+00:00",
          "2022-12-18T11:45:17+00:00",
          "2022-12-24T02:58:35+00:00",
          "2022-12-28T03:32:00+00:00",
          "2023-01-10T02:50:26+00:00",
          "2023-02-16T18:49:42+00:00",
          "2023-02-22T15:26:08+00:00",
          "2023-02-22T15:26:08+00:00",
          "2023-02-22T15:26:08+00:00",
          "2023-02-22T15:26:08+00:00",
          "2023-02-22T15:26:08+00:00",
          "2023-03-09T13:21:58+00:00",
          "2023-04-03T18:59:11+00:00",
          "2023-04-07T17:53:34+00:00",
          "2023-04-08T23:38:54+00:00",
          "2023-04-09T10:25:38+00:00",
          "2023-04-09T10:25:38+00:00",
          "2023-04-15T22:15:13+00:00",
          "2023-06-18T13:57:54+00:00",
          "2023-08-09T15:34:14+00:00",
          "2023-08-14T14:33:30+00:00",
          "2023-08-26T17:21:49+00:00",
          "2023-09-06T01:10:26+00:00",
          "2023-09-06T01:10:43+00:00",
          "2023-09-08T13:05:23+00:00",
          "2023-09-21T21:52:23+00:00",
          "2023-10-11T16:49:42+00:00",
          "2023-10-16T02:38:59+00:00",
          "2023-10-21T18:57:53+00:00",
          "2023-12-07T14:42:56+00:00",
          "2023-12-12T14:07:40+00:00",
          "2024-01-07T22:26:38+00:00",
          "2024-02-13T18:19:31+00:00",
          "2024-03-11T16:37:16+00:00",
          "2024-03-14T19:32:20+00:00",
          "2024-03-14T19:37:58+00:00",
          "2024-03-17T01:38:33+00:00",
          "2024-03-18T12:30:28+00:00",
          "2024-03-25T18:39:03+00:00",
          "2024-03-25T18:39:11+00:00"
         ],
         "xaxis": "x",
         "y": [
          13.329999923706051,
          13.14000034332275,
          13.64999961853027,
          13.340000152587889,
          13.590000152587889,
          13.590000152587889,
          13.590000152587889,
          13.73999977111816,
          13.73999977111816,
          13.73999977111816,
          13.73999977111816,
          13.73999977111816,
          13.73999977111816,
          13.73999977111816,
          13.73999977111816,
          13.69999980926513,
          12.77999973297119,
          12.68000030517578,
          12.68000030517578,
          12.68000030517578,
          12.77999973297119,
          12.77999973297119,
          12.77999973297119,
          12.77999973297119,
          12.77999973297119,
          12.68000030517578,
          12.72999954223632,
          12.72999954223632,
          12.689999580383299,
          13.09000015258789,
          13.09000015258789,
          13.09000015258789,
          13.09000015258789,
          12.72999954223632,
          12.65999984741211,
          12.609999656677239,
          12.609999656677239,
          12.30000019073486,
          12.3100004196167,
          12.3100004196167,
          12.3100004196167,
          12.3100004196167,
          12.3100004196167,
          11.9099998474121,
          12,
          11.78999996185302,
          11.75,
          11.9700002670288,
          11.9700002670288,
          11.710000038146969,
          11.60999965667724,
          12.14999961853027,
          12.11999988555908,
          12.11999988555908,
          12.510000228881829,
          12.510000228881829,
          12.5600004196167,
          12.61999988555908,
          12.8100004196167,
          12.96000003814697,
          13.319999694824219,
          13.69999980926513,
          13.39999961853027,
          14.30000019073486,
          13.10000038146972,
          12.800000190734858,
          12.10000038146972,
          13.10000038146972,
          13.30000019073486,
          13.30000019073486,
          13,
          12.949999809265131
         ],
         "yaxis": "y"
        }
       ],
       "layout": {
        "font": {
         "color": "#457B9D"
        },
        "legend": {
         "tracegroupgap": 0
        },
        "paper_bgcolor": "#F1FAEE",
        "plot_bgcolor": "#F1FAEE",
        "showlegend": false,
        "template": {
         "data": {
          "bar": [
           {
            "error_x": {
             "color": "#2a3f5f"
            },
            "error_y": {
             "color": "#2a3f5f"
            },
            "marker": {
             "line": {
              "color": "#E5ECF6",
              "width": 0.5
             },
             "pattern": {
              "fillmode": "overlay",
              "size": 10,
              "solidity": 0.2
             }
            },
            "type": "bar"
           }
          ],
          "barpolar": [
           {
            "marker": {
             "line": {
              "color": "#E5ECF6",
              "width": 0.5
             },
             "pattern": {
              "fillmode": "overlay",
              "size": 10,
              "solidity": 0.2
             }
            },
            "type": "barpolar"
           }
          ],
          "carpet": [
           {
            "aaxis": {
             "endlinecolor": "#2a3f5f",
             "gridcolor": "white",
             "linecolor": "white",
             "minorgridcolor": "white",
             "startlinecolor": "#2a3f5f"
            },
            "baxis": {
             "endlinecolor": "#2a3f5f",
             "gridcolor": "white",
             "linecolor": "white",
             "minorgridcolor": "white",
             "startlinecolor": "#2a3f5f"
            },
            "type": "carpet"
           }
          ],
          "choropleth": [
           {
            "colorbar": {
             "outlinewidth": 0,
             "ticks": ""
            },
            "type": "choropleth"
           }
          ],
          "contour": [
           {
            "colorbar": {
             "outlinewidth": 0,
             "ticks": ""
            },
            "colorscale": [
             [
              0,
              "#0d0887"
             ],
             [
              0.1111111111111111,
              "#46039f"
             ],
             [
              0.2222222222222222,
              "#7201a8"
             ],
             [
              0.3333333333333333,
              "#9c179e"
             ],
             [
              0.4444444444444444,
              "#bd3786"
             ],
             [
              0.5555555555555556,
              "#d8576b"
             ],
             [
              0.6666666666666666,
              "#ed7953"
             ],
             [
              0.7777777777777778,
              "#fb9f3a"
             ],
             [
              0.8888888888888888,
              "#fdca26"
             ],
             [
              1,
              "#f0f921"
             ]
            ],
            "type": "contour"
           }
          ],
          "contourcarpet": [
           {
            "colorbar": {
             "outlinewidth": 0,
             "ticks": ""
            },
            "type": "contourcarpet"
           }
          ],
          "heatmap": [
           {
            "colorbar": {
             "outlinewidth": 0,
             "ticks": ""
            },
            "colorscale": [
             [
              0,
              "#0d0887"
             ],
             [
              0.1111111111111111,
              "#46039f"
             ],
             [
              0.2222222222222222,
              "#7201a8"
             ],
             [
              0.3333333333333333,
              "#9c179e"
             ],
             [
              0.4444444444444444,
              "#bd3786"
             ],
             [
              0.5555555555555556,
              "#d8576b"
             ],
             [
              0.6666666666666666,
              "#ed7953"
             ],
             [
              0.7777777777777778,
              "#fb9f3a"
             ],
             [
              0.8888888888888888,
              "#fdca26"
             ],
             [
              1,
              "#f0f921"
             ]
            ],
            "type": "heatmap"
           }
          ],
          "heatmapgl": [
           {
            "colorbar": {
             "outlinewidth": 0,
             "ticks": ""
            },
            "colorscale": [
             [
              0,
              "#0d0887"
             ],
             [
              0.1111111111111111,
              "#46039f"
             ],
             [
              0.2222222222222222,
              "#7201a8"
             ],
             [
              0.3333333333333333,
              "#9c179e"
             ],
             [
              0.4444444444444444,
              "#bd3786"
             ],
             [
              0.5555555555555556,
              "#d8576b"
             ],
             [
              0.6666666666666666,
              "#ed7953"
             ],
             [
              0.7777777777777778,
              "#fb9f3a"
             ],
             [
              0.8888888888888888,
              "#fdca26"
             ],
             [
              1,
              "#f0f921"
             ]
            ],
            "type": "heatmapgl"
           }
          ],
          "histogram": [
           {
            "marker": {
             "pattern": {
              "fillmode": "overlay",
              "size": 10,
              "solidity": 0.2
             }
            },
            "type": "histogram"
           }
          ],
          "histogram2d": [
           {
            "colorbar": {
             "outlinewidth": 0,
             "ticks": ""
            },
            "colorscale": [
             [
              0,
              "#0d0887"
             ],
             [
              0.1111111111111111,
              "#46039f"
             ],
             [
              0.2222222222222222,
              "#7201a8"
             ],
             [
              0.3333333333333333,
              "#9c179e"
             ],
             [
              0.4444444444444444,
              "#bd3786"
             ],
             [
              0.5555555555555556,
              "#d8576b"
             ],
             [
              0.6666666666666666,
              "#ed7953"
             ],
             [
              0.7777777777777778,
              "#fb9f3a"
             ],
             [
              0.8888888888888888,
              "#fdca26"
             ],
             [
              1,
              "#f0f921"
             ]
            ],
            "type": "histogram2d"
           }
          ],
          "histogram2dcontour": [
           {
            "colorbar": {
             "outlinewidth": 0,
             "ticks": ""
            },
            "colorscale": [
             [
              0,
              "#0d0887"
             ],
             [
              0.1111111111111111,
              "#46039f"
             ],
             [
              0.2222222222222222,
              "#7201a8"
             ],
             [
              0.3333333333333333,
              "#9c179e"
             ],
             [
              0.4444444444444444,
              "#bd3786"
             ],
             [
              0.5555555555555556,
              "#d8576b"
             ],
             [
              0.6666666666666666,
              "#ed7953"
             ],
             [
              0.7777777777777778,
              "#fb9f3a"
             ],
             [
              0.8888888888888888,
              "#fdca26"
             ],
             [
              1,
              "#f0f921"
             ]
            ],
            "type": "histogram2dcontour"
           }
          ],
          "mesh3d": [
           {
            "colorbar": {
             "outlinewidth": 0,
             "ticks": ""
            },
            "type": "mesh3d"
           }
          ],
          "parcoords": [
           {
            "line": {
             "colorbar": {
              "outlinewidth": 0,
              "ticks": ""
             }
            },
            "type": "parcoords"
           }
          ],
          "pie": [
           {
            "automargin": true,
            "type": "pie"
           }
          ],
          "scatter": [
           {
            "fillpattern": {
             "fillmode": "overlay",
             "size": 10,
             "solidity": 0.2
            },
            "type": "scatter"
           }
          ],
          "scatter3d": [
           {
            "line": {
             "colorbar": {
              "outlinewidth": 0,
              "ticks": ""
             }
            },
            "marker": {
             "colorbar": {
              "outlinewidth": 0,
              "ticks": ""
             }
            },
            "type": "scatter3d"
           }
          ],
          "scattercarpet": [
           {
            "marker": {
             "colorbar": {
              "outlinewidth": 0,
              "ticks": ""
             }
            },
            "type": "scattercarpet"
           }
          ],
          "scattergeo": [
           {
            "marker": {
             "colorbar": {
              "outlinewidth": 0,
              "ticks": ""
             }
            },
            "type": "scattergeo"
           }
          ],
          "scattergl": [
           {
            "marker": {
             "colorbar": {
              "outlinewidth": 0,
              "ticks": ""
             }
            },
            "type": "scattergl"
           }
          ],
          "scattermapbox": [
           {
            "marker": {
             "colorbar": {
              "outlinewidth": 0,
              "ticks": ""
             }
            },
            "type": "scattermapbox"
           }
          ],
          "scatterpolar": [
           {
            "marker": {
             "colorbar": {
              "outlinewidth": 0,
              "ticks": ""
             }
            },
            "type": "scatterpolar"
           }
          ],
          "scatterpolargl": [
           {
            "marker": {
             "colorbar": {
              "outlinewidth": 0,
              "ticks": ""
             }
            },
            "type": "scatterpolargl"
           }
          ],
          "scatterternary": [
           {
            "marker": {
             "colorbar": {
              "outlinewidth": 0,
              "ticks": ""
             }
            },
            "type": "scatterternary"
           }
          ],
          "surface": [
           {
            "colorbar": {
             "outlinewidth": 0,
             "ticks": ""
            },
            "colorscale": [
             [
              0,
              "#0d0887"
             ],
             [
              0.1111111111111111,
              "#46039f"
             ],
             [
              0.2222222222222222,
              "#7201a8"
             ],
             [
              0.3333333333333333,
              "#9c179e"
             ],
             [
              0.4444444444444444,
              "#bd3786"
             ],
             [
              0.5555555555555556,
              "#d8576b"
             ],
             [
              0.6666666666666666,
              "#ed7953"
             ],
             [
              0.7777777777777778,
              "#fb9f3a"
             ],
             [
              0.8888888888888888,
              "#fdca26"
             ],
             [
              1,
              "#f0f921"
             ]
            ],
            "type": "surface"
           }
          ],
          "table": [
           {
            "cells": {
             "fill": {
              "color": "#EBF0F8"
             },
             "line": {
              "color": "white"
             }
            },
            "header": {
             "fill": {
              "color": "#C8D4E3"
             },
             "line": {
              "color": "white"
             }
            },
            "type": "table"
           }
          ]
         },
         "layout": {
          "annotationdefaults": {
           "arrowcolor": "#2a3f5f",
           "arrowhead": 0,
           "arrowwidth": 1
          },
          "autotypenumbers": "strict",
          "coloraxis": {
           "colorbar": {
            "outlinewidth": 0,
            "ticks": ""
           }
          },
          "colorscale": {
           "diverging": [
            [
             0,
             "#8e0152"
            ],
            [
             0.1,
             "#c51b7d"
            ],
            [
             0.2,
             "#de77ae"
            ],
            [
             0.3,
             "#f1b6da"
            ],
            [
             0.4,
             "#fde0ef"
            ],
            [
             0.5,
             "#f7f7f7"
            ],
            [
             0.6,
             "#e6f5d0"
            ],
            [
             0.7,
             "#b8e186"
            ],
            [
             0.8,
             "#7fbc41"
            ],
            [
             0.9,
             "#4d9221"
            ],
            [
             1,
             "#276419"
            ]
           ],
           "sequential": [
            [
             0,
             "#0d0887"
            ],
            [
             0.1111111111111111,
             "#46039f"
            ],
            [
             0.2222222222222222,
             "#7201a8"
            ],
            [
             0.3333333333333333,
             "#9c179e"
            ],
            [
             0.4444444444444444,
             "#bd3786"
            ],
            [
             0.5555555555555556,
             "#d8576b"
            ],
            [
             0.6666666666666666,
             "#ed7953"
            ],
            [
             0.7777777777777778,
             "#fb9f3a"
            ],
            [
             0.8888888888888888,
             "#fdca26"
            ],
            [
             1,
             "#f0f921"
            ]
           ],
           "sequentialminus": [
            [
             0,
             "#0d0887"
            ],
            [
             0.1111111111111111,
             "#46039f"
            ],
            [
             0.2222222222222222,
             "#7201a8"
            ],
            [
             0.3333333333333333,
             "#9c179e"
            ],
            [
             0.4444444444444444,
             "#bd3786"
            ],
            [
             0.5555555555555556,
             "#d8576b"
            ],
            [
             0.6666666666666666,
             "#ed7953"
            ],
            [
             0.7777777777777778,
             "#fb9f3a"
            ],
            [
             0.8888888888888888,
             "#fdca26"
            ],
            [
             1,
             "#f0f921"
            ]
           ]
          },
          "colorway": [
           "#636efa",
           "#EF553B",
           "#00cc96",
           "#ab63fa",
           "#FFA15A",
           "#19d3f3",
           "#FF6692",
           "#B6E880",
           "#FF97FF",
           "#FECB52"
          ],
          "font": {
           "color": "#2a3f5f"
          },
          "geo": {
           "bgcolor": "white",
           "lakecolor": "white",
           "landcolor": "#E5ECF6",
           "showlakes": true,
           "showland": true,
           "subunitcolor": "white"
          },
          "hoverlabel": {
           "align": "left"
          },
          "hovermode": "closest",
          "mapbox": {
           "style": "light"
          },
          "paper_bgcolor": "white",
          "plot_bgcolor": "#E5ECF6",
          "polar": {
           "angularaxis": {
            "gridcolor": "white",
            "linecolor": "white",
            "ticks": ""
           },
           "bgcolor": "#E5ECF6",
           "radialaxis": {
            "gridcolor": "white",
            "linecolor": "white",
            "ticks": ""
           }
          },
          "scene": {
           "xaxis": {
            "backgroundcolor": "#E5ECF6",
            "gridcolor": "white",
            "gridwidth": 2,
            "linecolor": "white",
            "showbackground": true,
            "ticks": "",
            "zerolinecolor": "white"
           },
           "yaxis": {
            "backgroundcolor": "#E5ECF6",
            "gridcolor": "white",
            "gridwidth": 2,
            "linecolor": "white",
            "showbackground": true,
            "ticks": "",
            "zerolinecolor": "white"
           },
           "zaxis": {
            "backgroundcolor": "#E5ECF6",
            "gridcolor": "white",
            "gridwidth": 2,
            "linecolor": "white",
            "showbackground": true,
            "ticks": "",
            "zerolinecolor": "white"
           }
          },
          "shapedefaults": {
           "line": {
            "color": "#2a3f5f"
           }
          },
          "ternary": {
           "aaxis": {
            "gridcolor": "white",
            "linecolor": "white",
            "ticks": ""
           },
           "baxis": {
            "gridcolor": "white",
            "linecolor": "white",
            "ticks": ""
           },
           "bgcolor": "#E5ECF6",
           "caxis": {
            "gridcolor": "white",
            "linecolor": "white",
            "ticks": ""
           }
          },
          "title": {
           "x": 0.05
          },
          "xaxis": {
           "automargin": true,
           "gridcolor": "white",
           "linecolor": "white",
           "ticks": "",
           "title": {
            "standoff": 15
           },
           "zerolinecolor": "white",
           "zerolinewidth": 2
          },
          "yaxis": {
           "automargin": true,
           "gridcolor": "white",
           "linecolor": "white",
           "ticks": "",
           "title": {
            "standoff": 15
           },
           "zerolinecolor": "white",
           "zerolinewidth": 2
          }
         }
        },
        "title": {
         "font": {
          "color": "#1D3557",
          "family": "Arial",
          "size": 24
         },
         "text": "Body Fat Percentage Over Time",
         "x": 0.5
        },
        "xaxis": {
         "anchor": "y",
         "domain": [
          0,
          1
         ],
         "gridcolor": "#A8DADC",
         "tickangle": -45,
         "tickformat": "%Y-%m-%d",
         "title": {
          "text": "Date"
         }
        },
        "yaxis": {
         "anchor": "x",
         "domain": [
          0,
          1
         ],
         "gridcolor": "#A8DADC",
         "title": {
          "text": "Body Fat Percentage (%)"
         }
        }
       }
      }
     },
     "metadata": {},
     "output_type": "display_data"
    }
   ],
   "source": [
    "import pandas as pd\n",
    "import plotly.express as px\n",
    "\n",
    "# Base path where your data is located\n",
    "base_path = '/Users/ngirmay/Documents/GitHub/ironman_retrospective/apple_health/health_data_exported/'\n",
    "\n",
    "# Specific file for body fat percentage data\n",
    "body_fat_file = 'HKQuantityTypeIdentifierBodyFatPercentage_2024-04-99_18-30-56_SimpleHealthExportCSV.csv'\n",
    "\n",
    "# Full path to the body fat percentage file\n",
    "body_fat_file_path = base_path + body_fat_file\n",
    "\n",
    "# Load the dataset\n",
    "df_body_fat = pd.read_csv(body_fat_file_path, sep=',', skiprows=1)\n",
    "\n",
    "# Convert 'startDate' to datetime format\n",
    "df_body_fat['startDate'] = pd.to_datetime(df_body_fat['startDate'])\n",
    "\n",
    "# Multiply 'value' by 100 to convert it into a percentage for better readability\n",
    "df_body_fat['percentage_value'] = df_body_fat['value'] * 100\n",
    "\n",
    "# Apply the Coolors color scheme\n",
    "colors = {\n",
    "    'line': '#E63946',  # Red for the line\n",
    "    'background': '#F1FAEE',  # Light cream for the background\n",
    "    'grid': '#A8DADC',  # Light teal for grid lines\n",
    "    'title': '#1D3557',  # Dark blue for title\n",
    "    'axes': '#457B9D'  # Steel blue for axes labels\n",
    "}\n",
    "\n",
    "# Create the interactive line plot with Plotly\n",
    "fig = px.line(df_body_fat, x='startDate', y='percentage_value', \n",
    "              title='Body Fat Percentage Over Time', \n",
    "              labels={'percentage_value': 'Body Fat Percentage (%)', 'startDate': 'Date'})\n",
    "\n",
    "# Update layout to match the color scheme and center the title\n",
    "fig.update_layout(\n",
    "    plot_bgcolor=colors['background'],  # Set background color\n",
    "    paper_bgcolor=colors['background'],  # Paper (overall background)\n",
    "    title_font=dict(size=24, color=colors['title'], family=\"Arial\"),  # Title font styling (Arial is already bold by default)\n",
    "    title_x=0.5,  # Center the title\n",
    "    xaxis=dict(tickformat='%Y-%m-%d', gridcolor=colors['grid'], tickangle=-45),  # Combine x-axis settings\n",
    "    yaxis=dict(gridcolor=colors['grid']),  # Set gridline color for y-axis\n",
    "    font=dict(color=colors['axes']),  # Set font color for axes labels\n",
    "    xaxis_title='Date',\n",
    "    yaxis_title='Body Fat Percentage (%)',\n",
    "    showlegend=False  # Hide the legend\n",
    ")\n",
    "\n",
    "# Update line color\n",
    "fig.update_traces(line_color=colors['line'], line_width=3)\n",
    "\n",
    "# Show interactive plot\n",
    "fig.show()\n"
   ]
  },
  {
   "cell_type": "code",
   "execution_count": 30,
   "metadata": {},
   "outputs": [
    {
     "data": {
      "application/vnd.plotly.v1+json": {
       "config": {
        "plotlyServerURL": "https://plot.ly"
       },
       "data": [
        {
         "hovertemplate": "Date=%{x}<br>Body Mass (lb)=%{y}<extra></extra>",
         "legendgroup": "",
         "line": {
          "color": "#E63946",
          "dash": "solid",
          "width": 3
         },
         "marker": {
          "symbol": "circle"
         },
         "mode": "lines",
         "name": "",
         "orientation": "v",
         "showlegend": false,
         "type": "scatter",
         "x": [
          "2022-03-07T19:02:01+00:00",
          "2022-08-17T01:04:50+00:00",
          "2022-08-17T01:06:10+00:00",
          "2022-08-29T22:32:46+00:00",
          "2022-09-14T22:34:17+00:00",
          "2022-09-16T02:01:59+00:00",
          "2022-09-16T22:15:16+00:00",
          "2022-09-21T20:25:38+00:00",
          "2022-09-21T20:35:06+00:00",
          "2022-09-21T20:35:35+00:00",
          "2022-09-23T15:03:23+00:00",
          "2022-09-23T15:03:41+00:00",
          "2022-09-23T15:03:41+00:00",
          "2022-09-23T15:03:41+00:00",
          "2022-09-23T15:03:41+00:00",
          "2022-09-23T15:03:41+00:00",
          "2022-09-23T15:03:41+00:00",
          "2022-09-23T15:03:41+00:00",
          "2022-09-23T15:10:43+00:00",
          "2022-11-24T15:28:14+00:00",
          "2022-12-04T12:14:54+00:00",
          "2022-12-04T12:15:46+00:00",
          "2022-12-04T12:16:12+00:00",
          "2022-12-04T12:16:58+00:00",
          "2022-12-04T12:16:58+00:00",
          "2022-12-04T12:16:58+00:00",
          "2022-12-04T12:16:58+00:00",
          "2022-12-04T12:17:25+00:00",
          "2022-12-04T12:17:34+00:00",
          "2022-12-06T11:12:58+00:00",
          "2022-12-08T12:14:50+00:00",
          "2022-12-16T11:10:23+00:00",
          "2022-12-17T02:47:12+00:00",
          "2022-12-17T02:47:12+00:00",
          "2022-12-17T02:47:12+00:00",
          "2022-12-17T02:47:12+00:00",
          "2022-12-18T11:45:17+00:00",
          "2022-12-24T02:58:35+00:00",
          "2022-12-28T03:32:00+00:00",
          "2023-01-10T02:50:26+00:00",
          "2023-02-16T18:49:42+00:00",
          "2023-02-22T15:26:08+00:00",
          "2023-02-22T15:26:08+00:00",
          "2023-02-22T15:26:08+00:00",
          "2023-02-22T15:26:08+00:00",
          "2023-02-22T15:26:08+00:00",
          "2023-02-23T15:51:51+00:00",
          "2023-02-24T15:08:21+00:00",
          "2023-03-09T13:21:58+00:00",
          "2023-04-03T18:59:11+00:00",
          "2023-04-07T17:53:34+00:00",
          "2023-04-08T23:38:54+00:00",
          "2023-04-09T10:25:38+00:00",
          "2023-04-09T10:25:38+00:00",
          "2023-04-15T22:15:13+00:00",
          "2023-06-18T13:57:36+00:00",
          "2023-06-18T13:57:54+00:00",
          "2023-06-19T01:52:00+00:00",
          "2023-08-09T15:34:14+00:00",
          "2023-08-10T01:52:00+00:00",
          "2023-08-14T14:33:30+00:00",
          "2023-08-15T01:52:00+00:00",
          "2023-08-26T17:21:49+00:00",
          "2023-08-27T01:52:00+00:00",
          "2023-09-06T01:10:26+00:00",
          "2023-09-06T01:10:43+00:00",
          "2023-09-06T01:52:00+00:00",
          "2023-09-08T13:05:23+00:00",
          "2023-09-09T01:52:00+00:00",
          "2023-09-21T21:52:09+00:00",
          "2023-09-21T21:52:23+00:00",
          "2023-09-22T01:52:00+00:00",
          "2023-10-11T16:49:13+00:00",
          "2023-10-11T16:49:42+00:00",
          "2023-10-12T01:52:00+00:00",
          "2023-10-16T01:52:00+00:00",
          "2023-10-16T02:38:59+00:00",
          "2023-10-21T18:57:53+00:00",
          "2023-10-22T01:52:00+00:00",
          "2023-12-07T14:42:56+00:00",
          "2023-12-08T02:52:00+00:00",
          "2023-12-12T14:07:40+00:00",
          "2023-12-13T02:52:00+00:00",
          "2024-01-07T22:26:38+00:00",
          "2024-01-08T02:52:00+00:00",
          "2024-02-13T18:19:31+00:00",
          "2024-02-14T02:52:00+00:00",
          "2024-03-11T16:37:16+00:00",
          "2024-03-12T01:52:00+00:00",
          "2024-03-14T19:32:20+00:00",
          "2024-03-14T19:37:58+00:00",
          "2024-03-15T01:52:00+00:00",
          "2024-03-17T01:38:33+00:00",
          "2024-03-17T01:52:00+00:00",
          "2024-03-18T12:30:28+00:00",
          "2024-03-19T01:52:00+00:00",
          "2024-03-25T18:39:03+00:00",
          "2024-03-25T18:39:11+00:00",
          "2024-03-26T01:52:00+00:00"
         ],
         "xaxis": "x",
         "y": [
          176,
          172,
          172,
          170.4,
          169.8,
          175,
          172.2,
          174.4,
          174.4,
          174.4,
          175.8,
          175.8,
          175.8,
          175.8,
          175.8,
          175.8,
          175.8,
          175.8,
          175.6,
          167.2,
          166.4,
          166.4,
          166.4,
          167.2,
          167.2,
          167.2,
          167.2,
          167.2,
          166.4,
          166.8,
          166.6,
          166.4,
          170,
          170,
          170,
          170,
          166.8,
          165.8,
          165.4,
          165.4,
          162.6,
          162.6,
          162.6,
          162.6,
          162.6,
          162.6,
          161.4,
          161,
          159,
          160,
          158,
          157.6,
          159.8,
          159.8,
          157.4,
          156.6,
          156.6,
          156.60000610351562,
          161.2,
          161.1999969482422,
          161,
          161,
          161,
          161,
          164.6,
          164.6,
          164.60000610351562,
          165,
          165,
          165.6,
          165.6,
          165.60000610351562,
          167.2,
          167.2,
          167.1999969482422,
          168.39999389648438,
          168.4,
          171.8,
          171.8000030517578,
          175,
          175,
          172.6,
          172.60000610351562,
          180,
          180,
          170,
          170,
          166.8,
          166.8000030517578,
          160.4,
          168.8,
          168.8000030517578,
          171,
          171,
          171,
          171,
          168.2,
          168.2,
          168.1999969482422
         ],
         "yaxis": "y"
        }
       ],
       "layout": {
        "font": {
         "color": "#457B9D"
        },
        "legend": {
         "tracegroupgap": 0
        },
        "paper_bgcolor": "#F1FAEE",
        "plot_bgcolor": "#F1FAEE",
        "showlegend": false,
        "template": {
         "data": {
          "bar": [
           {
            "error_x": {
             "color": "#2a3f5f"
            },
            "error_y": {
             "color": "#2a3f5f"
            },
            "marker": {
             "line": {
              "color": "#E5ECF6",
              "width": 0.5
             },
             "pattern": {
              "fillmode": "overlay",
              "size": 10,
              "solidity": 0.2
             }
            },
            "type": "bar"
           }
          ],
          "barpolar": [
           {
            "marker": {
             "line": {
              "color": "#E5ECF6",
              "width": 0.5
             },
             "pattern": {
              "fillmode": "overlay",
              "size": 10,
              "solidity": 0.2
             }
            },
            "type": "barpolar"
           }
          ],
          "carpet": [
           {
            "aaxis": {
             "endlinecolor": "#2a3f5f",
             "gridcolor": "white",
             "linecolor": "white",
             "minorgridcolor": "white",
             "startlinecolor": "#2a3f5f"
            },
            "baxis": {
             "endlinecolor": "#2a3f5f",
             "gridcolor": "white",
             "linecolor": "white",
             "minorgridcolor": "white",
             "startlinecolor": "#2a3f5f"
            },
            "type": "carpet"
           }
          ],
          "choropleth": [
           {
            "colorbar": {
             "outlinewidth": 0,
             "ticks": ""
            },
            "type": "choropleth"
           }
          ],
          "contour": [
           {
            "colorbar": {
             "outlinewidth": 0,
             "ticks": ""
            },
            "colorscale": [
             [
              0,
              "#0d0887"
             ],
             [
              0.1111111111111111,
              "#46039f"
             ],
             [
              0.2222222222222222,
              "#7201a8"
             ],
             [
              0.3333333333333333,
              "#9c179e"
             ],
             [
              0.4444444444444444,
              "#bd3786"
             ],
             [
              0.5555555555555556,
              "#d8576b"
             ],
             [
              0.6666666666666666,
              "#ed7953"
             ],
             [
              0.7777777777777778,
              "#fb9f3a"
             ],
             [
              0.8888888888888888,
              "#fdca26"
             ],
             [
              1,
              "#f0f921"
             ]
            ],
            "type": "contour"
           }
          ],
          "contourcarpet": [
           {
            "colorbar": {
             "outlinewidth": 0,
             "ticks": ""
            },
            "type": "contourcarpet"
           }
          ],
          "heatmap": [
           {
            "colorbar": {
             "outlinewidth": 0,
             "ticks": ""
            },
            "colorscale": [
             [
              0,
              "#0d0887"
             ],
             [
              0.1111111111111111,
              "#46039f"
             ],
             [
              0.2222222222222222,
              "#7201a8"
             ],
             [
              0.3333333333333333,
              "#9c179e"
             ],
             [
              0.4444444444444444,
              "#bd3786"
             ],
             [
              0.5555555555555556,
              "#d8576b"
             ],
             [
              0.6666666666666666,
              "#ed7953"
             ],
             [
              0.7777777777777778,
              "#fb9f3a"
             ],
             [
              0.8888888888888888,
              "#fdca26"
             ],
             [
              1,
              "#f0f921"
             ]
            ],
            "type": "heatmap"
           }
          ],
          "heatmapgl": [
           {
            "colorbar": {
             "outlinewidth": 0,
             "ticks": ""
            },
            "colorscale": [
             [
              0,
              "#0d0887"
             ],
             [
              0.1111111111111111,
              "#46039f"
             ],
             [
              0.2222222222222222,
              "#7201a8"
             ],
             [
              0.3333333333333333,
              "#9c179e"
             ],
             [
              0.4444444444444444,
              "#bd3786"
             ],
             [
              0.5555555555555556,
              "#d8576b"
             ],
             [
              0.6666666666666666,
              "#ed7953"
             ],
             [
              0.7777777777777778,
              "#fb9f3a"
             ],
             [
              0.8888888888888888,
              "#fdca26"
             ],
             [
              1,
              "#f0f921"
             ]
            ],
            "type": "heatmapgl"
           }
          ],
          "histogram": [
           {
            "marker": {
             "pattern": {
              "fillmode": "overlay",
              "size": 10,
              "solidity": 0.2
             }
            },
            "type": "histogram"
           }
          ],
          "histogram2d": [
           {
            "colorbar": {
             "outlinewidth": 0,
             "ticks": ""
            },
            "colorscale": [
             [
              0,
              "#0d0887"
             ],
             [
              0.1111111111111111,
              "#46039f"
             ],
             [
              0.2222222222222222,
              "#7201a8"
             ],
             [
              0.3333333333333333,
              "#9c179e"
             ],
             [
              0.4444444444444444,
              "#bd3786"
             ],
             [
              0.5555555555555556,
              "#d8576b"
             ],
             [
              0.6666666666666666,
              "#ed7953"
             ],
             [
              0.7777777777777778,
              "#fb9f3a"
             ],
             [
              0.8888888888888888,
              "#fdca26"
             ],
             [
              1,
              "#f0f921"
             ]
            ],
            "type": "histogram2d"
           }
          ],
          "histogram2dcontour": [
           {
            "colorbar": {
             "outlinewidth": 0,
             "ticks": ""
            },
            "colorscale": [
             [
              0,
              "#0d0887"
             ],
             [
              0.1111111111111111,
              "#46039f"
             ],
             [
              0.2222222222222222,
              "#7201a8"
             ],
             [
              0.3333333333333333,
              "#9c179e"
             ],
             [
              0.4444444444444444,
              "#bd3786"
             ],
             [
              0.5555555555555556,
              "#d8576b"
             ],
             [
              0.6666666666666666,
              "#ed7953"
             ],
             [
              0.7777777777777778,
              "#fb9f3a"
             ],
             [
              0.8888888888888888,
              "#fdca26"
             ],
             [
              1,
              "#f0f921"
             ]
            ],
            "type": "histogram2dcontour"
           }
          ],
          "mesh3d": [
           {
            "colorbar": {
             "outlinewidth": 0,
             "ticks": ""
            },
            "type": "mesh3d"
           }
          ],
          "parcoords": [
           {
            "line": {
             "colorbar": {
              "outlinewidth": 0,
              "ticks": ""
             }
            },
            "type": "parcoords"
           }
          ],
          "pie": [
           {
            "automargin": true,
            "type": "pie"
           }
          ],
          "scatter": [
           {
            "fillpattern": {
             "fillmode": "overlay",
             "size": 10,
             "solidity": 0.2
            },
            "type": "scatter"
           }
          ],
          "scatter3d": [
           {
            "line": {
             "colorbar": {
              "outlinewidth": 0,
              "ticks": ""
             }
            },
            "marker": {
             "colorbar": {
              "outlinewidth": 0,
              "ticks": ""
             }
            },
            "type": "scatter3d"
           }
          ],
          "scattercarpet": [
           {
            "marker": {
             "colorbar": {
              "outlinewidth": 0,
              "ticks": ""
             }
            },
            "type": "scattercarpet"
           }
          ],
          "scattergeo": [
           {
            "marker": {
             "colorbar": {
              "outlinewidth": 0,
              "ticks": ""
             }
            },
            "type": "scattergeo"
           }
          ],
          "scattergl": [
           {
            "marker": {
             "colorbar": {
              "outlinewidth": 0,
              "ticks": ""
             }
            },
            "type": "scattergl"
           }
          ],
          "scattermapbox": [
           {
            "marker": {
             "colorbar": {
              "outlinewidth": 0,
              "ticks": ""
             }
            },
            "type": "scattermapbox"
           }
          ],
          "scatterpolar": [
           {
            "marker": {
             "colorbar": {
              "outlinewidth": 0,
              "ticks": ""
             }
            },
            "type": "scatterpolar"
           }
          ],
          "scatterpolargl": [
           {
            "marker": {
             "colorbar": {
              "outlinewidth": 0,
              "ticks": ""
             }
            },
            "type": "scatterpolargl"
           }
          ],
          "scatterternary": [
           {
            "marker": {
             "colorbar": {
              "outlinewidth": 0,
              "ticks": ""
             }
            },
            "type": "scatterternary"
           }
          ],
          "surface": [
           {
            "colorbar": {
             "outlinewidth": 0,
             "ticks": ""
            },
            "colorscale": [
             [
              0,
              "#0d0887"
             ],
             [
              0.1111111111111111,
              "#46039f"
             ],
             [
              0.2222222222222222,
              "#7201a8"
             ],
             [
              0.3333333333333333,
              "#9c179e"
             ],
             [
              0.4444444444444444,
              "#bd3786"
             ],
             [
              0.5555555555555556,
              "#d8576b"
             ],
             [
              0.6666666666666666,
              "#ed7953"
             ],
             [
              0.7777777777777778,
              "#fb9f3a"
             ],
             [
              0.8888888888888888,
              "#fdca26"
             ],
             [
              1,
              "#f0f921"
             ]
            ],
            "type": "surface"
           }
          ],
          "table": [
           {
            "cells": {
             "fill": {
              "color": "#EBF0F8"
             },
             "line": {
              "color": "white"
             }
            },
            "header": {
             "fill": {
              "color": "#C8D4E3"
             },
             "line": {
              "color": "white"
             }
            },
            "type": "table"
           }
          ]
         },
         "layout": {
          "annotationdefaults": {
           "arrowcolor": "#2a3f5f",
           "arrowhead": 0,
           "arrowwidth": 1
          },
          "autotypenumbers": "strict",
          "coloraxis": {
           "colorbar": {
            "outlinewidth": 0,
            "ticks": ""
           }
          },
          "colorscale": {
           "diverging": [
            [
             0,
             "#8e0152"
            ],
            [
             0.1,
             "#c51b7d"
            ],
            [
             0.2,
             "#de77ae"
            ],
            [
             0.3,
             "#f1b6da"
            ],
            [
             0.4,
             "#fde0ef"
            ],
            [
             0.5,
             "#f7f7f7"
            ],
            [
             0.6,
             "#e6f5d0"
            ],
            [
             0.7,
             "#b8e186"
            ],
            [
             0.8,
             "#7fbc41"
            ],
            [
             0.9,
             "#4d9221"
            ],
            [
             1,
             "#276419"
            ]
           ],
           "sequential": [
            [
             0,
             "#0d0887"
            ],
            [
             0.1111111111111111,
             "#46039f"
            ],
            [
             0.2222222222222222,
             "#7201a8"
            ],
            [
             0.3333333333333333,
             "#9c179e"
            ],
            [
             0.4444444444444444,
             "#bd3786"
            ],
            [
             0.5555555555555556,
             "#d8576b"
            ],
            [
             0.6666666666666666,
             "#ed7953"
            ],
            [
             0.7777777777777778,
             "#fb9f3a"
            ],
            [
             0.8888888888888888,
             "#fdca26"
            ],
            [
             1,
             "#f0f921"
            ]
           ],
           "sequentialminus": [
            [
             0,
             "#0d0887"
            ],
            [
             0.1111111111111111,
             "#46039f"
            ],
            [
             0.2222222222222222,
             "#7201a8"
            ],
            [
             0.3333333333333333,
             "#9c179e"
            ],
            [
             0.4444444444444444,
             "#bd3786"
            ],
            [
             0.5555555555555556,
             "#d8576b"
            ],
            [
             0.6666666666666666,
             "#ed7953"
            ],
            [
             0.7777777777777778,
             "#fb9f3a"
            ],
            [
             0.8888888888888888,
             "#fdca26"
            ],
            [
             1,
             "#f0f921"
            ]
           ]
          },
          "colorway": [
           "#636efa",
           "#EF553B",
           "#00cc96",
           "#ab63fa",
           "#FFA15A",
           "#19d3f3",
           "#FF6692",
           "#B6E880",
           "#FF97FF",
           "#FECB52"
          ],
          "font": {
           "color": "#2a3f5f"
          },
          "geo": {
           "bgcolor": "white",
           "lakecolor": "white",
           "landcolor": "#E5ECF6",
           "showlakes": true,
           "showland": true,
           "subunitcolor": "white"
          },
          "hoverlabel": {
           "align": "left"
          },
          "hovermode": "closest",
          "mapbox": {
           "style": "light"
          },
          "paper_bgcolor": "white",
          "plot_bgcolor": "#E5ECF6",
          "polar": {
           "angularaxis": {
            "gridcolor": "white",
            "linecolor": "white",
            "ticks": ""
           },
           "bgcolor": "#E5ECF6",
           "radialaxis": {
            "gridcolor": "white",
            "linecolor": "white",
            "ticks": ""
           }
          },
          "scene": {
           "xaxis": {
            "backgroundcolor": "#E5ECF6",
            "gridcolor": "white",
            "gridwidth": 2,
            "linecolor": "white",
            "showbackground": true,
            "ticks": "",
            "zerolinecolor": "white"
           },
           "yaxis": {
            "backgroundcolor": "#E5ECF6",
            "gridcolor": "white",
            "gridwidth": 2,
            "linecolor": "white",
            "showbackground": true,
            "ticks": "",
            "zerolinecolor": "white"
           },
           "zaxis": {
            "backgroundcolor": "#E5ECF6",
            "gridcolor": "white",
            "gridwidth": 2,
            "linecolor": "white",
            "showbackground": true,
            "ticks": "",
            "zerolinecolor": "white"
           }
          },
          "shapedefaults": {
           "line": {
            "color": "#2a3f5f"
           }
          },
          "ternary": {
           "aaxis": {
            "gridcolor": "white",
            "linecolor": "white",
            "ticks": ""
           },
           "baxis": {
            "gridcolor": "white",
            "linecolor": "white",
            "ticks": ""
           },
           "bgcolor": "#E5ECF6",
           "caxis": {
            "gridcolor": "white",
            "linecolor": "white",
            "ticks": ""
           }
          },
          "title": {
           "x": 0.05
          },
          "xaxis": {
           "automargin": true,
           "gridcolor": "white",
           "linecolor": "white",
           "ticks": "",
           "title": {
            "standoff": 15
           },
           "zerolinecolor": "white",
           "zerolinewidth": 2
          },
          "yaxis": {
           "automargin": true,
           "gridcolor": "white",
           "linecolor": "white",
           "ticks": "",
           "title": {
            "standoff": 15
           },
           "zerolinecolor": "white",
           "zerolinewidth": 2
          }
         }
        },
        "title": {
         "font": {
          "color": "#1D3557",
          "family": "Arial",
          "size": 24
         },
         "text": "Body Mass Over Time",
         "x": 0.5
        },
        "xaxis": {
         "anchor": "y",
         "domain": [
          0,
          1
         ],
         "gridcolor": "#A8DADC",
         "tickangle": -45,
         "tickformat": "%Y-%m-%d",
         "title": {
          "text": "Date"
         }
        },
        "yaxis": {
         "anchor": "x",
         "domain": [
          0,
          1
         ],
         "gridcolor": "#A8DADC",
         "title": {
          "text": "Body Mass (lb)"
         }
        }
       }
      }
     },
     "metadata": {},
     "output_type": "display_data"
    }
   ],
   "source": [
    "import pandas as pd\n",
    "import plotly.express as px\n",
    "\n",
    "# Base path where your data is located\n",
    "base_path = '/Users/ngirmay/Documents/GitHub/ironman_retrospective/apple_health/health_data_exported/'\n",
    "\n",
    "# Specific file for body mass data\n",
    "body_mass_file = 'HKQuantityTypeIdentifierBodyMass_2024-04-99_18-30-56_SimpleHealthExportCSV.csv'\n",
    "\n",
    "# Full path to the body mass file\n",
    "body_mass_file_path = base_path + body_mass_file\n",
    "\n",
    "# Load the dataset for body mass\n",
    "df_body_mass = pd.read_csv(body_mass_file_path, sep=',', skiprows=1)\n",
    "\n",
    "# Convert 'startDate' to datetime format\n",
    "df_body_mass['startDate'] = pd.to_datetime(df_body_mass['startDate'])\n",
    "\n",
    "# Apply the Coolors color scheme\n",
    "colors = {\n",
    "    'line': '#E63946',  # Red for the line\n",
    "    'background': '#F1FAEE',  # Light cream for the background\n",
    "    'grid': '#A8DADC',  # Light teal for grid lines\n",
    "    'title': '#1D3557',  # Dark blue for title\n",
    "    'axes': '#457B9D'  # Steel blue for axes labels\n",
    "}\n",
    "\n",
    "# Create the interactive line plot with Plotly for body mass\n",
    "fig = px.line(df_body_mass, x='startDate', y='value', \n",
    "              title='Body Mass Over Time', \n",
    "              labels={'value': 'Body Mass (lb)', 'startDate': 'Date'})\n",
    "\n",
    "# Update layout to match the color scheme and center the title\n",
    "fig.update_layout(\n",
    "    plot_bgcolor=colors['background'],  # Set background color\n",
    "    paper_bgcolor=colors['background'],  # Paper (overall background)\n",
    "    title_font=dict(size=24, color=colors['title'], family=\"Arial\"),  # Title font styling\n",
    "    title_x=0.5,  # Center the title\n",
    "    xaxis=dict(tickformat='%Y-%m-%d', gridcolor=colors['grid'], tickangle=-45),  # Combine x-axis settings\n",
    "    yaxis=dict(gridcolor=colors['grid']),  # Set gridline color for y-axis\n",
    "    font=dict(color=colors['axes']),  # Set font color for axes labels\n",
    "    xaxis_title='Date',\n",
    "    yaxis_title='Body Mass (lb)',\n",
    "    showlegend=False  # Hide the legend\n",
    ")\n",
    "\n",
    "# Static line color\n",
    "fig.update_traces(line_color=colors['line'], line_width=3)\n",
    "\n",
    "# Show interactive plot\n",
    "fig.show()\n"
   ]
  },
  {
   "cell_type": "code",
   "execution_count": 31,
   "metadata": {},
   "outputs": [
    {
     "data": {
      "application/vnd.plotly.v1+json": {
       "config": {
        "plotlyServerURL": "https://plot.ly"
       },
       "data": [
        {
         "hovertemplate": "startDate=%{x}<br>Duration (min)=%{y}<extra></extra>",
         "legendgroup": "",
         "line": {
          "color": "#636efa",
          "dash": "solid"
         },
         "marker": {
          "symbol": "circle"
         },
         "mode": "lines",
         "name": "",
         "orientation": "v",
         "showlegend": false,
         "type": "scatter",
         "x": [
          "2022-11-07T21:58:43+00:00",
          "2022-11-28T22:23:24+00:00",
          "2022-12-02T21:57:25+00:00",
          "2022-12-05T22:12:29+00:00",
          "2022-12-06T21:57:42+00:00",
          "2022-12-09T22:47:44+00:00",
          "2022-12-12T21:48:14+00:00",
          "2022-12-13T22:10:57+00:00",
          "2022-12-15T22:10:43+00:00",
          "2022-12-16T22:19:11+00:00",
          "2022-12-16T22:29:31+00:00",
          "2022-12-22T22:13:47+00:00",
          "2023-02-28T22:31:44+00:00",
          "2023-02-28T22:37:13+00:00",
          "2023-02-28T22:40:40+00:00",
          "2023-03-06T22:56:56+00:00",
          "2023-03-12T20:27:06+00:00",
          "2023-03-13T21:36:09+00:00",
          "2023-03-15T21:23:34+00:00",
          "2023-03-15T22:12:43+00:00",
          "2023-04-07T21:49:46+00:00",
          "2023-04-17T22:16:01+00:00",
          "2023-04-21T21:23:14+00:00",
          "2023-04-25T21:44:56+00:00",
          "2023-04-27T21:34:21+00:00",
          "2023-04-30T19:14:05+00:00",
          "2023-05-02T21:29:09+00:00",
          "2023-05-04T21:56:22+00:00",
          "2023-05-31T21:24:16+00:00",
          "2023-05-31T21:55:51+00:00",
          "2023-06-02T21:53:18+00:00",
          "2023-06-09T21:45:02+00:00",
          "2023-06-09T22:24:49+00:00",
          "2023-06-12T21:26:53+00:00",
          "2023-06-12T21:48:32+00:00",
          "2023-06-17T16:53:57+00:00",
          "2023-06-25T18:24:14+00:00",
          "2023-06-26T21:40:50+00:00",
          "2023-07-23T10:30:04+00:00"
         ],
         "xaxis": "x",
         "y": [
          995.423367023468,
          2869.1017479896545,
          1329.8757170438766,
          3973.312478899956,
          1703.2191779613495,
          2104.8720450401306,
          3229.8871750831604,
          3083.016633868217,
          3006.218086719513,
          598.4454970359802,
          3118.1803669929504,
          2801.51806306839,
          309.06544303894043,
          159.06198406219482,
          1577.8470549583435,
          1680.3057299852371,
          1801.0895040035248,
          2726.76060295105,
          2810.505384922028,
          603.4162490367889,
          3311.143973946572,
          2146.717640042305,
          5896.3432149887085,
          5629.099044919014,
          1837.0586160421367,
          1807.362061023712,
          4187.020502924919,
          2991.670171022415,
          1808.1781319379809,
          2873.1466569900517,
          4201.2392510175705,
          2349.168789982796,
          2244.5476870536804,
          1275.3394120931623,
          2192.63755607605,
          2714.670425057411,
          3763.7259600162506,
          3886.204520106316,
          5943.261325001717
         ],
         "yaxis": "y"
        }
       ],
       "layout": {
        "legend": {
         "tracegroupgap": 0
        },
        "template": {
         "data": {
          "bar": [
           {
            "error_x": {
             "color": "#2a3f5f"
            },
            "error_y": {
             "color": "#2a3f5f"
            },
            "marker": {
             "line": {
              "color": "#E5ECF6",
              "width": 0.5
             },
             "pattern": {
              "fillmode": "overlay",
              "size": 10,
              "solidity": 0.2
             }
            },
            "type": "bar"
           }
          ],
          "barpolar": [
           {
            "marker": {
             "line": {
              "color": "#E5ECF6",
              "width": 0.5
             },
             "pattern": {
              "fillmode": "overlay",
              "size": 10,
              "solidity": 0.2
             }
            },
            "type": "barpolar"
           }
          ],
          "carpet": [
           {
            "aaxis": {
             "endlinecolor": "#2a3f5f",
             "gridcolor": "white",
             "linecolor": "white",
             "minorgridcolor": "white",
             "startlinecolor": "#2a3f5f"
            },
            "baxis": {
             "endlinecolor": "#2a3f5f",
             "gridcolor": "white",
             "linecolor": "white",
             "minorgridcolor": "white",
             "startlinecolor": "#2a3f5f"
            },
            "type": "carpet"
           }
          ],
          "choropleth": [
           {
            "colorbar": {
             "outlinewidth": 0,
             "ticks": ""
            },
            "type": "choropleth"
           }
          ],
          "contour": [
           {
            "colorbar": {
             "outlinewidth": 0,
             "ticks": ""
            },
            "colorscale": [
             [
              0,
              "#0d0887"
             ],
             [
              0.1111111111111111,
              "#46039f"
             ],
             [
              0.2222222222222222,
              "#7201a8"
             ],
             [
              0.3333333333333333,
              "#9c179e"
             ],
             [
              0.4444444444444444,
              "#bd3786"
             ],
             [
              0.5555555555555556,
              "#d8576b"
             ],
             [
              0.6666666666666666,
              "#ed7953"
             ],
             [
              0.7777777777777778,
              "#fb9f3a"
             ],
             [
              0.8888888888888888,
              "#fdca26"
             ],
             [
              1,
              "#f0f921"
             ]
            ],
            "type": "contour"
           }
          ],
          "contourcarpet": [
           {
            "colorbar": {
             "outlinewidth": 0,
             "ticks": ""
            },
            "type": "contourcarpet"
           }
          ],
          "heatmap": [
           {
            "colorbar": {
             "outlinewidth": 0,
             "ticks": ""
            },
            "colorscale": [
             [
              0,
              "#0d0887"
             ],
             [
              0.1111111111111111,
              "#46039f"
             ],
             [
              0.2222222222222222,
              "#7201a8"
             ],
             [
              0.3333333333333333,
              "#9c179e"
             ],
             [
              0.4444444444444444,
              "#bd3786"
             ],
             [
              0.5555555555555556,
              "#d8576b"
             ],
             [
              0.6666666666666666,
              "#ed7953"
             ],
             [
              0.7777777777777778,
              "#fb9f3a"
             ],
             [
              0.8888888888888888,
              "#fdca26"
             ],
             [
              1,
              "#f0f921"
             ]
            ],
            "type": "heatmap"
           }
          ],
          "heatmapgl": [
           {
            "colorbar": {
             "outlinewidth": 0,
             "ticks": ""
            },
            "colorscale": [
             [
              0,
              "#0d0887"
             ],
             [
              0.1111111111111111,
              "#46039f"
             ],
             [
              0.2222222222222222,
              "#7201a8"
             ],
             [
              0.3333333333333333,
              "#9c179e"
             ],
             [
              0.4444444444444444,
              "#bd3786"
             ],
             [
              0.5555555555555556,
              "#d8576b"
             ],
             [
              0.6666666666666666,
              "#ed7953"
             ],
             [
              0.7777777777777778,
              "#fb9f3a"
             ],
             [
              0.8888888888888888,
              "#fdca26"
             ],
             [
              1,
              "#f0f921"
             ]
            ],
            "type": "heatmapgl"
           }
          ],
          "histogram": [
           {
            "marker": {
             "pattern": {
              "fillmode": "overlay",
              "size": 10,
              "solidity": 0.2
             }
            },
            "type": "histogram"
           }
          ],
          "histogram2d": [
           {
            "colorbar": {
             "outlinewidth": 0,
             "ticks": ""
            },
            "colorscale": [
             [
              0,
              "#0d0887"
             ],
             [
              0.1111111111111111,
              "#46039f"
             ],
             [
              0.2222222222222222,
              "#7201a8"
             ],
             [
              0.3333333333333333,
              "#9c179e"
             ],
             [
              0.4444444444444444,
              "#bd3786"
             ],
             [
              0.5555555555555556,
              "#d8576b"
             ],
             [
              0.6666666666666666,
              "#ed7953"
             ],
             [
              0.7777777777777778,
              "#fb9f3a"
             ],
             [
              0.8888888888888888,
              "#fdca26"
             ],
             [
              1,
              "#f0f921"
             ]
            ],
            "type": "histogram2d"
           }
          ],
          "histogram2dcontour": [
           {
            "colorbar": {
             "outlinewidth": 0,
             "ticks": ""
            },
            "colorscale": [
             [
              0,
              "#0d0887"
             ],
             [
              0.1111111111111111,
              "#46039f"
             ],
             [
              0.2222222222222222,
              "#7201a8"
             ],
             [
              0.3333333333333333,
              "#9c179e"
             ],
             [
              0.4444444444444444,
              "#bd3786"
             ],
             [
              0.5555555555555556,
              "#d8576b"
             ],
             [
              0.6666666666666666,
              "#ed7953"
             ],
             [
              0.7777777777777778,
              "#fb9f3a"
             ],
             [
              0.8888888888888888,
              "#fdca26"
             ],
             [
              1,
              "#f0f921"
             ]
            ],
            "type": "histogram2dcontour"
           }
          ],
          "mesh3d": [
           {
            "colorbar": {
             "outlinewidth": 0,
             "ticks": ""
            },
            "type": "mesh3d"
           }
          ],
          "parcoords": [
           {
            "line": {
             "colorbar": {
              "outlinewidth": 0,
              "ticks": ""
             }
            },
            "type": "parcoords"
           }
          ],
          "pie": [
           {
            "automargin": true,
            "type": "pie"
           }
          ],
          "scatter": [
           {
            "fillpattern": {
             "fillmode": "overlay",
             "size": 10,
             "solidity": 0.2
            },
            "type": "scatter"
           }
          ],
          "scatter3d": [
           {
            "line": {
             "colorbar": {
              "outlinewidth": 0,
              "ticks": ""
             }
            },
            "marker": {
             "colorbar": {
              "outlinewidth": 0,
              "ticks": ""
             }
            },
            "type": "scatter3d"
           }
          ],
          "scattercarpet": [
           {
            "marker": {
             "colorbar": {
              "outlinewidth": 0,
              "ticks": ""
             }
            },
            "type": "scattercarpet"
           }
          ],
          "scattergeo": [
           {
            "marker": {
             "colorbar": {
              "outlinewidth": 0,
              "ticks": ""
             }
            },
            "type": "scattergeo"
           }
          ],
          "scattergl": [
           {
            "marker": {
             "colorbar": {
              "outlinewidth": 0,
              "ticks": ""
             }
            },
            "type": "scattergl"
           }
          ],
          "scattermapbox": [
           {
            "marker": {
             "colorbar": {
              "outlinewidth": 0,
              "ticks": ""
             }
            },
            "type": "scattermapbox"
           }
          ],
          "scatterpolar": [
           {
            "marker": {
             "colorbar": {
              "outlinewidth": 0,
              "ticks": ""
             }
            },
            "type": "scatterpolar"
           }
          ],
          "scatterpolargl": [
           {
            "marker": {
             "colorbar": {
              "outlinewidth": 0,
              "ticks": ""
             }
            },
            "type": "scatterpolargl"
           }
          ],
          "scatterternary": [
           {
            "marker": {
             "colorbar": {
              "outlinewidth": 0,
              "ticks": ""
             }
            },
            "type": "scatterternary"
           }
          ],
          "surface": [
           {
            "colorbar": {
             "outlinewidth": 0,
             "ticks": ""
            },
            "colorscale": [
             [
              0,
              "#0d0887"
             ],
             [
              0.1111111111111111,
              "#46039f"
             ],
             [
              0.2222222222222222,
              "#7201a8"
             ],
             [
              0.3333333333333333,
              "#9c179e"
             ],
             [
              0.4444444444444444,
              "#bd3786"
             ],
             [
              0.5555555555555556,
              "#d8576b"
             ],
             [
              0.6666666666666666,
              "#ed7953"
             ],
             [
              0.7777777777777778,
              "#fb9f3a"
             ],
             [
              0.8888888888888888,
              "#fdca26"
             ],
             [
              1,
              "#f0f921"
             ]
            ],
            "type": "surface"
           }
          ],
          "table": [
           {
            "cells": {
             "fill": {
              "color": "#EBF0F8"
             },
             "line": {
              "color": "white"
             }
            },
            "header": {
             "fill": {
              "color": "#C8D4E3"
             },
             "line": {
              "color": "white"
             }
            },
            "type": "table"
           }
          ]
         },
         "layout": {
          "annotationdefaults": {
           "arrowcolor": "#2a3f5f",
           "arrowhead": 0,
           "arrowwidth": 1
          },
          "autotypenumbers": "strict",
          "coloraxis": {
           "colorbar": {
            "outlinewidth": 0,
            "ticks": ""
           }
          },
          "colorscale": {
           "diverging": [
            [
             0,
             "#8e0152"
            ],
            [
             0.1,
             "#c51b7d"
            ],
            [
             0.2,
             "#de77ae"
            ],
            [
             0.3,
             "#f1b6da"
            ],
            [
             0.4,
             "#fde0ef"
            ],
            [
             0.5,
             "#f7f7f7"
            ],
            [
             0.6,
             "#e6f5d0"
            ],
            [
             0.7,
             "#b8e186"
            ],
            [
             0.8,
             "#7fbc41"
            ],
            [
             0.9,
             "#4d9221"
            ],
            [
             1,
             "#276419"
            ]
           ],
           "sequential": [
            [
             0,
             "#0d0887"
            ],
            [
             0.1111111111111111,
             "#46039f"
            ],
            [
             0.2222222222222222,
             "#7201a8"
            ],
            [
             0.3333333333333333,
             "#9c179e"
            ],
            [
             0.4444444444444444,
             "#bd3786"
            ],
            [
             0.5555555555555556,
             "#d8576b"
            ],
            [
             0.6666666666666666,
             "#ed7953"
            ],
            [
             0.7777777777777778,
             "#fb9f3a"
            ],
            [
             0.8888888888888888,
             "#fdca26"
            ],
            [
             1,
             "#f0f921"
            ]
           ],
           "sequentialminus": [
            [
             0,
             "#0d0887"
            ],
            [
             0.1111111111111111,
             "#46039f"
            ],
            [
             0.2222222222222222,
             "#7201a8"
            ],
            [
             0.3333333333333333,
             "#9c179e"
            ],
            [
             0.4444444444444444,
             "#bd3786"
            ],
            [
             0.5555555555555556,
             "#d8576b"
            ],
            [
             0.6666666666666666,
             "#ed7953"
            ],
            [
             0.7777777777777778,
             "#fb9f3a"
            ],
            [
             0.8888888888888888,
             "#fdca26"
            ],
            [
             1,
             "#f0f921"
            ]
           ]
          },
          "colorway": [
           "#636efa",
           "#EF553B",
           "#00cc96",
           "#ab63fa",
           "#FFA15A",
           "#19d3f3",
           "#FF6692",
           "#B6E880",
           "#FF97FF",
           "#FECB52"
          ],
          "font": {
           "color": "#2a3f5f"
          },
          "geo": {
           "bgcolor": "white",
           "lakecolor": "white",
           "landcolor": "#E5ECF6",
           "showlakes": true,
           "showland": true,
           "subunitcolor": "white"
          },
          "hoverlabel": {
           "align": "left"
          },
          "hovermode": "closest",
          "mapbox": {
           "style": "light"
          },
          "paper_bgcolor": "white",
          "plot_bgcolor": "#E5ECF6",
          "polar": {
           "angularaxis": {
            "gridcolor": "white",
            "linecolor": "white",
            "ticks": ""
           },
           "bgcolor": "#E5ECF6",
           "radialaxis": {
            "gridcolor": "white",
            "linecolor": "white",
            "ticks": ""
           }
          },
          "scene": {
           "xaxis": {
            "backgroundcolor": "#E5ECF6",
            "gridcolor": "white",
            "gridwidth": 2,
            "linecolor": "white",
            "showbackground": true,
            "ticks": "",
            "zerolinecolor": "white"
           },
           "yaxis": {
            "backgroundcolor": "#E5ECF6",
            "gridcolor": "white",
            "gridwidth": 2,
            "linecolor": "white",
            "showbackground": true,
            "ticks": "",
            "zerolinecolor": "white"
           },
           "zaxis": {
            "backgroundcolor": "#E5ECF6",
            "gridcolor": "white",
            "gridwidth": 2,
            "linecolor": "white",
            "showbackground": true,
            "ticks": "",
            "zerolinecolor": "white"
           }
          },
          "shapedefaults": {
           "line": {
            "color": "#2a3f5f"
           }
          },
          "ternary": {
           "aaxis": {
            "gridcolor": "white",
            "linecolor": "white",
            "ticks": ""
           },
           "baxis": {
            "gridcolor": "white",
            "linecolor": "white",
            "ticks": ""
           },
           "bgcolor": "#E5ECF6",
           "caxis": {
            "gridcolor": "white",
            "linecolor": "white",
            "ticks": ""
           }
          },
          "title": {
           "x": 0.05
          },
          "xaxis": {
           "automargin": true,
           "gridcolor": "white",
           "linecolor": "white",
           "ticks": "",
           "title": {
            "standoff": 15
           },
           "zerolinecolor": "white",
           "zerolinewidth": 2
          },
          "yaxis": {
           "automargin": true,
           "gridcolor": "white",
           "linecolor": "white",
           "ticks": "",
           "title": {
            "standoff": 15
           },
           "zerolinecolor": "white",
           "zerolinewidth": 2
          }
         }
        },
        "title": {
         "text": "Swimming Duration Over Time"
        },
        "xaxis": {
         "anchor": "y",
         "domain": [
          0,
          1
         ],
         "title": {
          "text": "startDate"
         }
        },
        "yaxis": {
         "anchor": "x",
         "domain": [
          0,
          1
         ],
         "title": {
          "text": "Duration (min)"
         }
        }
       }
      }
     },
     "metadata": {},
     "output_type": "display_data"
    },
    {
     "data": {
      "application/vnd.plotly.v1+json": {
       "config": {
        "plotlyServerURL": "https://plot.ly"
       },
       "data": [
        {
         "hovertemplate": "startDate=%{x}<br>Duration (min)=%{y}<extra></extra>",
         "legendgroup": "",
         "line": {
          "color": "#636efa",
          "dash": "solid"
         },
         "marker": {
          "symbol": "circle"
         },
         "mode": "lines",
         "name": "",
         "orientation": "v",
         "showlegend": false,
         "type": "scatter",
         "x": [
          "2022-03-16T00:52:03+00:00",
          "2022-03-17T01:15:27+00:00",
          "2022-05-23T16:02:49+00:00",
          "2022-06-08T21:20:29+00:00",
          "2022-06-08T21:32:03+00:00",
          "2022-06-08T21:56:34+00:00",
          "2022-06-08T22:20:53+00:00",
          "2022-06-09T19:21:26+00:00",
          "2022-06-11T23:56:14+00:00",
          "2022-06-14T21:02:49+00:00",
          "2022-06-18T01:28:41+00:00",
          "2022-08-22T21:14:42+00:00",
          "2022-08-24T21:27:42+00:00",
          "2022-08-26T21:42:52+00:00",
          "2022-08-27T18:56:01+00:00",
          "2022-08-28T20:04:09+00:00",
          "2022-08-28T21:36:15+00:00",
          "2022-08-28T21:47:44+00:00",
          "2022-08-31T21:20:16+00:00",
          "2022-08-31T21:23:57+00:00",
          "2022-09-03T13:37:05+00:00",
          "2022-09-03T15:34:41+00:00",
          "2022-09-11T19:57:45+00:00",
          "2022-09-14T21:09:44+00:00",
          "2022-09-14T21:29:17+00:00",
          "2022-09-16T20:25:10+00:00",
          "2022-09-19T21:04:30+00:00",
          "2022-09-19T21:37:21+00:00",
          "2022-09-19T21:44:24+00:00",
          "2022-09-21T20:49:06+00:00",
          "2022-09-21T21:13:41+00:00",
          "2022-09-21T21:33:46+00:00",
          "2022-09-22T20:55:32+00:00",
          "2022-09-25T15:22:08+00:00",
          "2022-10-15T12:00:51+00:00",
          "2022-10-15T14:50:54+00:00",
          "2022-10-15T15:32:55+00:00",
          "2022-12-01T20:41:33+00:00",
          "2022-12-03T17:27:56+00:00",
          "2022-12-04T15:41:38+00:00",
          "2022-12-08T16:08:33+00:00",
          "2022-12-17T16:14:45+00:00",
          "2022-12-17T16:34:26+00:00",
          "2022-12-17T16:50:58+00:00",
          "2022-12-19T22:13:23+00:00",
          "2022-12-19T22:19:28+00:00",
          "2022-12-19T22:31:33+00:00",
          "2022-12-20T16:51:32+00:00",
          "2022-12-21T16:53:34+00:00",
          "2022-12-28T20:11:01+00:00",
          "2023-01-17T20:28:52+00:00",
          "2023-01-25T22:11:37+00:00",
          "2023-01-27T02:34:02+00:00",
          "2023-01-28T16:15:43+00:00",
          "2023-01-29T22:41:08+00:00",
          "2023-01-31T21:45:30+00:00",
          "2023-01-31T21:59:25+00:00",
          "2023-01-31T22:21:18+00:00",
          "2023-01-31T22:43:05+00:00",
          "2023-02-01T22:18:17+00:00",
          "2023-02-02T22:13:07+00:00",
          "2023-02-03T15:41:03+00:00",
          "2023-02-03T21:35:42+00:00",
          "2023-02-04T16:46:45+00:00",
          "2023-02-08T21:54:54+00:00",
          "2023-02-18T19:36:43+00:00",
          "2023-02-18T20:11:54+00:00",
          "2023-02-20T20:46:11+00:00",
          "2023-02-23T21:11:13+00:00",
          "2023-02-25T15:04:51+00:00",
          "2023-02-25T16:08:08+00:00",
          "2023-03-02T21:15:12+00:00",
          "2023-03-06T22:28:48+00:00",
          "2023-03-11T12:30:04+00:00",
          "2023-03-16T21:21:01+00:00",
          "2023-03-17T21:49:19+00:00",
          "2023-03-17T21:52:05+00:00",
          "2023-03-21T16:17:58+00:00",
          "2023-03-26T20:30:21+00:00",
          "2023-04-03T20:58:21+00:00",
          "2023-04-09T21:18:40+00:00",
          "2023-04-24T20:27:39+00:00",
          "2023-04-26T21:16:19+00:00",
          "2023-04-28T21:42:53+00:00",
          "2023-04-29T21:44:05+00:00",
          "2023-04-30T16:47:37+00:00",
          "2023-05-03T20:47:41+00:00",
          "2023-05-09T22:11:09+00:00",
          "2023-05-11T21:43:48+00:00",
          "2023-05-12T19:50:25+00:00",
          "2023-05-13T16:11:16+00:00",
          "2023-05-13T18:28:10+00:00",
          "2023-05-17T23:34:26+00:00",
          "2023-05-18T21:21:17+00:00",
          "2023-05-18T21:50:25+00:00",
          "2023-05-18T22:00:51+00:00",
          "2023-05-20T13:13:23+00:00",
          "2023-05-21T21:33:29+00:00",
          "2023-05-30T20:50:50+00:00",
          "2023-05-30T21:12:30+00:00",
          "2023-05-30T21:32:20+00:00",
          "2023-06-01T23:36:46+00:00",
          "2023-06-03T22:34:08+00:00",
          "2023-06-03T22:49:04+00:00",
          "2023-06-04T16:11:33+00:00",
          "2023-06-10T18:09:47+00:00",
          "2023-06-11T14:16:08+00:00",
          "2023-06-17T22:27:27+00:00",
          "2023-06-24T15:25:20+00:00",
          "2023-06-25T23:15:39+00:00",
          "2023-06-30T00:19:29+00:00",
          "2023-07-01T16:49:55+00:00",
          "2023-07-08T16:22:21+00:00",
          "2023-07-09T11:36:12+00:00",
          "2023-07-11T22:25:20+00:00",
          "2023-07-15T22:08:35+00:00",
          "2024-02-10T14:49:14+00:00",
          "2024-02-20T17:10:02+00:00",
          "2024-02-21T17:19:16+00:00"
         ],
         "xaxis": "x",
         "y": [
          1041.4377720355988,
          1210.3943730592728,
          1373.5552040338516,
          682.1133899688721,
          1294.0185779333117,
          1455.3322610855105,
          660.6500589847565,
          682.6398439407349,
          922.1259070634842,
          1138.1828809976578,
          2456.352034091949,
          1807.1497299671173,
          4197.063806056976,
          1349.7691708803177,
          257.6087939739228,
          5128.681135058403,
          539.1329489946365,
          3322.323803067208,
          94.6150199174881,
          3231.83083498478,
          6957.683555006981,
          1175.1127790212631,
          2462.3205280303955,
          756.2546010017395,
          893.3186709880829,
          287.0943411588669,
          1677.4266879558563,
          350.81990098953247,
          408.7959769964218,
          1008.0556709766388,
          838.0511919260025,
          946.145623922348,
          1812.800015091896,
          11995.78127503395,
          10146.367968916891,
          2448.335491895676,
          2716.999495029449,
          1734.0422800779345,
          406.3927750587464,
          3735.731227993965,
          3791.2843710184097,
          1058.854572057724,
          733.0275659561157,
          812.5390720367432,
          299.55670297145844,
          270.3542319536209,
          337.9712179899216,
          3313.974238038063,
          3330.756292939186,
          3579.899173974991,
          4596.403591036797,
          5572.912414073944,
          4245.611861944199,
          12923.274479985235,
          2720.495964050293,
          449.381630897522,
          1007.4583170413972,
          990.4795370101928,
          992.478453040123,
          5258.211019158363,
          5380.575359940529,
          4412.997125983238,
          5176.072444915772,
          8433.120229005814,
          4087.017628073692,
          1877.8439259529116,
          1793.871197938919,
          3449.9792189598083,
          4478.399119853973,
          3540.6686528921127,
          108.24704897403716,
          2278.7397639751434,
          1194.7747330665588,
          21255.397801041603,
          906.0625100135804,
          158.58921098709106,
          810.2656899690628,
          2087.312151074409,
          4217.359318971634,
          1148.5870949029922,
          4678.27049100399,
          2803.970219016075,
          1816.0295460224152,
          3702.603093981743,
          913.8699929714204,
          7806.890903949738,
          2419.9841301441197,
          3608.12359893322,
          1683.5210529565811,
          4610.016524076462,
          7965.592469096184,
          498.87022602558136,
          1802.9402570724487,
          1548.6257098913193,
          157.2514820098877,
          1554.585744023323,
          10185.678049087524,
          1801.0826510190964,
          977.4983420372008,
          819.8251708745956,
          1200.7042200565338,
          2166.42028093338,
          868.1864311695099,
          332.926814198494,
          10339.61345231533,
          3326.0982550382614,
          104.11671006679536,
          7912.350015044212,
          3139.42050075531,
          1128.0482339859009,
          3365.6816350221634,
          6018.994241833687,
          1178.4181530475616,
          7204.272364974022,
          3217.355921149254,
          1503.805919766426,
          1748.506646990776,
          2160.286933898926,
          1424.301398038864
         ],
         "yaxis": "y"
        }
       ],
       "layout": {
        "legend": {
         "tracegroupgap": 0
        },
        "template": {
         "data": {
          "bar": [
           {
            "error_x": {
             "color": "#2a3f5f"
            },
            "error_y": {
             "color": "#2a3f5f"
            },
            "marker": {
             "line": {
              "color": "#E5ECF6",
              "width": 0.5
             },
             "pattern": {
              "fillmode": "overlay",
              "size": 10,
              "solidity": 0.2
             }
            },
            "type": "bar"
           }
          ],
          "barpolar": [
           {
            "marker": {
             "line": {
              "color": "#E5ECF6",
              "width": 0.5
             },
             "pattern": {
              "fillmode": "overlay",
              "size": 10,
              "solidity": 0.2
             }
            },
            "type": "barpolar"
           }
          ],
          "carpet": [
           {
            "aaxis": {
             "endlinecolor": "#2a3f5f",
             "gridcolor": "white",
             "linecolor": "white",
             "minorgridcolor": "white",
             "startlinecolor": "#2a3f5f"
            },
            "baxis": {
             "endlinecolor": "#2a3f5f",
             "gridcolor": "white",
             "linecolor": "white",
             "minorgridcolor": "white",
             "startlinecolor": "#2a3f5f"
            },
            "type": "carpet"
           }
          ],
          "choropleth": [
           {
            "colorbar": {
             "outlinewidth": 0,
             "ticks": ""
            },
            "type": "choropleth"
           }
          ],
          "contour": [
           {
            "colorbar": {
             "outlinewidth": 0,
             "ticks": ""
            },
            "colorscale": [
             [
              0,
              "#0d0887"
             ],
             [
              0.1111111111111111,
              "#46039f"
             ],
             [
              0.2222222222222222,
              "#7201a8"
             ],
             [
              0.3333333333333333,
              "#9c179e"
             ],
             [
              0.4444444444444444,
              "#bd3786"
             ],
             [
              0.5555555555555556,
              "#d8576b"
             ],
             [
              0.6666666666666666,
              "#ed7953"
             ],
             [
              0.7777777777777778,
              "#fb9f3a"
             ],
             [
              0.8888888888888888,
              "#fdca26"
             ],
             [
              1,
              "#f0f921"
             ]
            ],
            "type": "contour"
           }
          ],
          "contourcarpet": [
           {
            "colorbar": {
             "outlinewidth": 0,
             "ticks": ""
            },
            "type": "contourcarpet"
           }
          ],
          "heatmap": [
           {
            "colorbar": {
             "outlinewidth": 0,
             "ticks": ""
            },
            "colorscale": [
             [
              0,
              "#0d0887"
             ],
             [
              0.1111111111111111,
              "#46039f"
             ],
             [
              0.2222222222222222,
              "#7201a8"
             ],
             [
              0.3333333333333333,
              "#9c179e"
             ],
             [
              0.4444444444444444,
              "#bd3786"
             ],
             [
              0.5555555555555556,
              "#d8576b"
             ],
             [
              0.6666666666666666,
              "#ed7953"
             ],
             [
              0.7777777777777778,
              "#fb9f3a"
             ],
             [
              0.8888888888888888,
              "#fdca26"
             ],
             [
              1,
              "#f0f921"
             ]
            ],
            "type": "heatmap"
           }
          ],
          "heatmapgl": [
           {
            "colorbar": {
             "outlinewidth": 0,
             "ticks": ""
            },
            "colorscale": [
             [
              0,
              "#0d0887"
             ],
             [
              0.1111111111111111,
              "#46039f"
             ],
             [
              0.2222222222222222,
              "#7201a8"
             ],
             [
              0.3333333333333333,
              "#9c179e"
             ],
             [
              0.4444444444444444,
              "#bd3786"
             ],
             [
              0.5555555555555556,
              "#d8576b"
             ],
             [
              0.6666666666666666,
              "#ed7953"
             ],
             [
              0.7777777777777778,
              "#fb9f3a"
             ],
             [
              0.8888888888888888,
              "#fdca26"
             ],
             [
              1,
              "#f0f921"
             ]
            ],
            "type": "heatmapgl"
           }
          ],
          "histogram": [
           {
            "marker": {
             "pattern": {
              "fillmode": "overlay",
              "size": 10,
              "solidity": 0.2
             }
            },
            "type": "histogram"
           }
          ],
          "histogram2d": [
           {
            "colorbar": {
             "outlinewidth": 0,
             "ticks": ""
            },
            "colorscale": [
             [
              0,
              "#0d0887"
             ],
             [
              0.1111111111111111,
              "#46039f"
             ],
             [
              0.2222222222222222,
              "#7201a8"
             ],
             [
              0.3333333333333333,
              "#9c179e"
             ],
             [
              0.4444444444444444,
              "#bd3786"
             ],
             [
              0.5555555555555556,
              "#d8576b"
             ],
             [
              0.6666666666666666,
              "#ed7953"
             ],
             [
              0.7777777777777778,
              "#fb9f3a"
             ],
             [
              0.8888888888888888,
              "#fdca26"
             ],
             [
              1,
              "#f0f921"
             ]
            ],
            "type": "histogram2d"
           }
          ],
          "histogram2dcontour": [
           {
            "colorbar": {
             "outlinewidth": 0,
             "ticks": ""
            },
            "colorscale": [
             [
              0,
              "#0d0887"
             ],
             [
              0.1111111111111111,
              "#46039f"
             ],
             [
              0.2222222222222222,
              "#7201a8"
             ],
             [
              0.3333333333333333,
              "#9c179e"
             ],
             [
              0.4444444444444444,
              "#bd3786"
             ],
             [
              0.5555555555555556,
              "#d8576b"
             ],
             [
              0.6666666666666666,
              "#ed7953"
             ],
             [
              0.7777777777777778,
              "#fb9f3a"
             ],
             [
              0.8888888888888888,
              "#fdca26"
             ],
             [
              1,
              "#f0f921"
             ]
            ],
            "type": "histogram2dcontour"
           }
          ],
          "mesh3d": [
           {
            "colorbar": {
             "outlinewidth": 0,
             "ticks": ""
            },
            "type": "mesh3d"
           }
          ],
          "parcoords": [
           {
            "line": {
             "colorbar": {
              "outlinewidth": 0,
              "ticks": ""
             }
            },
            "type": "parcoords"
           }
          ],
          "pie": [
           {
            "automargin": true,
            "type": "pie"
           }
          ],
          "scatter": [
           {
            "fillpattern": {
             "fillmode": "overlay",
             "size": 10,
             "solidity": 0.2
            },
            "type": "scatter"
           }
          ],
          "scatter3d": [
           {
            "line": {
             "colorbar": {
              "outlinewidth": 0,
              "ticks": ""
             }
            },
            "marker": {
             "colorbar": {
              "outlinewidth": 0,
              "ticks": ""
             }
            },
            "type": "scatter3d"
           }
          ],
          "scattercarpet": [
           {
            "marker": {
             "colorbar": {
              "outlinewidth": 0,
              "ticks": ""
             }
            },
            "type": "scattercarpet"
           }
          ],
          "scattergeo": [
           {
            "marker": {
             "colorbar": {
              "outlinewidth": 0,
              "ticks": ""
             }
            },
            "type": "scattergeo"
           }
          ],
          "scattergl": [
           {
            "marker": {
             "colorbar": {
              "outlinewidth": 0,
              "ticks": ""
             }
            },
            "type": "scattergl"
           }
          ],
          "scattermapbox": [
           {
            "marker": {
             "colorbar": {
              "outlinewidth": 0,
              "ticks": ""
             }
            },
            "type": "scattermapbox"
           }
          ],
          "scatterpolar": [
           {
            "marker": {
             "colorbar": {
              "outlinewidth": 0,
              "ticks": ""
             }
            },
            "type": "scatterpolar"
           }
          ],
          "scatterpolargl": [
           {
            "marker": {
             "colorbar": {
              "outlinewidth": 0,
              "ticks": ""
             }
            },
            "type": "scatterpolargl"
           }
          ],
          "scatterternary": [
           {
            "marker": {
             "colorbar": {
              "outlinewidth": 0,
              "ticks": ""
             }
            },
            "type": "scatterternary"
           }
          ],
          "surface": [
           {
            "colorbar": {
             "outlinewidth": 0,
             "ticks": ""
            },
            "colorscale": [
             [
              0,
              "#0d0887"
             ],
             [
              0.1111111111111111,
              "#46039f"
             ],
             [
              0.2222222222222222,
              "#7201a8"
             ],
             [
              0.3333333333333333,
              "#9c179e"
             ],
             [
              0.4444444444444444,
              "#bd3786"
             ],
             [
              0.5555555555555556,
              "#d8576b"
             ],
             [
              0.6666666666666666,
              "#ed7953"
             ],
             [
              0.7777777777777778,
              "#fb9f3a"
             ],
             [
              0.8888888888888888,
              "#fdca26"
             ],
             [
              1,
              "#f0f921"
             ]
            ],
            "type": "surface"
           }
          ],
          "table": [
           {
            "cells": {
             "fill": {
              "color": "#EBF0F8"
             },
             "line": {
              "color": "white"
             }
            },
            "header": {
             "fill": {
              "color": "#C8D4E3"
             },
             "line": {
              "color": "white"
             }
            },
            "type": "table"
           }
          ]
         },
         "layout": {
          "annotationdefaults": {
           "arrowcolor": "#2a3f5f",
           "arrowhead": 0,
           "arrowwidth": 1
          },
          "autotypenumbers": "strict",
          "coloraxis": {
           "colorbar": {
            "outlinewidth": 0,
            "ticks": ""
           }
          },
          "colorscale": {
           "diverging": [
            [
             0,
             "#8e0152"
            ],
            [
             0.1,
             "#c51b7d"
            ],
            [
             0.2,
             "#de77ae"
            ],
            [
             0.3,
             "#f1b6da"
            ],
            [
             0.4,
             "#fde0ef"
            ],
            [
             0.5,
             "#f7f7f7"
            ],
            [
             0.6,
             "#e6f5d0"
            ],
            [
             0.7,
             "#b8e186"
            ],
            [
             0.8,
             "#7fbc41"
            ],
            [
             0.9,
             "#4d9221"
            ],
            [
             1,
             "#276419"
            ]
           ],
           "sequential": [
            [
             0,
             "#0d0887"
            ],
            [
             0.1111111111111111,
             "#46039f"
            ],
            [
             0.2222222222222222,
             "#7201a8"
            ],
            [
             0.3333333333333333,
             "#9c179e"
            ],
            [
             0.4444444444444444,
             "#bd3786"
            ],
            [
             0.5555555555555556,
             "#d8576b"
            ],
            [
             0.6666666666666666,
             "#ed7953"
            ],
            [
             0.7777777777777778,
             "#fb9f3a"
            ],
            [
             0.8888888888888888,
             "#fdca26"
            ],
            [
             1,
             "#f0f921"
            ]
           ],
           "sequentialminus": [
            [
             0,
             "#0d0887"
            ],
            [
             0.1111111111111111,
             "#46039f"
            ],
            [
             0.2222222222222222,
             "#7201a8"
            ],
            [
             0.3333333333333333,
             "#9c179e"
            ],
            [
             0.4444444444444444,
             "#bd3786"
            ],
            [
             0.5555555555555556,
             "#d8576b"
            ],
            [
             0.6666666666666666,
             "#ed7953"
            ],
            [
             0.7777777777777778,
             "#fb9f3a"
            ],
            [
             0.8888888888888888,
             "#fdca26"
            ],
            [
             1,
             "#f0f921"
            ]
           ]
          },
          "colorway": [
           "#636efa",
           "#EF553B",
           "#00cc96",
           "#ab63fa",
           "#FFA15A",
           "#19d3f3",
           "#FF6692",
           "#B6E880",
           "#FF97FF",
           "#FECB52"
          ],
          "font": {
           "color": "#2a3f5f"
          },
          "geo": {
           "bgcolor": "white",
           "lakecolor": "white",
           "landcolor": "#E5ECF6",
           "showlakes": true,
           "showland": true,
           "subunitcolor": "white"
          },
          "hoverlabel": {
           "align": "left"
          },
          "hovermode": "closest",
          "mapbox": {
           "style": "light"
          },
          "paper_bgcolor": "white",
          "plot_bgcolor": "#E5ECF6",
          "polar": {
           "angularaxis": {
            "gridcolor": "white",
            "linecolor": "white",
            "ticks": ""
           },
           "bgcolor": "#E5ECF6",
           "radialaxis": {
            "gridcolor": "white",
            "linecolor": "white",
            "ticks": ""
           }
          },
          "scene": {
           "xaxis": {
            "backgroundcolor": "#E5ECF6",
            "gridcolor": "white",
            "gridwidth": 2,
            "linecolor": "white",
            "showbackground": true,
            "ticks": "",
            "zerolinecolor": "white"
           },
           "yaxis": {
            "backgroundcolor": "#E5ECF6",
            "gridcolor": "white",
            "gridwidth": 2,
            "linecolor": "white",
            "showbackground": true,
            "ticks": "",
            "zerolinecolor": "white"
           },
           "zaxis": {
            "backgroundcolor": "#E5ECF6",
            "gridcolor": "white",
            "gridwidth": 2,
            "linecolor": "white",
            "showbackground": true,
            "ticks": "",
            "zerolinecolor": "white"
           }
          },
          "shapedefaults": {
           "line": {
            "color": "#2a3f5f"
           }
          },
          "ternary": {
           "aaxis": {
            "gridcolor": "white",
            "linecolor": "white",
            "ticks": ""
           },
           "baxis": {
            "gridcolor": "white",
            "linecolor": "white",
            "ticks": ""
           },
           "bgcolor": "#E5ECF6",
           "caxis": {
            "gridcolor": "white",
            "linecolor": "white",
            "ticks": ""
           }
          },
          "title": {
           "x": 0.05
          },
          "xaxis": {
           "automargin": true,
           "gridcolor": "white",
           "linecolor": "white",
           "ticks": "",
           "title": {
            "standoff": 15
           },
           "zerolinecolor": "white",
           "zerolinewidth": 2
          },
          "yaxis": {
           "automargin": true,
           "gridcolor": "white",
           "linecolor": "white",
           "ticks": "",
           "title": {
            "standoff": 15
           },
           "zerolinecolor": "white",
           "zerolinewidth": 2
          }
         }
        },
        "title": {
         "text": "Running Duration Over Time"
        },
        "xaxis": {
         "anchor": "y",
         "domain": [
          0,
          1
         ],
         "title": {
          "text": "startDate"
         }
        },
        "yaxis": {
         "anchor": "x",
         "domain": [
          0,
          1
         ],
         "title": {
          "text": "Duration (min)"
         }
        }
       }
      }
     },
     "metadata": {},
     "output_type": "display_data"
    },
    {
     "data": {
      "application/vnd.plotly.v1+json": {
       "config": {
        "plotlyServerURL": "https://plot.ly"
       },
       "data": [
        {
         "hovertemplate": "startDate=%{x}<br>Duration (min)=%{y}<extra></extra>",
         "legendgroup": "",
         "line": {
          "color": "#636efa",
          "dash": "solid"
         },
         "marker": {
          "symbol": "circle"
         },
         "mode": "lines",
         "name": "",
         "orientation": "v",
         "showlegend": false,
         "type": "scatter",
         "x": [
          "2022-03-15T01:11:08+00:00",
          "2022-11-10T22:46:32+00:00",
          "2022-12-24T22:06:10+00:00",
          "2022-12-26T22:12:57+00:00",
          "2023-01-08T22:57:47+00:00",
          "2023-01-09T23:45:21+00:00",
          "2023-01-11T23:16:00+00:00",
          "2023-02-18T01:52:53+00:00",
          "2023-02-18T18:48:33+00:00",
          "2023-02-19T18:54:07+00:00",
          "2023-02-19T20:49:43+00:00",
          "2023-02-22T00:39:02+00:00",
          "2023-03-01T21:02:34+00:00",
          "2023-03-01T23:19:11+00:00",
          "2023-03-08T00:30:19+00:00",
          "2023-03-12T23:45:42+00:00",
          "2023-03-16T20:24:32+00:00",
          "2023-03-18T12:04:31+00:00",
          "2023-04-09T00:28:10+00:00",
          "2023-04-22T15:46:57+00:00",
          "2023-04-26T20:08:00+00:00",
          "2023-04-29T00:30:24+00:00",
          "2023-04-29T17:09:51+00:00",
          "2023-05-05T20:59:27+00:00",
          "2023-05-05T21:13:46+00:00",
          "2023-05-05T21:35:28+00:00",
          "2023-05-09T20:43:39+00:00",
          "2023-05-14T12:30:56+00:00",
          "2023-05-14T14:51:00+00:00",
          "2023-05-14T14:51:22+00:00",
          "2023-05-14T14:51:31+00:00",
          "2023-05-17T22:21:51+00:00",
          "2023-05-21T13:47:25+00:00",
          "2023-05-21T18:03:21+00:00",
          "2023-05-30T23:51:25+00:00",
          "2023-06-01T16:03:32+00:00",
          "2023-06-01T22:20:44+00:00",
          "2023-06-03T14:15:57+00:00",
          "2023-06-03T14:33:56+00:00",
          "2023-06-03T15:48:37+00:00",
          "2023-06-03T20:31:00+00:00",
          "2023-06-10T14:11:37+00:00",
          "2023-06-17T18:12:13+00:00",
          "2023-06-29T00:18:13+00:00",
          "2023-07-01T13:35:36+00:00",
          "2023-07-08T14:52:35+00:00",
          "2023-07-08T23:06:40+00:00",
          "2023-07-15T18:54:49+00:00",
          "2023-07-23T12:51:12+00:00"
         ],
         "xaxis": "x",
         "y": [
          1850.321834087372,
          327.32995104789734,
          3638.8466839790335,
          1291.1477009058,
          1837.383187055588,
          2827.785299062729,
          2701.9053210020065,
          1994.3920689821243,
          2727.2863739728928,
          5988.400583028793,
          1094.2592949867249,
          3089.756832003593,
          1206.8776839971542,
          2123.550068974495,
          2829.0432510375977,
          3604.6984919309616,
          2693.335142016411,
          7691.907209038734,
          6955.484250068665,
          10166.54178094864,
          3713.735024929047,
          3601.2898449897766,
          16282.013260006905,
          834.5090473890305,
          1148.9106310606005,
          1056.1567299365995,
          3581.818707942962,
          8351,
          5.0010000467300415,
          63,
          20884.268624067307,
          4086.4759340286255,
          12017.62126004696,
          12163.233418941498,
          3608.3285989761353,
          1989.951495051384,
          4329.212749958038,
          663.2453560829163,
          2287.207056045532,
          13464.968887209892,
          6848.212714910507,
          13346.977113962172,
          13390.470578312874,
          4435.948341012001,
          10455.074650883676,
          4843.531868100166,
          2701.7225041389465,
          1794.7779613733292,
          24426.36531805992
         ],
         "yaxis": "y"
        }
       ],
       "layout": {
        "legend": {
         "tracegroupgap": 0
        },
        "template": {
         "data": {
          "bar": [
           {
            "error_x": {
             "color": "#2a3f5f"
            },
            "error_y": {
             "color": "#2a3f5f"
            },
            "marker": {
             "line": {
              "color": "#E5ECF6",
              "width": 0.5
             },
             "pattern": {
              "fillmode": "overlay",
              "size": 10,
              "solidity": 0.2
             }
            },
            "type": "bar"
           }
          ],
          "barpolar": [
           {
            "marker": {
             "line": {
              "color": "#E5ECF6",
              "width": 0.5
             },
             "pattern": {
              "fillmode": "overlay",
              "size": 10,
              "solidity": 0.2
             }
            },
            "type": "barpolar"
           }
          ],
          "carpet": [
           {
            "aaxis": {
             "endlinecolor": "#2a3f5f",
             "gridcolor": "white",
             "linecolor": "white",
             "minorgridcolor": "white",
             "startlinecolor": "#2a3f5f"
            },
            "baxis": {
             "endlinecolor": "#2a3f5f",
             "gridcolor": "white",
             "linecolor": "white",
             "minorgridcolor": "white",
             "startlinecolor": "#2a3f5f"
            },
            "type": "carpet"
           }
          ],
          "choropleth": [
           {
            "colorbar": {
             "outlinewidth": 0,
             "ticks": ""
            },
            "type": "choropleth"
           }
          ],
          "contour": [
           {
            "colorbar": {
             "outlinewidth": 0,
             "ticks": ""
            },
            "colorscale": [
             [
              0,
              "#0d0887"
             ],
             [
              0.1111111111111111,
              "#46039f"
             ],
             [
              0.2222222222222222,
              "#7201a8"
             ],
             [
              0.3333333333333333,
              "#9c179e"
             ],
             [
              0.4444444444444444,
              "#bd3786"
             ],
             [
              0.5555555555555556,
              "#d8576b"
             ],
             [
              0.6666666666666666,
              "#ed7953"
             ],
             [
              0.7777777777777778,
              "#fb9f3a"
             ],
             [
              0.8888888888888888,
              "#fdca26"
             ],
             [
              1,
              "#f0f921"
             ]
            ],
            "type": "contour"
           }
          ],
          "contourcarpet": [
           {
            "colorbar": {
             "outlinewidth": 0,
             "ticks": ""
            },
            "type": "contourcarpet"
           }
          ],
          "heatmap": [
           {
            "colorbar": {
             "outlinewidth": 0,
             "ticks": ""
            },
            "colorscale": [
             [
              0,
              "#0d0887"
             ],
             [
              0.1111111111111111,
              "#46039f"
             ],
             [
              0.2222222222222222,
              "#7201a8"
             ],
             [
              0.3333333333333333,
              "#9c179e"
             ],
             [
              0.4444444444444444,
              "#bd3786"
             ],
             [
              0.5555555555555556,
              "#d8576b"
             ],
             [
              0.6666666666666666,
              "#ed7953"
             ],
             [
              0.7777777777777778,
              "#fb9f3a"
             ],
             [
              0.8888888888888888,
              "#fdca26"
             ],
             [
              1,
              "#f0f921"
             ]
            ],
            "type": "heatmap"
           }
          ],
          "heatmapgl": [
           {
            "colorbar": {
             "outlinewidth": 0,
             "ticks": ""
            },
            "colorscale": [
             [
              0,
              "#0d0887"
             ],
             [
              0.1111111111111111,
              "#46039f"
             ],
             [
              0.2222222222222222,
              "#7201a8"
             ],
             [
              0.3333333333333333,
              "#9c179e"
             ],
             [
              0.4444444444444444,
              "#bd3786"
             ],
             [
              0.5555555555555556,
              "#d8576b"
             ],
             [
              0.6666666666666666,
              "#ed7953"
             ],
             [
              0.7777777777777778,
              "#fb9f3a"
             ],
             [
              0.8888888888888888,
              "#fdca26"
             ],
             [
              1,
              "#f0f921"
             ]
            ],
            "type": "heatmapgl"
           }
          ],
          "histogram": [
           {
            "marker": {
             "pattern": {
              "fillmode": "overlay",
              "size": 10,
              "solidity": 0.2
             }
            },
            "type": "histogram"
           }
          ],
          "histogram2d": [
           {
            "colorbar": {
             "outlinewidth": 0,
             "ticks": ""
            },
            "colorscale": [
             [
              0,
              "#0d0887"
             ],
             [
              0.1111111111111111,
              "#46039f"
             ],
             [
              0.2222222222222222,
              "#7201a8"
             ],
             [
              0.3333333333333333,
              "#9c179e"
             ],
             [
              0.4444444444444444,
              "#bd3786"
             ],
             [
              0.5555555555555556,
              "#d8576b"
             ],
             [
              0.6666666666666666,
              "#ed7953"
             ],
             [
              0.7777777777777778,
              "#fb9f3a"
             ],
             [
              0.8888888888888888,
              "#fdca26"
             ],
             [
              1,
              "#f0f921"
             ]
            ],
            "type": "histogram2d"
           }
          ],
          "histogram2dcontour": [
           {
            "colorbar": {
             "outlinewidth": 0,
             "ticks": ""
            },
            "colorscale": [
             [
              0,
              "#0d0887"
             ],
             [
              0.1111111111111111,
              "#46039f"
             ],
             [
              0.2222222222222222,
              "#7201a8"
             ],
             [
              0.3333333333333333,
              "#9c179e"
             ],
             [
              0.4444444444444444,
              "#bd3786"
             ],
             [
              0.5555555555555556,
              "#d8576b"
             ],
             [
              0.6666666666666666,
              "#ed7953"
             ],
             [
              0.7777777777777778,
              "#fb9f3a"
             ],
             [
              0.8888888888888888,
              "#fdca26"
             ],
             [
              1,
              "#f0f921"
             ]
            ],
            "type": "histogram2dcontour"
           }
          ],
          "mesh3d": [
           {
            "colorbar": {
             "outlinewidth": 0,
             "ticks": ""
            },
            "type": "mesh3d"
           }
          ],
          "parcoords": [
           {
            "line": {
             "colorbar": {
              "outlinewidth": 0,
              "ticks": ""
             }
            },
            "type": "parcoords"
           }
          ],
          "pie": [
           {
            "automargin": true,
            "type": "pie"
           }
          ],
          "scatter": [
           {
            "fillpattern": {
             "fillmode": "overlay",
             "size": 10,
             "solidity": 0.2
            },
            "type": "scatter"
           }
          ],
          "scatter3d": [
           {
            "line": {
             "colorbar": {
              "outlinewidth": 0,
              "ticks": ""
             }
            },
            "marker": {
             "colorbar": {
              "outlinewidth": 0,
              "ticks": ""
             }
            },
            "type": "scatter3d"
           }
          ],
          "scattercarpet": [
           {
            "marker": {
             "colorbar": {
              "outlinewidth": 0,
              "ticks": ""
             }
            },
            "type": "scattercarpet"
           }
          ],
          "scattergeo": [
           {
            "marker": {
             "colorbar": {
              "outlinewidth": 0,
              "ticks": ""
             }
            },
            "type": "scattergeo"
           }
          ],
          "scattergl": [
           {
            "marker": {
             "colorbar": {
              "outlinewidth": 0,
              "ticks": ""
             }
            },
            "type": "scattergl"
           }
          ],
          "scattermapbox": [
           {
            "marker": {
             "colorbar": {
              "outlinewidth": 0,
              "ticks": ""
             }
            },
            "type": "scattermapbox"
           }
          ],
          "scatterpolar": [
           {
            "marker": {
             "colorbar": {
              "outlinewidth": 0,
              "ticks": ""
             }
            },
            "type": "scatterpolar"
           }
          ],
          "scatterpolargl": [
           {
            "marker": {
             "colorbar": {
              "outlinewidth": 0,
              "ticks": ""
             }
            },
            "type": "scatterpolargl"
           }
          ],
          "scatterternary": [
           {
            "marker": {
             "colorbar": {
              "outlinewidth": 0,
              "ticks": ""
             }
            },
            "type": "scatterternary"
           }
          ],
          "surface": [
           {
            "colorbar": {
             "outlinewidth": 0,
             "ticks": ""
            },
            "colorscale": [
             [
              0,
              "#0d0887"
             ],
             [
              0.1111111111111111,
              "#46039f"
             ],
             [
              0.2222222222222222,
              "#7201a8"
             ],
             [
              0.3333333333333333,
              "#9c179e"
             ],
             [
              0.4444444444444444,
              "#bd3786"
             ],
             [
              0.5555555555555556,
              "#d8576b"
             ],
             [
              0.6666666666666666,
              "#ed7953"
             ],
             [
              0.7777777777777778,
              "#fb9f3a"
             ],
             [
              0.8888888888888888,
              "#fdca26"
             ],
             [
              1,
              "#f0f921"
             ]
            ],
            "type": "surface"
           }
          ],
          "table": [
           {
            "cells": {
             "fill": {
              "color": "#EBF0F8"
             },
             "line": {
              "color": "white"
             }
            },
            "header": {
             "fill": {
              "color": "#C8D4E3"
             },
             "line": {
              "color": "white"
             }
            },
            "type": "table"
           }
          ]
         },
         "layout": {
          "annotationdefaults": {
           "arrowcolor": "#2a3f5f",
           "arrowhead": 0,
           "arrowwidth": 1
          },
          "autotypenumbers": "strict",
          "coloraxis": {
           "colorbar": {
            "outlinewidth": 0,
            "ticks": ""
           }
          },
          "colorscale": {
           "diverging": [
            [
             0,
             "#8e0152"
            ],
            [
             0.1,
             "#c51b7d"
            ],
            [
             0.2,
             "#de77ae"
            ],
            [
             0.3,
             "#f1b6da"
            ],
            [
             0.4,
             "#fde0ef"
            ],
            [
             0.5,
             "#f7f7f7"
            ],
            [
             0.6,
             "#e6f5d0"
            ],
            [
             0.7,
             "#b8e186"
            ],
            [
             0.8,
             "#7fbc41"
            ],
            [
             0.9,
             "#4d9221"
            ],
            [
             1,
             "#276419"
            ]
           ],
           "sequential": [
            [
             0,
             "#0d0887"
            ],
            [
             0.1111111111111111,
             "#46039f"
            ],
            [
             0.2222222222222222,
             "#7201a8"
            ],
            [
             0.3333333333333333,
             "#9c179e"
            ],
            [
             0.4444444444444444,
             "#bd3786"
            ],
            [
             0.5555555555555556,
             "#d8576b"
            ],
            [
             0.6666666666666666,
             "#ed7953"
            ],
            [
             0.7777777777777778,
             "#fb9f3a"
            ],
            [
             0.8888888888888888,
             "#fdca26"
            ],
            [
             1,
             "#f0f921"
            ]
           ],
           "sequentialminus": [
            [
             0,
             "#0d0887"
            ],
            [
             0.1111111111111111,
             "#46039f"
            ],
            [
             0.2222222222222222,
             "#7201a8"
            ],
            [
             0.3333333333333333,
             "#9c179e"
            ],
            [
             0.4444444444444444,
             "#bd3786"
            ],
            [
             0.5555555555555556,
             "#d8576b"
            ],
            [
             0.6666666666666666,
             "#ed7953"
            ],
            [
             0.7777777777777778,
             "#fb9f3a"
            ],
            [
             0.8888888888888888,
             "#fdca26"
            ],
            [
             1,
             "#f0f921"
            ]
           ]
          },
          "colorway": [
           "#636efa",
           "#EF553B",
           "#00cc96",
           "#ab63fa",
           "#FFA15A",
           "#19d3f3",
           "#FF6692",
           "#B6E880",
           "#FF97FF",
           "#FECB52"
          ],
          "font": {
           "color": "#2a3f5f"
          },
          "geo": {
           "bgcolor": "white",
           "lakecolor": "white",
           "landcolor": "#E5ECF6",
           "showlakes": true,
           "showland": true,
           "subunitcolor": "white"
          },
          "hoverlabel": {
           "align": "left"
          },
          "hovermode": "closest",
          "mapbox": {
           "style": "light"
          },
          "paper_bgcolor": "white",
          "plot_bgcolor": "#E5ECF6",
          "polar": {
           "angularaxis": {
            "gridcolor": "white",
            "linecolor": "white",
            "ticks": ""
           },
           "bgcolor": "#E5ECF6",
           "radialaxis": {
            "gridcolor": "white",
            "linecolor": "white",
            "ticks": ""
           }
          },
          "scene": {
           "xaxis": {
            "backgroundcolor": "#E5ECF6",
            "gridcolor": "white",
            "gridwidth": 2,
            "linecolor": "white",
            "showbackground": true,
            "ticks": "",
            "zerolinecolor": "white"
           },
           "yaxis": {
            "backgroundcolor": "#E5ECF6",
            "gridcolor": "white",
            "gridwidth": 2,
            "linecolor": "white",
            "showbackground": true,
            "ticks": "",
            "zerolinecolor": "white"
           },
           "zaxis": {
            "backgroundcolor": "#E5ECF6",
            "gridcolor": "white",
            "gridwidth": 2,
            "linecolor": "white",
            "showbackground": true,
            "ticks": "",
            "zerolinecolor": "white"
           }
          },
          "shapedefaults": {
           "line": {
            "color": "#2a3f5f"
           }
          },
          "ternary": {
           "aaxis": {
            "gridcolor": "white",
            "linecolor": "white",
            "ticks": ""
           },
           "baxis": {
            "gridcolor": "white",
            "linecolor": "white",
            "ticks": ""
           },
           "bgcolor": "#E5ECF6",
           "caxis": {
            "gridcolor": "white",
            "linecolor": "white",
            "ticks": ""
           }
          },
          "title": {
           "x": 0.05
          },
          "xaxis": {
           "automargin": true,
           "gridcolor": "white",
           "linecolor": "white",
           "ticks": "",
           "title": {
            "standoff": 15
           },
           "zerolinecolor": "white",
           "zerolinewidth": 2
          },
          "yaxis": {
           "automargin": true,
           "gridcolor": "white",
           "linecolor": "white",
           "ticks": "",
           "title": {
            "standoff": 15
           },
           "zerolinecolor": "white",
           "zerolinewidth": 2
          }
         }
        },
        "title": {
         "text": "Cycling Duration Over Time"
        },
        "xaxis": {
         "anchor": "y",
         "domain": [
          0,
          1
         ],
         "title": {
          "text": "startDate"
         }
        },
        "yaxis": {
         "anchor": "x",
         "domain": [
          0,
          1
         ],
         "title": {
          "text": "Duration (min)"
         }
        }
       }
      }
     },
     "metadata": {},
     "output_type": "display_data"
    }
   ],
   "source": [
    "import pandas as pd\n",
    "import plotly.express as px\n",
    "\n",
    "# Load the workout data for running, swimming, and cycling\n",
    "base_path = '/Users/ngirmay/Documents/GitHub/ironman_retrospective/apple_health/health_data_exported/'\n",
    "\n",
    "# Load each workout file\n",
    "df_swimming = pd.read_csv(base_path + 'HKWorkoutActivityTypeSwimming_2024-04-99_18-31-37_SimpleHealthExportCSV.csv', sep=',', skiprows=1)\n",
    "df_running = pd.read_csv(base_path + 'HKWorkoutActivityTypeRunning_2024-04-99_18-31-37_SimpleHealthExportCSV.csv', sep=',', skiprows=1)\n",
    "df_cycling = pd.read_csv(base_path + 'HKWorkoutActivityTypeCycling_2024-04-99_18-31-36_SimpleHealthExportCSV.csv', sep=',', skiprows=1)\n",
    "\n",
    "# Convert 'startDate' to datetime\n",
    "df_swimming['startDate'] = pd.to_datetime(df_swimming['startDate'])\n",
    "df_running['startDate'] = pd.to_datetime(df_running['startDate'])\n",
    "df_cycling['startDate'] = pd.to_datetime(df_cycling['startDate'])\n",
    "\n",
    "# Plot duration for each workout type\n",
    "fig_swimming = px.line(df_swimming, x='startDate', y='duration', title='Swimming Duration Over Time', labels={'duration': 'Duration (min)'})\n",
    "fig_running = px.line(df_running, x='startDate', y='duration', title='Running Duration Over Time', labels={'duration': 'Duration (min)'})\n",
    "fig_cycling = px.line(df_cycling, x='startDate', y='duration', title='Cycling Duration Over Time', labels={'duration': 'Duration (min)'})\n",
    "\n",
    "# Show the plots\n",
    "fig_swimming.show()\n",
    "fig_running.show()\n",
    "fig_cycling.show()\n"
   ]
  },
  {
   "cell_type": "code",
   "execution_count": null,
   "metadata": {},
   "outputs": [],
   "source": []
  }
 ],
 "metadata": {
  "kernelspec": {
   "display_name": "Python 3.11.6 64-bit",
   "language": "python",
   "name": "python3"
  },
  "language_info": {
   "codemirror_mode": {
    "name": "ipython",
    "version": 3
   },
   "file_extension": ".py",
   "mimetype": "text/x-python",
   "name": "python",
   "nbconvert_exporter": "python",
   "pygments_lexer": "ipython3",
   "version": "3.11.6"
  },
  "orig_nbformat": 4,
  "vscode": {
   "interpreter": {
    "hash": "1a1af0ee75eeea9e2e1ee996c87e7a2b11a0bebd85af04bb136d915cefc0abce"
   }
  }
 },
 "nbformat": 4,
 "nbformat_minor": 2
}
