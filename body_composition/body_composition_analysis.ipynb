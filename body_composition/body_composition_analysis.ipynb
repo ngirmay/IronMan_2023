{
 "cells": [
  {
   "cell_type": "markdown",
   "metadata": {},
   "source": [
    "The 2023 Ironman was the 2nd triatholon I've done in my life, the first being a sprint event in rural maryland that I had not trained for (highlighted with a 400m pool swim with >50 contestants). With that in mind I had to create a training schedule. "
   ]
  },
  {
   "cell_type": "code",
   "execution_count": 28,
   "metadata": {},
   "outputs": [
    {
     "name": "stdout",
     "output_type": "stream",
     "text": [
      "Index(['type', 'sourceName', 'sourceVersion', 'productType', 'device',\n",
      "       'startDate', 'endDate', 'unit', 'value'],\n",
      "      dtype='object')\n"
     ]
    }
   ],
   "source": [
    "import pandas as pd\n",
    "import matplotlib.pyplot as plt\n",
    "\n",
    "# Base path where your data is located\n",
    "base_path = '/Users/ngirmay/Documents/GitHub/ironman_retrospective/apple_health/health_data_exported/'\n",
    "\n",
    "# Specific file for body fat percentage data\n",
    "body_fat_file = 'HKQuantityTypeIdentifierBodyFatPercentage_2024-04-99_18-30-56_SimpleHealthExportCSV.csv'\n",
    "\n",
    "# Full path to the body fat percentage file\n",
    "body_fat_file_path = base_path + body_fat_file\n",
    "\n",
    "df_body_fat = pd.read_csv(body_fat_file_path, sep=',', skiprows=1)  # Skipping the first row (sep=)\n",
    "\n",
    "# Print the columns to check if it’s loaded correctly\n",
    "print(df_body_fat.columns)\n",
    "\n"
   ]
  },
  {
   "cell_type": "markdown",
   "metadata": {},
   "source": [
    "Below is a graph over 1.5 years of my bodyfat percentage, as recorded by the Renpho scale and adjacent mobile app - what we're seeing in the first half is a solid effort to get into the best shape I possibly could for the race - what we see in the second half of the graph is a solid effort to undo all of that work. "
   ]
  },
  {
   "cell_type": "code",
   "execution_count": 29,
   "metadata": {},
   "outputs": [
    {
     "data": {
      "application/vnd.plotly.v1+json": {
       "config": {
        "plotlyServerURL": "https://plot.ly"
       },
       "data": [
        {
         "hovertemplate": "Date=%{x}<br>Body Fat Percentage (%)=%{y}<extra></extra>",
         "legendgroup": "",
         "line": {
          "color": "#E63946",
          "dash": "solid",
          "width": 3
         },
         "marker": {
          "symbol": "circle"
         },
         "mode": "lines",
         "name": "",
         "orientation": "v",
         "showlegend": false,
         "type": "scatter",
         "x": [
          "2022-08-17T01:06:10+00:00",
          "2022-08-29T22:32:46+00:00",
          "2022-09-16T02:01:59+00:00",
          "2022-09-16T22:15:16+00:00",
          "2022-09-21T20:25:38+00:00",
          "2022-09-21T20:35:06+00:00",
          "2022-09-21T20:35:35+00:00",
          "2022-09-23T15:03:23+00:00",
          "2022-09-23T15:03:41+00:00",
          "2022-09-23T15:03:41+00:00",
          "2022-09-23T15:03:41+00:00",
          "2022-09-23T15:03:41+00:00",
          "2022-09-23T15:03:41+00:00",
          "2022-09-23T15:03:41+00:00",
          "2022-09-23T15:03:41+00:00",
          "2022-09-23T15:10:43+00:00",
          "2022-11-24T15:28:14+00:00",
          "2022-12-04T12:14:54+00:00",
          "2022-12-04T12:15:46+00:00",
          "2022-12-04T12:16:12+00:00",
          "2022-12-04T12:16:58+00:00",
          "2022-12-04T12:16:58+00:00",
          "2022-12-04T12:16:58+00:00",
          "2022-12-04T12:16:58+00:00",
          "2022-12-04T12:17:25+00:00",
          "2022-12-04T12:17:34+00:00",
          "2022-12-06T11:12:58+00:00",
          "2022-12-08T12:14:50+00:00",
          "2022-12-16T11:10:23+00:00",
          "2022-12-17T02:47:12+00:00",
          "2022-12-17T02:47:12+00:00",
          "2022-12-17T02:47:12+00:00",
          "2022-12-17T02:47:12+00:00",
          "2022-12-18T11:45:17+00:00",
          "2022-12-24T02:58:35+00:00",
          "2022-12-28T03:32:00+00:00",
          "2023-01-10T02:50:26+00:00",
          "2023-02-16T18:49:42+00:00",
          "2023-02-22T15:26:08+00:00",
          "2023-02-22T15:26:08+00:00",
          "2023-02-22T15:26:08+00:00",
          "2023-02-22T15:26:08+00:00",
          "2023-02-22T15:26:08+00:00",
          "2023-03-09T13:21:58+00:00",
          "2023-04-03T18:59:11+00:00",
          "2023-04-07T17:53:34+00:00",
          "2023-04-08T23:38:54+00:00",
          "2023-04-09T10:25:38+00:00",
          "2023-04-09T10:25:38+00:00",
          "2023-04-15T22:15:13+00:00",
          "2023-06-18T13:57:54+00:00",
          "2023-08-09T15:34:14+00:00",
          "2023-08-14T14:33:30+00:00",
          "2023-08-26T17:21:49+00:00",
          "2023-09-06T01:10:26+00:00",
          "2023-09-06T01:10:43+00:00",
          "2023-09-08T13:05:23+00:00",
          "2023-09-21T21:52:23+00:00",
          "2023-10-11T16:49:42+00:00",
          "2023-10-16T02:38:59+00:00",
          "2023-10-21T18:57:53+00:00",
          "2023-12-07T14:42:56+00:00",
          "2023-12-12T14:07:40+00:00",
          "2024-01-07T22:26:38+00:00",
          "2024-02-13T18:19:31+00:00",
          "2024-03-11T16:37:16+00:00",
          "2024-03-14T19:32:20+00:00",
          "2024-03-14T19:37:58+00:00",
          "2024-03-17T01:38:33+00:00",
          "2024-03-18T12:30:28+00:00",
          "2024-03-25T18:39:03+00:00",
          "2024-03-25T18:39:11+00:00"
         ],
         "xaxis": "x",
         "y": [
          13.329999923706051,
          13.14000034332275,
          13.64999961853027,
          13.340000152587889,
          13.590000152587889,
          13.590000152587889,
          13.590000152587889,
          13.73999977111816,
          13.73999977111816,
          13.73999977111816,
          13.73999977111816,
          13.73999977111816,
          13.73999977111816,
          13.73999977111816,
          13.73999977111816,
          13.69999980926513,
          12.77999973297119,
          12.68000030517578,
          12.68000030517578,
          12.68000030517578,
          12.77999973297119,
          12.77999973297119,
          12.77999973297119,
          12.77999973297119,
          12.77999973297119,
          12.68000030517578,
          12.72999954223632,
          12.72999954223632,
          12.689999580383299,
          13.09000015258789,
          13.09000015258789,
          13.09000015258789,
          13.09000015258789,
          12.72999954223632,
          12.65999984741211,
          12.609999656677239,
          12.609999656677239,
          12.30000019073486,
          12.3100004196167,
          12.3100004196167,
          12.3100004196167,
          12.3100004196167,
          12.3100004196167,
          11.9099998474121,
          12,
          11.78999996185302,
          11.75,
          11.9700002670288,
          11.9700002670288,
          11.710000038146969,
          11.60999965667724,
          12.14999961853027,
          12.11999988555908,
          12.11999988555908,
          12.510000228881829,
          12.510000228881829,
          12.5600004196167,
          12.61999988555908,
          12.8100004196167,
          12.96000003814697,
          13.319999694824219,
          13.69999980926513,
          13.39999961853027,
          14.30000019073486,
          13.10000038146972,
          12.800000190734858,
          12.10000038146972,
          13.10000038146972,
          13.30000019073486,
          13.30000019073486,
          13,
          12.949999809265131
         ],
         "yaxis": "y"
        }
       ],
       "layout": {
        "font": {
         "color": "#457B9D"
        },
        "legend": {
         "tracegroupgap": 0
        },
        "paper_bgcolor": "#F1FAEE",
        "plot_bgcolor": "#F1FAEE",
        "showlegend": false,
        "template": {
         "data": {
          "bar": [
           {
            "error_x": {
             "color": "#2a3f5f"
            },
            "error_y": {
             "color": "#2a3f5f"
            },
            "marker": {
             "line": {
              "color": "#E5ECF6",
              "width": 0.5
             },
             "pattern": {
              "fillmode": "overlay",
              "size": 10,
              "solidity": 0.2
             }
            },
            "type": "bar"
           }
          ],
          "barpolar": [
           {
            "marker": {
             "line": {
              "color": "#E5ECF6",
              "width": 0.5
             },
             "pattern": {
              "fillmode": "overlay",
              "size": 10,
              "solidity": 0.2
             }
            },
            "type": "barpolar"
           }
          ],
          "carpet": [
           {
            "aaxis": {
             "endlinecolor": "#2a3f5f",
             "gridcolor": "white",
             "linecolor": "white",
             "minorgridcolor": "white",
             "startlinecolor": "#2a3f5f"
            },
            "baxis": {
             "endlinecolor": "#2a3f5f",
             "gridcolor": "white",
             "linecolor": "white",
             "minorgridcolor": "white",
             "startlinecolor": "#2a3f5f"
            },
            "type": "carpet"
           }
          ],
          "choropleth": [
           {
            "colorbar": {
             "outlinewidth": 0,
             "ticks": ""
            },
            "type": "choropleth"
           }
          ],
          "contour": [
           {
            "colorbar": {
             "outlinewidth": 0,
             "ticks": ""
            },
            "colorscale": [
             [
              0,
              "#0d0887"
             ],
             [
              0.1111111111111111,
              "#46039f"
             ],
             [
              0.2222222222222222,
              "#7201a8"
             ],
             [
              0.3333333333333333,
              "#9c179e"
             ],
             [
              0.4444444444444444,
              "#bd3786"
             ],
             [
              0.5555555555555556,
              "#d8576b"
             ],
             [
              0.6666666666666666,
              "#ed7953"
             ],
             [
              0.7777777777777778,
              "#fb9f3a"
             ],
             [
              0.8888888888888888,
              "#fdca26"
             ],
             [
              1,
              "#f0f921"
             ]
            ],
            "type": "contour"
           }
          ],
          "contourcarpet": [
           {
            "colorbar": {
             "outlinewidth": 0,
             "ticks": ""
            },
            "type": "contourcarpet"
           }
          ],
          "heatmap": [
           {
            "colorbar": {
             "outlinewidth": 0,
             "ticks": ""
            },
            "colorscale": [
             [
              0,
              "#0d0887"
             ],
             [
              0.1111111111111111,
              "#46039f"
             ],
             [
              0.2222222222222222,
              "#7201a8"
             ],
             [
              0.3333333333333333,
              "#9c179e"
             ],
             [
              0.4444444444444444,
              "#bd3786"
             ],
             [
              0.5555555555555556,
              "#d8576b"
             ],
             [
              0.6666666666666666,
              "#ed7953"
             ],
             [
              0.7777777777777778,
              "#fb9f3a"
             ],
             [
              0.8888888888888888,
              "#fdca26"
             ],
             [
              1,
              "#f0f921"
             ]
            ],
            "type": "heatmap"
           }
          ],
          "heatmapgl": [
           {
            "colorbar": {
             "outlinewidth": 0,
             "ticks": ""
            },
            "colorscale": [
             [
              0,
              "#0d0887"
             ],
             [
              0.1111111111111111,
              "#46039f"
             ],
             [
              0.2222222222222222,
              "#7201a8"
             ],
             [
              0.3333333333333333,
              "#9c179e"
             ],
             [
              0.4444444444444444,
              "#bd3786"
             ],
             [
              0.5555555555555556,
              "#d8576b"
             ],
             [
              0.6666666666666666,
              "#ed7953"
             ],
             [
              0.7777777777777778,
              "#fb9f3a"
             ],
             [
              0.8888888888888888,
              "#fdca26"
             ],
             [
              1,
              "#f0f921"
             ]
            ],
            "type": "heatmapgl"
           }
          ],
          "histogram": [
           {
            "marker": {
             "pattern": {
              "fillmode": "overlay",
              "size": 10,
              "solidity": 0.2
             }
            },
            "type": "histogram"
           }
          ],
          "histogram2d": [
           {
            "colorbar": {
             "outlinewidth": 0,
             "ticks": ""
            },
            "colorscale": [
             [
              0,
              "#0d0887"
             ],
             [
              0.1111111111111111,
              "#46039f"
             ],
             [
              0.2222222222222222,
              "#7201a8"
             ],
             [
              0.3333333333333333,
              "#9c179e"
             ],
             [
              0.4444444444444444,
              "#bd3786"
             ],
             [
              0.5555555555555556,
              "#d8576b"
             ],
             [
              0.6666666666666666,
              "#ed7953"
             ],
             [
              0.7777777777777778,
              "#fb9f3a"
             ],
             [
              0.8888888888888888,
              "#fdca26"
             ],
             [
              1,
              "#f0f921"
             ]
            ],
            "type": "histogram2d"
           }
          ],
          "histogram2dcontour": [
           {
            "colorbar": {
             "outlinewidth": 0,
             "ticks": ""
            },
            "colorscale": [
             [
              0,
              "#0d0887"
             ],
             [
              0.1111111111111111,
              "#46039f"
             ],
             [
              0.2222222222222222,
              "#7201a8"
             ],
             [
              0.3333333333333333,
              "#9c179e"
             ],
             [
              0.4444444444444444,
              "#bd3786"
             ],
             [
              0.5555555555555556,
              "#d8576b"
             ],
             [
              0.6666666666666666,
              "#ed7953"
             ],
             [
              0.7777777777777778,
              "#fb9f3a"
             ],
             [
              0.8888888888888888,
              "#fdca26"
             ],
             [
              1,
              "#f0f921"
             ]
            ],
            "type": "histogram2dcontour"
           }
          ],
          "mesh3d": [
           {
            "colorbar": {
             "outlinewidth": 0,
             "ticks": ""
            },
            "type": "mesh3d"
           }
          ],
          "parcoords": [
           {
            "line": {
             "colorbar": {
              "outlinewidth": 0,
              "ticks": ""
             }
            },
            "type": "parcoords"
           }
          ],
          "pie": [
           {
            "automargin": true,
            "type": "pie"
           }
          ],
          "scatter": [
           {
            "fillpattern": {
             "fillmode": "overlay",
             "size": 10,
             "solidity": 0.2
            },
            "type": "scatter"
           }
          ],
          "scatter3d": [
           {
            "line": {
             "colorbar": {
              "outlinewidth": 0,
              "ticks": ""
             }
            },
            "marker": {
             "colorbar": {
              "outlinewidth": 0,
              "ticks": ""
             }
            },
            "type": "scatter3d"
           }
          ],
          "scattercarpet": [
           {
            "marker": {
             "colorbar": {
              "outlinewidth": 0,
              "ticks": ""
             }
            },
            "type": "scattercarpet"
           }
          ],
          "scattergeo": [
           {
            "marker": {
             "colorbar": {
              "outlinewidth": 0,
              "ticks": ""
             }
            },
            "type": "scattergeo"
           }
          ],
          "scattergl": [
           {
            "marker": {
             "colorbar": {
              "outlinewidth": 0,
              "ticks": ""
             }
            },
            "type": "scattergl"
           }
          ],
          "scattermapbox": [
           {
            "marker": {
             "colorbar": {
              "outlinewidth": 0,
              "ticks": ""
             }
            },
            "type": "scattermapbox"
           }
          ],
          "scatterpolar": [
           {
            "marker": {
             "colorbar": {
              "outlinewidth": 0,
              "ticks": ""
             }
            },
            "type": "scatterpolar"
           }
          ],
          "scatterpolargl": [
           {
            "marker": {
             "colorbar": {
              "outlinewidth": 0,
              "ticks": ""
             }
            },
            "type": "scatterpolargl"
           }
          ],
          "scatterternary": [
           {
            "marker": {
             "colorbar": {
              "outlinewidth": 0,
              "ticks": ""
             }
            },
            "type": "scatterternary"
           }
          ],
          "surface": [
           {
            "colorbar": {
             "outlinewidth": 0,
             "ticks": ""
            },
            "colorscale": [
             [
              0,
              "#0d0887"
             ],
             [
              0.1111111111111111,
              "#46039f"
             ],
             [
              0.2222222222222222,
              "#7201a8"
             ],
             [
              0.3333333333333333,
              "#9c179e"
             ],
             [
              0.4444444444444444,
              "#bd3786"
             ],
             [
              0.5555555555555556,
              "#d8576b"
             ],
             [
              0.6666666666666666,
              "#ed7953"
             ],
             [
              0.7777777777777778,
              "#fb9f3a"
             ],
             [
              0.8888888888888888,
              "#fdca26"
             ],
             [
              1,
              "#f0f921"
             ]
            ],
            "type": "surface"
           }
          ],
          "table": [
           {
            "cells": {
             "fill": {
              "color": "#EBF0F8"
             },
             "line": {
              "color": "white"
             }
            },
            "header": {
             "fill": {
              "color": "#C8D4E3"
             },
             "line": {
              "color": "white"
             }
            },
            "type": "table"
           }
          ]
         },
         "layout": {
          "annotationdefaults": {
           "arrowcolor": "#2a3f5f",
           "arrowhead": 0,
           "arrowwidth": 1
          },
          "autotypenumbers": "strict",
          "coloraxis": {
           "colorbar": {
            "outlinewidth": 0,
            "ticks": ""
           }
          },
          "colorscale": {
           "diverging": [
            [
             0,
             "#8e0152"
            ],
            [
             0.1,
             "#c51b7d"
            ],
            [
             0.2,
             "#de77ae"
            ],
            [
             0.3,
             "#f1b6da"
            ],
            [
             0.4,
             "#fde0ef"
            ],
            [
             0.5,
             "#f7f7f7"
            ],
            [
             0.6,
             "#e6f5d0"
            ],
            [
             0.7,
             "#b8e186"
            ],
            [
             0.8,
             "#7fbc41"
            ],
            [
             0.9,
             "#4d9221"
            ],
            [
             1,
             "#276419"
            ]
           ],
           "sequential": [
            [
             0,
             "#0d0887"
            ],
            [
             0.1111111111111111,
             "#46039f"
            ],
            [
             0.2222222222222222,
             "#7201a8"
            ],
            [
             0.3333333333333333,
             "#9c179e"
            ],
            [
             0.4444444444444444,
             "#bd3786"
            ],
            [
             0.5555555555555556,
             "#d8576b"
            ],
            [
             0.6666666666666666,
             "#ed7953"
            ],
            [
             0.7777777777777778,
             "#fb9f3a"
            ],
            [
             0.8888888888888888,
             "#fdca26"
            ],
            [
             1,
             "#f0f921"
            ]
           ],
           "sequentialminus": [
            [
             0,
             "#0d0887"
            ],
            [
             0.1111111111111111,
             "#46039f"
            ],
            [
             0.2222222222222222,
             "#7201a8"
            ],
            [
             0.3333333333333333,
             "#9c179e"
            ],
            [
             0.4444444444444444,
             "#bd3786"
            ],
            [
             0.5555555555555556,
             "#d8576b"
            ],
            [
             0.6666666666666666,
             "#ed7953"
            ],
            [
             0.7777777777777778,
             "#fb9f3a"
            ],
            [
             0.8888888888888888,
             "#fdca26"
            ],
            [
             1,
             "#f0f921"
            ]
           ]
          },
          "colorway": [
           "#636efa",
           "#EF553B",
           "#00cc96",
           "#ab63fa",
           "#FFA15A",
           "#19d3f3",
           "#FF6692",
           "#B6E880",
           "#FF97FF",
           "#FECB52"
          ],
          "font": {
           "color": "#2a3f5f"
          },
          "geo": {
           "bgcolor": "white",
           "lakecolor": "white",
           "landcolor": "#E5ECF6",
           "showlakes": true,
           "showland": true,
           "subunitcolor": "white"
          },
          "hoverlabel": {
           "align": "left"
          },
          "hovermode": "closest",
          "mapbox": {
           "style": "light"
          },
          "paper_bgcolor": "white",
          "plot_bgcolor": "#E5ECF6",
          "polar": {
           "angularaxis": {
            "gridcolor": "white",
            "linecolor": "white",
            "ticks": ""
           },
           "bgcolor": "#E5ECF6",
           "radialaxis": {
            "gridcolor": "white",
            "linecolor": "white",
            "ticks": ""
           }
          },
          "scene": {
           "xaxis": {
            "backgroundcolor": "#E5ECF6",
            "gridcolor": "white",
            "gridwidth": 2,
            "linecolor": "white",
            "showbackground": true,
            "ticks": "",
            "zerolinecolor": "white"
           },
           "yaxis": {
            "backgroundcolor": "#E5ECF6",
            "gridcolor": "white",
            "gridwidth": 2,
            "linecolor": "white",
            "showbackground": true,
            "ticks": "",
            "zerolinecolor": "white"
           },
           "zaxis": {
            "backgroundcolor": "#E5ECF6",
            "gridcolor": "white",
            "gridwidth": 2,
            "linecolor": "white",
            "showbackground": true,
            "ticks": "",
            "zerolinecolor": "white"
           }
          },
          "shapedefaults": {
           "line": {
            "color": "#2a3f5f"
           }
          },
          "ternary": {
           "aaxis": {
            "gridcolor": "white",
            "linecolor": "white",
            "ticks": ""
           },
           "baxis": {
            "gridcolor": "white",
            "linecolor": "white",
            "ticks": ""
           },
           "bgcolor": "#E5ECF6",
           "caxis": {
            "gridcolor": "white",
            "linecolor": "white",
            "ticks": ""
           }
          },
          "title": {
           "x": 0.05
          },
          "xaxis": {
           "automargin": true,
           "gridcolor": "white",
           "linecolor": "white",
           "ticks": "",
           "title": {
            "standoff": 15
           },
           "zerolinecolor": "white",
           "zerolinewidth": 2
          },
          "yaxis": {
           "automargin": true,
           "gridcolor": "white",
           "linecolor": "white",
           "ticks": "",
           "title": {
            "standoff": 15
           },
           "zerolinecolor": "white",
           "zerolinewidth": 2
          }
         }
        },
        "title": {
         "font": {
          "color": "#1D3557",
          "family": "Arial",
          "size": 24
         },
         "text": "Body Fat Percentage Over Time",
         "x": 0.5
        },
        "xaxis": {
         "anchor": "y",
         "domain": [
          0,
          1
         ],
         "gridcolor": "#A8DADC",
         "tickangle": -45,
         "tickformat": "%Y-%m-%d",
         "title": {
          "text": "Date"
         }
        },
        "yaxis": {
         "anchor": "x",
         "domain": [
          0,
          1
         ],
         "gridcolor": "#A8DADC",
         "title": {
          "text": "Body Fat Percentage (%)"
         }
        }
       }
      }
     },
     "metadata": {},
     "output_type": "display_data"
    }
   ],
   "source": [
    "import pandas as pd\n",
    "import plotly.express as px\n",
    "\n",
    "# Base path where your data is located\n",
    "base_path = '/Users/ngirmay/Documents/GitHub/ironman_retrospective/apple_health/health_data_exported/'\n",
    "\n",
    "# Specific file for body fat percentage data\n",
    "body_fat_file = 'HKQuantityTypeIdentifierBodyFatPercentage_2024-04-99_18-30-56_SimpleHealthExportCSV.csv'\n",
    "\n",
    "# Full path to the body fat percentage file\n",
    "body_fat_file_path = base_path + body_fat_file\n",
    "\n",
    "# Load the dataset\n",
    "df_body_fat = pd.read_csv(body_fat_file_path, sep=',', skiprows=1)\n",
    "\n",
    "# Convert 'startDate' to datetime format\n",
    "df_body_fat['startDate'] = pd.to_datetime(df_body_fat['startDate'])\n",
    "\n",
    "# Multiply 'value' by 100 to convert it into a percentage for better readability\n",
    "df_body_fat['percentage_value'] = df_body_fat['value'] * 100\n",
    "\n",
    "# Apply the Coolors color scheme\n",
    "colors = {\n",
    "    'line': '#E63946',  # Red for the line\n",
    "    'background': '#F1FAEE',  # Light cream for the background\n",
    "    'grid': '#A8DADC',  # Light teal for grid lines\n",
    "    'title': '#1D3557',  # Dark blue for title\n",
    "    'axes': '#457B9D'  # Steel blue for axes labels\n",
    "}\n",
    "\n",
    "# Create the interactive line plot with Plotly\n",
    "fig = px.line(df_body_fat, x='startDate', y='percentage_value', \n",
    "              title='Body Fat Percentage Over Time', \n",
    "              labels={'percentage_value': 'Body Fat Percentage (%)', 'startDate': 'Date'})\n",
    "\n",
    "# Update layout to match the color scheme and center the title\n",
    "fig.update_layout(\n",
    "    plot_bgcolor=colors['background'],  # Set background color\n",
    "    paper_bgcolor=colors['background'],  # Paper (overall background)\n",
    "    title_font=dict(size=24, color=colors['title'], family=\"Arial\"),  # Title font styling (Arial is already bold by default)\n",
    "    title_x=0.5,  # Center the title\n",
    "    xaxis=dict(tickformat='%Y-%m-%d', gridcolor=colors['grid'], tickangle=-45),  # Combine x-axis settings\n",
    "    yaxis=dict(gridcolor=colors['grid']),  # Set gridline color for y-axis\n",
    "    font=dict(color=colors['axes']),  # Set font color for axes labels\n",
    "    xaxis_title='Date',\n",
    "    yaxis_title='Body Fat Percentage (%)',\n",
    "    showlegend=False  # Hide the legend\n",
    ")\n",
    "\n",
    "# Update line color\n",
    "fig.update_traces(line_color=colors['line'], line_width=3)\n",
    "\n",
    "# Show interactive plot\n",
    "fig.show()\n"
   ]
  },
  {
   "cell_type": "markdown",
   "metadata": {},
   "source": [
    "For context we can look at my actual bodyweight as later on we'll start talking about power efforts on the bike which involve some simple maths using weight in kg."
   ]
  },
  {
   "cell_type": "code",
   "execution_count": 30,
   "metadata": {},
   "outputs": [
    {
     "data": {
      "application/vnd.plotly.v1+json": {
       "config": {
        "plotlyServerURL": "https://plot.ly"
       },
       "data": [
        {
         "hovertemplate": "Date=%{x}<br>Body Mass (lb)=%{y}<extra></extra>",
         "legendgroup": "",
         "line": {
          "color": "#E63946",
          "dash": "solid",
          "width": 3
         },
         "marker": {
          "symbol": "circle"
         },
         "mode": "lines",
         "name": "",
         "orientation": "v",
         "showlegend": false,
         "type": "scatter",
         "x": [
          "2022-03-07T19:02:01+00:00",
          "2022-08-17T01:04:50+00:00",
          "2022-08-17T01:06:10+00:00",
          "2022-08-29T22:32:46+00:00",
          "2022-09-14T22:34:17+00:00",
          "2022-09-16T02:01:59+00:00",
          "2022-09-16T22:15:16+00:00",
          "2022-09-21T20:25:38+00:00",
          "2022-09-21T20:35:06+00:00",
          "2022-09-21T20:35:35+00:00",
          "2022-09-23T15:03:23+00:00",
          "2022-09-23T15:03:41+00:00",
          "2022-09-23T15:03:41+00:00",
          "2022-09-23T15:03:41+00:00",
          "2022-09-23T15:03:41+00:00",
          "2022-09-23T15:03:41+00:00",
          "2022-09-23T15:03:41+00:00",
          "2022-09-23T15:03:41+00:00",
          "2022-09-23T15:10:43+00:00",
          "2022-11-24T15:28:14+00:00",
          "2022-12-04T12:14:54+00:00",
          "2022-12-04T12:15:46+00:00",
          "2022-12-04T12:16:12+00:00",
          "2022-12-04T12:16:58+00:00",
          "2022-12-04T12:16:58+00:00",
          "2022-12-04T12:16:58+00:00",
          "2022-12-04T12:16:58+00:00",
          "2022-12-04T12:17:25+00:00",
          "2022-12-04T12:17:34+00:00",
          "2022-12-06T11:12:58+00:00",
          "2022-12-08T12:14:50+00:00",
          "2022-12-16T11:10:23+00:00",
          "2022-12-17T02:47:12+00:00",
          "2022-12-17T02:47:12+00:00",
          "2022-12-17T02:47:12+00:00",
          "2022-12-17T02:47:12+00:00",
          "2022-12-18T11:45:17+00:00",
          "2022-12-24T02:58:35+00:00",
          "2022-12-28T03:32:00+00:00",
          "2023-01-10T02:50:26+00:00",
          "2023-02-16T18:49:42+00:00",
          "2023-02-22T15:26:08+00:00",
          "2023-02-22T15:26:08+00:00",
          "2023-02-22T15:26:08+00:00",
          "2023-02-22T15:26:08+00:00",
          "2023-02-22T15:26:08+00:00",
          "2023-02-23T15:51:51+00:00",
          "2023-02-24T15:08:21+00:00",
          "2023-03-09T13:21:58+00:00",
          "2023-04-03T18:59:11+00:00",
          "2023-04-07T17:53:34+00:00",
          "2023-04-08T23:38:54+00:00",
          "2023-04-09T10:25:38+00:00",
          "2023-04-09T10:25:38+00:00",
          "2023-04-15T22:15:13+00:00",
          "2023-06-18T13:57:36+00:00",
          "2023-06-18T13:57:54+00:00",
          "2023-06-19T01:52:00+00:00",
          "2023-08-09T15:34:14+00:00",
          "2023-08-10T01:52:00+00:00",
          "2023-08-14T14:33:30+00:00",
          "2023-08-15T01:52:00+00:00",
          "2023-08-26T17:21:49+00:00",
          "2023-08-27T01:52:00+00:00",
          "2023-09-06T01:10:26+00:00",
          "2023-09-06T01:10:43+00:00",
          "2023-09-06T01:52:00+00:00",
          "2023-09-08T13:05:23+00:00",
          "2023-09-09T01:52:00+00:00",
          "2023-09-21T21:52:09+00:00",
          "2023-09-21T21:52:23+00:00",
          "2023-09-22T01:52:00+00:00",
          "2023-10-11T16:49:13+00:00",
          "2023-10-11T16:49:42+00:00",
          "2023-10-12T01:52:00+00:00",
          "2023-10-16T01:52:00+00:00",
          "2023-10-16T02:38:59+00:00",
          "2023-10-21T18:57:53+00:00",
          "2023-10-22T01:52:00+00:00",
          "2023-12-07T14:42:56+00:00",
          "2023-12-08T02:52:00+00:00",
          "2023-12-12T14:07:40+00:00",
          "2023-12-13T02:52:00+00:00",
          "2024-01-07T22:26:38+00:00",
          "2024-01-08T02:52:00+00:00",
          "2024-02-13T18:19:31+00:00",
          "2024-02-14T02:52:00+00:00",
          "2024-03-11T16:37:16+00:00",
          "2024-03-12T01:52:00+00:00",
          "2024-03-14T19:32:20+00:00",
          "2024-03-14T19:37:58+00:00",
          "2024-03-15T01:52:00+00:00",
          "2024-03-17T01:38:33+00:00",
          "2024-03-17T01:52:00+00:00",
          "2024-03-18T12:30:28+00:00",
          "2024-03-19T01:52:00+00:00",
          "2024-03-25T18:39:03+00:00",
          "2024-03-25T18:39:11+00:00",
          "2024-03-26T01:52:00+00:00"
         ],
         "xaxis": "x",
         "y": [
          176,
          172,
          172,
          170.4,
          169.8,
          175,
          172.2,
          174.4,
          174.4,
          174.4,
          175.8,
          175.8,
          175.8,
          175.8,
          175.8,
          175.8,
          175.8,
          175.8,
          175.6,
          167.2,
          166.4,
          166.4,
          166.4,
          167.2,
          167.2,
          167.2,
          167.2,
          167.2,
          166.4,
          166.8,
          166.6,
          166.4,
          170,
          170,
          170,
          170,
          166.8,
          165.8,
          165.4,
          165.4,
          162.6,
          162.6,
          162.6,
          162.6,
          162.6,
          162.6,
          161.4,
          161,
          159,
          160,
          158,
          157.6,
          159.8,
          159.8,
          157.4,
          156.6,
          156.6,
          156.60000610351562,
          161.2,
          161.1999969482422,
          161,
          161,
          161,
          161,
          164.6,
          164.6,
          164.60000610351562,
          165,
          165,
          165.6,
          165.6,
          165.60000610351562,
          167.2,
          167.2,
          167.1999969482422,
          168.39999389648438,
          168.4,
          171.8,
          171.8000030517578,
          175,
          175,
          172.6,
          172.60000610351562,
          180,
          180,
          170,
          170,
          166.8,
          166.8000030517578,
          160.4,
          168.8,
          168.8000030517578,
          171,
          171,
          171,
          171,
          168.2,
          168.2,
          168.1999969482422
         ],
         "yaxis": "y"
        }
       ],
       "layout": {
        "font": {
         "color": "#457B9D"
        },
        "legend": {
         "tracegroupgap": 0
        },
        "paper_bgcolor": "#F1FAEE",
        "plot_bgcolor": "#F1FAEE",
        "showlegend": false,
        "template": {
         "data": {
          "bar": [
           {
            "error_x": {
             "color": "#2a3f5f"
            },
            "error_y": {
             "color": "#2a3f5f"
            },
            "marker": {
             "line": {
              "color": "#E5ECF6",
              "width": 0.5
             },
             "pattern": {
              "fillmode": "overlay",
              "size": 10,
              "solidity": 0.2
             }
            },
            "type": "bar"
           }
          ],
          "barpolar": [
           {
            "marker": {
             "line": {
              "color": "#E5ECF6",
              "width": 0.5
             },
             "pattern": {
              "fillmode": "overlay",
              "size": 10,
              "solidity": 0.2
             }
            },
            "type": "barpolar"
           }
          ],
          "carpet": [
           {
            "aaxis": {
             "endlinecolor": "#2a3f5f",
             "gridcolor": "white",
             "linecolor": "white",
             "minorgridcolor": "white",
             "startlinecolor": "#2a3f5f"
            },
            "baxis": {
             "endlinecolor": "#2a3f5f",
             "gridcolor": "white",
             "linecolor": "white",
             "minorgridcolor": "white",
             "startlinecolor": "#2a3f5f"
            },
            "type": "carpet"
           }
          ],
          "choropleth": [
           {
            "colorbar": {
             "outlinewidth": 0,
             "ticks": ""
            },
            "type": "choropleth"
           }
          ],
          "contour": [
           {
            "colorbar": {
             "outlinewidth": 0,
             "ticks": ""
            },
            "colorscale": [
             [
              0,
              "#0d0887"
             ],
             [
              0.1111111111111111,
              "#46039f"
             ],
             [
              0.2222222222222222,
              "#7201a8"
             ],
             [
              0.3333333333333333,
              "#9c179e"
             ],
             [
              0.4444444444444444,
              "#bd3786"
             ],
             [
              0.5555555555555556,
              "#d8576b"
             ],
             [
              0.6666666666666666,
              "#ed7953"
             ],
             [
              0.7777777777777778,
              "#fb9f3a"
             ],
             [
              0.8888888888888888,
              "#fdca26"
             ],
             [
              1,
              "#f0f921"
             ]
            ],
            "type": "contour"
           }
          ],
          "contourcarpet": [
           {
            "colorbar": {
             "outlinewidth": 0,
             "ticks": ""
            },
            "type": "contourcarpet"
           }
          ],
          "heatmap": [
           {
            "colorbar": {
             "outlinewidth": 0,
             "ticks": ""
            },
            "colorscale": [
             [
              0,
              "#0d0887"
             ],
             [
              0.1111111111111111,
              "#46039f"
             ],
             [
              0.2222222222222222,
              "#7201a8"
             ],
             [
              0.3333333333333333,
              "#9c179e"
             ],
             [
              0.4444444444444444,
              "#bd3786"
             ],
             [
              0.5555555555555556,
              "#d8576b"
             ],
             [
              0.6666666666666666,
              "#ed7953"
             ],
             [
              0.7777777777777778,
              "#fb9f3a"
             ],
             [
              0.8888888888888888,
              "#fdca26"
             ],
             [
              1,
              "#f0f921"
             ]
            ],
            "type": "heatmap"
           }
          ],
          "heatmapgl": [
           {
            "colorbar": {
             "outlinewidth": 0,
             "ticks": ""
            },
            "colorscale": [
             [
              0,
              "#0d0887"
             ],
             [
              0.1111111111111111,
              "#46039f"
             ],
             [
              0.2222222222222222,
              "#7201a8"
             ],
             [
              0.3333333333333333,
              "#9c179e"
             ],
             [
              0.4444444444444444,
              "#bd3786"
             ],
             [
              0.5555555555555556,
              "#d8576b"
             ],
             [
              0.6666666666666666,
              "#ed7953"
             ],
             [
              0.7777777777777778,
              "#fb9f3a"
             ],
             [
              0.8888888888888888,
              "#fdca26"
             ],
             [
              1,
              "#f0f921"
             ]
            ],
            "type": "heatmapgl"
           }
          ],
          "histogram": [
           {
            "marker": {
             "pattern": {
              "fillmode": "overlay",
              "size": 10,
              "solidity": 0.2
             }
            },
            "type": "histogram"
           }
          ],
          "histogram2d": [
           {
            "colorbar": {
             "outlinewidth": 0,
             "ticks": ""
            },
            "colorscale": [
             [
              0,
              "#0d0887"
             ],
             [
              0.1111111111111111,
              "#46039f"
             ],
             [
              0.2222222222222222,
              "#7201a8"
             ],
             [
              0.3333333333333333,
              "#9c179e"
             ],
             [
              0.4444444444444444,
              "#bd3786"
             ],
             [
              0.5555555555555556,
              "#d8576b"
             ],
             [
              0.6666666666666666,
              "#ed7953"
             ],
             [
              0.7777777777777778,
              "#fb9f3a"
             ],
             [
              0.8888888888888888,
              "#fdca26"
             ],
             [
              1,
              "#f0f921"
             ]
            ],
            "type": "histogram2d"
           }
          ],
          "histogram2dcontour": [
           {
            "colorbar": {
             "outlinewidth": 0,
             "ticks": ""
            },
            "colorscale": [
             [
              0,
              "#0d0887"
             ],
             [
              0.1111111111111111,
              "#46039f"
             ],
             [
              0.2222222222222222,
              "#7201a8"
             ],
             [
              0.3333333333333333,
              "#9c179e"
             ],
             [
              0.4444444444444444,
              "#bd3786"
             ],
             [
              0.5555555555555556,
              "#d8576b"
             ],
             [
              0.6666666666666666,
              "#ed7953"
             ],
             [
              0.7777777777777778,
              "#fb9f3a"
             ],
             [
              0.8888888888888888,
              "#fdca26"
             ],
             [
              1,
              "#f0f921"
             ]
            ],
            "type": "histogram2dcontour"
           }
          ],
          "mesh3d": [
           {
            "colorbar": {
             "outlinewidth": 0,
             "ticks": ""
            },
            "type": "mesh3d"
           }
          ],
          "parcoords": [
           {
            "line": {
             "colorbar": {
              "outlinewidth": 0,
              "ticks": ""
             }
            },
            "type": "parcoords"
           }
          ],
          "pie": [
           {
            "automargin": true,
            "type": "pie"
           }
          ],
          "scatter": [
           {
            "fillpattern": {
             "fillmode": "overlay",
             "size": 10,
             "solidity": 0.2
            },
            "type": "scatter"
           }
          ],
          "scatter3d": [
           {
            "line": {
             "colorbar": {
              "outlinewidth": 0,
              "ticks": ""
             }
            },
            "marker": {
             "colorbar": {
              "outlinewidth": 0,
              "ticks": ""
             }
            },
            "type": "scatter3d"
           }
          ],
          "scattercarpet": [
           {
            "marker": {
             "colorbar": {
              "outlinewidth": 0,
              "ticks": ""
             }
            },
            "type": "scattercarpet"
           }
          ],
          "scattergeo": [
           {
            "marker": {
             "colorbar": {
              "outlinewidth": 0,
              "ticks": ""
             }
            },
            "type": "scattergeo"
           }
          ],
          "scattergl": [
           {
            "marker": {
             "colorbar": {
              "outlinewidth": 0,
              "ticks": ""
             }
            },
            "type": "scattergl"
           }
          ],
          "scattermapbox": [
           {
            "marker": {
             "colorbar": {
              "outlinewidth": 0,
              "ticks": ""
             }
            },
            "type": "scattermapbox"
           }
          ],
          "scatterpolar": [
           {
            "marker": {
             "colorbar": {
              "outlinewidth": 0,
              "ticks": ""
             }
            },
            "type": "scatterpolar"
           }
          ],
          "scatterpolargl": [
           {
            "marker": {
             "colorbar": {
              "outlinewidth": 0,
              "ticks": ""
             }
            },
            "type": "scatterpolargl"
           }
          ],
          "scatterternary": [
           {
            "marker": {
             "colorbar": {
              "outlinewidth": 0,
              "ticks": ""
             }
            },
            "type": "scatterternary"
           }
          ],
          "surface": [
           {
            "colorbar": {
             "outlinewidth": 0,
             "ticks": ""
            },
            "colorscale": [
             [
              0,
              "#0d0887"
             ],
             [
              0.1111111111111111,
              "#46039f"
             ],
             [
              0.2222222222222222,
              "#7201a8"
             ],
             [
              0.3333333333333333,
              "#9c179e"
             ],
             [
              0.4444444444444444,
              "#bd3786"
             ],
             [
              0.5555555555555556,
              "#d8576b"
             ],
             [
              0.6666666666666666,
              "#ed7953"
             ],
             [
              0.7777777777777778,
              "#fb9f3a"
             ],
             [
              0.8888888888888888,
              "#fdca26"
             ],
             [
              1,
              "#f0f921"
             ]
            ],
            "type": "surface"
           }
          ],
          "table": [
           {
            "cells": {
             "fill": {
              "color": "#EBF0F8"
             },
             "line": {
              "color": "white"
             }
            },
            "header": {
             "fill": {
              "color": "#C8D4E3"
             },
             "line": {
              "color": "white"
             }
            },
            "type": "table"
           }
          ]
         },
         "layout": {
          "annotationdefaults": {
           "arrowcolor": "#2a3f5f",
           "arrowhead": 0,
           "arrowwidth": 1
          },
          "autotypenumbers": "strict",
          "coloraxis": {
           "colorbar": {
            "outlinewidth": 0,
            "ticks": ""
           }
          },
          "colorscale": {
           "diverging": [
            [
             0,
             "#8e0152"
            ],
            [
             0.1,
             "#c51b7d"
            ],
            [
             0.2,
             "#de77ae"
            ],
            [
             0.3,
             "#f1b6da"
            ],
            [
             0.4,
             "#fde0ef"
            ],
            [
             0.5,
             "#f7f7f7"
            ],
            [
             0.6,
             "#e6f5d0"
            ],
            [
             0.7,
             "#b8e186"
            ],
            [
             0.8,
             "#7fbc41"
            ],
            [
             0.9,
             "#4d9221"
            ],
            [
             1,
             "#276419"
            ]
           ],
           "sequential": [
            [
             0,
             "#0d0887"
            ],
            [
             0.1111111111111111,
             "#46039f"
            ],
            [
             0.2222222222222222,
             "#7201a8"
            ],
            [
             0.3333333333333333,
             "#9c179e"
            ],
            [
             0.4444444444444444,
             "#bd3786"
            ],
            [
             0.5555555555555556,
             "#d8576b"
            ],
            [
             0.6666666666666666,
             "#ed7953"
            ],
            [
             0.7777777777777778,
             "#fb9f3a"
            ],
            [
             0.8888888888888888,
             "#fdca26"
            ],
            [
             1,
             "#f0f921"
            ]
           ],
           "sequentialminus": [
            [
             0,
             "#0d0887"
            ],
            [
             0.1111111111111111,
             "#46039f"
            ],
            [
             0.2222222222222222,
             "#7201a8"
            ],
            [
             0.3333333333333333,
             "#9c179e"
            ],
            [
             0.4444444444444444,
             "#bd3786"
            ],
            [
             0.5555555555555556,
             "#d8576b"
            ],
            [
             0.6666666666666666,
             "#ed7953"
            ],
            [
             0.7777777777777778,
             "#fb9f3a"
            ],
            [
             0.8888888888888888,
             "#fdca26"
            ],
            [
             1,
             "#f0f921"
            ]
           ]
          },
          "colorway": [
           "#636efa",
           "#EF553B",
           "#00cc96",
           "#ab63fa",
           "#FFA15A",
           "#19d3f3",
           "#FF6692",
           "#B6E880",
           "#FF97FF",
           "#FECB52"
          ],
          "font": {
           "color": "#2a3f5f"
          },
          "geo": {
           "bgcolor": "white",
           "lakecolor": "white",
           "landcolor": "#E5ECF6",
           "showlakes": true,
           "showland": true,
           "subunitcolor": "white"
          },
          "hoverlabel": {
           "align": "left"
          },
          "hovermode": "closest",
          "mapbox": {
           "style": "light"
          },
          "paper_bgcolor": "white",
          "plot_bgcolor": "#E5ECF6",
          "polar": {
           "angularaxis": {
            "gridcolor": "white",
            "linecolor": "white",
            "ticks": ""
           },
           "bgcolor": "#E5ECF6",
           "radialaxis": {
            "gridcolor": "white",
            "linecolor": "white",
            "ticks": ""
           }
          },
          "scene": {
           "xaxis": {
            "backgroundcolor": "#E5ECF6",
            "gridcolor": "white",
            "gridwidth": 2,
            "linecolor": "white",
            "showbackground": true,
            "ticks": "",
            "zerolinecolor": "white"
           },
           "yaxis": {
            "backgroundcolor": "#E5ECF6",
            "gridcolor": "white",
            "gridwidth": 2,
            "linecolor": "white",
            "showbackground": true,
            "ticks": "",
            "zerolinecolor": "white"
           },
           "zaxis": {
            "backgroundcolor": "#E5ECF6",
            "gridcolor": "white",
            "gridwidth": 2,
            "linecolor": "white",
            "showbackground": true,
            "ticks": "",
            "zerolinecolor": "white"
           }
          },
          "shapedefaults": {
           "line": {
            "color": "#2a3f5f"
           }
          },
          "ternary": {
           "aaxis": {
            "gridcolor": "white",
            "linecolor": "white",
            "ticks": ""
           },
           "baxis": {
            "gridcolor": "white",
            "linecolor": "white",
            "ticks": ""
           },
           "bgcolor": "#E5ECF6",
           "caxis": {
            "gridcolor": "white",
            "linecolor": "white",
            "ticks": ""
           }
          },
          "title": {
           "x": 0.05
          },
          "xaxis": {
           "automargin": true,
           "gridcolor": "white",
           "linecolor": "white",
           "ticks": "",
           "title": {
            "standoff": 15
           },
           "zerolinecolor": "white",
           "zerolinewidth": 2
          },
          "yaxis": {
           "automargin": true,
           "gridcolor": "white",
           "linecolor": "white",
           "ticks": "",
           "title": {
            "standoff": 15
           },
           "zerolinecolor": "white",
           "zerolinewidth": 2
          }
         }
        },
        "title": {
         "font": {
          "color": "#1D3557",
          "family": "Arial",
          "size": 24
         },
         "text": "Body Mass Over Time",
         "x": 0.5
        },
        "xaxis": {
         "anchor": "y",
         "domain": [
          0,
          1
         ],
         "gridcolor": "#A8DADC",
         "tickangle": -45,
         "tickformat": "%Y-%m-%d",
         "title": {
          "text": "Date"
         }
        },
        "yaxis": {
         "anchor": "x",
         "domain": [
          0,
          1
         ],
         "gridcolor": "#A8DADC",
         "title": {
          "text": "Body Mass (lb)"
         }
        }
       }
      }
     },
     "metadata": {},
     "output_type": "display_data"
    }
   ],
   "source": [
    "import pandas as pd\n",
    "import plotly.express as px\n",
    "\n",
    "# Base path where your data is located\n",
    "base_path = '/Users/ngirmay/Documents/GitHub/ironman_retrospective/apple_health/health_data_exported/'\n",
    "\n",
    "# Specific file for body mass data\n",
    "body_mass_file = 'HKQuantityTypeIdentifierBodyMass_2024-04-99_18-30-56_SimpleHealthExportCSV.csv'\n",
    "\n",
    "# Full path to the body mass file\n",
    "body_mass_file_path = base_path + body_mass_file\n",
    "\n",
    "# Load the dataset for body mass\n",
    "df_body_mass = pd.read_csv(body_mass_file_path, sep=',', skiprows=1)\n",
    "\n",
    "# Convert 'startDate' to datetime format\n",
    "df_body_mass['startDate'] = pd.to_datetime(df_body_mass['startDate'])\n",
    "\n",
    "# Apply the Coolors color scheme\n",
    "colors = {\n",
    "    'line': '#E63946',  # Red for the line\n",
    "    'background': '#F1FAEE',  # Light cream for the background\n",
    "    'grid': '#A8DADC',  # Light teal for grid lines\n",
    "    'title': '#1D3557',  # Dark blue for title\n",
    "    'axes': '#457B9D'  # Steel blue for axes labels\n",
    "}\n",
    "\n",
    "# Create the interactive line plot with Plotly for body mass\n",
    "fig = px.line(df_body_mass, x='startDate', y='value', \n",
    "              title='Body Mass Over Time', \n",
    "              labels={'value': 'Body Mass (lb)', 'startDate': 'Date'})\n",
    "\n",
    "# Update layout to match the color scheme and center the title\n",
    "fig.update_layout(\n",
    "    plot_bgcolor=colors['background'],  # Set background color\n",
    "    paper_bgcolor=colors['background'],  # Paper (overall background)\n",
    "    title_font=dict(size=24, color=colors['title'], family=\"Arial\"),  # Title font styling\n",
    "    title_x=0.5,  # Center the title\n",
    "    xaxis=dict(tickformat='%Y-%m-%d', gridcolor=colors['grid'], tickangle=-45),  # Combine x-axis settings\n",
    "    yaxis=dict(gridcolor=colors['grid']),  # Set gridline color for y-axis\n",
    "    font=dict(color=colors['axes']),  # Set font color for axes labels\n",
    "    xaxis_title='Date',\n",
    "    yaxis_title='Body Mass (lb)',\n",
    "    showlegend=False  # Hide the legend\n",
    ")\n",
    "\n",
    "# Static line color\n",
    "fig.update_traces(line_color=colors['line'], line_width=3)\n",
    "\n",
    "# Show interactive plot\n",
    "fig.show()\n"
   ]
  },
  {
   "cell_type": "markdown",
   "metadata": {},
   "source": [
    "Now looking at the lean body mass I can assuredly say I did lose muscle during this effort but that was to be expected - While I did try and maintain strength training sessions throughout the week I found it difficult to keep the weight the same as body weight dropped - brightside was that pull ups go easier over time."
   ]
  },
  {
   "cell_type": "code",
   "execution_count": 36,
   "metadata": {},
   "outputs": [
    {
     "data": {
      "application/vnd.plotly.v1+json": {
       "config": {
        "plotlyServerURL": "https://plot.ly"
       },
       "data": [
        {
         "hovertemplate": "Date=%{x}<br>Lean Body Mass (lb)=%{y}<extra></extra>",
         "legendgroup": "",
         "line": {
          "color": "#636efa",
          "dash": "solid"
         },
         "marker": {
          "symbol": "circle"
         },
         "mode": "lines",
         "name": "",
         "orientation": "v",
         "showlegend": false,
         "type": "scatter",
         "x": [
          "2022-08-17T01:06:10+00:00",
          "2022-08-29T22:32:46+00:00",
          "2022-09-16T02:01:59+00:00",
          "2022-09-16T22:15:16+00:00",
          "2022-09-21T20:25:38+00:00",
          "2022-09-21T20:35:06+00:00",
          "2022-09-21T20:35:35+00:00",
          "2022-09-23T15:03:23+00:00",
          "2022-09-23T15:03:41+00:00",
          "2022-09-23T15:03:41+00:00",
          "2022-09-23T15:03:41+00:00",
          "2022-09-23T15:03:41+00:00",
          "2022-09-23T15:03:41+00:00",
          "2022-09-23T15:03:41+00:00",
          "2022-09-23T15:03:41+00:00",
          "2022-09-23T15:10:43+00:00",
          "2022-11-24T15:28:14+00:00",
          "2022-12-04T12:14:54+00:00",
          "2022-12-04T12:15:46+00:00",
          "2022-12-04T12:16:12+00:00",
          "2022-12-04T12:16:58+00:00",
          "2022-12-04T12:16:58+00:00",
          "2022-12-04T12:16:58+00:00",
          "2022-12-04T12:16:58+00:00",
          "2022-12-04T12:17:25+00:00",
          "2022-12-04T12:17:34+00:00",
          "2022-12-06T11:12:58+00:00",
          "2022-12-08T12:14:50+00:00",
          "2022-12-16T11:10:23+00:00",
          "2022-12-17T02:47:12+00:00",
          "2022-12-17T02:47:12+00:00",
          "2022-12-17T02:47:12+00:00",
          "2022-12-17T02:47:12+00:00",
          "2022-12-18T11:45:17+00:00",
          "2022-12-24T02:58:35+00:00",
          "2022-12-28T03:32:00+00:00",
          "2023-01-10T02:50:26+00:00",
          "2023-02-16T18:49:42+00:00",
          "2023-02-22T15:26:08+00:00",
          "2023-02-22T15:26:08+00:00",
          "2023-02-22T15:26:08+00:00",
          "2023-02-22T15:26:08+00:00",
          "2023-02-22T15:26:08+00:00",
          "2023-03-09T13:21:58+00:00",
          "2023-04-03T18:59:11+00:00",
          "2023-04-07T17:53:34+00:00",
          "2023-04-08T23:38:54+00:00",
          "2023-04-09T10:25:38+00:00",
          "2023-04-09T10:25:38+00:00",
          "2023-04-15T22:15:13+00:00",
          "2023-06-18T13:57:54+00:00",
          "2023-08-09T15:34:14+00:00",
          "2023-08-14T14:33:30+00:00",
          "2023-08-26T17:21:49+00:00",
          "2023-09-06T01:10:26+00:00",
          "2023-09-06T01:10:43+00:00",
          "2023-09-08T13:05:23+00:00",
          "2023-09-21T21:52:23+00:00",
          "2023-10-11T16:49:42+00:00",
          "2023-10-16T02:38:59+00:00",
          "2023-10-21T18:57:53+00:00",
          "2023-12-07T14:42:56+00:00",
          "2023-12-12T14:07:40+00:00",
          "2024-01-07T22:26:38+00:00",
          "2024-02-13T18:19:31+00:00",
          "2024-03-11T16:37:16+00:00",
          "2024-03-14T19:32:20+00:00",
          "2024-03-14T19:37:58+00:00",
          "2024-03-17T01:38:33+00:00",
          "2024-03-18T12:30:28+00:00",
          "2024-03-25T18:39:03+00:00",
          "2024-03-25T18:39:11+00:00"
         ],
         "xaxis": "x",
         "y": [
          149.2,
          148,
          151.2,
          149.2,
          150.6,
          150.6,
          150.6,
          151.6,
          151.6,
          151.6,
          151.6,
          151.6,
          151.6,
          151.6,
          151.6,
          151.6,
          145.8,
          145.2,
          145.2,
          145.2,
          145.8,
          145.8,
          145.8,
          145.8,
          145.8,
          145.2,
          145.6,
          145.4,
          145.4,
          147.8,
          147.8,
          147.8,
          147.8,
          145.6,
          144.8,
          144.6,
          144.6,
          142.6,
          142.6,
          142.6,
          142.6,
          142.6,
          142.6,
          140.2,
          140.8,
          139.4,
          139.2,
          140.6,
          140.6,
          139,
          138.4,
          141.6,
          141.6,
          141.6,
          144,
          144,
          144.2,
          144.8,
          145.8,
          146.6,
          148.8,
          151,
          149.2,
          154.4,
          147.8,
          145.6,
          141,
          146.8,
          148.2,
          148.4,
          146.4,
          146.4
         ],
         "yaxis": "y"
        }
       ],
       "layout": {
        "font": {
         "color": "#457B9D"
        },
        "legend": {
         "tracegroupgap": 0
        },
        "paper_bgcolor": "#F1FAEE",
        "plot_bgcolor": "#F1FAEE",
        "showlegend": false,
        "template": {
         "data": {
          "bar": [
           {
            "error_x": {
             "color": "#2a3f5f"
            },
            "error_y": {
             "color": "#2a3f5f"
            },
            "marker": {
             "line": {
              "color": "#E5ECF6",
              "width": 0.5
             },
             "pattern": {
              "fillmode": "overlay",
              "size": 10,
              "solidity": 0.2
             }
            },
            "type": "bar"
           }
          ],
          "barpolar": [
           {
            "marker": {
             "line": {
              "color": "#E5ECF6",
              "width": 0.5
             },
             "pattern": {
              "fillmode": "overlay",
              "size": 10,
              "solidity": 0.2
             }
            },
            "type": "barpolar"
           }
          ],
          "carpet": [
           {
            "aaxis": {
             "endlinecolor": "#2a3f5f",
             "gridcolor": "white",
             "linecolor": "white",
             "minorgridcolor": "white",
             "startlinecolor": "#2a3f5f"
            },
            "baxis": {
             "endlinecolor": "#2a3f5f",
             "gridcolor": "white",
             "linecolor": "white",
             "minorgridcolor": "white",
             "startlinecolor": "#2a3f5f"
            },
            "type": "carpet"
           }
          ],
          "choropleth": [
           {
            "colorbar": {
             "outlinewidth": 0,
             "ticks": ""
            },
            "type": "choropleth"
           }
          ],
          "contour": [
           {
            "colorbar": {
             "outlinewidth": 0,
             "ticks": ""
            },
            "colorscale": [
             [
              0,
              "#0d0887"
             ],
             [
              0.1111111111111111,
              "#46039f"
             ],
             [
              0.2222222222222222,
              "#7201a8"
             ],
             [
              0.3333333333333333,
              "#9c179e"
             ],
             [
              0.4444444444444444,
              "#bd3786"
             ],
             [
              0.5555555555555556,
              "#d8576b"
             ],
             [
              0.6666666666666666,
              "#ed7953"
             ],
             [
              0.7777777777777778,
              "#fb9f3a"
             ],
             [
              0.8888888888888888,
              "#fdca26"
             ],
             [
              1,
              "#f0f921"
             ]
            ],
            "type": "contour"
           }
          ],
          "contourcarpet": [
           {
            "colorbar": {
             "outlinewidth": 0,
             "ticks": ""
            },
            "type": "contourcarpet"
           }
          ],
          "heatmap": [
           {
            "colorbar": {
             "outlinewidth": 0,
             "ticks": ""
            },
            "colorscale": [
             [
              0,
              "#0d0887"
             ],
             [
              0.1111111111111111,
              "#46039f"
             ],
             [
              0.2222222222222222,
              "#7201a8"
             ],
             [
              0.3333333333333333,
              "#9c179e"
             ],
             [
              0.4444444444444444,
              "#bd3786"
             ],
             [
              0.5555555555555556,
              "#d8576b"
             ],
             [
              0.6666666666666666,
              "#ed7953"
             ],
             [
              0.7777777777777778,
              "#fb9f3a"
             ],
             [
              0.8888888888888888,
              "#fdca26"
             ],
             [
              1,
              "#f0f921"
             ]
            ],
            "type": "heatmap"
           }
          ],
          "heatmapgl": [
           {
            "colorbar": {
             "outlinewidth": 0,
             "ticks": ""
            },
            "colorscale": [
             [
              0,
              "#0d0887"
             ],
             [
              0.1111111111111111,
              "#46039f"
             ],
             [
              0.2222222222222222,
              "#7201a8"
             ],
             [
              0.3333333333333333,
              "#9c179e"
             ],
             [
              0.4444444444444444,
              "#bd3786"
             ],
             [
              0.5555555555555556,
              "#d8576b"
             ],
             [
              0.6666666666666666,
              "#ed7953"
             ],
             [
              0.7777777777777778,
              "#fb9f3a"
             ],
             [
              0.8888888888888888,
              "#fdca26"
             ],
             [
              1,
              "#f0f921"
             ]
            ],
            "type": "heatmapgl"
           }
          ],
          "histogram": [
           {
            "marker": {
             "pattern": {
              "fillmode": "overlay",
              "size": 10,
              "solidity": 0.2
             }
            },
            "type": "histogram"
           }
          ],
          "histogram2d": [
           {
            "colorbar": {
             "outlinewidth": 0,
             "ticks": ""
            },
            "colorscale": [
             [
              0,
              "#0d0887"
             ],
             [
              0.1111111111111111,
              "#46039f"
             ],
             [
              0.2222222222222222,
              "#7201a8"
             ],
             [
              0.3333333333333333,
              "#9c179e"
             ],
             [
              0.4444444444444444,
              "#bd3786"
             ],
             [
              0.5555555555555556,
              "#d8576b"
             ],
             [
              0.6666666666666666,
              "#ed7953"
             ],
             [
              0.7777777777777778,
              "#fb9f3a"
             ],
             [
              0.8888888888888888,
              "#fdca26"
             ],
             [
              1,
              "#f0f921"
             ]
            ],
            "type": "histogram2d"
           }
          ],
          "histogram2dcontour": [
           {
            "colorbar": {
             "outlinewidth": 0,
             "ticks": ""
            },
            "colorscale": [
             [
              0,
              "#0d0887"
             ],
             [
              0.1111111111111111,
              "#46039f"
             ],
             [
              0.2222222222222222,
              "#7201a8"
             ],
             [
              0.3333333333333333,
              "#9c179e"
             ],
             [
              0.4444444444444444,
              "#bd3786"
             ],
             [
              0.5555555555555556,
              "#d8576b"
             ],
             [
              0.6666666666666666,
              "#ed7953"
             ],
             [
              0.7777777777777778,
              "#fb9f3a"
             ],
             [
              0.8888888888888888,
              "#fdca26"
             ],
             [
              1,
              "#f0f921"
             ]
            ],
            "type": "histogram2dcontour"
           }
          ],
          "mesh3d": [
           {
            "colorbar": {
             "outlinewidth": 0,
             "ticks": ""
            },
            "type": "mesh3d"
           }
          ],
          "parcoords": [
           {
            "line": {
             "colorbar": {
              "outlinewidth": 0,
              "ticks": ""
             }
            },
            "type": "parcoords"
           }
          ],
          "pie": [
           {
            "automargin": true,
            "type": "pie"
           }
          ],
          "scatter": [
           {
            "fillpattern": {
             "fillmode": "overlay",
             "size": 10,
             "solidity": 0.2
            },
            "type": "scatter"
           }
          ],
          "scatter3d": [
           {
            "line": {
             "colorbar": {
              "outlinewidth": 0,
              "ticks": ""
             }
            },
            "marker": {
             "colorbar": {
              "outlinewidth": 0,
              "ticks": ""
             }
            },
            "type": "scatter3d"
           }
          ],
          "scattercarpet": [
           {
            "marker": {
             "colorbar": {
              "outlinewidth": 0,
              "ticks": ""
             }
            },
            "type": "scattercarpet"
           }
          ],
          "scattergeo": [
           {
            "marker": {
             "colorbar": {
              "outlinewidth": 0,
              "ticks": ""
             }
            },
            "type": "scattergeo"
           }
          ],
          "scattergl": [
           {
            "marker": {
             "colorbar": {
              "outlinewidth": 0,
              "ticks": ""
             }
            },
            "type": "scattergl"
           }
          ],
          "scattermapbox": [
           {
            "marker": {
             "colorbar": {
              "outlinewidth": 0,
              "ticks": ""
             }
            },
            "type": "scattermapbox"
           }
          ],
          "scatterpolar": [
           {
            "marker": {
             "colorbar": {
              "outlinewidth": 0,
              "ticks": ""
             }
            },
            "type": "scatterpolar"
           }
          ],
          "scatterpolargl": [
           {
            "marker": {
             "colorbar": {
              "outlinewidth": 0,
              "ticks": ""
             }
            },
            "type": "scatterpolargl"
           }
          ],
          "scatterternary": [
           {
            "marker": {
             "colorbar": {
              "outlinewidth": 0,
              "ticks": ""
             }
            },
            "type": "scatterternary"
           }
          ],
          "surface": [
           {
            "colorbar": {
             "outlinewidth": 0,
             "ticks": ""
            },
            "colorscale": [
             [
              0,
              "#0d0887"
             ],
             [
              0.1111111111111111,
              "#46039f"
             ],
             [
              0.2222222222222222,
              "#7201a8"
             ],
             [
              0.3333333333333333,
              "#9c179e"
             ],
             [
              0.4444444444444444,
              "#bd3786"
             ],
             [
              0.5555555555555556,
              "#d8576b"
             ],
             [
              0.6666666666666666,
              "#ed7953"
             ],
             [
              0.7777777777777778,
              "#fb9f3a"
             ],
             [
              0.8888888888888888,
              "#fdca26"
             ],
             [
              1,
              "#f0f921"
             ]
            ],
            "type": "surface"
           }
          ],
          "table": [
           {
            "cells": {
             "fill": {
              "color": "#EBF0F8"
             },
             "line": {
              "color": "white"
             }
            },
            "header": {
             "fill": {
              "color": "#C8D4E3"
             },
             "line": {
              "color": "white"
             }
            },
            "type": "table"
           }
          ]
         },
         "layout": {
          "annotationdefaults": {
           "arrowcolor": "#2a3f5f",
           "arrowhead": 0,
           "arrowwidth": 1
          },
          "autotypenumbers": "strict",
          "coloraxis": {
           "colorbar": {
            "outlinewidth": 0,
            "ticks": ""
           }
          },
          "colorscale": {
           "diverging": [
            [
             0,
             "#8e0152"
            ],
            [
             0.1,
             "#c51b7d"
            ],
            [
             0.2,
             "#de77ae"
            ],
            [
             0.3,
             "#f1b6da"
            ],
            [
             0.4,
             "#fde0ef"
            ],
            [
             0.5,
             "#f7f7f7"
            ],
            [
             0.6,
             "#e6f5d0"
            ],
            [
             0.7,
             "#b8e186"
            ],
            [
             0.8,
             "#7fbc41"
            ],
            [
             0.9,
             "#4d9221"
            ],
            [
             1,
             "#276419"
            ]
           ],
           "sequential": [
            [
             0,
             "#0d0887"
            ],
            [
             0.1111111111111111,
             "#46039f"
            ],
            [
             0.2222222222222222,
             "#7201a8"
            ],
            [
             0.3333333333333333,
             "#9c179e"
            ],
            [
             0.4444444444444444,
             "#bd3786"
            ],
            [
             0.5555555555555556,
             "#d8576b"
            ],
            [
             0.6666666666666666,
             "#ed7953"
            ],
            [
             0.7777777777777778,
             "#fb9f3a"
            ],
            [
             0.8888888888888888,
             "#fdca26"
            ],
            [
             1,
             "#f0f921"
            ]
           ],
           "sequentialminus": [
            [
             0,
             "#0d0887"
            ],
            [
             0.1111111111111111,
             "#46039f"
            ],
            [
             0.2222222222222222,
             "#7201a8"
            ],
            [
             0.3333333333333333,
             "#9c179e"
            ],
            [
             0.4444444444444444,
             "#bd3786"
            ],
            [
             0.5555555555555556,
             "#d8576b"
            ],
            [
             0.6666666666666666,
             "#ed7953"
            ],
            [
             0.7777777777777778,
             "#fb9f3a"
            ],
            [
             0.8888888888888888,
             "#fdca26"
            ],
            [
             1,
             "#f0f921"
            ]
           ]
          },
          "colorway": [
           "#636efa",
           "#EF553B",
           "#00cc96",
           "#ab63fa",
           "#FFA15A",
           "#19d3f3",
           "#FF6692",
           "#B6E880",
           "#FF97FF",
           "#FECB52"
          ],
          "font": {
           "color": "#2a3f5f"
          },
          "geo": {
           "bgcolor": "white",
           "lakecolor": "white",
           "landcolor": "#E5ECF6",
           "showlakes": true,
           "showland": true,
           "subunitcolor": "white"
          },
          "hoverlabel": {
           "align": "left"
          },
          "hovermode": "closest",
          "mapbox": {
           "style": "light"
          },
          "paper_bgcolor": "white",
          "plot_bgcolor": "#E5ECF6",
          "polar": {
           "angularaxis": {
            "gridcolor": "white",
            "linecolor": "white",
            "ticks": ""
           },
           "bgcolor": "#E5ECF6",
           "radialaxis": {
            "gridcolor": "white",
            "linecolor": "white",
            "ticks": ""
           }
          },
          "scene": {
           "xaxis": {
            "backgroundcolor": "#E5ECF6",
            "gridcolor": "white",
            "gridwidth": 2,
            "linecolor": "white",
            "showbackground": true,
            "ticks": "",
            "zerolinecolor": "white"
           },
           "yaxis": {
            "backgroundcolor": "#E5ECF6",
            "gridcolor": "white",
            "gridwidth": 2,
            "linecolor": "white",
            "showbackground": true,
            "ticks": "",
            "zerolinecolor": "white"
           },
           "zaxis": {
            "backgroundcolor": "#E5ECF6",
            "gridcolor": "white",
            "gridwidth": 2,
            "linecolor": "white",
            "showbackground": true,
            "ticks": "",
            "zerolinecolor": "white"
           }
          },
          "shapedefaults": {
           "line": {
            "color": "#2a3f5f"
           }
          },
          "ternary": {
           "aaxis": {
            "gridcolor": "white",
            "linecolor": "white",
            "ticks": ""
           },
           "baxis": {
            "gridcolor": "white",
            "linecolor": "white",
            "ticks": ""
           },
           "bgcolor": "#E5ECF6",
           "caxis": {
            "gridcolor": "white",
            "linecolor": "white",
            "ticks": ""
           }
          },
          "title": {
           "x": 0.05
          },
          "xaxis": {
           "automargin": true,
           "gridcolor": "white",
           "linecolor": "white",
           "ticks": "",
           "title": {
            "standoff": 15
           },
           "zerolinecolor": "white",
           "zerolinewidth": 2
          },
          "yaxis": {
           "automargin": true,
           "gridcolor": "white",
           "linecolor": "white",
           "ticks": "",
           "title": {
            "standoff": 15
           },
           "zerolinecolor": "white",
           "zerolinewidth": 2
          }
         }
        },
        "title": {
         "font": {
          "color": "#1D3557",
          "size": 24
         },
         "text": "Lean Body Mass Over Time",
         "x": 0.5
        },
        "xaxis": {
         "anchor": "y",
         "domain": [
          0,
          1
         ],
         "gridcolor": "#A8DADC",
         "tickformat": "%Y-%m-%d",
         "title": {
          "text": "Date"
         }
        },
        "yaxis": {
         "anchor": "x",
         "domain": [
          0,
          1
         ],
         "gridcolor": "#A8DADC",
         "title": {
          "text": "Lean Body Mass (lb)"
         }
        }
       }
      }
     },
     "metadata": {},
     "output_type": "display_data"
    }
   ],
   "source": [
    "import pandas as pd\n",
    "import plotly.express as px\n",
    "\n",
    "# Base path where your data is located\n",
    "base_path = '/Users/ngirmay/Documents/GitHub/ironman_retrospective/apple_health/health_data_exported/'\n",
    "\n",
    "# Load the lean body mass data\n",
    "df_lean_body_mass = pd.read_csv(base_path + 'HKQuantityTypeIdentifierLeanBodyMass_2024-04-99_18-30-56_SimpleHealthExportCSV.csv', sep=',', skiprows=1)\n",
    "\n",
    "# Convert 'startDate' to datetime format\n",
    "df_lean_body_mass['startDate'] = pd.to_datetime(df_lean_body_mass['startDate'])\n",
    "\n",
    "# Multiply 'value' by 1000 if needed (if values are in grams) to convert it into kilograms\n",
    "df_lean_body_mass['lean_body_mass_kg'] = df_lean_body_mass['value']  # Adjust if necessary\n",
    "\n",
    "# Create the interactive line plot with Plotly for lean body mass\n",
    "fig = px.line(df_lean_body_mass, x='startDate', y='lean_body_mass_kg', \n",
    "              title='Lean Body Mass Over Time', \n",
    "              labels={'lean_body_mass_kg': 'Lean Body Mass (lb)', 'startDate': 'Date'})\n",
    "\n",
    "# Customize the layout\n",
    "fig.update_layout(\n",
    "    plot_bgcolor='#F1FAEE',  # Set background color\n",
    "    paper_bgcolor='#F1FAEE',  # Paper (overall background)\n",
    "    title_font=dict(size=24, color='#1D3557'),  # Title font styling\n",
    "    title_x=0.5,  # Center the title\n",
    "    xaxis=dict(tickformat='%Y-%m-%d', gridcolor='#A8DADC'),  # Combine x-axis settings\n",
    "    yaxis=dict(gridcolor='#A8DADC'),  # Set gridline color for y-axis\n",
    "    font=dict(color='#457B9D'),  # Set font color for axes labels\n",
    "    xaxis_title='Date',\n",
    "    yaxis_title='Lean Body Mass (lb)',\n",
    "    showlegend=False  # Hide the legend\n",
    ")\n",
    "\n",
    "# Show the interactive plot\n",
    "fig.show()\n"
   ]
  },
  {
   "cell_type": "code",
   "execution_count": 50,
   "metadata": {},
   "outputs": [
    {
     "data": {
      "application/vnd.plotly.v1+json": {
       "config": {
        "plotlyServerURL": "https://plot.ly"
       },
       "data": [
        {
         "alignmentgroup": "True",
         "boxpoints": "all",
         "hovertemplate": "Activity Type=%{x}<br>Heart Rate (BPM)=%{y}<extra></extra>",
         "legendgroup": "Basketball",
         "marker": {
          "color": "#636efa",
          "opacity": 0.6,
          "size": 6
         },
         "name": "Basketball",
         "notched": false,
         "offsetgroup": "Basketball",
         "orientation": "v",
         "showlegend": true,
         "type": "box",
         "x": [
          "Basketball",
          "Basketball",
          "Basketball"
         ],
         "x0": " ",
         "xaxis": "x",
         "y": [
          148.26319875503617,
          130,
          139.5467511889673
         ],
         "y0": " ",
         "yaxis": "y"
        },
        {
         "alignmentgroup": "True",
         "boxpoints": "all",
         "hovertemplate": "Activity Type=%{x}<br>Heart Rate (BPM)=%{y}<extra></extra>",
         "legendgroup": "Cycling",
         "marker": {
          "color": "#EF553B",
          "opacity": 0.6,
          "size": 6
         },
         "name": "Cycling",
         "notched": false,
         "offsetgroup": "Cycling",
         "orientation": "v",
         "showlegend": true,
         "type": "box",
         "x": [
          "Cycling",
          "Cycling",
          "Cycling",
          "Cycling",
          "Cycling",
          "Cycling",
          "Cycling",
          "Cycling",
          "Cycling",
          "Cycling",
          "Cycling",
          "Cycling",
          "Cycling",
          "Cycling",
          "Cycling",
          "Cycling",
          "Cycling",
          "Cycling",
          "Cycling",
          "Cycling",
          "Cycling",
          "Cycling",
          "Cycling",
          "Cycling",
          "Cycling",
          "Cycling",
          "Cycling",
          "Cycling",
          "Cycling",
          "Cycling",
          "Cycling",
          "Cycling",
          "Cycling",
          "Cycling",
          "Cycling",
          "Cycling",
          "Cycling",
          "Cycling",
          "Cycling",
          "Cycling",
          "Cycling",
          "Cycling",
          "Cycling",
          "Cycling",
          "Cycling",
          "Cycling",
          "Cycling",
          "Cycling",
          "Cycling",
          "Cycling",
          "Cycling",
          "Cycling",
          "Cycling",
          "Cycling",
          "Cycling",
          "Cycling",
          "Cycling",
          "Cycling",
          "Cycling",
          "Cycling",
          "Cycling",
          "Cycling",
          "Cycling",
          "Cycling",
          "Cycling",
          "Cycling",
          "Cycling",
          "Cycling",
          "Cycling",
          "Cycling",
          "Cycling",
          "Cycling",
          "Cycling",
          "Cycling"
         ],
         "x0": " ",
         "xaxis": "x",
         "y": [
          64,
          102,
          129.42492260117285,
          72,
          93.41290323577115,
          118.30348652402876,
          135.2850393692874,
          135.2463968432778,
          74,
          116.25039246392964,
          120.25240903950916,
          123.98931116342166,
          102.3690866925226,
          134.30417365452118,
          141.28988941260232,
          102.19606299466032,
          118.61006289394588,
          124.98824451588384,
          112.76656394494026,
          117.01277766416132,
          126.37251907941952,
          94.89849623710587,
          114.87539431979228,
          117.1984218642563,
          141.14173228449707,
          112.68040023493108,
          72,
          73,
          114,
          114,
          124.61920103111808,
          137.43832598952645,
          130.79659950354784,
          87,
          87,
          118.1002445035284,
          119.54344392021376,
          136.59669967287482,
          127.34044943806832,
          91,
          120.176639019313,
          115.03197620659208,
          116.9059879115294,
          115,
          111,
          113,
          113,
          111,
          108,
          130.98527935676725,
          137.92302452748953,
          133.48134863325632,
          158.2141843993129,
          111.13744075961212,
          96,
          92,
          142.99700598632867,
          113.70444874054986,
          101.16692667774905,
          125.15319148490636,
          114.24658480966428,
          61,
          57,
          57,
          61,
          71,
          72,
          74,
          72,
          72,
          74,
          74,
          74,
          140.43701399947346
         ],
         "y0": " ",
         "yaxis": "y"
        },
        {
         "alignmentgroup": "True",
         "boxpoints": "all",
         "hovertemplate": "Activity Type=%{x}<br>Heart Rate (BPM)=%{y}<extra></extra>",
         "legendgroup": "Functional Strength Training",
         "marker": {
          "color": "#00cc96",
          "opacity": 0.6,
          "size": 6
         },
         "name": "Functional Strength Training",
         "notched": false,
         "offsetgroup": "Functional Strength Training",
         "orientation": "v",
         "showlegend": true,
         "type": "box",
         "x": [
          "Functional Strength Training",
          "Functional Strength Training",
          "Functional Strength Training",
          "Functional Strength Training",
          "Functional Strength Training"
         ],
         "x0": " ",
         "xaxis": "x",
         "y": [
          79,
          78,
          105.05720653859856,
          86,
          78.39337822394654
         ],
         "y0": " ",
         "yaxis": "y"
        },
        {
         "alignmentgroup": "True",
         "boxpoints": "all",
         "hovertemplate": "Activity Type=%{x}<br>Heart Rate (BPM)=%{y}<extra></extra>",
         "legendgroup": "Running",
         "marker": {
          "color": "#ab63fa",
          "opacity": 0.6,
          "size": 6
         },
         "name": "Running",
         "notched": false,
         "offsetgroup": "Running",
         "orientation": "v",
         "showlegend": true,
         "type": "box",
         "x": [
          "Running",
          "Running",
          "Running",
          "Running",
          "Running",
          "Running",
          "Running",
          "Running",
          "Running",
          "Running",
          "Running",
          "Running",
          "Running",
          "Running",
          "Running",
          "Running",
          "Running",
          "Running",
          "Running",
          "Running",
          "Running",
          "Running",
          "Running",
          "Running",
          "Running",
          "Running",
          "Running",
          "Running",
          "Running",
          "Running",
          "Running",
          "Running",
          "Running",
          "Running",
          "Running",
          "Running",
          "Running",
          "Running",
          "Running",
          "Running",
          "Running",
          "Running",
          "Running",
          "Running",
          "Running",
          "Running",
          "Running",
          "Running",
          "Running",
          "Running",
          "Running",
          "Running",
          "Running",
          "Running",
          "Running",
          "Running",
          "Running",
          "Running",
          "Running",
          "Running",
          "Running",
          "Running",
          "Running",
          "Running",
          "Running",
          "Running",
          "Running",
          "Running",
          "Running",
          "Running",
          "Running",
          "Running",
          "Running",
          "Running",
          "Running",
          "Running",
          "Running",
          "Running",
          "Running",
          "Running",
          "Running",
          "Running",
          "Running",
          "Running",
          "Running",
          "Running",
          "Running",
          "Running",
          "Running",
          "Running",
          "Running",
          "Running",
          "Running",
          "Running",
          "Running",
          "Running",
          "Running",
          "Running",
          "Running",
          "Running",
          "Running",
          "Running",
          "Running",
          "Running",
          "Running",
          "Running",
          "Running",
          "Running",
          "Running",
          "Running",
          "Running",
          "Running",
          "Running",
          "Running",
          "Running",
          "Running",
          "Running",
          "Running",
          "Running",
          "Running",
          "Running",
          "Running",
          "Running",
          "Running",
          "Running",
          "Running",
          "Running",
          "Running",
          "Running",
          "Running",
          "Running",
          "Running",
          "Running",
          "Running",
          "Running",
          "Running",
          "Running",
          "Running",
          "Running",
          "Running",
          "Running",
          "Running",
          "Running",
          "Running",
          "Running",
          "Running",
          "Running",
          "Running",
          "Running",
          "Running",
          "Running",
          "Running",
          "Running",
          "Running",
          "Running",
          "Running",
          "Running",
          "Running",
          "Running",
          "Running",
          "Running",
          "Running",
          "Running",
          "Running",
          "Running",
          "Running",
          "Running",
          "Running",
          "Running",
          "Running",
          "Running",
          "Running",
          "Running",
          "Running",
          "Running",
          "Running",
          "Running",
          "Running",
          "Running",
          "Running",
          "Running",
          "Running",
          "Running",
          "Running",
          "Running",
          "Running",
          "Running",
          "Running",
          "Running",
          "Running",
          "Running",
          "Running",
          "Running",
          "Running",
          "Running",
          "Running",
          "Running",
          "Running",
          "Running",
          "Running",
          "Running",
          "Running",
          "Running",
          "Running",
          "Running",
          "Running",
          "Running",
          "Running",
          "Running",
          "Running",
          "Running",
          "Running",
          "Running",
          "Running",
          "Running",
          "Running",
          "Running",
          "Running",
          "Running",
          "Running",
          "Running",
          "Running",
          "Running",
          "Running",
          "Running",
          "Running",
          "Running",
          "Running",
          "Running",
          "Running",
          "Running",
          "Running",
          "Running",
          "Running",
          "Running",
          "Running",
          "Running",
          "Running",
          "Running",
          "Running",
          "Running",
          "Running",
          "Running",
          "Running",
          "Running",
          "Running",
          "Running",
          "Running",
          "Running",
          "Running",
          "Running",
          "Running",
          "Running",
          "Running"
         ],
         "x0": " ",
         "xaxis": "x",
         "y": [
          75,
          157.37464985804488,
          59,
          90,
          157.72044506250407,
          151.95493562163534,
          136.67029173219512,
          134,
          130,
          155.4881703446528,
          174.6821766563395,
          174.75214285714293,
          106,
          110,
          111,
          109,
          112,
          146.6436045440379,
          177.62361331210838,
          90,
          90,
          137.35905512618257,
          131,
          176.47952754732572,
          143,
          140,
          138,
          133,
          130,
          133,
          150,
          159,
          159,
          166,
          53,
          161,
          161,
          161,
          161,
          162,
          163,
          160,
          158,
          157,
          171.1067125626754,
          164,
          161,
          165.80338618068876,
          97,
          96,
          95,
          115,
          110,
          158.02972561048293,
          164,
          164,
          161.8087774283817,
          141.6550387614457,
          178.9717868249805,
          161,
          163,
          164,
          165,
          166,
          165,
          167,
          167,
          166,
          165,
          164,
          165.33333333242436,
          170.6729678616796,
          87,
          81,
          126.03208954903612,
          168.58241757942335,
          160.30345912517686,
          148.10416667101285,
          66,
          67,
          67,
          125.17486337834124,
          85,
          84,
          85,
          149.65366614394924,
          183,
          185.6140952764644,
          165,
          164,
          164,
          161,
          162,
          149.66588050145768,
          164.43923866651753,
          148.92776523702025,
          161.14490674389407,
          174.55096011800123,
          154.49853586941074,
          155,
          153,
          145,
          141,
          141,
          137,
          138,
          136,
          136,
          136,
          136,
          183.38755137968917,
          162.10380348509278,
          103,
          178,
          175,
          172,
          168,
          163,
          158,
          147,
          146,
          144,
          143,
          142,
          142,
          159.84210526096194,
          126.98216831998715,
          140.72148024427264,
          150.95381231732733,
          142.32983194390263,
          147.05085959706054,
          149.66933554147317,
          97,
          85,
          77,
          77,
          78,
          83,
          130.06743973961176,
          151.85765464660903,
          133,
          136,
          131,
          134,
          138,
          139,
          143,
          146,
          144,
          140,
          180.79074975575196,
          133,
          177.02074392952474,
          146.08653128167927,
          151.932649283401,
          141.63298662496462,
          164.0469336696201,
          95,
          90,
          86,
          85,
          83,
          139.4874301593584,
          128,
          129,
          159.65851735232005,
          152.5855146630471,
          65,
          138.01146788881465,
          131.10072991559088,
          134,
          135,
          134,
          136,
          136,
          123.78798496545916,
          156.58101571890302,
          98,
          148.4467393049473,
          126,
          126,
          125,
          124,
          124,
          123,
          125,
          132.80141287218643,
          177.1727848100744,
          129.3911525052957,
          153.2358175814483,
          115,
          114,
          119,
          120,
          127,
          129,
          128,
          143.2743161089286,
          116.73854660691028,
          138.81097560400218,
          106,
          104,
          103,
          140.3614848025772,
          146.31659388611584,
          136,
          133,
          136,
          137,
          133,
          136,
          136,
          135,
          107.89439077166864,
          171,
          167,
          164,
          148.17546583878695,
          118,
          106,
          106,
          82,
          81,
          80,
          81,
          82,
          129.75550992947186,
          106,
          139.7462069028007,
          146.70031298913864,
          144.22687224643354,
          145.40441176214705,
          150,
          142.68315507527345,
          138.8899172891656,
          104,
          99,
          97,
          143.125329815618,
          109,
          95,
          94,
          95,
          99,
          102,
          104,
          139.38390675261644,
          144.3732718883939,
          130.65557065206778,
          145.49779735437758,
          142.75786163404717,
          162,
          157,
          123
         ],
         "y0": " ",
         "yaxis": "y"
        },
        {
         "alignmentgroup": "True",
         "boxpoints": "all",
         "hovertemplate": "Activity Type=%{x}<br>Heart Rate (BPM)=%{y}<extra></extra>",
         "legendgroup": "Swimming",
         "marker": {
          "color": "#FFA15A",
          "opacity": 0.6,
          "size": 6
         },
         "name": "Swimming",
         "notched": false,
         "offsetgroup": "Swimming",
         "orientation": "v",
         "showlegend": true,
         "type": "box",
         "x": [
          "Swimming",
          "Swimming",
          "Swimming",
          "Swimming",
          "Swimming",
          "Swimming",
          "Swimming",
          "Swimming",
          "Swimming",
          "Swimming",
          "Swimming",
          "Swimming",
          "Swimming",
          "Swimming",
          "Swimming",
          "Swimming",
          "Swimming",
          "Swimming",
          "Swimming",
          "Swimming",
          "Swimming",
          "Swimming",
          "Swimming",
          "Swimming",
          "Swimming",
          "Swimming",
          "Swimming",
          "Swimming",
          "Swimming",
          "Swimming",
          "Swimming",
          "Swimming",
          "Swimming",
          "Swimming",
          "Swimming",
          "Swimming",
          "Swimming",
          "Swimming",
          "Swimming",
          "Swimming"
         ],
         "x0": " ",
         "xaxis": "x",
         "y": [
          74,
          101,
          110.12710674054718,
          106.34013157949636,
          111.08693244865174,
          107.39984226836012,
          104,
          107,
          107,
          105,
          93,
          93,
          92,
          95,
          91,
          126.22511848670806,
          78,
          101.22023047085148,
          131,
          126.14645669175948,
          82.75448636080806,
          118.43031583412494,
          81,
          102,
          62,
          116.39451476801636,
          108,
          110,
          108,
          125.86479851818928,
          112.97251309064788,
          125.17265192974986,
          90,
          124.6014814921841,
          73,
          68,
          76,
          73,
          73,
          71.11607982080797
         ],
         "y0": " ",
         "yaxis": "y"
        },
        {
         "alignmentgroup": "True",
         "boxpoints": "all",
         "hovertemplate": "Activity Type=%{x}<br>Heart Rate (BPM)=%{y}<extra></extra>",
         "legendgroup": "Traditional Strength Training",
         "marker": {
          "color": "#19d3f3",
          "opacity": 0.6,
          "size": 6
         },
         "name": "Traditional Strength Training",
         "notched": false,
         "offsetgroup": "Traditional Strength Training",
         "orientation": "v",
         "showlegend": true,
         "type": "box",
         "x": [
          "Traditional Strength Training",
          "Traditional Strength Training",
          "Traditional Strength Training",
          "Traditional Strength Training",
          "Traditional Strength Training",
          "Traditional Strength Training",
          "Traditional Strength Training",
          "Traditional Strength Training",
          "Traditional Strength Training",
          "Traditional Strength Training",
          "Traditional Strength Training",
          "Traditional Strength Training",
          "Traditional Strength Training",
          "Traditional Strength Training",
          "Traditional Strength Training",
          "Traditional Strength Training",
          "Traditional Strength Training",
          "Traditional Strength Training",
          "Traditional Strength Training",
          "Traditional Strength Training",
          "Traditional Strength Training",
          "Traditional Strength Training",
          "Traditional Strength Training",
          "Traditional Strength Training",
          "Traditional Strength Training",
          "Traditional Strength Training",
          "Traditional Strength Training",
          "Traditional Strength Training",
          "Traditional Strength Training"
         ],
         "x0": " ",
         "xaxis": "x",
         "y": [
          79,
          63,
          63,
          56,
          106.06418485911794,
          128,
          135,
          137,
          136,
          135,
          134,
          139.539849624598,
          149,
          145,
          145,
          140,
          133,
          131.26064736152455,
          123.16557689064486,
          115.52031164084396,
          96.52369695897642,
          99.16561265003072,
          101.71399033722166,
          111.5137681171514,
          101.14133016320687,
          114.5777279485898,
          104,
          102,
          101
         ],
         "y0": " ",
         "yaxis": "y"
        },
        {
         "alignmentgroup": "True",
         "boxpoints": "all",
         "hovertemplate": "Activity Type=%{x}<br>Heart Rate (BPM)=%{y}<extra></extra>",
         "legendgroup": "Walking",
         "marker": {
          "color": "#FF6692",
          "opacity": 0.6,
          "size": 6
         },
         "name": "Walking",
         "notched": false,
         "offsetgroup": "Walking",
         "orientation": "v",
         "showlegend": true,
         "type": "box",
         "x": [
          "Walking",
          "Walking"
         ],
         "x0": " ",
         "xaxis": "x",
         "y": [
          99.7416107382964,
          142.8031496068624
         ],
         "y0": " ",
         "yaxis": "y"
        },
        {
         "alignmentgroup": "True",
         "boxpoints": "all",
         "hovertemplate": "Activity Type=%{x}<br>Heart Rate (BPM)=%{y}<extra></extra>",
         "legendgroup": "Yoga",
         "marker": {
          "color": "#B6E880",
          "opacity": 0.6,
          "size": 6
         },
         "name": "Yoga",
         "notched": false,
         "offsetgroup": "Yoga",
         "orientation": "v",
         "showlegend": true,
         "type": "box",
         "x": [
          "Yoga",
          "Yoga",
          "Yoga",
          "Yoga",
          "Yoga"
         ],
         "x0": " ",
         "xaxis": "x",
         "y": [
          91,
          102.51595745244047,
          94.7429086379993,
          84.48403483404303,
          78.80488522838135
         ],
         "y0": " ",
         "yaxis": "y"
        }
       ],
       "layout": {
        "boxmode": "overlay",
        "font": {
         "color": "#457B9D"
        },
        "legend": {
         "title": {
          "text": "Activity Type"
         },
         "tracegroupgap": 0
        },
        "paper_bgcolor": "#F1FAEE",
        "plot_bgcolor": "#F1FAEE",
        "showlegend": false,
        "template": {
         "data": {
          "bar": [
           {
            "error_x": {
             "color": "#2a3f5f"
            },
            "error_y": {
             "color": "#2a3f5f"
            },
            "marker": {
             "line": {
              "color": "#E5ECF6",
              "width": 0.5
             },
             "pattern": {
              "fillmode": "overlay",
              "size": 10,
              "solidity": 0.2
             }
            },
            "type": "bar"
           }
          ],
          "barpolar": [
           {
            "marker": {
             "line": {
              "color": "#E5ECF6",
              "width": 0.5
             },
             "pattern": {
              "fillmode": "overlay",
              "size": 10,
              "solidity": 0.2
             }
            },
            "type": "barpolar"
           }
          ],
          "carpet": [
           {
            "aaxis": {
             "endlinecolor": "#2a3f5f",
             "gridcolor": "white",
             "linecolor": "white",
             "minorgridcolor": "white",
             "startlinecolor": "#2a3f5f"
            },
            "baxis": {
             "endlinecolor": "#2a3f5f",
             "gridcolor": "white",
             "linecolor": "white",
             "minorgridcolor": "white",
             "startlinecolor": "#2a3f5f"
            },
            "type": "carpet"
           }
          ],
          "choropleth": [
           {
            "colorbar": {
             "outlinewidth": 0,
             "ticks": ""
            },
            "type": "choropleth"
           }
          ],
          "contour": [
           {
            "colorbar": {
             "outlinewidth": 0,
             "ticks": ""
            },
            "colorscale": [
             [
              0,
              "#0d0887"
             ],
             [
              0.1111111111111111,
              "#46039f"
             ],
             [
              0.2222222222222222,
              "#7201a8"
             ],
             [
              0.3333333333333333,
              "#9c179e"
             ],
             [
              0.4444444444444444,
              "#bd3786"
             ],
             [
              0.5555555555555556,
              "#d8576b"
             ],
             [
              0.6666666666666666,
              "#ed7953"
             ],
             [
              0.7777777777777778,
              "#fb9f3a"
             ],
             [
              0.8888888888888888,
              "#fdca26"
             ],
             [
              1,
              "#f0f921"
             ]
            ],
            "type": "contour"
           }
          ],
          "contourcarpet": [
           {
            "colorbar": {
             "outlinewidth": 0,
             "ticks": ""
            },
            "type": "contourcarpet"
           }
          ],
          "heatmap": [
           {
            "colorbar": {
             "outlinewidth": 0,
             "ticks": ""
            },
            "colorscale": [
             [
              0,
              "#0d0887"
             ],
             [
              0.1111111111111111,
              "#46039f"
             ],
             [
              0.2222222222222222,
              "#7201a8"
             ],
             [
              0.3333333333333333,
              "#9c179e"
             ],
             [
              0.4444444444444444,
              "#bd3786"
             ],
             [
              0.5555555555555556,
              "#d8576b"
             ],
             [
              0.6666666666666666,
              "#ed7953"
             ],
             [
              0.7777777777777778,
              "#fb9f3a"
             ],
             [
              0.8888888888888888,
              "#fdca26"
             ],
             [
              1,
              "#f0f921"
             ]
            ],
            "type": "heatmap"
           }
          ],
          "heatmapgl": [
           {
            "colorbar": {
             "outlinewidth": 0,
             "ticks": ""
            },
            "colorscale": [
             [
              0,
              "#0d0887"
             ],
             [
              0.1111111111111111,
              "#46039f"
             ],
             [
              0.2222222222222222,
              "#7201a8"
             ],
             [
              0.3333333333333333,
              "#9c179e"
             ],
             [
              0.4444444444444444,
              "#bd3786"
             ],
             [
              0.5555555555555556,
              "#d8576b"
             ],
             [
              0.6666666666666666,
              "#ed7953"
             ],
             [
              0.7777777777777778,
              "#fb9f3a"
             ],
             [
              0.8888888888888888,
              "#fdca26"
             ],
             [
              1,
              "#f0f921"
             ]
            ],
            "type": "heatmapgl"
           }
          ],
          "histogram": [
           {
            "marker": {
             "pattern": {
              "fillmode": "overlay",
              "size": 10,
              "solidity": 0.2
             }
            },
            "type": "histogram"
           }
          ],
          "histogram2d": [
           {
            "colorbar": {
             "outlinewidth": 0,
             "ticks": ""
            },
            "colorscale": [
             [
              0,
              "#0d0887"
             ],
             [
              0.1111111111111111,
              "#46039f"
             ],
             [
              0.2222222222222222,
              "#7201a8"
             ],
             [
              0.3333333333333333,
              "#9c179e"
             ],
             [
              0.4444444444444444,
              "#bd3786"
             ],
             [
              0.5555555555555556,
              "#d8576b"
             ],
             [
              0.6666666666666666,
              "#ed7953"
             ],
             [
              0.7777777777777778,
              "#fb9f3a"
             ],
             [
              0.8888888888888888,
              "#fdca26"
             ],
             [
              1,
              "#f0f921"
             ]
            ],
            "type": "histogram2d"
           }
          ],
          "histogram2dcontour": [
           {
            "colorbar": {
             "outlinewidth": 0,
             "ticks": ""
            },
            "colorscale": [
             [
              0,
              "#0d0887"
             ],
             [
              0.1111111111111111,
              "#46039f"
             ],
             [
              0.2222222222222222,
              "#7201a8"
             ],
             [
              0.3333333333333333,
              "#9c179e"
             ],
             [
              0.4444444444444444,
              "#bd3786"
             ],
             [
              0.5555555555555556,
              "#d8576b"
             ],
             [
              0.6666666666666666,
              "#ed7953"
             ],
             [
              0.7777777777777778,
              "#fb9f3a"
             ],
             [
              0.8888888888888888,
              "#fdca26"
             ],
             [
              1,
              "#f0f921"
             ]
            ],
            "type": "histogram2dcontour"
           }
          ],
          "mesh3d": [
           {
            "colorbar": {
             "outlinewidth": 0,
             "ticks": ""
            },
            "type": "mesh3d"
           }
          ],
          "parcoords": [
           {
            "line": {
             "colorbar": {
              "outlinewidth": 0,
              "ticks": ""
             }
            },
            "type": "parcoords"
           }
          ],
          "pie": [
           {
            "automargin": true,
            "type": "pie"
           }
          ],
          "scatter": [
           {
            "fillpattern": {
             "fillmode": "overlay",
             "size": 10,
             "solidity": 0.2
            },
            "type": "scatter"
           }
          ],
          "scatter3d": [
           {
            "line": {
             "colorbar": {
              "outlinewidth": 0,
              "ticks": ""
             }
            },
            "marker": {
             "colorbar": {
              "outlinewidth": 0,
              "ticks": ""
             }
            },
            "type": "scatter3d"
           }
          ],
          "scattercarpet": [
           {
            "marker": {
             "colorbar": {
              "outlinewidth": 0,
              "ticks": ""
             }
            },
            "type": "scattercarpet"
           }
          ],
          "scattergeo": [
           {
            "marker": {
             "colorbar": {
              "outlinewidth": 0,
              "ticks": ""
             }
            },
            "type": "scattergeo"
           }
          ],
          "scattergl": [
           {
            "marker": {
             "colorbar": {
              "outlinewidth": 0,
              "ticks": ""
             }
            },
            "type": "scattergl"
           }
          ],
          "scattermapbox": [
           {
            "marker": {
             "colorbar": {
              "outlinewidth": 0,
              "ticks": ""
             }
            },
            "type": "scattermapbox"
           }
          ],
          "scatterpolar": [
           {
            "marker": {
             "colorbar": {
              "outlinewidth": 0,
              "ticks": ""
             }
            },
            "type": "scatterpolar"
           }
          ],
          "scatterpolargl": [
           {
            "marker": {
             "colorbar": {
              "outlinewidth": 0,
              "ticks": ""
             }
            },
            "type": "scatterpolargl"
           }
          ],
          "scatterternary": [
           {
            "marker": {
             "colorbar": {
              "outlinewidth": 0,
              "ticks": ""
             }
            },
            "type": "scatterternary"
           }
          ],
          "surface": [
           {
            "colorbar": {
             "outlinewidth": 0,
             "ticks": ""
            },
            "colorscale": [
             [
              0,
              "#0d0887"
             ],
             [
              0.1111111111111111,
              "#46039f"
             ],
             [
              0.2222222222222222,
              "#7201a8"
             ],
             [
              0.3333333333333333,
              "#9c179e"
             ],
             [
              0.4444444444444444,
              "#bd3786"
             ],
             [
              0.5555555555555556,
              "#d8576b"
             ],
             [
              0.6666666666666666,
              "#ed7953"
             ],
             [
              0.7777777777777778,
              "#fb9f3a"
             ],
             [
              0.8888888888888888,
              "#fdca26"
             ],
             [
              1,
              "#f0f921"
             ]
            ],
            "type": "surface"
           }
          ],
          "table": [
           {
            "cells": {
             "fill": {
              "color": "#EBF0F8"
             },
             "line": {
              "color": "white"
             }
            },
            "header": {
             "fill": {
              "color": "#C8D4E3"
             },
             "line": {
              "color": "white"
             }
            },
            "type": "table"
           }
          ]
         },
         "layout": {
          "annotationdefaults": {
           "arrowcolor": "#2a3f5f",
           "arrowhead": 0,
           "arrowwidth": 1
          },
          "autotypenumbers": "strict",
          "coloraxis": {
           "colorbar": {
            "outlinewidth": 0,
            "ticks": ""
           }
          },
          "colorscale": {
           "diverging": [
            [
             0,
             "#8e0152"
            ],
            [
             0.1,
             "#c51b7d"
            ],
            [
             0.2,
             "#de77ae"
            ],
            [
             0.3,
             "#f1b6da"
            ],
            [
             0.4,
             "#fde0ef"
            ],
            [
             0.5,
             "#f7f7f7"
            ],
            [
             0.6,
             "#e6f5d0"
            ],
            [
             0.7,
             "#b8e186"
            ],
            [
             0.8,
             "#7fbc41"
            ],
            [
             0.9,
             "#4d9221"
            ],
            [
             1,
             "#276419"
            ]
           ],
           "sequential": [
            [
             0,
             "#0d0887"
            ],
            [
             0.1111111111111111,
             "#46039f"
            ],
            [
             0.2222222222222222,
             "#7201a8"
            ],
            [
             0.3333333333333333,
             "#9c179e"
            ],
            [
             0.4444444444444444,
             "#bd3786"
            ],
            [
             0.5555555555555556,
             "#d8576b"
            ],
            [
             0.6666666666666666,
             "#ed7953"
            ],
            [
             0.7777777777777778,
             "#fb9f3a"
            ],
            [
             0.8888888888888888,
             "#fdca26"
            ],
            [
             1,
             "#f0f921"
            ]
           ],
           "sequentialminus": [
            [
             0,
             "#0d0887"
            ],
            [
             0.1111111111111111,
             "#46039f"
            ],
            [
             0.2222222222222222,
             "#7201a8"
            ],
            [
             0.3333333333333333,
             "#9c179e"
            ],
            [
             0.4444444444444444,
             "#bd3786"
            ],
            [
             0.5555555555555556,
             "#d8576b"
            ],
            [
             0.6666666666666666,
             "#ed7953"
            ],
            [
             0.7777777777777778,
             "#fb9f3a"
            ],
            [
             0.8888888888888888,
             "#fdca26"
            ],
            [
             1,
             "#f0f921"
            ]
           ]
          },
          "colorway": [
           "#636efa",
           "#EF553B",
           "#00cc96",
           "#ab63fa",
           "#FFA15A",
           "#19d3f3",
           "#FF6692",
           "#B6E880",
           "#FF97FF",
           "#FECB52"
          ],
          "font": {
           "color": "#2a3f5f"
          },
          "geo": {
           "bgcolor": "white",
           "lakecolor": "white",
           "landcolor": "#E5ECF6",
           "showlakes": true,
           "showland": true,
           "subunitcolor": "white"
          },
          "hoverlabel": {
           "align": "left"
          },
          "hovermode": "closest",
          "mapbox": {
           "style": "light"
          },
          "paper_bgcolor": "white",
          "plot_bgcolor": "#E5ECF6",
          "polar": {
           "angularaxis": {
            "gridcolor": "white",
            "linecolor": "white",
            "ticks": ""
           },
           "bgcolor": "#E5ECF6",
           "radialaxis": {
            "gridcolor": "white",
            "linecolor": "white",
            "ticks": ""
           }
          },
          "scene": {
           "xaxis": {
            "backgroundcolor": "#E5ECF6",
            "gridcolor": "white",
            "gridwidth": 2,
            "linecolor": "white",
            "showbackground": true,
            "ticks": "",
            "zerolinecolor": "white"
           },
           "yaxis": {
            "backgroundcolor": "#E5ECF6",
            "gridcolor": "white",
            "gridwidth": 2,
            "linecolor": "white",
            "showbackground": true,
            "ticks": "",
            "zerolinecolor": "white"
           },
           "zaxis": {
            "backgroundcolor": "#E5ECF6",
            "gridcolor": "white",
            "gridwidth": 2,
            "linecolor": "white",
            "showbackground": true,
            "ticks": "",
            "zerolinecolor": "white"
           }
          },
          "shapedefaults": {
           "line": {
            "color": "#2a3f5f"
           }
          },
          "ternary": {
           "aaxis": {
            "gridcolor": "white",
            "linecolor": "white",
            "ticks": ""
           },
           "baxis": {
            "gridcolor": "white",
            "linecolor": "white",
            "ticks": ""
           },
           "bgcolor": "#E5ECF6",
           "caxis": {
            "gridcolor": "white",
            "linecolor": "white",
            "ticks": ""
           }
          },
          "title": {
           "x": 0.05
          },
          "xaxis": {
           "automargin": true,
           "gridcolor": "white",
           "linecolor": "white",
           "ticks": "",
           "title": {
            "standoff": 15
           },
           "zerolinecolor": "white",
           "zerolinewidth": 2
          },
          "yaxis": {
           "automargin": true,
           "gridcolor": "white",
           "linecolor": "white",
           "ticks": "",
           "title": {
            "standoff": 15
           },
           "zerolinecolor": "white",
           "zerolinewidth": 2
          }
         }
        },
        "title": {
         "font": {
          "color": "#1D3557",
          "size": 24
         },
         "text": "Heart Rate vs Activity Type",
         "x": 0.5
        },
        "xaxis": {
         "anchor": "y",
         "categoryarray": [
          "Basketball",
          "Cycling",
          "Functional Strength Training",
          "Running",
          "Swimming",
          "Traditional Strength Training",
          "Walking",
          "Yoga"
         ],
         "categoryorder": "array",
         "domain": [
          0,
          1
         ],
         "gridcolor": "#A8DADC",
         "title": {
          "text": "Activity Type"
         }
        },
        "yaxis": {
         "anchor": "x",
         "domain": [
          0,
          1
         ],
         "gridcolor": "#A8DADC",
         "title": {
          "text": "Heart Rate (BPM)"
         }
        }
       }
      }
     },
     "metadata": {},
     "output_type": "display_data"
    }
   ],
   "source": [
    "import os\n",
    "import pandas as pd\n",
    "import plotly.express as px\n",
    "\n",
    "# Base path where your data is located\n",
    "base_path = '/Users/ngirmay/Documents/GitHub/ironman_retrospective/apple_health/health_data_exported/'\n",
    "\n",
    "# List of activity files and their corresponding activity labels\n",
    "activity_files = {\n",
    "    'HKWorkoutActivityTypeBasketball_2024-04-99_18-31-36_SimpleHealthExportCSV.csv': 'Basketball',\n",
    "    'HKWorkoutActivityTypeCycling_2024-04-99_18-31-36_SimpleHealthExportCSV.csv': 'Cycling',\n",
    "    'HKWorkoutActivityTypeFunctionalStrengthTraining_2024-04-99_18-31-36_SimpleHealthExportCSV.csv': 'Functional Strength Training',\n",
    "    'HKWorkoutActivityTypeRunning_2024-04-99_18-31-37_SimpleHealthExportCSV.csv': 'Running',\n",
    "    'HKWorkoutActivityTypeSwimming_2024-04-99_18-31-37_SimpleHealthExportCSV.csv': 'Swimming',\n",
    "    'HKWorkoutActivityTypeTraditionalStrengthTraining_2024-04-99_18-31-37_SimpleHealthExportCSV.csv': 'Traditional Strength Training',\n",
    "    'HKWorkoutActivityTypeWalking_2024-04-99_18-31-37_SimpleHealthExportCSV.csv': 'Walking',\n",
    "    'HKWorkoutActivityTypeYoga_2024-04-99_18-31-37_SimpleHealthExportCSV.csv': 'Yoga'\n",
    "}\n",
    "\n",
    "# Load the heart rate data\n",
    "df_heart_rate = pd.read_csv(os.path.join(base_path, 'HKQuantityTypeIdentifierHeartRate_2024-04-99_18-31-28_SimpleHealthExportCSV.csv'), sep=',', skiprows=1)\n",
    "\n",
    "# Round the startDate to the nearest minute to allow for fuzzy merging\n",
    "df_heart_rate['startDate'] = pd.to_datetime(df_heart_rate['startDate']).dt.round('min')\n",
    "\n",
    "# Initialize an empty DataFrame to store merged data\n",
    "df_all = pd.DataFrame()\n",
    "\n",
    "# Loop through each activity file and merge with heart rate data\n",
    "for file_name, activity_type in activity_files.items():\n",
    "    file_path = os.path.join(base_path, file_name)\n",
    "    df_activity = pd.read_csv(file_path, sep=',', skiprows=1)\n",
    "    df_activity['startDate'] = pd.to_datetime(df_activity['startDate']).dt.round('min')  # Round activity start times too\n",
    "    df_activity['activityType'] = activity_type\n",
    "    df_merged = pd.merge(df_heart_rate, df_activity[['startDate', 'activityType']], on='startDate', how='inner')\n",
    "    df_all = pd.concat([df_all, df_merged])\n",
    "\n",
    "# Create the box plot with jitter (points=\"all\" adds jitter to scatter points)\n",
    "fig = px.box(df_all, x='activityType', y='value', points=\"all\",  # points=\"all\" adds jitter to scatter points\n",
    "             title='Heart Rate vs Activity Type', \n",
    "             labels={'value': 'Heart Rate (BPM)', 'activityType': 'Activity Type'},\n",
    "             color='activityType')  # Use the same color for the box plot and points for each activity\n",
    "\n",
    "# Customize the layout\n",
    "fig.update_traces(marker=dict(size=6, opacity=0.6))  # Set size and opacity of scatter points\n",
    "fig.update_layout(\n",
    "    plot_bgcolor='#F1FAEE',  # Set background color\n",
    "    paper_bgcolor='#F1FAEE',  # Paper (overall background)\n",
    "    title_font=dict(size=24, color='#1D3557'),  # Title font styling\n",
    "    title_x=0.5,  # Center the title\n",
    "    xaxis=dict(gridcolor='#A8DADC'),  # Gridline color\n",
    "    yaxis=dict(gridcolor='#A8DADC'),  # Gridline color for y-axis\n",
    "    font=dict(color='#457B9D'),  # Font color for axes\n",
    "    xaxis_title='Activity Type',\n",
    "    yaxis_title='Heart Rate (BPM)',\n",
    "    showlegend=False  # Remove redundant legend\n",
    ")\n",
    "\n",
    "# Show the plot\n",
    "fig.show()\n"
   ]
  },
  {
   "cell_type": "code",
   "execution_count": 58,
   "metadata": {},
   "outputs": [
    {
     "data": {
      "application/vnd.plotly.v1+json": {
       "config": {
        "plotlyServerURL": "https://plot.ly"
       },
       "data": [
        {
         "hovertemplate": "Date=%{x}<br>HRV (ms)=%{y}<extra></extra>",
         "legendgroup": "",
         "line": {
          "color": "#636efa",
          "dash": "solid"
         },
         "marker": {
          "symbol": "circle"
         },
         "mode": "lines",
         "name": "",
         "orientation": "v",
         "showlegend": false,
         "type": "scatter",
         "x": [
          "2022-03-07",
          "2022-03-08",
          "2022-03-12",
          "2022-03-13",
          "2022-03-14",
          "2022-03-15",
          "2022-03-16",
          "2022-03-17",
          "2022-03-18",
          "2022-06-08",
          "2022-06-12",
          "2022-06-14",
          "2022-06-18",
          "2022-08-23",
          "2022-08-27",
          "2022-08-28",
          "2022-08-31",
          "2022-09-03",
          "2022-09-19",
          "2022-09-21",
          "2022-09-24",
          "2022-09-25",
          "2022-10-15",
          "2022-11-07",
          "2022-11-10",
          "2022-11-28",
          "2022-12-02",
          "2022-12-05",
          "2022-12-06",
          "2022-12-08",
          "2022-12-09",
          "2022-12-10",
          "2022-12-12",
          "2022-12-13",
          "2022-12-16",
          "2022-12-18",
          "2022-12-20",
          "2022-12-21",
          "2022-12-22",
          "2022-12-24",
          "2022-12-26",
          "2022-12-30",
          "2022-12-31",
          "2023-01-03",
          "2023-01-09",
          "2023-01-12",
          "2023-01-25",
          "2023-01-27",
          "2023-01-29",
          "2023-02-01",
          "2023-02-20",
          "2023-02-22",
          "2023-02-23",
          "2023-02-24",
          "2023-02-25",
          "2023-02-28",
          "2023-03-01",
          "2023-03-02",
          "2023-03-11",
          "2023-03-12",
          "2023-03-13",
          "2023-03-15",
          "2023-03-16",
          "2023-03-17",
          "2023-03-18",
          "2023-03-21",
          "2023-04-03",
          "2023-04-07",
          "2023-04-08",
          "2023-04-17",
          "2023-04-21",
          "2023-04-22",
          "2023-04-25",
          "2023-04-26",
          "2023-04-27",
          "2023-04-28",
          "2023-04-29",
          "2023-04-30",
          "2023-05-02",
          "2023-05-03",
          "2023-05-04",
          "2023-05-09",
          "2023-05-12",
          "2023-05-14",
          "2023-05-19",
          "2023-05-20",
          "2023-05-21",
          "2023-05-25",
          "2023-05-26",
          "2023-05-27",
          "2023-05-30",
          "2023-05-31",
          "2023-06-02",
          "2023-06-03",
          "2023-06-10",
          "2023-06-12",
          "2023-06-24",
          "2023-06-25",
          "2023-07-08",
          "2023-07-11",
          "2023-07-14",
          "2023-07-15",
          "2023-10-30",
          "2023-12-13",
          "2024-01-19",
          "2024-01-24",
          "2024-02-10",
          "2024-02-20"
         ],
         "xaxis": "x",
         "y": [
          98.51716953662417,
          62.501930428279586,
          65.21623383008966,
          97.36527802588223,
          95.0949233732895,
          96.77641990426986,
          171.1440029407521,
          73.67744528032482,
          100.42605891698094,
          13.131672730814715,
          11.143629528236104,
          62.78114018902303,
          13.28993852346832,
          97.72806820681501,
          29.0822657030295,
          110.14125943665692,
          100.31056475854282,
          151.55711427972508,
          26.979638787009225,
          54.91237011253465,
          28.849898152937907,
          68.36817119721003,
          90.84947714353463,
          73.66755540548937,
          13.910930122105464,
          71.42266396405778,
          38.43476407963314,
          23.767703885964387,
          67.62938091914519,
          71.95302926157578,
          92.25427374637914,
          114.1743220752282,
          52.73693586472777,
          26.51218592073574,
          35.93135089281545,
          83.29478560870686,
          83.62140365775925,
          134.8524289857141,
          123.6084949440295,
          76.30898927638604,
          21.682320980687155,
          90.46434980024722,
          63.12734869740592,
          79.6424262758489,
          33.96142762462769,
          45.91588160222291,
          27.069621000956158,
          47.70749651449344,
          104.19964807984904,
          86.03591080494913,
          123.673212436483,
          44.500330687003,
          81.2071683935925,
          163.62160222314807,
          131.7492124872644,
          65.87611368930165,
          107.98228931101636,
          61.62790526063013,
          24.792028738935,
          56.82783975571766,
          61.077605860803665,
          89.61326615779338,
          62.68441529011882,
          78.36188544085466,
          117.105401215554,
          22.028680435260448,
          46.18236272798621,
          96.31817819705532,
          141.15123860992105,
          24.953890153810317,
          29.276054579404978,
          57.581445073586885,
          140.30805188437597,
          94.64852268582344,
          61.89478900758648,
          70.69898315148923,
          29.165522963590124,
          49.51190177610189,
          29.047250852021943,
          38.33580161055707,
          117.53542423820686,
          55.815746687994725,
          47.94768951635917,
          57.011974022825115,
          85.87046889842698,
          77.33955119107569,
          46.63663409670913,
          102.52047878705288,
          56.46140243772752,
          79.18260515234192,
          76.22382373014656,
          165.9036727670237,
          46.652313718887775,
          79.12022156977048,
          57.99283289214602,
          110.7827208983058,
          72.62503496286693,
          40.95625085976453,
          125.19237069714876,
          34.20161697964942,
          57.59787757445937,
          53.56298565438999,
          85.12288815727754,
          62.98910636576833,
          74.30050905549801,
          52.07815394432958,
          52.842155362731006,
          19.690429731277472
         ],
         "yaxis": "y"
        }
       ],
       "layout": {
        "legend": {
         "tracegroupgap": 0
        },
        "template": {
         "data": {
          "bar": [
           {
            "error_x": {
             "color": "#2a3f5f"
            },
            "error_y": {
             "color": "#2a3f5f"
            },
            "marker": {
             "line": {
              "color": "#E5ECF6",
              "width": 0.5
             },
             "pattern": {
              "fillmode": "overlay",
              "size": 10,
              "solidity": 0.2
             }
            },
            "type": "bar"
           }
          ],
          "barpolar": [
           {
            "marker": {
             "line": {
              "color": "#E5ECF6",
              "width": 0.5
             },
             "pattern": {
              "fillmode": "overlay",
              "size": 10,
              "solidity": 0.2
             }
            },
            "type": "barpolar"
           }
          ],
          "carpet": [
           {
            "aaxis": {
             "endlinecolor": "#2a3f5f",
             "gridcolor": "white",
             "linecolor": "white",
             "minorgridcolor": "white",
             "startlinecolor": "#2a3f5f"
            },
            "baxis": {
             "endlinecolor": "#2a3f5f",
             "gridcolor": "white",
             "linecolor": "white",
             "minorgridcolor": "white",
             "startlinecolor": "#2a3f5f"
            },
            "type": "carpet"
           }
          ],
          "choropleth": [
           {
            "colorbar": {
             "outlinewidth": 0,
             "ticks": ""
            },
            "type": "choropleth"
           }
          ],
          "contour": [
           {
            "colorbar": {
             "outlinewidth": 0,
             "ticks": ""
            },
            "colorscale": [
             [
              0,
              "#0d0887"
             ],
             [
              0.1111111111111111,
              "#46039f"
             ],
             [
              0.2222222222222222,
              "#7201a8"
             ],
             [
              0.3333333333333333,
              "#9c179e"
             ],
             [
              0.4444444444444444,
              "#bd3786"
             ],
             [
              0.5555555555555556,
              "#d8576b"
             ],
             [
              0.6666666666666666,
              "#ed7953"
             ],
             [
              0.7777777777777778,
              "#fb9f3a"
             ],
             [
              0.8888888888888888,
              "#fdca26"
             ],
             [
              1,
              "#f0f921"
             ]
            ],
            "type": "contour"
           }
          ],
          "contourcarpet": [
           {
            "colorbar": {
             "outlinewidth": 0,
             "ticks": ""
            },
            "type": "contourcarpet"
           }
          ],
          "heatmap": [
           {
            "colorbar": {
             "outlinewidth": 0,
             "ticks": ""
            },
            "colorscale": [
             [
              0,
              "#0d0887"
             ],
             [
              0.1111111111111111,
              "#46039f"
             ],
             [
              0.2222222222222222,
              "#7201a8"
             ],
             [
              0.3333333333333333,
              "#9c179e"
             ],
             [
              0.4444444444444444,
              "#bd3786"
             ],
             [
              0.5555555555555556,
              "#d8576b"
             ],
             [
              0.6666666666666666,
              "#ed7953"
             ],
             [
              0.7777777777777778,
              "#fb9f3a"
             ],
             [
              0.8888888888888888,
              "#fdca26"
             ],
             [
              1,
              "#f0f921"
             ]
            ],
            "type": "heatmap"
           }
          ],
          "heatmapgl": [
           {
            "colorbar": {
             "outlinewidth": 0,
             "ticks": ""
            },
            "colorscale": [
             [
              0,
              "#0d0887"
             ],
             [
              0.1111111111111111,
              "#46039f"
             ],
             [
              0.2222222222222222,
              "#7201a8"
             ],
             [
              0.3333333333333333,
              "#9c179e"
             ],
             [
              0.4444444444444444,
              "#bd3786"
             ],
             [
              0.5555555555555556,
              "#d8576b"
             ],
             [
              0.6666666666666666,
              "#ed7953"
             ],
             [
              0.7777777777777778,
              "#fb9f3a"
             ],
             [
              0.8888888888888888,
              "#fdca26"
             ],
             [
              1,
              "#f0f921"
             ]
            ],
            "type": "heatmapgl"
           }
          ],
          "histogram": [
           {
            "marker": {
             "pattern": {
              "fillmode": "overlay",
              "size": 10,
              "solidity": 0.2
             }
            },
            "type": "histogram"
           }
          ],
          "histogram2d": [
           {
            "colorbar": {
             "outlinewidth": 0,
             "ticks": ""
            },
            "colorscale": [
             [
              0,
              "#0d0887"
             ],
             [
              0.1111111111111111,
              "#46039f"
             ],
             [
              0.2222222222222222,
              "#7201a8"
             ],
             [
              0.3333333333333333,
              "#9c179e"
             ],
             [
              0.4444444444444444,
              "#bd3786"
             ],
             [
              0.5555555555555556,
              "#d8576b"
             ],
             [
              0.6666666666666666,
              "#ed7953"
             ],
             [
              0.7777777777777778,
              "#fb9f3a"
             ],
             [
              0.8888888888888888,
              "#fdca26"
             ],
             [
              1,
              "#f0f921"
             ]
            ],
            "type": "histogram2d"
           }
          ],
          "histogram2dcontour": [
           {
            "colorbar": {
             "outlinewidth": 0,
             "ticks": ""
            },
            "colorscale": [
             [
              0,
              "#0d0887"
             ],
             [
              0.1111111111111111,
              "#46039f"
             ],
             [
              0.2222222222222222,
              "#7201a8"
             ],
             [
              0.3333333333333333,
              "#9c179e"
             ],
             [
              0.4444444444444444,
              "#bd3786"
             ],
             [
              0.5555555555555556,
              "#d8576b"
             ],
             [
              0.6666666666666666,
              "#ed7953"
             ],
             [
              0.7777777777777778,
              "#fb9f3a"
             ],
             [
              0.8888888888888888,
              "#fdca26"
             ],
             [
              1,
              "#f0f921"
             ]
            ],
            "type": "histogram2dcontour"
           }
          ],
          "mesh3d": [
           {
            "colorbar": {
             "outlinewidth": 0,
             "ticks": ""
            },
            "type": "mesh3d"
           }
          ],
          "parcoords": [
           {
            "line": {
             "colorbar": {
              "outlinewidth": 0,
              "ticks": ""
             }
            },
            "type": "parcoords"
           }
          ],
          "pie": [
           {
            "automargin": true,
            "type": "pie"
           }
          ],
          "scatter": [
           {
            "fillpattern": {
             "fillmode": "overlay",
             "size": 10,
             "solidity": 0.2
            },
            "type": "scatter"
           }
          ],
          "scatter3d": [
           {
            "line": {
             "colorbar": {
              "outlinewidth": 0,
              "ticks": ""
             }
            },
            "marker": {
             "colorbar": {
              "outlinewidth": 0,
              "ticks": ""
             }
            },
            "type": "scatter3d"
           }
          ],
          "scattercarpet": [
           {
            "marker": {
             "colorbar": {
              "outlinewidth": 0,
              "ticks": ""
             }
            },
            "type": "scattercarpet"
           }
          ],
          "scattergeo": [
           {
            "marker": {
             "colorbar": {
              "outlinewidth": 0,
              "ticks": ""
             }
            },
            "type": "scattergeo"
           }
          ],
          "scattergl": [
           {
            "marker": {
             "colorbar": {
              "outlinewidth": 0,
              "ticks": ""
             }
            },
            "type": "scattergl"
           }
          ],
          "scattermapbox": [
           {
            "marker": {
             "colorbar": {
              "outlinewidth": 0,
              "ticks": ""
             }
            },
            "type": "scattermapbox"
           }
          ],
          "scatterpolar": [
           {
            "marker": {
             "colorbar": {
              "outlinewidth": 0,
              "ticks": ""
             }
            },
            "type": "scatterpolar"
           }
          ],
          "scatterpolargl": [
           {
            "marker": {
             "colorbar": {
              "outlinewidth": 0,
              "ticks": ""
             }
            },
            "type": "scatterpolargl"
           }
          ],
          "scatterternary": [
           {
            "marker": {
             "colorbar": {
              "outlinewidth": 0,
              "ticks": ""
             }
            },
            "type": "scatterternary"
           }
          ],
          "surface": [
           {
            "colorbar": {
             "outlinewidth": 0,
             "ticks": ""
            },
            "colorscale": [
             [
              0,
              "#0d0887"
             ],
             [
              0.1111111111111111,
              "#46039f"
             ],
             [
              0.2222222222222222,
              "#7201a8"
             ],
             [
              0.3333333333333333,
              "#9c179e"
             ],
             [
              0.4444444444444444,
              "#bd3786"
             ],
             [
              0.5555555555555556,
              "#d8576b"
             ],
             [
              0.6666666666666666,
              "#ed7953"
             ],
             [
              0.7777777777777778,
              "#fb9f3a"
             ],
             [
              0.8888888888888888,
              "#fdca26"
             ],
             [
              1,
              "#f0f921"
             ]
            ],
            "type": "surface"
           }
          ],
          "table": [
           {
            "cells": {
             "fill": {
              "color": "#EBF0F8"
             },
             "line": {
              "color": "white"
             }
            },
            "header": {
             "fill": {
              "color": "#C8D4E3"
             },
             "line": {
              "color": "white"
             }
            },
            "type": "table"
           }
          ]
         },
         "layout": {
          "annotationdefaults": {
           "arrowcolor": "#2a3f5f",
           "arrowhead": 0,
           "arrowwidth": 1
          },
          "autotypenumbers": "strict",
          "coloraxis": {
           "colorbar": {
            "outlinewidth": 0,
            "ticks": ""
           }
          },
          "colorscale": {
           "diverging": [
            [
             0,
             "#8e0152"
            ],
            [
             0.1,
             "#c51b7d"
            ],
            [
             0.2,
             "#de77ae"
            ],
            [
             0.3,
             "#f1b6da"
            ],
            [
             0.4,
             "#fde0ef"
            ],
            [
             0.5,
             "#f7f7f7"
            ],
            [
             0.6,
             "#e6f5d0"
            ],
            [
             0.7,
             "#b8e186"
            ],
            [
             0.8,
             "#7fbc41"
            ],
            [
             0.9,
             "#4d9221"
            ],
            [
             1,
             "#276419"
            ]
           ],
           "sequential": [
            [
             0,
             "#0d0887"
            ],
            [
             0.1111111111111111,
             "#46039f"
            ],
            [
             0.2222222222222222,
             "#7201a8"
            ],
            [
             0.3333333333333333,
             "#9c179e"
            ],
            [
             0.4444444444444444,
             "#bd3786"
            ],
            [
             0.5555555555555556,
             "#d8576b"
            ],
            [
             0.6666666666666666,
             "#ed7953"
            ],
            [
             0.7777777777777778,
             "#fb9f3a"
            ],
            [
             0.8888888888888888,
             "#fdca26"
            ],
            [
             1,
             "#f0f921"
            ]
           ],
           "sequentialminus": [
            [
             0,
             "#0d0887"
            ],
            [
             0.1111111111111111,
             "#46039f"
            ],
            [
             0.2222222222222222,
             "#7201a8"
            ],
            [
             0.3333333333333333,
             "#9c179e"
            ],
            [
             0.4444444444444444,
             "#bd3786"
            ],
            [
             0.5555555555555556,
             "#d8576b"
            ],
            [
             0.6666666666666666,
             "#ed7953"
            ],
            [
             0.7777777777777778,
             "#fb9f3a"
            ],
            [
             0.8888888888888888,
             "#fdca26"
            ],
            [
             1,
             "#f0f921"
            ]
           ]
          },
          "colorway": [
           "#636efa",
           "#EF553B",
           "#00cc96",
           "#ab63fa",
           "#FFA15A",
           "#19d3f3",
           "#FF6692",
           "#B6E880",
           "#FF97FF",
           "#FECB52"
          ],
          "font": {
           "color": "#2a3f5f"
          },
          "geo": {
           "bgcolor": "white",
           "lakecolor": "white",
           "landcolor": "#E5ECF6",
           "showlakes": true,
           "showland": true,
           "subunitcolor": "white"
          },
          "hoverlabel": {
           "align": "left"
          },
          "hovermode": "closest",
          "mapbox": {
           "style": "light"
          },
          "paper_bgcolor": "white",
          "plot_bgcolor": "#E5ECF6",
          "polar": {
           "angularaxis": {
            "gridcolor": "white",
            "linecolor": "white",
            "ticks": ""
           },
           "bgcolor": "#E5ECF6",
           "radialaxis": {
            "gridcolor": "white",
            "linecolor": "white",
            "ticks": ""
           }
          },
          "scene": {
           "xaxis": {
            "backgroundcolor": "#E5ECF6",
            "gridcolor": "white",
            "gridwidth": 2,
            "linecolor": "white",
            "showbackground": true,
            "ticks": "",
            "zerolinecolor": "white"
           },
           "yaxis": {
            "backgroundcolor": "#E5ECF6",
            "gridcolor": "white",
            "gridwidth": 2,
            "linecolor": "white",
            "showbackground": true,
            "ticks": "",
            "zerolinecolor": "white"
           },
           "zaxis": {
            "backgroundcolor": "#E5ECF6",
            "gridcolor": "white",
            "gridwidth": 2,
            "linecolor": "white",
            "showbackground": true,
            "ticks": "",
            "zerolinecolor": "white"
           }
          },
          "shapedefaults": {
           "line": {
            "color": "#2a3f5f"
           }
          },
          "ternary": {
           "aaxis": {
            "gridcolor": "white",
            "linecolor": "white",
            "ticks": ""
           },
           "baxis": {
            "gridcolor": "white",
            "linecolor": "white",
            "ticks": ""
           },
           "bgcolor": "#E5ECF6",
           "caxis": {
            "gridcolor": "white",
            "linecolor": "white",
            "ticks": ""
           }
          },
          "title": {
           "x": 0.05
          },
          "xaxis": {
           "automargin": true,
           "gridcolor": "white",
           "linecolor": "white",
           "ticks": "",
           "title": {
            "standoff": 15
           },
           "zerolinecolor": "white",
           "zerolinewidth": 2
          },
          "yaxis": {
           "automargin": true,
           "gridcolor": "white",
           "linecolor": "white",
           "ticks": "",
           "title": {
            "standoff": 15
           },
           "zerolinecolor": "white",
           "zerolinewidth": 2
          }
         }
        },
        "title": {
         "text": "Daily HRV Fluctuations"
        },
        "xaxis": {
         "anchor": "y",
         "domain": [
          0,
          1
         ],
         "title": {
          "text": "Date"
         }
        },
        "yaxis": {
         "anchor": "x",
         "domain": [
          0,
          1
         ],
         "title": {
          "text": "HRV (ms)"
         }
        }
       }
      }
     },
     "metadata": {},
     "output_type": "display_data"
    }
   ],
   "source": [
    "# Plot daily HRV fluctuations over time\n",
    "df_hrv_daily = df_hrv.groupby(df_hrv['startDate'].dt.date)['value'].mean().reset_index()\n",
    "\n",
    "fig_hrv_daily = px.line(df_hrv_daily, x='startDate', y='value', \n",
    "                        title='Daily HRV Fluctuations',\n",
    "                        labels={'value': 'HRV (ms)', 'startDate': 'Date'})\n",
    "fig_hrv_daily.show()"
   ]
  },
  {
   "cell_type": "code",
   "execution_count": 61,
   "metadata": {},
   "outputs": [
    {
     "data": {
      "image/png": "[encoded data removed]",
      "text/plain": [
       "<Figure size 800x800 with 1 Axes>"
      ]
     },
     "metadata": {},
     "output_type": "display_data"
    },
    {
     "name": "stdout",
     "output_type": "stream",
     "text": [
      "SD1 (short-term HRV): 36.65 ms\n",
      "SD2 (long-term HRV): 40.02 ms\n"
     ]
    }
   ],
   "source": [
    "import pandas as pd\n",
    "import numpy as np\n",
    "import matplotlib.pyplot as plt\n",
    "\n",
    "# Assuming HRV data (RR intervals) is loaded into df_hrv with 'value' column representing RR intervals in milliseconds\n",
    "df_hrv = pd.read_csv(base_path + 'HKQuantityTypeIdentifierHeartRateVariabilitySDNN_2024-04-99_18-31-30_SimpleHealthExportCSV.csv', sep=',', skiprows=1)\n",
    "df_hrv['startDate'] = pd.to_datetime(df_hrv['startDate'])\n",
    "\n",
    "# Extract consecutive RR intervals (HRV values)\n",
    "rr_intervals = df_hrv['value'].dropna().values  # Use HRV values from the dataset\n",
    "\n",
    "# Create lagged RR intervals for Poincaré plot\n",
    "rr_intervals_lag = rr_intervals[:-1]  # RR intervals without the last point\n",
    "rr_intervals_shift = rr_intervals[1:]  # RR intervals without the first point\n",
    "\n",
    "# Apply Coolors palette for improved aesthetics\n",
    "colors = {\n",
    "    'scatter': '#457B9D',   # Steel blue for scatter points\n",
    "    'line_identity': '#E63946',  # Red for line of identity\n",
    "    'background': '#F1FAEE',  # Light background\n",
    "    'grid': '#A8DADC',  # Teal for grid lines\n",
    "    'text': '#1D3557'  # Dark blue for text\n",
    "}\n",
    "\n",
    "# Create the Poincaré plot\n",
    "plt.figure(figsize=(8, 8), facecolor=colors['background'])\n",
    "plt.scatter(rr_intervals_lag, rr_intervals_shift, color=colors['scatter'], alpha=0.6, s=30, edgecolor='k')\n",
    "\n",
    "# Plot the line of identity (y = x line)\n",
    "plt.plot([min(rr_intervals), max(rr_intervals)], [min(rr_intervals), max(rr_intervals)], color=colors['line_identity'], linestyle='--', linewidth=2)\n",
    "\n",
    "# Set labels, title, and grid\n",
    "plt.title('Poincaré Plot of HRV (RR Intervals)', fontsize=16, color=colors['text'], weight='bold')\n",
    "plt.xlabel('RR Interval (ms)', fontsize=12, color=colors['text'])\n",
    "plt.ylabel('Next RR Interval (ms)', fontsize=12, color=colors['text'])\n",
    "plt.grid(True, color=colors['grid'], linestyle='-', linewidth=0.5)\n",
    "\n",
    "# Customize ticks and background\n",
    "plt.gca().set_facecolor(colors['background'])\n",
    "plt.tick_params(axis='both', colors=colors['text'])\n",
    "\n",
    "# Show the plot\n",
    "plt.show()\n",
    "\n",
    "# Calculate SD1 (short-term HRV) and SD2 (long-term HRV)\n",
    "sd1 = np.std(rr_intervals_shift - rr_intervals_lag) / np.sqrt(2)\n",
    "sd2 = np.std(rr_intervals_shift + rr_intervals_lag) / np.sqrt(2)\n",
    "\n",
    "# Output SD1 and SD2 for analysis\n",
    "print(f\"SD1 (short-term HRV): {sd1:.2f} ms\")\n",
    "print(f\"SD2 (long-term HRV): {sd2:.2f} ms\")\n"
   ]
  },
  {
   "cell_type": "code",
   "execution_count": 56,
   "metadata": {},
   "outputs": [
    {
     "data": {
      "application/vnd.plotly.v1+json": {
       "config": {
        "plotlyServerURL": "https://plot.ly"
       },
       "data": [
        {
         "alignmentgroup": "True",
         "hovertemplate": "index=%{x}<br>Time (in data points)=%{y}<extra></extra>",
         "legendgroup": "",
         "marker": {
          "color": "#636efa",
          "pattern": {
           "shape": ""
          }
         },
         "name": "",
         "offsetgroup": "",
         "orientation": "v",
         "showlegend": false,
         "textposition": "auto",
         "type": "bar",
         "x": [
          "Zone 1 (50-60%)",
          "Zone 2 (60-70%)",
          "Zone 3 (70-80%)",
          "Zone 4 (80-90%)",
          "Zone 5 (90-100%)"
         ],
         "xaxis": "x",
         "y": [
          14378,
          4484,
          3694,
          1741,
          1524
         ],
         "yaxis": "y"
        }
       ],
       "layout": {
        "barmode": "relative",
        "legend": {
         "tracegroupgap": 0
        },
        "template": {
         "data": {
          "bar": [
           {
            "error_x": {
             "color": "#2a3f5f"
            },
            "error_y": {
             "color": "#2a3f5f"
            },
            "marker": {
             "line": {
              "color": "#E5ECF6",
              "width": 0.5
             },
             "pattern": {
              "fillmode": "overlay",
              "size": 10,
              "solidity": 0.2
             }
            },
            "type": "bar"
           }
          ],
          "barpolar": [
           {
            "marker": {
             "line": {
              "color": "#E5ECF6",
              "width": 0.5
             },
             "pattern": {
              "fillmode": "overlay",
              "size": 10,
              "solidity": 0.2
             }
            },
            "type": "barpolar"
           }
          ],
          "carpet": [
           {
            "aaxis": {
             "endlinecolor": "#2a3f5f",
             "gridcolor": "white",
             "linecolor": "white",
             "minorgridcolor": "white",
             "startlinecolor": "#2a3f5f"
            },
            "baxis": {
             "endlinecolor": "#2a3f5f",
             "gridcolor": "white",
             "linecolor": "white",
             "minorgridcolor": "white",
             "startlinecolor": "#2a3f5f"
            },
            "type": "carpet"
           }
          ],
          "choropleth": [
           {
            "colorbar": {
             "outlinewidth": 0,
             "ticks": ""
            },
            "type": "choropleth"
           }
          ],
          "contour": [
           {
            "colorbar": {
             "outlinewidth": 0,
             "ticks": ""
            },
            "colorscale": [
             [
              0,
              "#0d0887"
             ],
             [
              0.1111111111111111,
              "#46039f"
             ],
             [
              0.2222222222222222,
              "#7201a8"
             ],
             [
              0.3333333333333333,
              "#9c179e"
             ],
             [
              0.4444444444444444,
              "#bd3786"
             ],
             [
              0.5555555555555556,
              "#d8576b"
             ],
             [
              0.6666666666666666,
              "#ed7953"
             ],
             [
              0.7777777777777778,
              "#fb9f3a"
             ],
             [
              0.8888888888888888,
              "#fdca26"
             ],
             [
              1,
              "#f0f921"
             ]
            ],
            "type": "contour"
           }
          ],
          "contourcarpet": [
           {
            "colorbar": {
             "outlinewidth": 0,
             "ticks": ""
            },
            "type": "contourcarpet"
           }
          ],
          "heatmap": [
           {
            "colorbar": {
             "outlinewidth": 0,
             "ticks": ""
            },
            "colorscale": [
             [
              0,
              "#0d0887"
             ],
             [
              0.1111111111111111,
              "#46039f"
             ],
             [
              0.2222222222222222,
              "#7201a8"
             ],
             [
              0.3333333333333333,
              "#9c179e"
             ],
             [
              0.4444444444444444,
              "#bd3786"
             ],
             [
              0.5555555555555556,
              "#d8576b"
             ],
             [
              0.6666666666666666,
              "#ed7953"
             ],
             [
              0.7777777777777778,
              "#fb9f3a"
             ],
             [
              0.8888888888888888,
              "#fdca26"
             ],
             [
              1,
              "#f0f921"
             ]
            ],
            "type": "heatmap"
           }
          ],
          "heatmapgl": [
           {
            "colorbar": {
             "outlinewidth": 0,
             "ticks": ""
            },
            "colorscale": [
             [
              0,
              "#0d0887"
             ],
             [
              0.1111111111111111,
              "#46039f"
             ],
             [
              0.2222222222222222,
              "#7201a8"
             ],
             [
              0.3333333333333333,
              "#9c179e"
             ],
             [
              0.4444444444444444,
              "#bd3786"
             ],
             [
              0.5555555555555556,
              "#d8576b"
             ],
             [
              0.6666666666666666,
              "#ed7953"
             ],
             [
              0.7777777777777778,
              "#fb9f3a"
             ],
             [
              0.8888888888888888,
              "#fdca26"
             ],
             [
              1,
              "#f0f921"
             ]
            ],
            "type": "heatmapgl"
           }
          ],
          "histogram": [
           {
            "marker": {
             "pattern": {
              "fillmode": "overlay",
              "size": 10,
              "solidity": 0.2
             }
            },
            "type": "histogram"
           }
          ],
          "histogram2d": [
           {
            "colorbar": {
             "outlinewidth": 0,
             "ticks": ""
            },
            "colorscale": [
             [
              0,
              "#0d0887"
             ],
             [
              0.1111111111111111,
              "#46039f"
             ],
             [
              0.2222222222222222,
              "#7201a8"
             ],
             [
              0.3333333333333333,
              "#9c179e"
             ],
             [
              0.4444444444444444,
              "#bd3786"
             ],
             [
              0.5555555555555556,
              "#d8576b"
             ],
             [
              0.6666666666666666,
              "#ed7953"
             ],
             [
              0.7777777777777778,
              "#fb9f3a"
             ],
             [
              0.8888888888888888,
              "#fdca26"
             ],
             [
              1,
              "#f0f921"
             ]
            ],
            "type": "histogram2d"
           }
          ],
          "histogram2dcontour": [
           {
            "colorbar": {
             "outlinewidth": 0,
             "ticks": ""
            },
            "colorscale": [
             [
              0,
              "#0d0887"
             ],
             [
              0.1111111111111111,
              "#46039f"
             ],
             [
              0.2222222222222222,
              "#7201a8"
             ],
             [
              0.3333333333333333,
              "#9c179e"
             ],
             [
              0.4444444444444444,
              "#bd3786"
             ],
             [
              0.5555555555555556,
              "#d8576b"
             ],
             [
              0.6666666666666666,
              "#ed7953"
             ],
             [
              0.7777777777777778,
              "#fb9f3a"
             ],
             [
              0.8888888888888888,
              "#fdca26"
             ],
             [
              1,
              "#f0f921"
             ]
            ],
            "type": "histogram2dcontour"
           }
          ],
          "mesh3d": [
           {
            "colorbar": {
             "outlinewidth": 0,
             "ticks": ""
            },
            "type": "mesh3d"
           }
          ],
          "parcoords": [
           {
            "line": {
             "colorbar": {
              "outlinewidth": 0,
              "ticks": ""
             }
            },
            "type": "parcoords"
           }
          ],
          "pie": [
           {
            "automargin": true,
            "type": "pie"
           }
          ],
          "scatter": [
           {
            "fillpattern": {
             "fillmode": "overlay",
             "size": 10,
             "solidity": 0.2
            },
            "type": "scatter"
           }
          ],
          "scatter3d": [
           {
            "line": {
             "colorbar": {
              "outlinewidth": 0,
              "ticks": ""
             }
            },
            "marker": {
             "colorbar": {
              "outlinewidth": 0,
              "ticks": ""
             }
            },
            "type": "scatter3d"
           }
          ],
          "scattercarpet": [
           {
            "marker": {
             "colorbar": {
              "outlinewidth": 0,
              "ticks": ""
             }
            },
            "type": "scattercarpet"
           }
          ],
          "scattergeo": [
           {
            "marker": {
             "colorbar": {
              "outlinewidth": 0,
              "ticks": ""
             }
            },
            "type": "scattergeo"
           }
          ],
          "scattergl": [
           {
            "marker": {
             "colorbar": {
              "outlinewidth": 0,
              "ticks": ""
             }
            },
            "type": "scattergl"
           }
          ],
          "scattermapbox": [
           {
            "marker": {
             "colorbar": {
              "outlinewidth": 0,
              "ticks": ""
             }
            },
            "type": "scattermapbox"
           }
          ],
          "scatterpolar": [
           {
            "marker": {
             "colorbar": {
              "outlinewidth": 0,
              "ticks": ""
             }
            },
            "type": "scatterpolar"
           }
          ],
          "scatterpolargl": [
           {
            "marker": {
             "colorbar": {
              "outlinewidth": 0,
              "ticks": ""
             }
            },
            "type": "scatterpolargl"
           }
          ],
          "scatterternary": [
           {
            "marker": {
             "colorbar": {
              "outlinewidth": 0,
              "ticks": ""
             }
            },
            "type": "scatterternary"
           }
          ],
          "surface": [
           {
            "colorbar": {
             "outlinewidth": 0,
             "ticks": ""
            },
            "colorscale": [
             [
              0,
              "#0d0887"
             ],
             [
              0.1111111111111111,
              "#46039f"
             ],
             [
              0.2222222222222222,
              "#7201a8"
             ],
             [
              0.3333333333333333,
              "#9c179e"
             ],
             [
              0.4444444444444444,
              "#bd3786"
             ],
             [
              0.5555555555555556,
              "#d8576b"
             ],
             [
              0.6666666666666666,
              "#ed7953"
             ],
             [
              0.7777777777777778,
              "#fb9f3a"
             ],
             [
              0.8888888888888888,
              "#fdca26"
             ],
             [
              1,
              "#f0f921"
             ]
            ],
            "type": "surface"
           }
          ],
          "table": [
           {
            "cells": {
             "fill": {
              "color": "#EBF0F8"
             },
             "line": {
              "color": "white"
             }
            },
            "header": {
             "fill": {
              "color": "#C8D4E3"
             },
             "line": {
              "color": "white"
             }
            },
            "type": "table"
           }
          ]
         },
         "layout": {
          "annotationdefaults": {
           "arrowcolor": "#2a3f5f",
           "arrowhead": 0,
           "arrowwidth": 1
          },
          "autotypenumbers": "strict",
          "coloraxis": {
           "colorbar": {
            "outlinewidth": 0,
            "ticks": ""
           }
          },
          "colorscale": {
           "diverging": [
            [
             0,
             "#8e0152"
            ],
            [
             0.1,
             "#c51b7d"
            ],
            [
             0.2,
             "#de77ae"
            ],
            [
             0.3,
             "#f1b6da"
            ],
            [
             0.4,
             "#fde0ef"
            ],
            [
             0.5,
             "#f7f7f7"
            ],
            [
             0.6,
             "#e6f5d0"
            ],
            [
             0.7,
             "#b8e186"
            ],
            [
             0.8,
             "#7fbc41"
            ],
            [
             0.9,
             "#4d9221"
            ],
            [
             1,
             "#276419"
            ]
           ],
           "sequential": [
            [
             0,
             "#0d0887"
            ],
            [
             0.1111111111111111,
             "#46039f"
            ],
            [
             0.2222222222222222,
             "#7201a8"
            ],
            [
             0.3333333333333333,
             "#9c179e"
            ],
            [
             0.4444444444444444,
             "#bd3786"
            ],
            [
             0.5555555555555556,
             "#d8576b"
            ],
            [
             0.6666666666666666,
             "#ed7953"
            ],
            [
             0.7777777777777778,
             "#fb9f3a"
            ],
            [
             0.8888888888888888,
             "#fdca26"
            ],
            [
             1,
             "#f0f921"
            ]
           ],
           "sequentialminus": [
            [
             0,
             "#0d0887"
            ],
            [
             0.1111111111111111,
             "#46039f"
            ],
            [
             0.2222222222222222,
             "#7201a8"
            ],
            [
             0.3333333333333333,
             "#9c179e"
            ],
            [
             0.4444444444444444,
             "#bd3786"
            ],
            [
             0.5555555555555556,
             "#d8576b"
            ],
            [
             0.6666666666666666,
             "#ed7953"
            ],
            [
             0.7777777777777778,
             "#fb9f3a"
            ],
            [
             0.8888888888888888,
             "#fdca26"
            ],
            [
             1,
             "#f0f921"
            ]
           ]
          },
          "colorway": [
           "#636efa",
           "#EF553B",
           "#00cc96",
           "#ab63fa",
           "#FFA15A",
           "#19d3f3",
           "#FF6692",
           "#B6E880",
           "#FF97FF",
           "#FECB52"
          ],
          "font": {
           "color": "#2a3f5f"
          },
          "geo": {
           "bgcolor": "white",
           "lakecolor": "white",
           "landcolor": "#E5ECF6",
           "showlakes": true,
           "showland": true,
           "subunitcolor": "white"
          },
          "hoverlabel": {
           "align": "left"
          },
          "hovermode": "closest",
          "mapbox": {
           "style": "light"
          },
          "paper_bgcolor": "white",
          "plot_bgcolor": "#E5ECF6",
          "polar": {
           "angularaxis": {
            "gridcolor": "white",
            "linecolor": "white",
            "ticks": ""
           },
           "bgcolor": "#E5ECF6",
           "radialaxis": {
            "gridcolor": "white",
            "linecolor": "white",
            "ticks": ""
           }
          },
          "scene": {
           "xaxis": {
            "backgroundcolor": "#E5ECF6",
            "gridcolor": "white",
            "gridwidth": 2,
            "linecolor": "white",
            "showbackground": true,
            "ticks": "",
            "zerolinecolor": "white"
           },
           "yaxis": {
            "backgroundcolor": "#E5ECF6",
            "gridcolor": "white",
            "gridwidth": 2,
            "linecolor": "white",
            "showbackground": true,
            "ticks": "",
            "zerolinecolor": "white"
           },
           "zaxis": {
            "backgroundcolor": "#E5ECF6",
            "gridcolor": "white",
            "gridwidth": 2,
            "linecolor": "white",
            "showbackground": true,
            "ticks": "",
            "zerolinecolor": "white"
           }
          },
          "shapedefaults": {
           "line": {
            "color": "#2a3f5f"
           }
          },
          "ternary": {
           "aaxis": {
            "gridcolor": "white",
            "linecolor": "white",
            "ticks": ""
           },
           "baxis": {
            "gridcolor": "white",
            "linecolor": "white",
            "ticks": ""
           },
           "bgcolor": "#E5ECF6",
           "caxis": {
            "gridcolor": "white",
            "linecolor": "white",
            "ticks": ""
           }
          },
          "title": {
           "x": 0.05
          },
          "xaxis": {
           "automargin": true,
           "gridcolor": "white",
           "linecolor": "white",
           "ticks": "",
           "title": {
            "standoff": 15
           },
           "zerolinecolor": "white",
           "zerolinewidth": 2
          },
          "yaxis": {
           "automargin": true,
           "gridcolor": "white",
           "linecolor": "white",
           "ticks": "",
           "title": {
            "standoff": 15
           },
           "zerolinecolor": "white",
           "zerolinewidth": 2
          }
         }
        },
        "title": {
         "text": "Time Spent in Each Heart Rate Zone"
        },
        "xaxis": {
         "anchor": "y",
         "domain": [
          0,
          1
         ],
         "title": {
          "text": "Heart Rate Zone"
         }
        },
        "yaxis": {
         "anchor": "x",
         "domain": [
          0,
          1
         ],
         "title": {
          "text": "Time (data points)"
         }
        }
       }
      }
     },
     "metadata": {},
     "output_type": "display_data"
    }
   ],
   "source": [
    "# Define your age (needed to calculate maximum heart rate)\n",
    "age = 27  # Replace with your actual age\n",
    "max_heart_rate = 220 - age\n",
    "\n",
    "# Define heart rate zones\n",
    "df_heart_rate['zone'] = pd.cut(df_heart_rate['value'], \n",
    "                               bins=[0, 0.6 * max_heart_rate, 0.7 * max_heart_rate, 0.8 * max_heart_rate, 0.9 * max_heart_rate, max_heart_rate],\n",
    "                               labels=['Zone 1 (50-60%)', 'Zone 2 (60-70%)', 'Zone 3 (70-80%)', 'Zone 4 (80-90%)', 'Zone 5 (90-100%)'])\n",
    "\n",
    "# Count time spent in each heart rate zone\n",
    "zone_counts = df_heart_rate['zone'].value_counts().sort_index()\n",
    "\n",
    "# Visualize time spent in each heart rate zone\n",
    "fig_zones = px.bar(zone_counts, x=zone_counts.index, y=zone_counts.values, title='Time Spent in Each Heart Rate Zone',\n",
    "                   labels={'y': 'Time (in data points)', 'zone': 'Heart Rate Zone'})\n",
    "fig_zones.update_layout(yaxis_title='Time (data points)', xaxis_title='Heart Rate Zone')\n",
    "fig_zones.show()\n"
   ]
  },
  {
   "cell_type": "code",
   "execution_count": 54,
   "metadata": {},
   "outputs": [
    {
     "data": {
      "application/vnd.plotly.v1+json": {
       "config": {
        "plotlyServerURL": "https://plot.ly"
       },
       "data": [
        {
         "hovertemplate": "variable=0<br>minute=%{x}<br>Heart Rate Difference (BPM)=%{y}<extra></extra>",
         "legendgroup": "0",
         "line": {
          "color": "#636efa",
          "dash": "solid"
         },
         "marker": {
          "symbol": "circle"
         },
         "mode": "lines",
         "name": "0",
         "orientation": "v",
         "showlegend": true,
         "type": "scatter",
         "x": [
          0,
          1,
          2,
          3,
          4,
          5,
          6,
          7,
          8,
          9,
          10,
          11,
          12,
          13,
          14,
          15,
          16,
          17,
          18,
          19,
          20,
          21,
          22,
          23,
          24,
          25,
          26,
          27,
          28,
          29,
          30,
          31,
          32,
          33,
          34,
          35,
          36,
          37,
          38,
          39,
          40,
          41,
          42,
          43,
          44,
          45,
          46,
          47,
          48,
          49,
          50,
          51,
          52,
          53,
          54,
          55,
          56,
          57,
          58,
          59
         ],
         "xaxis": "x",
         "y": [
          -35,
          -43,
          -108,
          -61,
          -43,
          -125,
          -15,
          -115,
          -46,
          -47,
          -103,
          -108,
          -80,
          -63,
          -91,
          -88,
          -94,
          -32,
          -122,
          -62,
          -95,
          -122,
          -76,
          -81,
          -95,
          -97,
          -107,
          -112,
          -121,
          -116,
          -111,
          -120,
          -122,
          -98,
          -116,
          -129,
          -127,
          -125,
          -119,
          -119,
          -127,
          -118,
          -118,
          -92.90430450439453,
          -83,
          -71,
          -67,
          -34,
          -28,
          -89,
          -48,
          -32,
          -55,
          -75,
          -58,
          -33,
          -44,
          -17,
          -123,
          -116
         ],
         "yaxis": "y"
        }
       ],
       "layout": {
        "legend": {
         "title": {
          "text": "variable"
         },
         "tracegroupgap": 0
        },
        "template": {
         "data": {
          "bar": [
           {
            "error_x": {
             "color": "#2a3f5f"
            },
            "error_y": {
             "color": "#2a3f5f"
            },
            "marker": {
             "line": {
              "color": "#E5ECF6",
              "width": 0.5
             },
             "pattern": {
              "fillmode": "overlay",
              "size": 10,
              "solidity": 0.2
             }
            },
            "type": "bar"
           }
          ],
          "barpolar": [
           {
            "marker": {
             "line": {
              "color": "#E5ECF6",
              "width": 0.5
             },
             "pattern": {
              "fillmode": "overlay",
              "size": 10,
              "solidity": 0.2
             }
            },
            "type": "barpolar"
           }
          ],
          "carpet": [
           {
            "aaxis": {
             "endlinecolor": "#2a3f5f",
             "gridcolor": "white",
             "linecolor": "white",
             "minorgridcolor": "white",
             "startlinecolor": "#2a3f5f"
            },
            "baxis": {
             "endlinecolor": "#2a3f5f",
             "gridcolor": "white",
             "linecolor": "white",
             "minorgridcolor": "white",
             "startlinecolor": "#2a3f5f"
            },
            "type": "carpet"
           }
          ],
          "choropleth": [
           {
            "colorbar": {
             "outlinewidth": 0,
             "ticks": ""
            },
            "type": "choropleth"
           }
          ],
          "contour": [
           {
            "colorbar": {
             "outlinewidth": 0,
             "ticks": ""
            },
            "colorscale": [
             [
              0,
              "#0d0887"
             ],
             [
              0.1111111111111111,
              "#46039f"
             ],
             [
              0.2222222222222222,
              "#7201a8"
             ],
             [
              0.3333333333333333,
              "#9c179e"
             ],
             [
              0.4444444444444444,
              "#bd3786"
             ],
             [
              0.5555555555555556,
              "#d8576b"
             ],
             [
              0.6666666666666666,
              "#ed7953"
             ],
             [
              0.7777777777777778,
              "#fb9f3a"
             ],
             [
              0.8888888888888888,
              "#fdca26"
             ],
             [
              1,
              "#f0f921"
             ]
            ],
            "type": "contour"
           }
          ],
          "contourcarpet": [
           {
            "colorbar": {
             "outlinewidth": 0,
             "ticks": ""
            },
            "type": "contourcarpet"
           }
          ],
          "heatmap": [
           {
            "colorbar": {
             "outlinewidth": 0,
             "ticks": ""
            },
            "colorscale": [
             [
              0,
              "#0d0887"
             ],
             [
              0.1111111111111111,
              "#46039f"
             ],
             [
              0.2222222222222222,
              "#7201a8"
             ],
             [
              0.3333333333333333,
              "#9c179e"
             ],
             [
              0.4444444444444444,
              "#bd3786"
             ],
             [
              0.5555555555555556,
              "#d8576b"
             ],
             [
              0.6666666666666666,
              "#ed7953"
             ],
             [
              0.7777777777777778,
              "#fb9f3a"
             ],
             [
              0.8888888888888888,
              "#fdca26"
             ],
             [
              1,
              "#f0f921"
             ]
            ],
            "type": "heatmap"
           }
          ],
          "heatmapgl": [
           {
            "colorbar": {
             "outlinewidth": 0,
             "ticks": ""
            },
            "colorscale": [
             [
              0,
              "#0d0887"
             ],
             [
              0.1111111111111111,
              "#46039f"
             ],
             [
              0.2222222222222222,
              "#7201a8"
             ],
             [
              0.3333333333333333,
              "#9c179e"
             ],
             [
              0.4444444444444444,
              "#bd3786"
             ],
             [
              0.5555555555555556,
              "#d8576b"
             ],
             [
              0.6666666666666666,
              "#ed7953"
             ],
             [
              0.7777777777777778,
              "#fb9f3a"
             ],
             [
              0.8888888888888888,
              "#fdca26"
             ],
             [
              1,
              "#f0f921"
             ]
            ],
            "type": "heatmapgl"
           }
          ],
          "histogram": [
           {
            "marker": {
             "pattern": {
              "fillmode": "overlay",
              "size": 10,
              "solidity": 0.2
             }
            },
            "type": "histogram"
           }
          ],
          "histogram2d": [
           {
            "colorbar": {
             "outlinewidth": 0,
             "ticks": ""
            },
            "colorscale": [
             [
              0,
              "#0d0887"
             ],
             [
              0.1111111111111111,
              "#46039f"
             ],
             [
              0.2222222222222222,
              "#7201a8"
             ],
             [
              0.3333333333333333,
              "#9c179e"
             ],
             [
              0.4444444444444444,
              "#bd3786"
             ],
             [
              0.5555555555555556,
              "#d8576b"
             ],
             [
              0.6666666666666666,
              "#ed7953"
             ],
             [
              0.7777777777777778,
              "#fb9f3a"
             ],
             [
              0.8888888888888888,
              "#fdca26"
             ],
             [
              1,
              "#f0f921"
             ]
            ],
            "type": "histogram2d"
           }
          ],
          "histogram2dcontour": [
           {
            "colorbar": {
             "outlinewidth": 0,
             "ticks": ""
            },
            "colorscale": [
             [
              0,
              "#0d0887"
             ],
             [
              0.1111111111111111,
              "#46039f"
             ],
             [
              0.2222222222222222,
              "#7201a8"
             ],
             [
              0.3333333333333333,
              "#9c179e"
             ],
             [
              0.4444444444444444,
              "#bd3786"
             ],
             [
              0.5555555555555556,
              "#d8576b"
             ],
             [
              0.6666666666666666,
              "#ed7953"
             ],
             [
              0.7777777777777778,
              "#fb9f3a"
             ],
             [
              0.8888888888888888,
              "#fdca26"
             ],
             [
              1,
              "#f0f921"
             ]
            ],
            "type": "histogram2dcontour"
           }
          ],
          "mesh3d": [
           {
            "colorbar": {
             "outlinewidth": 0,
             "ticks": ""
            },
            "type": "mesh3d"
           }
          ],
          "parcoords": [
           {
            "line": {
             "colorbar": {
              "outlinewidth": 0,
              "ticks": ""
             }
            },
            "type": "parcoords"
           }
          ],
          "pie": [
           {
            "automargin": true,
            "type": "pie"
           }
          ],
          "scatter": [
           {
            "fillpattern": {
             "fillmode": "overlay",
             "size": 10,
             "solidity": 0.2
            },
            "type": "scatter"
           }
          ],
          "scatter3d": [
           {
            "line": {
             "colorbar": {
              "outlinewidth": 0,
              "ticks": ""
             }
            },
            "marker": {
             "colorbar": {
              "outlinewidth": 0,
              "ticks": ""
             }
            },
            "type": "scatter3d"
           }
          ],
          "scattercarpet": [
           {
            "marker": {
             "colorbar": {
              "outlinewidth": 0,
              "ticks": ""
             }
            },
            "type": "scattercarpet"
           }
          ],
          "scattergeo": [
           {
            "marker": {
             "colorbar": {
              "outlinewidth": 0,
              "ticks": ""
             }
            },
            "type": "scattergeo"
           }
          ],
          "scattergl": [
           {
            "marker": {
             "colorbar": {
              "outlinewidth": 0,
              "ticks": ""
             }
            },
            "type": "scattergl"
           }
          ],
          "scattermapbox": [
           {
            "marker": {
             "colorbar": {
              "outlinewidth": 0,
              "ticks": ""
             }
            },
            "type": "scattermapbox"
           }
          ],
          "scatterpolar": [
           {
            "marker": {
             "colorbar": {
              "outlinewidth": 0,
              "ticks": ""
             }
            },
            "type": "scatterpolar"
           }
          ],
          "scatterpolargl": [
           {
            "marker": {
             "colorbar": {
              "outlinewidth": 0,
              "ticks": ""
             }
            },
            "type": "scatterpolargl"
           }
          ],
          "scatterternary": [
           {
            "marker": {
             "colorbar": {
              "outlinewidth": 0,
              "ticks": ""
             }
            },
            "type": "scatterternary"
           }
          ],
          "surface": [
           {
            "colorbar": {
             "outlinewidth": 0,
             "ticks": ""
            },
            "colorscale": [
             [
              0,
              "#0d0887"
             ],
             [
              0.1111111111111111,
              "#46039f"
             ],
             [
              0.2222222222222222,
              "#7201a8"
             ],
             [
              0.3333333333333333,
              "#9c179e"
             ],
             [
              0.4444444444444444,
              "#bd3786"
             ],
             [
              0.5555555555555556,
              "#d8576b"
             ],
             [
              0.6666666666666666,
              "#ed7953"
             ],
             [
              0.7777777777777778,
              "#fb9f3a"
             ],
             [
              0.8888888888888888,
              "#fdca26"
             ],
             [
              1,
              "#f0f921"
             ]
            ],
            "type": "surface"
           }
          ],
          "table": [
           {
            "cells": {
             "fill": {
              "color": "#EBF0F8"
             },
             "line": {
              "color": "white"
             }
            },
            "header": {
             "fill": {
              "color": "#C8D4E3"
             },
             "line": {
              "color": "white"
             }
            },
            "type": "table"
           }
          ]
         },
         "layout": {
          "annotationdefaults": {
           "arrowcolor": "#2a3f5f",
           "arrowhead": 0,
           "arrowwidth": 1
          },
          "autotypenumbers": "strict",
          "coloraxis": {
           "colorbar": {
            "outlinewidth": 0,
            "ticks": ""
           }
          },
          "colorscale": {
           "diverging": [
            [
             0,
             "#8e0152"
            ],
            [
             0.1,
             "#c51b7d"
            ],
            [
             0.2,
             "#de77ae"
            ],
            [
             0.3,
             "#f1b6da"
            ],
            [
             0.4,
             "#fde0ef"
            ],
            [
             0.5,
             "#f7f7f7"
            ],
            [
             0.6,
             "#e6f5d0"
            ],
            [
             0.7,
             "#b8e186"
            ],
            [
             0.8,
             "#7fbc41"
            ],
            [
             0.9,
             "#4d9221"
            ],
            [
             1,
             "#276419"
            ]
           ],
           "sequential": [
            [
             0,
             "#0d0887"
            ],
            [
             0.1111111111111111,
             "#46039f"
            ],
            [
             0.2222222222222222,
             "#7201a8"
            ],
            [
             0.3333333333333333,
             "#9c179e"
            ],
            [
             0.4444444444444444,
             "#bd3786"
            ],
            [
             0.5555555555555556,
             "#d8576b"
            ],
            [
             0.6666666666666666,
             "#ed7953"
            ],
            [
             0.7777777777777778,
             "#fb9f3a"
            ],
            [
             0.8888888888888888,
             "#fdca26"
            ],
            [
             1,
             "#f0f921"
            ]
           ],
           "sequentialminus": [
            [
             0,
             "#0d0887"
            ],
            [
             0.1111111111111111,
             "#46039f"
            ],
            [
             0.2222222222222222,
             "#7201a8"
            ],
            [
             0.3333333333333333,
             "#9c179e"
            ],
            [
             0.4444444444444444,
             "#bd3786"
            ],
            [
             0.5555555555555556,
             "#d8576b"
            ],
            [
             0.6666666666666666,
             "#ed7953"
            ],
            [
             0.7777777777777778,
             "#fb9f3a"
            ],
            [
             0.8888888888888888,
             "#fdca26"
            ],
            [
             1,
             "#f0f921"
            ]
           ]
          },
          "colorway": [
           "#636efa",
           "#EF553B",
           "#00cc96",
           "#ab63fa",
           "#FFA15A",
           "#19d3f3",
           "#FF6692",
           "#B6E880",
           "#FF97FF",
           "#FECB52"
          ],
          "font": {
           "color": "#2a3f5f"
          },
          "geo": {
           "bgcolor": "white",
           "lakecolor": "white",
           "landcolor": "#E5ECF6",
           "showlakes": true,
           "showland": true,
           "subunitcolor": "white"
          },
          "hoverlabel": {
           "align": "left"
          },
          "hovermode": "closest",
          "mapbox": {
           "style": "light"
          },
          "paper_bgcolor": "white",
          "plot_bgcolor": "#E5ECF6",
          "polar": {
           "angularaxis": {
            "gridcolor": "white",
            "linecolor": "white",
            "ticks": ""
           },
           "bgcolor": "#E5ECF6",
           "radialaxis": {
            "gridcolor": "white",
            "linecolor": "white",
            "ticks": ""
           }
          },
          "scene": {
           "xaxis": {
            "backgroundcolor": "#E5ECF6",
            "gridcolor": "white",
            "gridwidth": 2,
            "linecolor": "white",
            "showbackground": true,
            "ticks": "",
            "zerolinecolor": "white"
           },
           "yaxis": {
            "backgroundcolor": "#E5ECF6",
            "gridcolor": "white",
            "gridwidth": 2,
            "linecolor": "white",
            "showbackground": true,
            "ticks": "",
            "zerolinecolor": "white"
           },
           "zaxis": {
            "backgroundcolor": "#E5ECF6",
            "gridcolor": "white",
            "gridwidth": 2,
            "linecolor": "white",
            "showbackground": true,
            "ticks": "",
            "zerolinecolor": "white"
           }
          },
          "shapedefaults": {
           "line": {
            "color": "#2a3f5f"
           }
          },
          "ternary": {
           "aaxis": {
            "gridcolor": "white",
            "linecolor": "white",
            "ticks": ""
           },
           "baxis": {
            "gridcolor": "white",
            "linecolor": "white",
            "ticks": ""
           },
           "bgcolor": "#E5ECF6",
           "caxis": {
            "gridcolor": "white",
            "linecolor": "white",
            "ticks": ""
           }
          },
          "title": {
           "x": 0.05
          },
          "xaxis": {
           "automargin": true,
           "gridcolor": "white",
           "linecolor": "white",
           "ticks": "",
           "title": {
            "standoff": 15
           },
           "zerolinecolor": "white",
           "zerolinewidth": 2
          },
          "yaxis": {
           "automargin": true,
           "gridcolor": "white",
           "linecolor": "white",
           "ticks": "",
           "title": {
            "standoff": 15
           },
           "zerolinecolor": "white",
           "zerolinewidth": 2
          }
         }
        },
        "title": {
         "text": "Heart Rate Recovery Over Time"
        },
        "xaxis": {
         "anchor": "y",
         "domain": [
          0,
          1
         ],
         "title": {
          "text": "Minute After Exercise"
         }
        },
        "yaxis": {
         "anchor": "x",
         "domain": [
          0,
          1
         ],
         "title": {
          "text": "Heart Rate Drop (BPM)"
         }
        }
       }
      }
     },
     "metadata": {},
     "output_type": "display_data"
    }
   ],
   "source": [
    "# Assuming df_heart_rate contains periods of exercise, calculate recovery rate (example: compare heart rate right after activity and 1 minute after)\n",
    "df_heart_rate['minute'] = df_heart_rate['startDate'].dt.minute\n",
    "df_recovery = df_heart_rate.groupby('minute').apply(lambda x: x.iloc[0]['value'] - x.iloc[-1]['value'])\n",
    "\n",
    "# Visualize recovery rate\n",
    "fig_recovery = px.line(df_recovery, title='Heart Rate Recovery Over Time', labels={'value': 'Heart Rate Difference (BPM)'})\n",
    "fig_recovery.update_layout(yaxis_title='Heart Rate Drop (BPM)', xaxis_title='Minute After Exercise')\n",
    "fig_recovery.show()\n"
   ]
  },
  {
   "cell_type": "code",
   "execution_count": null,
   "metadata": {},
   "outputs": [],
   "source": []
  }
 ],
 "metadata": {
  "kernelspec": {
   "display_name": "Python 3.11.6 64-bit",
   "language": "python",
   "name": "python3"
  },
  "language_info": {
   "codemirror_mode": {
    "name": "ipython",
    "version": 3
   },
   "file_extension": ".py",
   "mimetype": "text/x-python",
   "name": "python",
   "nbconvert_exporter": "python",
   "pygments_lexer": "ipython3",
   "version": "3.11.6"
  },
  "orig_nbformat": 4,
  "vscode": {
   "interpreter": {
    "hash": "1a1af0ee75eeea9e2e1ee996c87e7a2b11a0bebd85af04bb136d915cefc0abce"
   }
  }
 },
 "nbformat": 4,
 "nbformat_minor": 2
}
